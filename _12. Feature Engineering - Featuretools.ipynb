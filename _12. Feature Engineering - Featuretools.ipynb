{
 "cells": [
  {
   "cell_type": "markdown",
   "id": "81ff239d",
   "metadata": {},
   "source": [
    "# About:\n",
    "- this notebook:\n",
    "    1. performs **deep feature selection using featuretools**\n",
    "    2. adds top n engineered features based on feature importance to original dataset and evaluate performance\n",
    "    3. adds every engineered feature individually to original dataset and evaluate performance\n",
    "    4. adds every pair of engineered feature to original dataset and evaluate performance\n",
    "- insights:\n",
    "    1. we **cannot use feature importance to select top n engineered features**, because they may be correlated with original features and cause a loss of performance\n",
    "    2. Instead, **Exhuastive Method of trying every individual/paired engineered feature can lead to some gains**\n",
    "    3. Investigatations from future notebooks suggest that I should have used Cross Validation when performing exhaustive search on the engineered features. Simple fit predict is not reliable enough to find good engineered features\n",
    "    4. **future projects should use Exhaustive Cross Validation on each engineered feature** from featuretools"
   ]
  },
  {
   "cell_type": "code",
   "execution_count": 1,
   "id": "7aac1732",
   "metadata": {},
   "outputs": [
    {
     "data": {
      "application/javascript": [
       "\n",
       "        if (window._pyforest_update_imports_cell) { window._pyforest_update_imports_cell('import pandas as pd'); }\n",
       "    "
      ],
      "text/plain": [
       "<IPython.core.display.Javascript object>"
      ]
     },
     "metadata": {},
     "output_type": "display_data"
    }
   ],
   "source": [
    "target_colnames = ['h1n1_vaccine', 'seasonal_vaccine']\n",
    "X = pd.read_csv(r\"C:\\Users\\tanch\\Documents\\Coding Competitions\\DataDriven\\Flu Shot Learning\\local\\data\\cleaned_train_set.csv\") \n",
    "y = X[target_colnames[0]]\n",
    "X.drop(target_colnames,axis=1,inplace=True)"
   ]
  },
  {
   "cell_type": "markdown",
   "id": "aadac322",
   "metadata": {},
   "source": [
    "## Create EntitySet \n",
    "- a collection of tables"
   ]
  },
  {
   "cell_type": "code",
   "execution_count": 2,
   "id": "59e65567",
   "metadata": {},
   "outputs": [],
   "source": [
    "import featuretools as ft\n",
    "es = ft.EntitySet(id = 'Vaccine')"
   ]
  },
  {
   "cell_type": "markdown",
   "id": "fc747602",
   "metadata": {},
   "source": [
    "## Featuretools variable types\n",
    "- it's **important to specify the right variable type** for featuretools because different types have different operations that are appropriate for them\n",
    "- important ones:\n",
    "    - Categorical(unordered), Ordinal(ordered), Boolean, Numeric"
   ]
  },
  {
   "cell_type": "code",
   "execution_count": 3,
   "id": "b1ccee7f",
   "metadata": {},
   "outputs": [],
   "source": [
    "from datasets import ClassLabel, Sequence\n",
    "import pandas as pd\n",
    "from IPython.display import display, HTML\n",
    "def show_elements(dataset, randomize = True, num_samples = 10):\n",
    "    \n",
    "    if isinstance(dataset,pd.DataFrame):                  # if DataFrame \n",
    "        if randomize:                                          # if random> shuffle\n",
    "            dataset = dataset.sample(frac=1)\n",
    "        display(HTML(dataset.iloc[:num_samples].to_html()))             # take first n rows\n",
    "    \n",
    "    else:                                                    # if not DataFrame\n",
    "        if randomize:                                           # if random> shuffle\n",
    "            dataset = dataset.shuffle()   \n",
    "        dataset = pd.DataFrame(dataset.select(range(num_samples)))   # convert first n rows to dataframe\n",
    "        display(HTML(dataset.to_html()))\n",
    "    "
   ]
  },
  {
   "cell_type": "code",
   "execution_count": 4,
   "id": "17a54f44",
   "metadata": {
    "scrolled": true
   },
   "outputs": [
    {
     "data": {
      "text/html": [
       "<table border=\"1\" class=\"dataframe\">\n",
       "  <thead>\n",
       "    <tr style=\"text-align: right;\">\n",
       "      <th></th>\n",
       "      <th>name</th>\n",
       "      <th>type_string</th>\n",
       "      <th>description</th>\n",
       "    </tr>\n",
       "  </thead>\n",
       "  <tbody>\n",
       "    <tr>\n",
       "      <th>0</th>\n",
       "      <td>Unknown</td>\n",
       "      <td>unknown</td>\n",
       "      <td>None</td>\n",
       "    </tr>\n",
       "    <tr>\n",
       "      <th>1</th>\n",
       "      <td>Discrete</td>\n",
       "      <td>discrete</td>\n",
       "      <td>Superclass representing variables that take on discrete values</td>\n",
       "    </tr>\n",
       "    <tr>\n",
       "      <th>2</th>\n",
       "      <td>Categorical</td>\n",
       "      <td>categorical</td>\n",
       "      <td>Represents variables that can take an unordered discrete values\\n\\n    Args:\\n        categories (list) : List of categories. If left blank, inferred from data.\\n</td>\n",
       "    </tr>\n",
       "    <tr>\n",
       "      <th>3</th>\n",
       "      <td>Id</td>\n",
       "      <td>id</td>\n",
       "      <td>Represents variables that identify another entity</td>\n",
       "    </tr>\n",
       "    <tr>\n",
       "      <th>4</th>\n",
       "      <td>ZIPCode</td>\n",
       "      <td>zip_code</td>\n",
       "      <td>Represents a postal address in the United States.\\n    Consists of a series of digits which are casts as\\n    string. Five digit and 9 digit zipcodes are supported.\\n</td>\n",
       "    </tr>\n",
       "    <tr>\n",
       "      <th>5</th>\n",
       "      <td>CountryCode</td>\n",
       "      <td>country_code</td>\n",
       "      <td>Represents an ISO-3166 standard country code.\\n    ISO 3166-1 (countries) are supported. These codes\\n    should be in the Alpha-2 format.\\n    e.g. United States of America = US\\n</td>\n",
       "    </tr>\n",
       "    <tr>\n",
       "      <th>6</th>\n",
       "      <td>SubRegionCode</td>\n",
       "      <td>sub_region_code</td>\n",
       "      <td>Represents an ISO-3166 standard sub-region code.\\n    ISO 3166-2 codes (sub-regions are supported. These codes\\n    should be in the Alpha-2 format.\\n    e.g. United States of America, Arizona = US-AZ\\n</td>\n",
       "    </tr>\n",
       "    <tr>\n",
       "      <th>7</th>\n",
       "      <td>Ordinal</td>\n",
       "      <td>ordinal</td>\n",
       "      <td>Represents variables that take on an ordered discrete value</td>\n",
       "    </tr>\n",
       "    <tr>\n",
       "      <th>8</th>\n",
       "      <td>Boolean</td>\n",
       "      <td>boolean</td>\n",
       "      <td>Represents variables that take on one of two values\\n\\n    Args:\\n        true_values (list) : List of valued true values. Defaults to [1, True, \"true\", \"True\", \"yes\", \"t\", \"T\"]\\n        false_values (list): List of valued false values. Defaults to [0, False, \"false\", \"False\", \"no\", \"f\", \"F\"]\\n</td>\n",
       "    </tr>\n",
       "    <tr>\n",
       "      <th>9</th>\n",
       "      <td>Numeric</td>\n",
       "      <td>numeric</td>\n",
       "      <td>Represents variables that contain numeric values\\n\\n    Args:\\n        range (list, optional) : List of start and end. Can use inf and -inf to represent infinity. Unconstrained if not specified.\\n        start_inclusive (bool, optional) : Whether or not range includes the start value.\\n        end_inclusive (bool, optional) : Whether or not range includes the end value\\n\\n    Attributes:\\n        max (float)\\n        min (float)\\n        std (float)\\n        mean (float)\\n</td>\n",
       "    </tr>\n",
       "    <tr>\n",
       "      <th>10</th>\n",
       "      <td>NumericTimeIndex</td>\n",
       "      <td>numeric_time_index</td>\n",
       "      <td>Represents time index of entity that is numeric</td>\n",
       "    </tr>\n",
       "    <tr>\n",
       "      <th>11</th>\n",
       "      <td>Index</td>\n",
       "      <td>index</td>\n",
       "      <td>Represents variables that uniquely identify an instance of an entity\\n\\n    Attributes:\\n        count (int)\\n</td>\n",
       "    </tr>\n",
       "    <tr>\n",
       "      <th>12</th>\n",
       "      <td>Datetime</td>\n",
       "      <td>datetime</td>\n",
       "      <td>Represents variables that are points in time\\n\\n    Args:\\n        format (str): Python datetime format string documented `here &lt;http://strftime.org/&gt;`_.\\n</td>\n",
       "    </tr>\n",
       "    <tr>\n",
       "      <th>13</th>\n",
       "      <td>DatetimeTimeIndex</td>\n",
       "      <td>datetime_time_index</td>\n",
       "      <td>Represents time index of entity that is a datetime</td>\n",
       "    </tr>\n",
       "    <tr>\n",
       "      <th>14</th>\n",
       "      <td>DateOfBirth</td>\n",
       "      <td>date_of_birth</td>\n",
       "      <td>Represents a date of birth as a datetime</td>\n",
       "    </tr>\n",
       "    <tr>\n",
       "      <th>15</th>\n",
       "      <td>TimeIndex</td>\n",
       "      <td>time_index</td>\n",
       "      <td>Represents time index of entity</td>\n",
       "    </tr>\n",
       "    <tr>\n",
       "      <th>16</th>\n",
       "      <td>Timedelta</td>\n",
       "      <td>timedelta</td>\n",
       "      <td>Represents variables that are timedeltas\\n\\n    Args:\\n        range (list, optional) : List of start and end of allowed range in seconds. Can use inf and -inf to represent infinity. Unconstrained if not specified.\\n        start_inclusive (bool, optional) : Whether or not range includes the start value.\\n        end_inclusive (bool, optional) : Whether or not range includes the end value\\n</td>\n",
       "    </tr>\n",
       "    <tr>\n",
       "      <th>17</th>\n",
       "      <td>NaturalLanguage</td>\n",
       "      <td>natural_language</td>\n",
       "      <td>Represents variables that are arbitary strings</td>\n",
       "    </tr>\n",
       "    <tr>\n",
       "      <th>18</th>\n",
       "      <td>LatLong</td>\n",
       "      <td>lat_long</td>\n",
       "      <td>Represents an ordered pair (Latitude, Longitude)\\n    To make a latlong in a dataframe do\\n    data['latlong'] = data[['latitude', 'longitude']].apply(tuple, axis=1)\\n</td>\n",
       "    </tr>\n",
       "    <tr>\n",
       "      <th>19</th>\n",
       "      <td>IPAddress</td>\n",
       "      <td>ip_address</td>\n",
       "      <td>Represents a computer network address. Represented\\n    in dotted-decimal notation. IPv4 and IPv6 are supported.\\n</td>\n",
       "    </tr>\n",
       "    <tr>\n",
       "      <th>20</th>\n",
       "      <td>FullName</td>\n",
       "      <td>full_name</td>\n",
       "      <td>Represents a person's full name. May consist of a\\n    first name, last name, and a title.\\n</td>\n",
       "    </tr>\n",
       "    <tr>\n",
       "      <th>21</th>\n",
       "      <td>EmailAddress</td>\n",
       "      <td>email_address</td>\n",
       "      <td>Represents an email box to which email message are sent.\\n    Consists of a local-part, an @ symbol, and a domain.\\n</td>\n",
       "    </tr>\n",
       "    <tr>\n",
       "      <th>22</th>\n",
       "      <td>URL</td>\n",
       "      <td>url</td>\n",
       "      <td>Represents a valid web url (with or without http/www)</td>\n",
       "    </tr>\n",
       "    <tr>\n",
       "      <th>23</th>\n",
       "      <td>PhoneNumber</td>\n",
       "      <td>phone_number</td>\n",
       "      <td>Represents any valid phone number.\\n    Can be with/without parenthesis.\\n    Can be with/without area/country codes.\\n</td>\n",
       "    </tr>\n",
       "    <tr>\n",
       "      <th>24</th>\n",
       "      <td>FilePath</td>\n",
       "      <td>file_path</td>\n",
       "      <td>Represents a valid filepath, absolute or relative</td>\n",
       "    </tr>\n",
       "  </tbody>\n",
       "</table>"
      ],
      "text/plain": [
       "<IPython.core.display.HTML object>"
      ]
     },
     "metadata": {},
     "output_type": "display_data"
    }
   ],
   "source": [
    "# list of variable types in featuretools software\n",
    "from featuretools.variable_types import list_variable_types\n",
    "featuretools_dtypes = list_variable_types()\n",
    "show_elements(featuretools_dtypes,randomize = False, num_samples = len(featuretools_dtypes))"
   ]
  },
  {
   "cell_type": "code",
   "execution_count": 5,
   "id": "0c19496f",
   "metadata": {
    "scrolled": true
   },
   "outputs": [],
   "source": [
    "boolean_colnames = []\n",
    "ordinal_colnames = []\n",
    "categorical_colnames = []\n",
    "numeric_colnames = []\n",
    "for col in X.columns:\n",
    "    nunique = X[col].nunique()\n",
    "    if nunique==2:                              \n",
    "        boolean_colnames.append(col)\n",
    "    elif \"opinion\" in col or \"h1n1\" in col:     # these cols specify rating, so they are ordinal\n",
    "        ordinal_colnames.append(col)\n",
    "    elif \"household\" in col: \n",
    "        numeric_colnames.append(col)\n",
    "    elif \"employment\" in col:\n",
    "        categorical_colnames.append(col)\n",
    "    # print(f\"{col}: {nunique}\")"
   ]
  },
  {
   "cell_type": "code",
   "execution_count": 6,
   "id": "22c952de",
   "metadata": {},
   "outputs": [],
   "source": [
    "categorical_colnames.extend([\"health_insurance\",\"race\",\"employment_status\",\"census_msa\",\"hhs_geo_region\"])\n",
    "ordinal_colnames.extend([\"age_group\",\"education\",\"income_poverty\"])"
   ]
  },
  {
   "cell_type": "markdown",
   "id": "be17e690",
   "metadata": {},
   "source": [
    "### Variable dtypes\n",
    "- grouped features into their dtypes:\n",
    "    - boolean - yes/no features\n",
    "    - ordinal - ratings or categories that have an increasing order e.g poverty\n",
    "    - nominal(categorical) - no obvious order e.g industry type\n",
    "    - numerical "
   ]
  },
  {
   "cell_type": "code",
   "execution_count": 7,
   "id": "65e005fa",
   "metadata": {},
   "outputs": [
    {
     "name": "stdout",
     "output_type": "stream",
     "text": [
      "boolean_colnames: ['behavioral_antiviral_meds', 'behavioral_avoidance', 'behavioral_face_mask', 'behavioral_wash_hands', 'behavioral_large_gatherings', 'behavioral_outside_home', 'behavioral_touch_face', 'doctor_recc_h1n1', 'doctor_recc_seasonal', 'chronic_med_condition', 'child_under_6_months', 'health_worker', 'sex', 'marital_status', 'rent_or_own']\n",
      "\n",
      "ordinal_colnames: ['h1n1_concern', 'h1n1_knowledge', 'opinion_h1n1_vacc_effective', 'opinion_h1n1_risk', 'opinion_h1n1_sick_from_vacc', 'opinion_seas_vacc_effective', 'opinion_seas_risk', 'opinion_seas_sick_from_vacc', 'age_group', 'education', 'income_poverty']\n",
      "\n",
      "categorical_colnames: ['employment_status', 'employment_industry', 'employment_occupation', 'health_insurance', 'race', 'employment_status', 'census_msa', 'hhs_geo_region']\n",
      "\n",
      "numeric_colnames: ['household_adults', 'household_children']\n",
      "\n"
     ]
    }
   ],
   "source": [
    "print(f\"boolean_colnames: {boolean_colnames}\\n\" )\n",
    "print(f\"ordinal_colnames: {ordinal_colnames}\\n\" )\n",
    "print(f\"categorical_colnames: {categorical_colnames}\\n\" )\n",
    "print(f\"numeric_colnames: {numeric_colnames}\\n\" )"
   ]
  },
  {
   "cell_type": "markdown",
   "id": "9dc42449",
   "metadata": {},
   "source": [
    "## Add Entity/table\n",
    "- To specify:\n",
    "    1. entity_id \n",
    "    2. index - column of unique values\n",
    "    3. variable_types - ensures that appropriate engineering operations are performed"
   ]
  },
  {
   "cell_type": "code",
   "execution_count": 8,
   "id": "0850fd38",
   "metadata": {},
   "outputs": [],
   "source": [
    "import featuretools.variable_types as vtypes\n",
    "variable_types = {}\n",
    "for col in boolean_colnames:\n",
    "    variable_types.update({col:vtypes.Boolean})\n",
    "for col in ordinal_colnames:\n",
    "    variable_types.update({col:vtypes.Ordinal})\n",
    "for col in categorical_colnames:\n",
    "    variable_types.update({col:vtypes.Categorical})\n",
    "for col in numeric_colnames:\n",
    "    variable_types.update({col:vtypes.Numeric})"
   ]
  },
  {
   "cell_type": "code",
   "execution_count": 9,
   "id": "aa1ed0de",
   "metadata": {},
   "outputs": [],
   "source": [
    "es = es.entity_from_dataframe(entity_id = 'Vaccine',    # table name\n",
    "                              dataframe = X, \n",
    "                              index = 'respondent_id',                # every table needs an index column \n",
    "                              variable_types=variable_types)      "
   ]
  },
  {
   "cell_type": "markdown",
   "id": "fdf05d0c",
   "metadata": {},
   "source": [
    "# Deep Feature Selection (DFS) - ft.dfs()\n",
    "- featuretools automatically stacks feature transformations and aggregations\n",
    "- for DFS to occur you must :\n",
    "    1. have **more than one entity set for DFS**\n",
    "    2. set **max_depth more than 1**"
   ]
  },
  {
   "cell_type": "code",
   "execution_count": 10,
   "id": "75a35756",
   "metadata": {},
   "outputs": [
    {
     "name": "stderr",
     "output_type": "stream",
     "text": [
      "C:\\Users\\tanch\\anaconda3\\lib\\site-packages\\featuretools\\entityset\\entityset.py:265: UserWarning: Not adding duplicate relationship: <Relationship: Vaccine.employment_status -> employment_status.employment_status>\n",
      "  warnings.warn(\n"
     ]
    }
   ],
   "source": [
    "for col in categorical_colnames:\n",
    "    es = es.normalize_entity(base_entity_id='Vaccine', new_entity_id=col, index=col)"
   ]
  },
  {
   "cell_type": "code",
   "execution_count": 46,
   "id": "eeb4b94c",
   "metadata": {},
   "outputs": [
    {
     "name": "stdout",
     "output_type": "stream",
     "text": [
      "Built 462 features\n",
      "Elapsed: 00:03 | Progress: 100%|███████████████████████████████████████████████████████████████████████████████████████\n"
     ]
    }
   ],
   "source": [
    "feature_matrix, feature_names = ft.dfs(entityset=es, \n",
    "                                        target_entity = 'Vaccine', \n",
    "                                        max_depth = 2, \n",
    "                                        verbose = 3, \n",
    "                                        n_jobs = 1,\n",
    "                                        ignore_variables={'Vaccine':['respondent_id']})"
   ]
  },
  {
   "cell_type": "code",
   "execution_count": 33,
   "id": "4445f6b7",
   "metadata": {},
   "outputs": [],
   "source": [
    "param = {\n",
    "\"learning_rate\":0.05 ,\n",
    "\"max_depth\" : 4,\n",
    "\"colsample_bytree\" :0.8,\n",
    "\"subsample\" :0.8,\n",
    "#'objective': 'binary',\n",
    "\"metric\" :'auc'\n",
    "# \"n_estimators\" : 1000\n",
    "}"
   ]
  },
  {
   "cell_type": "markdown",
   "id": "e03b30f6",
   "metadata": {},
   "source": [
    "### benchmark - original data"
   ]
  },
  {
   "cell_type": "code",
   "execution_count": 121,
   "id": "8f6f06f7",
   "metadata": {},
   "outputs": [],
   "source": [
    "score_board = {}"
   ]
  },
  {
   "cell_type": "code",
   "execution_count": 123,
   "id": "bbfba0da",
   "metadata": {
    "scrolled": true
   },
   "outputs": [],
   "source": [
    "train_data = Dataset(X.iloc[:,1:],y)\n",
    "score_board[\"original\"] = lgb.cv(param, train_data, num_boost_round = 1000, nfold=3, early_stopping_rounds = 50)['auc-mean']"
   ]
  },
  {
   "cell_type": "markdown",
   "id": "9a88fbaa",
   "metadata": {},
   "source": [
    "### evaluate - original data + top n engineered features"
   ]
  },
  {
   "cell_type": "code",
   "execution_count": 126,
   "id": "2b0aa250",
   "metadata": {},
   "outputs": [],
   "source": [
    "from sklearn.model_selection import train_test_split\n",
    "X_train, X_test, y_train, y_test = train_test_split(feature_matrix,y,test_size = 0.30,random_state = 0)\n",
    "train_data = Dataset(X_train,y_train)\n",
    "validation_data = Dataset(X_test,y_test)\n",
    "bst = lgb.train(param, train_data, 1000, valid_sets=[validation_data],early_stopping_rounds = 50,verbose_eval  = False)"
   ]
  },
  {
   "cell_type": "code",
   "execution_count": 129,
   "id": "cc7408ae",
   "metadata": {},
   "outputs": [],
   "source": [
    "for n in [0,1,2,3,4,5,10,20,30]:\n",
    "    top_n_colnames = pd.Series(dict(zip(bst.feature_name(),bst.feature_importance()))).sort_values(ascending=False)[:35].keys()\n",
    "    best_cols = [col for col in top_n_colnames if col not in X.columns][:n]\n",
    "    train_data = Dataset(feature_matrix[best_cols+list(X.columns[1:])],y)\n",
    "    score_board[f\"original+{n} top engineered features\"] = lgb.cv(param, train_data, num_boost_round = 1000, nfold=3, early_stopping_rounds = 50)['auc-mean']"
   ]
  },
  {
   "cell_type": "markdown",
   "id": "9a79aa00",
   "metadata": {},
   "source": [
    "## Result\n",
    "- the performance on original data is the blue or orange line\n",
    "- Insights:\n",
    "    - adding the top 1-5 engineered features based on feature importance worsens performance\n",
    "        - i hypoethesize that those features were **correlated with original features, so there was no point adding them**\n",
    "    - however, **there are features among the top 30 features which does improve performance** (blue line)\n",
    "        - therefore, let's add features one by one to sea which are the engineered features that improve performance"
   ]
  },
  {
   "cell_type": "code",
   "execution_count": 153,
   "id": "17fe33a7",
   "metadata": {},
   "outputs": [
    {
     "data": {
      "application/javascript": [
       "\n",
       "        if (window._pyforest_update_imports_cell) { window._pyforest_update_imports_cell('import matplotlib.pyplot as plt\\nimport pandas as pd\\nimport seaborn as sns'); }\n",
       "    "
      ],
      "text/plain": [
       "<IPython.core.display.Javascript object>"
      ]
     },
     "metadata": {},
     "output_type": "display_data"
    },
    {
     "data": {
      "application/javascript": [
       "\n",
       "        if (window._pyforest_update_imports_cell) { window._pyforest_update_imports_cell('import matplotlib.pyplot as plt\\nimport pandas as pd\\nimport seaborn as sns'); }\n",
       "    "
      ],
      "text/plain": [
       "<IPython.core.display.Javascript object>"
      ]
     },
     "metadata": {},
     "output_type": "display_data"
    },
    {
     "data": {
      "text/plain": [
       "[(0.864, 0.87)]"
      ]
     },
     "execution_count": 153,
     "metadata": {},
     "output_type": "execute_result"
    },
    {
     "data": {
      "image/png": "[encoded data removed]",
      "text/plain": [
       "<Figure size 648x720 with 1 Axes>"
      ]
     },
     "metadata": {
      "needs_background": "light"
     },
     "output_type": "display_data"
    }
   ],
   "source": [
    "f, axes = plt.subplots(1, 1,figsize = (9,10))\n",
    "sns.lineplot(data = score_board).set(ylim = (0.864,0.87))"
   ]
  },
  {
   "cell_type": "markdown",
   "id": "5d48c17e",
   "metadata": {},
   "source": [
    "## Extract features that improve model performance"
   ]
  },
  {
   "cell_type": "code",
   "execution_count": 180,
   "id": "6e918c16",
   "metadata": {},
   "outputs": [],
   "source": [
    "from sklearn.metrics import roc_auc_score \n",
    "engineered_features = [col for col in feature_matrix if col not in X.columns]\n",
    "original_features = list(X.columns[1:])"
   ]
  },
  {
   "cell_type": "code",
   "execution_count": 168,
   "id": "e89174e6",
   "metadata": {},
   "outputs": [],
   "source": [
    "param = {\n",
    "\"learning_rate\":0.05 ,\n",
    "\"max_depth\" : 4,\n",
    "\"colsample_bytree\" :0.8,\n",
    "\"subsample\" :0.8,\n",
    "#'objective': 'binary',\n",
    "\"metric\" :'auc',\n",
    "\"n_estimators\" : 500\n",
    "}"
   ]
  },
  {
   "cell_type": "code",
   "execution_count": 172,
   "id": "ee7caf50",
   "metadata": {
    "scrolled": true
   },
   "outputs": [],
   "source": [
    "from lightgbm import LGBMClassifier\n",
    "score_board = {}\n",
    "X_train, X_test, y_train, y_test = train_test_split(feature_matrix[original_features],y,test_size = 0.30,random_state = 0)\n",
    "# train_data = Dataset(X_train,y_train)\n",
    "# validation_data = Dataset(X_test,y_test)\n",
    "model = LGBMClassifier()\n",
    "model.set_params(**param)\n",
    "model.fit(X_train,y_train,eval_set = (X_test,y_test),early_stopping_rounds = 50,verbose = False)\n",
    "y_pred = model.predict_proba(X_test)[:,1]\n",
    "score_board['original'] = roc_auc_score(y_test,y_pred)"
   ]
  },
  {
   "cell_type": "code",
   "execution_count": 182,
   "id": "781edfbe",
   "metadata": {},
   "outputs": [
    {
     "name": "stderr",
     "output_type": "stream",
     "text": [
      "100%|████████████████████████████████████████████████████████████████████████████████| 427/427 [04:46<00:00,  1.49it/s]\n"
     ]
    }
   ],
   "source": [
    "from tqdm import tqdm\n",
    "for col in tqdm(list(engineered_features)):\n",
    "    X_train, X_test, y_train, y_test = train_test_split(feature_matrix[original_features+[col]],y,test_size = 0.30,random_state = 0)\n",
    "    model = LGBMClassifier()\n",
    "    model.set_params(**param)\n",
    "    model.fit(X_train,y_train,eval_set = (X_test,y_test),early_stopping_rounds = 50,verbose = False)\n",
    "    y_pred = model.predict_proba(X_test)[:,1]\n",
    "    score_board[f\"original+{col}\"] = roc_auc_score(y_test,y_pred)"
   ]
  },
  {
   "cell_type": "markdown",
   "id": "491dc80d",
   "metadata": {},
   "source": [
    "## Result \n",
    "- there are over 100 features that lead to some improvement when added individually\n",
    "- **hhs_geo_region.SKEW(Vaccine.household_children) led to 0.0015 gain in auc**"
   ]
  },
  {
   "cell_type": "code",
   "execution_count": 248,
   "id": "420d8310",
   "metadata": {},
   "outputs": [
    {
     "data": {
      "text/plain": [
       "original+hhs_geo_region.SKEW(Vaccine.household_children)                  0.867901\n",
       "original+employment_occupation.PERCENT_TRUE(Vaccine.marital_status)       0.867478\n",
       "original+employment_occupation.MODE(Vaccine.census_msa)                   0.867253\n",
       "original+hhs_geo_region.STD(Vaccine.household_children)                   0.867243\n",
       "original+hhs_geo_region.PERCENT_TRUE(Vaccine.child_under_6_months)        0.867221\n",
       "                                                                            ...   \n",
       "original+hhs_geo_region.NUM_UNIQUE(Vaccine.employment_industry)           0.866507\n",
       "original+employment_industry.NUM_UNIQUE(Vaccine.employment_occupation)    0.866491\n",
       "original+hhs_geo_region.MODE(Vaccine.census_msa)                          0.866489\n",
       "original+hhs_geo_region.PERCENT_TRUE(Vaccine.behavioral_avoidance)        0.866488\n",
       "original                                                                  0.866480\n",
       "Length: 118, dtype: float64"
      ]
     },
     "execution_count": 248,
     "metadata": {},
     "output_type": "execute_result"
    }
   ],
   "source": [
    "gain_features =  {k:score for k,score in score_board.items() if score>score_board['original'] or k==\"original\"}\n",
    "pd.Series(gain_features).sort_values(ascending = False)"
   ]
  },
  {
   "cell_type": "markdown",
   "id": "0489ebd3",
   "metadata": {},
   "source": [
    "## Further selection:\n",
    "- among the top 20 engineered feature that led to performance gains, i will try adding every pair"
   ]
  },
  {
   "cell_type": "code",
   "execution_count": 236,
   "id": "77a39429",
   "metadata": {},
   "outputs": [],
   "source": [
    "from itertools import combinations\n",
    "pairs = list(combinations(list(map(lambda x: x.split(\"+\")[1],list(pd.Series(gain_features).sort_values(ascending = False)[:20].keys()))),2))"
   ]
  },
  {
   "cell_type": "code",
   "execution_count": 242,
   "id": "51fb2691",
   "metadata": {},
   "outputs": [
    {
     "name": "stderr",
     "output_type": "stream",
     "text": [
      "100%|████████████████████████████████████████████████████████████████████████████████| 190/190 [02:12<00:00,  1.43it/s]\n"
     ]
    }
   ],
   "source": [
    "score_board_pairs = {}\n",
    "from tqdm import tqdm\n",
    "for combination in tqdm(list(pairs)):\n",
    "    X_train, X_test, y_train, y_test = train_test_split(feature_matrix[original_features+list(combination)],y,test_size = 0.30,random_state = 0)\n",
    "    model = LGBMClassifier()\n",
    "    model.set_params(**param)\n",
    "    model.fit(X_train,y_train,eval_set = (X_test,y_test),early_stopping_rounds = 50,verbose = False)\n",
    "    y_pred = model.predict_proba(X_test)[:,1]\n",
    "    score_board_pairs[f\"original+{combination}\"] = roc_auc_score(y_test,y_pred)"
   ]
  },
  {
   "cell_type": "markdown",
   "id": "f4c3cecf",
   "metadata": {},
   "source": [
    "## Results\n",
    "- **('hhs_geo_region.SKEW(Vaccine.household_children)', 'employment_industry.PERCENT_TRUE(Vaccine.rent_or_own)') pair led to 0.0016** gain in auc"
   ]
  },
  {
   "cell_type": "code",
   "execution_count": 243,
   "id": "769a132a",
   "metadata": {},
   "outputs": [
    {
     "data": {
      "text/plain": [
       "original+('hhs_geo_region.SKEW(Vaccine.household_children)', 'employment_industry.PERCENT_TRUE(Vaccine.rent_or_own)')            0.868028\n",
       "original+('hhs_geo_region.SKEW(Vaccine.household_children)', 'employment_industry.MODE(Vaccine.age_group)')                      0.867949\n",
       "original+('hhs_geo_region.STD(Vaccine.household_children)', 'employment_industry.PERCENT_TRUE(Vaccine.rent_or_own)')             0.867579\n",
       "original+('hhs_geo_region.STD(Vaccine.household_children)', 'employment_industry.PERCENT_TRUE(Vaccine.doctor_recc_seasonal)')    0.867565\n",
       "original+('employment_occupation.PERCENT_TRUE(Vaccine.marital_status)', 'employment_industry.MODE(Vaccine.age_group)')           0.867551\n",
       "                                                                                                                                   ...   \n",
       "original+('hhs_geo_region.NUM_UNIQUE(Vaccine.employment_occupation)', 'census_msa.PERCENT_TRUE(Vaccine.doctor_recc_h1n1)')       0.866494\n",
       "original+('hhs_geo_region.NUM_UNIQUE(Vaccine.employment_occupation)', 'census_msa.SKEW(Vaccine.household_children)')             0.866494\n",
       "original+('hhs_geo_region.NUM_UNIQUE(Vaccine.employment_occupation)', 'census_msa.STD(Vaccine.household_children)')              0.866494\n",
       "original+('hhs_geo_region.NUM_UNIQUE(Vaccine.employment_occupation)', 'census_msa.SUM(Vaccine.household_adults)')                0.866494\n",
       "original+('employment_occupation.PERCENT_TRUE(Vaccine.marital_status)', 'employment_occupation.MODE(Vaccine.census_msa)')        0.866486\n",
       "Length: 125, dtype: float64"
      ]
     },
     "execution_count": 243,
     "metadata": {},
     "output_type": "execute_result"
    }
   ],
   "source": [
    "gain_pairs =  {k:score for k,score in score_board_pairs.items() if score>score_board['original'] or k==\"original\"}\n",
    "pd.Series(gain_pairs).sort_values(ascending = False)"
   ]
  },
  {
   "cell_type": "markdown",
   "id": "351ee033",
   "metadata": {},
   "source": [
    "### export engineered features"
   ]
  },
  {
   "cell_type": "code",
   "execution_count": 264,
   "id": "8503a5b2",
   "metadata": {},
   "outputs": [
    {
     "data": {
      "text/html": [
       "<div>\n",
       "<style scoped>\n",
       "    .dataframe tbody tr th:only-of-type {\n",
       "        vertical-align: middle;\n",
       "    }\n",
       "\n",
       "    .dataframe tbody tr th {\n",
       "        vertical-align: top;\n",
       "    }\n",
       "\n",
       "    .dataframe thead th {\n",
       "        text-align: right;\n",
       "    }\n",
       "</style>\n",
       "<table border=\"1\" class=\"dataframe\">\n",
       "  <thead>\n",
       "    <tr style=\"text-align: right;\">\n",
       "      <th></th>\n",
       "      <th>hhs_geo_region.SKEW(Vaccine.household_children)</th>\n",
       "      <th>employment_industry.PERCENT_TRUE(Vaccine.rent_or_own)</th>\n",
       "    </tr>\n",
       "    <tr>\n",
       "      <th>respondent_id</th>\n",
       "      <th></th>\n",
       "      <th></th>\n",
       "    </tr>\n",
       "  </thead>\n",
       "  <tbody>\n",
       "    <tr>\n",
       "      <th>0</th>\n",
       "      <td>1.445465</td>\n",
       "      <td>0.228432</td>\n",
       "    </tr>\n",
       "    <tr>\n",
       "      <th>1</th>\n",
       "      <td>1.477455</td>\n",
       "      <td>0.280617</td>\n",
       "    </tr>\n",
       "    <tr>\n",
       "      <th>2</th>\n",
       "      <td>1.568201</td>\n",
       "      <td>0.476099</td>\n",
       "    </tr>\n",
       "    <tr>\n",
       "      <th>3</th>\n",
       "      <td>1.422831</td>\n",
       "      <td>0.228432</td>\n",
       "    </tr>\n",
       "    <tr>\n",
       "      <th>4</th>\n",
       "      <td>1.568201</td>\n",
       "      <td>0.155211</td>\n",
       "    </tr>\n",
       "  </tbody>\n",
       "</table>\n",
       "</div>"
      ],
      "text/plain": [
       "               hhs_geo_region.SKEW(Vaccine.household_children)  \\\n",
       "respondent_id                                                    \n",
       "0                                                     1.445465   \n",
       "1                                                     1.477455   \n",
       "2                                                     1.568201   \n",
       "3                                                     1.422831   \n",
       "4                                                     1.568201   \n",
       "\n",
       "               employment_industry.PERCENT_TRUE(Vaccine.rent_or_own)  \n",
       "respondent_id                                                         \n",
       "0                                                       0.228432      \n",
       "1                                                       0.280617      \n",
       "2                                                       0.476099      \n",
       "3                                                       0.228432      \n",
       "4                                                       0.155211      "
      ]
     },
     "execution_count": 264,
     "metadata": {},
     "output_type": "execute_result"
    }
   ],
   "source": [
    "feature_matrix[['hhs_geo_region.SKEW(Vaccine.household_children)', 'employment_industry.PERCENT_TRUE(Vaccine.rent_or_own)']].to_csv(r\"C:\\Users\\tanch\\Documents\\Coding Competitions\\DataDriven\\Flu Shot Learning\\local\\data\\train engineered_feature 0.csv\")\n",
    "feature_matrix[['hhs_geo_region.SKEW(Vaccine.household_children)', 'employment_industry.PERCENT_TRUE(Vaccine.rent_or_own)']].head()"
   ]
  },
  {
   "cell_type": "code",
   "execution_count": 251,
   "id": "43d6e91e",
   "metadata": {},
   "outputs": [],
   "source": [
    "test_set = pd.read_csv(r\"C:\\Users\\tanch\\Documents\\Coding Competitions\\DataDriven\\Flu Shot Learning\\local\\data\\cleaned_test_set.csv\") "
   ]
  },
  {
   "cell_type": "code",
   "execution_count": 257,
   "id": "0a64cbe7",
   "metadata": {},
   "outputs": [],
   "source": [
    "# creating and entity set 'es'\n",
    "es_tst = ft.EntitySet(id = 'Vaccine')\n",
    "# adding a dataframe \n",
    "es_tst.entity_from_dataframe(entity_id = 'Vaccine', dataframe = test_set, index = 'respondent_id',variable_types=variable_types)\n",
    "# add entity\n",
    "es_tst = es_tst.normalize_entity(base_entity_id='Vaccine', new_entity_id='hhs_geo_region', index='hhs_geo_region')\n",
    "es_tst = es_tst.normalize_entity(base_entity_id='Vaccine', new_entity_id='employment_industry', index='employment_industry')"
   ]
  },
  {
   "cell_type": "code",
   "execution_count": 261,
   "id": "a73b20a8",
   "metadata": {},
   "outputs": [
    {
     "name": "stdout",
     "output_type": "stream",
     "text": [
      "Built 22 features\n",
      "Elapsed: 00:00 | Progress: 100%|███████████████████████████████████████████████████████████████████████████████████████\n"
     ]
    }
   ],
   "source": [
    "feature_matrix_test, feature_names_test = ft.dfs(entityset=es_tst, \n",
    "                                                target_entity = 'Vaccine', \n",
    "                                                max_depth = 2, \n",
    "                                                verbose = 3, \n",
    "                                                n_jobs = 1,\n",
    "                                                ignore_variables={'Vaccine':[col for col in test_set.columns if col not in [\"hhs_geo_region\",\"employment_industry\",\"household_children\",\"rent_or_own\"]]})"
   ]
  },
  {
   "cell_type": "code",
   "execution_count": 265,
   "id": "fe571ba1",
   "metadata": {},
   "outputs": [
    {
     "data": {
      "text/html": [
       "<div>\n",
       "<style scoped>\n",
       "    .dataframe tbody tr th:only-of-type {\n",
       "        vertical-align: middle;\n",
       "    }\n",
       "\n",
       "    .dataframe tbody tr th {\n",
       "        vertical-align: top;\n",
       "    }\n",
       "\n",
       "    .dataframe thead th {\n",
       "        text-align: right;\n",
       "    }\n",
       "</style>\n",
       "<table border=\"1\" class=\"dataframe\">\n",
       "  <thead>\n",
       "    <tr style=\"text-align: right;\">\n",
       "      <th></th>\n",
       "      <th>hhs_geo_region.SKEW(Vaccine.household_children)</th>\n",
       "      <th>employment_industry.PERCENT_TRUE(Vaccine.rent_or_own)</th>\n",
       "    </tr>\n",
       "    <tr>\n",
       "      <th>respondent_id</th>\n",
       "      <th></th>\n",
       "      <th></th>\n",
       "    </tr>\n",
       "  </thead>\n",
       "  <tbody>\n",
       "    <tr>\n",
       "      <th>26707</th>\n",
       "      <td>1.439036</td>\n",
       "      <td>0.175182</td>\n",
       "    </tr>\n",
       "    <tr>\n",
       "      <th>26708</th>\n",
       "      <td>1.633696</td>\n",
       "      <td>0.175182</td>\n",
       "    </tr>\n",
       "    <tr>\n",
       "      <th>26709</th>\n",
       "      <td>1.479701</td>\n",
       "      <td>0.167808</td>\n",
       "    </tr>\n",
       "    <tr>\n",
       "      <th>26710</th>\n",
       "      <td>1.479701</td>\n",
       "      <td>0.224557</td>\n",
       "    </tr>\n",
       "    <tr>\n",
       "      <th>26711</th>\n",
       "      <td>1.569159</td>\n",
       "      <td>0.201691</td>\n",
       "    </tr>\n",
       "  </tbody>\n",
       "</table>\n",
       "</div>"
      ],
      "text/plain": [
       "               hhs_geo_region.SKEW(Vaccine.household_children)  \\\n",
       "respondent_id                                                    \n",
       "26707                                                 1.439036   \n",
       "26708                                                 1.633696   \n",
       "26709                                                 1.479701   \n",
       "26710                                                 1.479701   \n",
       "26711                                                 1.569159   \n",
       "\n",
       "               employment_industry.PERCENT_TRUE(Vaccine.rent_or_own)  \n",
       "respondent_id                                                         \n",
       "26707                                                   0.175182      \n",
       "26708                                                   0.175182      \n",
       "26709                                                   0.167808      \n",
       "26710                                                   0.224557      \n",
       "26711                                                   0.201691      "
      ]
     },
     "execution_count": 265,
     "metadata": {},
     "output_type": "execute_result"
    }
   ],
   "source": [
    "feature_matrix_test[['hhs_geo_region.SKEW(Vaccine.household_children)', 'employment_industry.PERCENT_TRUE(Vaccine.rent_or_own)']].to_csv(r\"C:\\Users\\tanch\\Documents\\Coding Competitions\\DataDriven\\Flu Shot Learning\\local\\data\\test engineered_feature 0.csv\")\n",
    "feature_matrix_test[['hhs_geo_region.SKEW(Vaccine.household_children)', 'employment_industry.PERCENT_TRUE(Vaccine.rent_or_own)']].head()"
   ]
  },
  {
   "cell_type": "code",
   "execution_count": null,
   "id": "59b9fbf8",
   "metadata": {},
   "outputs": [],
   "source": []
  }
 ],
 "metadata": {
  "kernelspec": {
   "display_name": "Python 3",
   "language": "python",
   "name": "python3"
  },
  "language_info": {
   "codemirror_mode": {
    "name": "ipython",
    "version": 3
   },
   "file_extension": ".py",
   "mimetype": "text/x-python",
   "name": "python",
   "nbconvert_exporter": "python",
   "pygments_lexer": "ipython3",
   "version": "3.8.3"
  }
 },
 "nbformat": 4,
 "nbformat_minor": 5
}
