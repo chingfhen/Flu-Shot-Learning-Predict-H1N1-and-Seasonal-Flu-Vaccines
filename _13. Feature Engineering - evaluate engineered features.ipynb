{
 "cells": [
  {
   "cell_type": "markdown",
   "id": "737d04c9",
   "metadata": {},
   "source": [
    "# About:\n",
    "- this notebook:\n",
    "    - investigates the effect of adding engineered features from featuretools\n",
    "- insight:\n",
    "    1. the **engineered features did not yield gains**. \n",
    "    2. **Simple fit predict evaluate is not a reliable way to extract engineered features by featuretools**"
   ]
  },
  {
   "cell_type": "markdown",
   "id": "3d4e7678",
   "metadata": {},
   "source": [
    "### prepare dataset"
   ]
  },
  {
   "cell_type": "code",
   "execution_count": 4,
   "id": "0aef5234",
   "metadata": {},
   "outputs": [
    {
     "data": {
      "application/javascript": [
       "\n",
       "        if (window._pyforest_update_imports_cell) { window._pyforest_update_imports_cell('import pandas as pd'); }\n",
       "    "
      ],
      "text/plain": [
       "<IPython.core.display.Javascript object>"
      ]
     },
     "metadata": {},
     "output_type": "display_data"
    },
    {
     "data": {
      "application/javascript": [
       "\n",
       "        if (window._pyforest_update_imports_cell) { window._pyforest_update_imports_cell('import pandas as pd'); }\n",
       "    "
      ],
      "text/plain": [
       "<IPython.core.display.Javascript object>"
      ]
     },
     "metadata": {},
     "output_type": "display_data"
    }
   ],
   "source": [
    "dataset = pd.read_csv(r\"C:\\Users\\tanch\\Documents\\Coding Competitions\\DataDriven\\Flu Shot Learning\\local\\data\\cleaned_train_set.csv\")\n",
    "engineered_features = pd.read_csv(r\"C:\\Users\\tanch\\Documents\\Coding Competitions\\DataDriven\\Flu Shot Learning\\local\\data\\train engineered_feature 0.csv\")"
   ]
  },
  {
   "cell_type": "code",
   "execution_count": 8,
   "id": "1eb9198a",
   "metadata": {},
   "outputs": [],
   "source": [
    "label_colnames = ['h1n1_vaccine', 'seasonal_vaccine']\n",
    "original_colnames = [col for col in dataset.columns if col not in label_colnames and col!=\"respondent_id\"]\n",
    "engineered_colnames = [\"hhs_geo_region.SKEW(Vaccine.household_children)\", \"employment_industry.PERCENT_TRUE(Vaccine.rent_or_own)\"]"
   ]
  },
  {
   "cell_type": "code",
   "execution_count": 10,
   "id": "e42cb6fc",
   "metadata": {},
   "outputs": [
    {
     "data": {
      "text/html": [
       "<div>\n",
       "<style scoped>\n",
       "    .dataframe tbody tr th:only-of-type {\n",
       "        vertical-align: middle;\n",
       "    }\n",
       "\n",
       "    .dataframe tbody tr th {\n",
       "        vertical-align: top;\n",
       "    }\n",
       "\n",
       "    .dataframe thead th {\n",
       "        text-align: right;\n",
       "    }\n",
       "</style>\n",
       "<table border=\"1\" class=\"dataframe\">\n",
       "  <thead>\n",
       "    <tr style=\"text-align: right;\">\n",
       "      <th></th>\n",
       "      <th>hhs_geo_region.SKEW(Vaccine.household_children)</th>\n",
       "      <th>employment_industry.PERCENT_TRUE(Vaccine.rent_or_own)</th>\n",
       "      <th>h1n1_concern</th>\n",
       "      <th>h1n1_knowledge</th>\n",
       "      <th>behavioral_antiviral_meds</th>\n",
       "      <th>behavioral_avoidance</th>\n",
       "      <th>behavioral_face_mask</th>\n",
       "      <th>behavioral_wash_hands</th>\n",
       "      <th>behavioral_large_gatherings</th>\n",
       "      <th>behavioral_outside_home</th>\n",
       "      <th>...</th>\n",
       "      <th>race</th>\n",
       "      <th>sex</th>\n",
       "      <th>income_poverty</th>\n",
       "      <th>marital_status</th>\n",
       "      <th>rent_or_own</th>\n",
       "      <th>employment_status</th>\n",
       "      <th>hhs_geo_region</th>\n",
       "      <th>census_msa</th>\n",
       "      <th>employment_industry</th>\n",
       "      <th>employment_occupation</th>\n",
       "    </tr>\n",
       "    <tr>\n",
       "      <th>respondent_id</th>\n",
       "      <th></th>\n",
       "      <th></th>\n",
       "      <th></th>\n",
       "      <th></th>\n",
       "      <th></th>\n",
       "      <th></th>\n",
       "      <th></th>\n",
       "      <th></th>\n",
       "      <th></th>\n",
       "      <th></th>\n",
       "      <th></th>\n",
       "      <th></th>\n",
       "      <th></th>\n",
       "      <th></th>\n",
       "      <th></th>\n",
       "      <th></th>\n",
       "      <th></th>\n",
       "      <th></th>\n",
       "      <th></th>\n",
       "      <th></th>\n",
       "      <th></th>\n",
       "    </tr>\n",
       "  </thead>\n",
       "  <tbody>\n",
       "    <tr>\n",
       "      <th>0</th>\n",
       "      <td>1.445465</td>\n",
       "      <td>0.228432</td>\n",
       "      <td>1.0</td>\n",
       "      <td>0.0</td>\n",
       "      <td>0.0</td>\n",
       "      <td>0.0</td>\n",
       "      <td>0.0</td>\n",
       "      <td>0.0</td>\n",
       "      <td>0.0</td>\n",
       "      <td>1.0</td>\n",
       "      <td>...</td>\n",
       "      <td>0</td>\n",
       "      <td>0</td>\n",
       "      <td>0</td>\n",
       "      <td>0</td>\n",
       "      <td>0</td>\n",
       "      <td>0</td>\n",
       "      <td>0</td>\n",
       "      <td>0</td>\n",
       "      <td>0</td>\n",
       "      <td>0</td>\n",
       "    </tr>\n",
       "    <tr>\n",
       "      <th>1</th>\n",
       "      <td>1.477455</td>\n",
       "      <td>0.280617</td>\n",
       "      <td>3.0</td>\n",
       "      <td>2.0</td>\n",
       "      <td>0.0</td>\n",
       "      <td>1.0</td>\n",
       "      <td>0.0</td>\n",
       "      <td>1.0</td>\n",
       "      <td>0.0</td>\n",
       "      <td>1.0</td>\n",
       "      <td>...</td>\n",
       "      <td>0</td>\n",
       "      <td>1</td>\n",
       "      <td>0</td>\n",
       "      <td>0</td>\n",
       "      <td>1</td>\n",
       "      <td>1</td>\n",
       "      <td>1</td>\n",
       "      <td>1</td>\n",
       "      <td>1</td>\n",
       "      <td>1</td>\n",
       "    </tr>\n",
       "    <tr>\n",
       "      <th>2</th>\n",
       "      <td>1.568201</td>\n",
       "      <td>0.476099</td>\n",
       "      <td>1.0</td>\n",
       "      <td>1.0</td>\n",
       "      <td>0.0</td>\n",
       "      <td>1.0</td>\n",
       "      <td>0.0</td>\n",
       "      <td>0.0</td>\n",
       "      <td>0.0</td>\n",
       "      <td>0.0</td>\n",
       "      <td>...</td>\n",
       "      <td>0</td>\n",
       "      <td>1</td>\n",
       "      <td>1</td>\n",
       "      <td>0</td>\n",
       "      <td>0</td>\n",
       "      <td>1</td>\n",
       "      <td>2</td>\n",
       "      <td>1</td>\n",
       "      <td>2</td>\n",
       "      <td>2</td>\n",
       "    </tr>\n",
       "    <tr>\n",
       "      <th>3</th>\n",
       "      <td>1.422831</td>\n",
       "      <td>0.228432</td>\n",
       "      <td>1.0</td>\n",
       "      <td>1.0</td>\n",
       "      <td>0.0</td>\n",
       "      <td>1.0</td>\n",
       "      <td>0.0</td>\n",
       "      <td>1.0</td>\n",
       "      <td>1.0</td>\n",
       "      <td>0.0</td>\n",
       "      <td>...</td>\n",
       "      <td>0</td>\n",
       "      <td>0</td>\n",
       "      <td>0</td>\n",
       "      <td>0</td>\n",
       "      <td>1</td>\n",
       "      <td>0</td>\n",
       "      <td>3</td>\n",
       "      <td>2</td>\n",
       "      <td>0</td>\n",
       "      <td>0</td>\n",
       "    </tr>\n",
       "    <tr>\n",
       "      <th>4</th>\n",
       "      <td>1.568201</td>\n",
       "      <td>0.155211</td>\n",
       "      <td>2.0</td>\n",
       "      <td>1.0</td>\n",
       "      <td>0.0</td>\n",
       "      <td>1.0</td>\n",
       "      <td>0.0</td>\n",
       "      <td>1.0</td>\n",
       "      <td>1.0</td>\n",
       "      <td>0.0</td>\n",
       "      <td>...</td>\n",
       "      <td>0</td>\n",
       "      <td>0</td>\n",
       "      <td>1</td>\n",
       "      <td>1</td>\n",
       "      <td>0</td>\n",
       "      <td>1</td>\n",
       "      <td>2</td>\n",
       "      <td>1</td>\n",
       "      <td>3</td>\n",
       "      <td>3</td>\n",
       "    </tr>\n",
       "  </tbody>\n",
       "</table>\n",
       "<p>5 rows × 37 columns</p>\n",
       "</div>"
      ],
      "text/plain": [
       "               hhs_geo_region.SKEW(Vaccine.household_children)  \\\n",
       "respondent_id                                                    \n",
       "0                                                     1.445465   \n",
       "1                                                     1.477455   \n",
       "2                                                     1.568201   \n",
       "3                                                     1.422831   \n",
       "4                                                     1.568201   \n",
       "\n",
       "               employment_industry.PERCENT_TRUE(Vaccine.rent_or_own)  \\\n",
       "respondent_id                                                          \n",
       "0                                                       0.228432       \n",
       "1                                                       0.280617       \n",
       "2                                                       0.476099       \n",
       "3                                                       0.228432       \n",
       "4                                                       0.155211       \n",
       "\n",
       "               h1n1_concern  h1n1_knowledge  behavioral_antiviral_meds  \\\n",
       "respondent_id                                                            \n",
       "0                       1.0             0.0                        0.0   \n",
       "1                       3.0             2.0                        0.0   \n",
       "2                       1.0             1.0                        0.0   \n",
       "3                       1.0             1.0                        0.0   \n",
       "4                       2.0             1.0                        0.0   \n",
       "\n",
       "               behavioral_avoidance  behavioral_face_mask  \\\n",
       "respondent_id                                               \n",
       "0                               0.0                   0.0   \n",
       "1                               1.0                   0.0   \n",
       "2                               1.0                   0.0   \n",
       "3                               1.0                   0.0   \n",
       "4                               1.0                   0.0   \n",
       "\n",
       "               behavioral_wash_hands  behavioral_large_gatherings  \\\n",
       "respondent_id                                                       \n",
       "0                                0.0                          0.0   \n",
       "1                                1.0                          0.0   \n",
       "2                                0.0                          0.0   \n",
       "3                                1.0                          1.0   \n",
       "4                                1.0                          1.0   \n",
       "\n",
       "               behavioral_outside_home  ...  race  sex  income_poverty  \\\n",
       "respondent_id                           ...                              \n",
       "0                                  1.0  ...     0    0               0   \n",
       "1                                  1.0  ...     0    1               0   \n",
       "2                                  0.0  ...     0    1               1   \n",
       "3                                  0.0  ...     0    0               0   \n",
       "4                                  0.0  ...     0    0               1   \n",
       "\n",
       "               marital_status  rent_or_own  employment_status  hhs_geo_region  \\\n",
       "respondent_id                                                                   \n",
       "0                           0            0                  0               0   \n",
       "1                           0            1                  1               1   \n",
       "2                           0            0                  1               2   \n",
       "3                           0            1                  0               3   \n",
       "4                           1            0                  1               2   \n",
       "\n",
       "               census_msa  employment_industry  employment_occupation  \n",
       "respondent_id                                                          \n",
       "0                       0                    0                      0  \n",
       "1                       1                    1                      1  \n",
       "2                       1                    2                      2  \n",
       "3                       2                    0                      0  \n",
       "4                       1                    3                      3  \n",
       "\n",
       "[5 rows x 37 columns]"
      ]
     },
     "execution_count": 10,
     "metadata": {},
     "output_type": "execute_result"
    }
   ],
   "source": [
    "X = engineered_features.merge(dataset).set_index(\"respondent_id\")[engineered_colnames+original_colnames]\n",
    "y = dataset[label_colnames[0]]\n",
    "X.head()"
   ]
  },
  {
   "cell_type": "markdown",
   "id": "465bbfe5",
   "metadata": {},
   "source": [
    "### instantiate models: CatBoostClassifier,XGBClassifier,LGBMClassifier,VotingClassifier,StackingClassifier"
   ]
  },
  {
   "cell_type": "code",
   "execution_count": 45,
   "id": "26c88f27",
   "metadata": {},
   "outputs": [
    {
     "data": {
      "text/plain": [
       "<catboost.core.CatBoostClassifier at 0x1c9e7f15f40>"
      ]
     },
     "execution_count": 45,
     "metadata": {},
     "output_type": "execute_result"
    }
   ],
   "source": [
    "from catboost import CatBoostClassifier\n",
    "param = {\n",
    "    \"learning_rate\" : 0.01,\n",
    "    \"iterations\" :  3000,\n",
    "    'depth': 4, \n",
    "    'rsm': 0.2680717988907101, \n",
    "    'l2_leaf_reg': 5.087316180296697, \n",
    "    'auto_class_weights': 'Balanced',\n",
    "    \"loss_function\" : \"Logloss\",\n",
    "    \"verbose\":False,\n",
    "    \"task_type\" : \"CPU\",\n",
    "    \"eval_metric\":\"AUC\"\n",
    "}\n",
    "cb = CatBoostClassifier()\n",
    "cb.set_params(**param)"
   ]
  },
  {
   "cell_type": "code",
   "execution_count": 46,
   "id": "9bf31c00",
   "metadata": {},
   "outputs": [
    {
     "data": {
      "text/plain": [
       "XGBClassifier(base_score=None, booster=None, colsample_bylevel=None,\n",
       "              colsample_bynode=None, colsample_bytree=0.23, eval_metric='auc',\n",
       "              gamma=0, gpu_id=None, importance_type='gain',\n",
       "              interaction_constraints=None, learning_rate=0.012906144911477856,\n",
       "              max_delta_step=None, max_depth=5, min_child_weight=2, missing=nan,\n",
       "              monotone_constraints=None, n_estimators=1560, n_jobs=None,\n",
       "              num_parallel_tree=None, random_state=None, reg_alpha=5,\n",
       "              reg_lambda=0, scale_pos_weight=None, subsample=0.98,\n",
       "              tree_method=None, validate_parameters=None, verbosity=None)"
      ]
     },
     "execution_count": 46,
     "metadata": {},
     "output_type": "execute_result"
    }
   ],
   "source": [
    "from xgboost import XGBClassifier\n",
    "param = {\n",
    "    \"n_estimators\" : 1560,\n",
    "    'learning_rate': 0.012906144911477856,\n",
    "    'max_depth': 5,\n",
    "    'reg_alpha': 5,\n",
    "    'reg_lambda': 0,\n",
    "    'min_child_weight': 2,\n",
    "    'gamma': 0,\n",
    "    'colsample_bytree': 0.23,\n",
    "    'subsample': 0.98,\n",
    "    \"use_label_encoder\" :False\n",
    "    'eval_metric': 'auc'}\n",
    "xgb = XGBClassifier()\n",
    "xgb.set_params(**param)"
   ]
  },
  {
   "cell_type": "code",
   "execution_count": 48,
   "id": "b2067fd3",
   "metadata": {},
   "outputs": [
    {
     "data": {
      "text/plain": [
       "LGBMClassifier(colsample_bytree=0.8, learning_rate=0.05, max_depth=4,\n",
       "               metric='auc', n_estimators=1000, subsample=0.8)"
      ]
     },
     "execution_count": 48,
     "metadata": {},
     "output_type": "execute_result"
    }
   ],
   "source": [
    "from lightgbm import LGBMClassifier\n",
    "param = {\n",
    "\"learning_rate\":0.05 ,\n",
    "\"max_depth\" : 4,\n",
    "\"colsample_bytree\" :0.8,\n",
    "\"subsample\" :0.8,\n",
    "#'objective': 'binary',\n",
    "\"metric\" :'auc',\n",
    "\"n_estimators\" : 1000\n",
    "}\n",
    "lgb = LGBMClassifier().set_params(**param)\n",
    "lgb.set_params(**param)"
   ]
  },
  {
   "cell_type": "code",
   "execution_count": 49,
   "id": "44a33373",
   "metadata": {},
   "outputs": [],
   "source": [
    "from sklearn.ensemble import VotingClassifier\n",
    "vc = VotingClassifier(estimators = [(\"cb\",cb),(\"xgb\",xgb),(\"lgb\",lgb)],\n",
    "                      voting = \"soft\",            \n",
    "                      weights = None ,             # take equal weights\n",
    "                      n_jobs = -1)"
   ]
  },
  {
   "cell_type": "code",
   "execution_count": 50,
   "id": "06e31507",
   "metadata": {},
   "outputs": [],
   "source": [
    "from sklearn.ensemble import StackingClassifier\n",
    "from sklearn.linear_model import LogisticRegression\n",
    "final_estimator = LogisticRegression()\n",
    "sc = StackingClassifier(estimators = [(\"cb\",cb),(\"xgb\",xgb),(\"lgb\",lgb)],\n",
    "                        final_estimator = final_estimator,\n",
    "                        stack_method = \"predict_proba\" ,          # predict_proba is called on the base estimators as input for final estimator\n",
    "                        n_jobs = -1)"
   ]
  },
  {
   "cell_type": "markdown",
   "id": "490912aa",
   "metadata": {},
   "source": [
    "### benchmark - evaluate on original dataset"
   ]
  },
  {
   "cell_type": "code",
   "execution_count": 51,
   "id": "6008967a",
   "metadata": {},
   "outputs": [],
   "source": [
    "score_board = {}"
   ]
  },
  {
   "cell_type": "code",
   "execution_count": 59,
   "id": "89350a22",
   "metadata": {},
   "outputs": [],
   "source": [
    "from sklearn.model_selection import cross_val_score\n",
    "for model_name, model in [(\"cb\",cb),(\"xgb\",xgb),(\"lgb\",lgb),(\"vc\",vc),(\"sc\",sc)]:\n",
    "    score_board[model_name] = cross_val_score(model,X[original_colnames],y,cv= 3,n_jobs = -1,scoring = \"roc_auc\").mean()"
   ]
  },
  {
   "cell_type": "markdown",
   "id": "987ade41",
   "metadata": {},
   "source": [
    "### evaluate on original dataset+\n",
    "- plus \"hhs_geo_region.SKEW(Vaccine.household_children)\" "
   ]
  },
  {
   "cell_type": "code",
   "execution_count": 71,
   "id": "91c3451f",
   "metadata": {},
   "outputs": [],
   "source": [
    "from sklearn.model_selection import cross_val_score\n",
    "for model_name, model in [(\"cb\",cb),(\"xgb\",xgb),(\"lgb\",lgb),(\"vc\",vc),(\"sc\",sc)]:\n",
    "    score_board[f\"{model_name}+\"] = cross_val_score(model,X[original_colnames+[engineered_colnames[0]]],y,cv= 3,n_jobs = -1,scoring = \"roc_auc\").mean()"
   ]
  },
  {
   "cell_type": "markdown",
   "id": "a45e730c",
   "metadata": {},
   "source": [
    "### evaluate on original dataset ++  \n",
    "-  plus \"hhs_geo_region.SKEW(Vaccine.household_children)\", \"employment_industry.PERCENT_TRUE(Vaccine.rent_or_own)\""
   ]
  },
  {
   "cell_type": "code",
   "execution_count": 62,
   "id": "a6dab875",
   "metadata": {},
   "outputs": [],
   "source": [
    "from sklearn.model_selection import cross_val_score\n",
    "for model_name, model in [(\"cb\",cb),(\"xgb\",xgb),(\"lgb\",lgb),(\"vc\",vc),(\"sc\",sc)]:\n",
    "    score_board[f\"{model_name}++\"] = cross_val_score(model,X[original_colnames+engineered_colnames],y,cv= 3,n_jobs = -1,scoring = \"roc_auc\").mean()"
   ]
  },
  {
   "cell_type": "markdown",
   "id": "7d90310b",
   "metadata": {},
   "source": [
    "# Results"
   ]
  },
  {
   "cell_type": "code",
   "execution_count": 112,
   "id": "59e67c09",
   "metadata": {},
   "outputs": [
    {
     "data": {
      "text/plain": [
       "{'cb': 0.868522182594473,\n",
       " 'xgb': 0.8693224322276961,\n",
       " 'lgb': 0.8614527466623024,\n",
       " 'vc': 0.8688225758961922,\n",
       " 'sc': 0.8692986678606819,\n",
       " 'cb++': 0.8685257787592887,\n",
       " 'xgb++': 0.8689654021407115,\n",
       " 'lgb++': 0.8602772638958772,\n",
       " 'vc++': 0.8684850036646706,\n",
       " 'sc++': 0.8691684444784555,\n",
       " 'cb+': 0.868461638214467,\n",
       " 'xgb+': 0.8691336383256161,\n",
       " 'lgb+': 0.8610529075152561,\n",
       " 'vc+': 0.868704786787761,\n",
       " 'sc+': 0.8691878635903908}"
      ]
     },
     "execution_count": 112,
     "metadata": {},
     "output_type": "execute_result"
    }
   ],
   "source": [
    "score_board"
   ]
  },
  {
   "cell_type": "markdown",
   "id": "47686e17",
   "metadata": {},
   "source": [
    "### Result- adding the engineered featiure always worsened performance\n",
    "- hypothesis: \n",
    "    - when the features were selected using simple fit and predict without cross validation\n",
    "    - the marginal gains seen before only applied to that particular train test split"
   ]
  },
  {
   "cell_type": "code",
   "execution_count": 102,
   "id": "93160132",
   "metadata": {
    "scrolled": true
   },
   "outputs": [
    {
     "data": {
      "application/javascript": [
       "\n",
       "        if (window._pyforest_update_imports_cell) { window._pyforest_update_imports_cell('import seaborn as sns\\nimport matplotlib.pyplot as plt\\nimport pandas as pd'); }\n",
       "    "
      ],
      "text/plain": [
       "<IPython.core.display.Javascript object>"
      ]
     },
     "metadata": {},
     "output_type": "display_data"
    },
    {
     "data": {
      "application/javascript": [
       "\n",
       "        if (window._pyforest_update_imports_cell) { window._pyforest_update_imports_cell('import seaborn as sns\\nimport matplotlib.pyplot as plt\\nimport pandas as pd'); }\n",
       "    "
      ],
      "text/plain": [
       "<IPython.core.display.Javascript object>"
      ]
     },
     "metadata": {},
     "output_type": "display_data"
    },
    {
     "data": {
      "application/javascript": [
       "\n",
       "        if (window._pyforest_update_imports_cell) { window._pyforest_update_imports_cell('import seaborn as sns\\nimport matplotlib.pyplot as plt\\nimport pandas as pd'); }\n",
       "    "
      ],
      "text/plain": [
       "<IPython.core.display.Javascript object>"
      ]
     },
     "metadata": {},
     "output_type": "display_data"
    },
    {
     "data": {
      "application/javascript": [
       "\n",
       "        if (window._pyforest_update_imports_cell) { window._pyforest_update_imports_cell('import seaborn as sns\\nimport matplotlib.pyplot as plt\\nimport pandas as pd'); }\n",
       "    "
      ],
      "text/plain": [
       "<IPython.core.display.Javascript object>"
      ]
     },
     "metadata": {},
     "output_type": "display_data"
    },
    {
     "data": {
      "application/javascript": [
       "\n",
       "        if (window._pyforest_update_imports_cell) { window._pyforest_update_imports_cell('import seaborn as sns\\nimport matplotlib.pyplot as plt\\nimport pandas as pd'); }\n",
       "    "
      ],
      "text/plain": [
       "<IPython.core.display.Javascript object>"
      ]
     },
     "metadata": {},
     "output_type": "display_data"
    },
    {
     "data": {
      "application/javascript": [
       "\n",
       "        if (window._pyforest_update_imports_cell) { window._pyforest_update_imports_cell('import seaborn as sns\\nimport matplotlib.pyplot as plt\\nimport pandas as pd'); }\n",
       "    "
      ],
      "text/plain": [
       "<IPython.core.display.Javascript object>"
      ]
     },
     "metadata": {},
     "output_type": "display_data"
    },
    {
     "data": {
      "application/javascript": [
       "\n",
       "        if (window._pyforest_update_imports_cell) { window._pyforest_update_imports_cell('import seaborn as sns\\nimport matplotlib.pyplot as plt\\nimport pandas as pd'); }\n",
       "    "
      ],
      "text/plain": [
       "<IPython.core.display.Javascript object>"
      ]
     },
     "metadata": {},
     "output_type": "display_data"
    },
    {
     "data": {
      "application/javascript": [
       "\n",
       "        if (window._pyforest_update_imports_cell) { window._pyforest_update_imports_cell('import seaborn as sns\\nimport matplotlib.pyplot as plt\\nimport pandas as pd'); }\n",
       "    "
      ],
      "text/plain": [
       "<IPython.core.display.Javascript object>"
      ]
     },
     "metadata": {},
     "output_type": "display_data"
    },
    {
     "data": {
      "application/javascript": [
       "\n",
       "        if (window._pyforest_update_imports_cell) { window._pyforest_update_imports_cell('import seaborn as sns\\nimport matplotlib.pyplot as plt\\nimport pandas as pd'); }\n",
       "    "
      ],
      "text/plain": [
       "<IPython.core.display.Javascript object>"
      ]
     },
     "metadata": {},
     "output_type": "display_data"
    },
    {
     "data": {
      "application/javascript": [
       "\n",
       "        if (window._pyforest_update_imports_cell) { window._pyforest_update_imports_cell('import seaborn as sns\\nimport matplotlib.pyplot as plt\\nimport pandas as pd'); }\n",
       "    "
      ],
      "text/plain": [
       "<IPython.core.display.Javascript object>"
      ]
     },
     "metadata": {},
     "output_type": "display_data"
    },
    {
     "data": {
      "application/javascript": [
       "\n",
       "        if (window._pyforest_update_imports_cell) { window._pyforest_update_imports_cell('import seaborn as sns\\nimport matplotlib.pyplot as plt\\nimport pandas as pd'); }\n",
       "    "
      ],
      "text/plain": [
       "<IPython.core.display.Javascript object>"
      ]
     },
     "metadata": {},
     "output_type": "display_data"
    },
    {
     "data": {
      "image/png": "[encoded data removed]",
      "text/plain": [
       "<Figure size 360x1800 with 5 Axes>"
      ]
     },
     "metadata": {
      "needs_background": "light"
     },
     "output_type": "display_data"
    }
   ],
   "source": [
    "f, axes = plt.subplots(5, 1,figsize = (5,25))\n",
    "for i,model_name in enumerate([\"cb\",\"xgb\",\"lgb\",\"vc\",\"sc\"]):\n",
    "    temp = {k:score for k,score in score_board.items() if model_name in k}\n",
    "    sns.barplot(data = pd.DataFrame(temp,index= [\"CV\"]),palette = \"Dark2\",ax = axes[i]).set(ylim = (min(temp.values())-0.0001,max(temp.values())+0.0001))"
   ]
  },
  {
   "cell_type": "code",
   "execution_count": 111,
   "id": "e570422e",
   "metadata": {},
   "outputs": [
    {
     "data": {
      "application/javascript": [
       "\n",
       "        if (window._pyforest_update_imports_cell) { window._pyforest_update_imports_cell('import seaborn as sns\\nimport matplotlib.pyplot as plt\\nimport pandas as pd'); }\n",
       "    "
      ],
      "text/plain": [
       "<IPython.core.display.Javascript object>"
      ]
     },
     "metadata": {},
     "output_type": "display_data"
    },
    {
     "data": {
      "text/plain": [
       "<AxesSubplot:>"
      ]
     },
     "execution_count": 111,
     "metadata": {},
     "output_type": "execute_result"
    },
    {
     "data": {
      "image/png": "[encoded data removed]",
      "text/plain": [
       "<Figure size 432x288 with 1 Axes>"
      ]
     },
     "metadata": {
      "needs_background": "light"
     },
     "output_type": "display_data"
    }
   ],
   "source": [
    "pd.Series(score_board).sort_values(ascending = False).plot(kind='bar',ylim = (min(score_board.values())-0.0001,max(score_board.values())+0.0001))"
   ]
  },
  {
   "cell_type": "code",
   "execution_count": null,
   "id": "f81b822a",
   "metadata": {},
   "outputs": [],
   "source": []
  }
 ],
 "metadata": {
  "kernelspec": {
   "display_name": "Python 3",
   "language": "python",
   "name": "python3"
  },
  "language_info": {
   "codemirror_mode": {
    "name": "ipython",
    "version": 3
   },
   "file_extension": ".py",
   "mimetype": "text/x-python",
   "name": "python",
   "nbconvert_exporter": "python",
   "pygments_lexer": "ipython3",
   "version": "3.8.3"
  }
 },
 "nbformat": 4,
 "nbformat_minor": 5
}
