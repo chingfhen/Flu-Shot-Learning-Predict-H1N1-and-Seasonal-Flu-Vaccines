{
 "cells": [
  {
   "cell_type": "markdown",
   "id": "6941c916",
   "metadata": {},
   "source": [
    "# About:\n",
    "- this notebook:\n",
    "    - make predictions on test set using the models fine tuned on best params"
   ]
  },
  {
   "cell_type": "code",
   "execution_count": 18,
   "id": "ff59b915",
   "metadata": {},
   "outputs": [
    {
     "data": {
      "application/javascript": [
       "\n",
       "        if (window._pyforest_update_imports_cell) { window._pyforest_update_imports_cell('import pandas as pd'); }\n",
       "    "
      ],
      "text/plain": [
       "<IPython.core.display.Javascript object>"
      ]
     },
     "metadata": {},
     "output_type": "display_data"
    }
   ],
   "source": [
    "X_test = pd.read_csv(r\"C:\\Users\\tanch\\Documents\\Coding Competitions\\DataDriven\\Flu Shot Learning\\local\\data\\cleaned_test_set.csv\",index_col = \"respondent_id\")"
   ]
  },
  {
   "cell_type": "markdown",
   "id": "f4ef0e09",
   "metadata": {},
   "source": [
    "### load lightgbm, predict_proba, export"
   ]
  },
  {
   "cell_type": "code",
   "execution_count": 28,
   "id": "9fc5d29b",
   "metadata": {},
   "outputs": [],
   "source": [
    "import joblib\n",
    "h1n1_model = joblib.load(r\"C:\\Users\\tanch\\Documents\\Coding Competitions\\DataDriven\\Flu Shot Learning\\local\\model\\lightgbm h1n1_vaccine 0.pkl\")\n",
    "seasonal_model = joblib.load(r\"C:\\Users\\tanch\\Documents\\Coding Competitions\\DataDriven\\Flu Shot Learning\\local\\model\\lightgbm seasonsal_vaccine 0.pkl\")"
   ]
  },
  {
   "cell_type": "code",
   "execution_count": 29,
   "id": "20b898fa",
   "metadata": {},
   "outputs": [],
   "source": [
    "h1n1_proba = h1n1_model.predict_proba(X_test)[:,1]\n",
    "seasonal_proba = seasonal_model.predict_proba(X_test)[:,1]"
   ]
  },
  {
   "cell_type": "code",
   "execution_count": 30,
   "id": "62f7e8d1",
   "metadata": {
    "scrolled": true
   },
   "outputs": [
    {
     "data": {
      "application/javascript": [
       "\n",
       "        if (window._pyforest_update_imports_cell) { window._pyforest_update_imports_cell('import pandas as pd'); }\n",
       "    "
      ],
      "text/plain": [
       "<IPython.core.display.Javascript object>"
      ]
     },
     "metadata": {},
     "output_type": "display_data"
    }
   ],
   "source": [
    "output = pd.DataFrame({\"respondent_id\":X_test.index, \n",
    "                       \"h1n1_vaccine\": h1n1_proba,\n",
    "                       \"seasonal_vaccine\":seasonal_proba\n",
    "                      })\n",
    "output.set_index(\"respondent_id\").to_csv(r\"C:\\Users\\tanch\\Documents\\Coding Competitions\\DataDriven\\Flu Shot Learning\\local\\predictions\\lightgbm final.csv\")"
   ]
  },
  {
   "cell_type": "markdown",
   "id": "289af525",
   "metadata": {},
   "source": [
    "### load xgboost, predict_proba, export"
   ]
  },
  {
   "cell_type": "code",
   "execution_count": 32,
   "id": "14f26348",
   "metadata": {},
   "outputs": [],
   "source": [
    "import joblib\n",
    "h1n1_model = joblib.load(r\"C:\\Users\\tanch\\Documents\\Coding Competitions\\DataDriven\\Flu Shot Learning\\local\\model\\xgbboost h1n1_vaccine 0.pkl\")\n",
    "seasonal_model = joblib.load(r\"C:\\Users\\tanch\\Documents\\Coding Competitions\\DataDriven\\Flu Shot Learning\\local\\model\\xgbboost seasonal_vaccine 0.pkl\")"
   ]
  },
  {
   "cell_type": "code",
   "execution_count": 33,
   "id": "d811873d",
   "metadata": {},
   "outputs": [],
   "source": [
    "h1n1_proba = h1n1_model.predict_proba(X_test)[:,1]\n",
    "seasonal_proba = seasonal_model.predict_proba(X_test)[:,1]"
   ]
  },
  {
   "cell_type": "code",
   "execution_count": 34,
   "id": "220e1236",
   "metadata": {},
   "outputs": [
    {
     "data": {
      "application/javascript": [
       "\n",
       "        if (window._pyforest_update_imports_cell) { window._pyforest_update_imports_cell('import pandas as pd'); }\n",
       "    "
      ],
      "text/plain": [
       "<IPython.core.display.Javascript object>"
      ]
     },
     "metadata": {},
     "output_type": "display_data"
    }
   ],
   "source": [
    "output = pd.DataFrame({\"respondent_id\":X_test.index, \n",
    "                       \"h1n1_vaccine\": h1n1_proba,\n",
    "                       \"seasonal_vaccine\":seasonal_proba\n",
    "                      })\n",
    "output.set_index(\"respondent_id\").to_csv(r\"C:\\Users\\tanch\\Documents\\Coding Competitions\\DataDriven\\Flu Shot Learning\\local\\predictions\\xgboost final.csv\")"
   ]
  },
  {
   "cell_type": "markdown",
   "id": "df160dfc",
   "metadata": {},
   "source": [
    "### load StackingClassifier, predict_proba, export"
   ]
  },
  {
   "cell_type": "code",
   "execution_count": 35,
   "id": "732247d1",
   "metadata": {},
   "outputs": [],
   "source": [
    "import joblib\n",
    "h1n1_model = joblib.load(r\"C:\\Users\\tanch\\Documents\\Coding Competitions\\DataDriven\\Flu Shot Learning\\local\\model\\stacked h1n1_vaccine 0.pkl\")\n",
    "seasonal_model = joblib.load(r\"C:\\Users\\tanch\\Documents\\Coding Competitions\\DataDriven\\Flu Shot Learning\\local\\model\\stacked seasonal_vaccine 0.pkl\")"
   ]
  },
  {
   "cell_type": "code",
   "execution_count": 36,
   "id": "3f5ae327",
   "metadata": {},
   "outputs": [],
   "source": [
    "h1n1_proba = h1n1_model.predict_proba(X_test)[:,1]\n",
    "seasonal_proba = seasonal_model.predict_proba(X_test)[:,1]"
   ]
  },
  {
   "cell_type": "code",
   "execution_count": 37,
   "id": "abe43055",
   "metadata": {},
   "outputs": [
    {
     "data": {
      "application/javascript": [
       "\n",
       "        if (window._pyforest_update_imports_cell) { window._pyforest_update_imports_cell('import pandas as pd'); }\n",
       "    "
      ],
      "text/plain": [
       "<IPython.core.display.Javascript object>"
      ]
     },
     "metadata": {},
     "output_type": "display_data"
    }
   ],
   "source": [
    "output = pd.DataFrame({\"respondent_id\":X_test.index, \n",
    "                       \"h1n1_vaccine\": h1n1_proba,\n",
    "                       \"seasonal_vaccine\":seasonal_proba\n",
    "                      })\n",
    "output.set_index(\"respondent_id\").to_csv(r\"C:\\Users\\tanch\\Documents\\Coding Competitions\\DataDriven\\Flu Shot Learning\\local\\predictions\\stacked final.csv\")"
   ]
  }
 ],
 "metadata": {
  "kernelspec": {
   "display_name": "Python 3",
   "language": "python",
   "name": "python3"
  },
  "language_info": {
   "codemirror_mode": {
    "name": "ipython",
    "version": 3
   },
   "file_extension": ".py",
   "mimetype": "text/x-python",
   "name": "python",
   "nbconvert_exporter": "python",
   "pygments_lexer": "ipython3",
   "version": "3.8.3"
  }
 },
 "nbformat": 4,
 "nbformat_minor": 5
}
