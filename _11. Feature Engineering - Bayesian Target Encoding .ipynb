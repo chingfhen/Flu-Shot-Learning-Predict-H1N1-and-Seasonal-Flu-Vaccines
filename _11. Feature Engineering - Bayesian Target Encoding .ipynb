{
 "cells": [
  {
   "cell_type": "markdown",
   "id": "abb108b8",
   "metadata": {},
   "source": [
    "# About:\n",
    "- this notebook:\n",
    "    - try to find out how Bayesian target encoding and TargetEncoder affects performance as we increase their regularization parameters\n",
    "- insights:\n",
    "    - **target encoding does not yield satifactory gains**\n",
    "    - it could be that proper steps need to be taken to that encodings do not overfit.\n",
    "    - future studies can investigate how to make TargetEncoder, WOEEncoding etc. work"
   ]
  },
  {
   "cell_type": "markdown",
   "id": "6dd50a5d",
   "metadata": {},
   "source": [
    "### import data"
   ]
  },
  {
   "cell_type": "code",
   "execution_count": 1,
   "id": "d047d51b",
   "metadata": {},
   "outputs": [
    {
     "data": {
      "application/javascript": [
       "\n",
       "        if (window._pyforest_update_imports_cell) { window._pyforest_update_imports_cell('import pandas as pd'); }\n",
       "    "
      ],
      "text/plain": [
       "<IPython.core.display.Javascript object>"
      ]
     },
     "metadata": {},
     "output_type": "display_data"
    },
    {
     "data": {
      "application/javascript": [
       "\n",
       "        if (window._pyforest_update_imports_cell) { window._pyforest_update_imports_cell('import pandas as pd'); }\n",
       "    "
      ],
      "text/plain": [
       "<IPython.core.display.Javascript object>"
      ]
     },
     "metadata": {},
     "output_type": "display_data"
    }
   ],
   "source": [
    "dataset = pd.read_csv(r\"C:\\Users\\tanch\\Documents\\Coding Competitions\\DataDriven\\Flu Shot Learning\\local\\data\\cleaned_train_set.csv\",index_col = \"respondent_id\") \n",
    "train_features = pd.read_csv(r\"C:\\Users\\tanch\\Documents\\Coding Competitions\\DataDriven\\Flu Shot Learning\\local\\data\\training_set_features.csv\",index_col = \"respondent_id\")\n",
    "cat_features = list(train_features.select_dtypes(\"object\").columns )\n",
    "X = dataset[cat_features]\n",
    "y = dataset.h1n1_vaccine"
   ]
  },
  {
   "cell_type": "code",
   "execution_count": 2,
   "id": "6f9ed4a2",
   "metadata": {},
   "outputs": [
    {
     "data": {
      "text/html": [
       "<div>\n",
       "<style scoped>\n",
       "    .dataframe tbody tr th:only-of-type {\n",
       "        vertical-align: middle;\n",
       "    }\n",
       "\n",
       "    .dataframe tbody tr th {\n",
       "        vertical-align: top;\n",
       "    }\n",
       "\n",
       "    .dataframe thead th {\n",
       "        text-align: right;\n",
       "    }\n",
       "</style>\n",
       "<table border=\"1\" class=\"dataframe\">\n",
       "  <thead>\n",
       "    <tr style=\"text-align: right;\">\n",
       "      <th></th>\n",
       "      <th>age_group</th>\n",
       "      <th>education</th>\n",
       "      <th>race</th>\n",
       "      <th>sex</th>\n",
       "      <th>income_poverty</th>\n",
       "      <th>marital_status</th>\n",
       "      <th>rent_or_own</th>\n",
       "      <th>employment_status</th>\n",
       "      <th>hhs_geo_region</th>\n",
       "      <th>census_msa</th>\n",
       "      <th>employment_industry</th>\n",
       "      <th>employment_occupation</th>\n",
       "    </tr>\n",
       "    <tr>\n",
       "      <th>respondent_id</th>\n",
       "      <th></th>\n",
       "      <th></th>\n",
       "      <th></th>\n",
       "      <th></th>\n",
       "      <th></th>\n",
       "      <th></th>\n",
       "      <th></th>\n",
       "      <th></th>\n",
       "      <th></th>\n",
       "      <th></th>\n",
       "      <th></th>\n",
       "      <th></th>\n",
       "    </tr>\n",
       "  </thead>\n",
       "  <tbody>\n",
       "    <tr>\n",
       "      <th>0</th>\n",
       "      <td>0</td>\n",
       "      <td>0</td>\n",
       "      <td>0</td>\n",
       "      <td>0</td>\n",
       "      <td>0</td>\n",
       "      <td>0</td>\n",
       "      <td>0</td>\n",
       "      <td>0</td>\n",
       "      <td>0</td>\n",
       "      <td>0</td>\n",
       "      <td>0</td>\n",
       "      <td>0</td>\n",
       "    </tr>\n",
       "    <tr>\n",
       "      <th>1</th>\n",
       "      <td>1</td>\n",
       "      <td>1</td>\n",
       "      <td>0</td>\n",
       "      <td>1</td>\n",
       "      <td>0</td>\n",
       "      <td>0</td>\n",
       "      <td>1</td>\n",
       "      <td>1</td>\n",
       "      <td>1</td>\n",
       "      <td>1</td>\n",
       "      <td>1</td>\n",
       "      <td>1</td>\n",
       "    </tr>\n",
       "    <tr>\n",
       "      <th>2</th>\n",
       "      <td>2</td>\n",
       "      <td>2</td>\n",
       "      <td>0</td>\n",
       "      <td>1</td>\n",
       "      <td>1</td>\n",
       "      <td>0</td>\n",
       "      <td>0</td>\n",
       "      <td>1</td>\n",
       "      <td>2</td>\n",
       "      <td>1</td>\n",
       "      <td>2</td>\n",
       "      <td>2</td>\n",
       "    </tr>\n",
       "    <tr>\n",
       "      <th>3</th>\n",
       "      <td>3</td>\n",
       "      <td>1</td>\n",
       "      <td>0</td>\n",
       "      <td>0</td>\n",
       "      <td>0</td>\n",
       "      <td>0</td>\n",
       "      <td>1</td>\n",
       "      <td>0</td>\n",
       "      <td>3</td>\n",
       "      <td>2</td>\n",
       "      <td>0</td>\n",
       "      <td>0</td>\n",
       "    </tr>\n",
       "    <tr>\n",
       "      <th>4</th>\n",
       "      <td>4</td>\n",
       "      <td>3</td>\n",
       "      <td>0</td>\n",
       "      <td>0</td>\n",
       "      <td>1</td>\n",
       "      <td>1</td>\n",
       "      <td>0</td>\n",
       "      <td>1</td>\n",
       "      <td>2</td>\n",
       "      <td>1</td>\n",
       "      <td>3</td>\n",
       "      <td>3</td>\n",
       "    </tr>\n",
       "  </tbody>\n",
       "</table>\n",
       "</div>"
      ],
      "text/plain": [
       "               age_group  education  race  sex  income_poverty  \\\n",
       "respondent_id                                                    \n",
       "0                      0          0     0    0               0   \n",
       "1                      1          1     0    1               0   \n",
       "2                      2          2     0    1               1   \n",
       "3                      3          1     0    0               0   \n",
       "4                      4          3     0    0               1   \n",
       "\n",
       "               marital_status  rent_or_own  employment_status  hhs_geo_region  \\\n",
       "respondent_id                                                                   \n",
       "0                           0            0                  0               0   \n",
       "1                           0            1                  1               1   \n",
       "2                           0            0                  1               2   \n",
       "3                           0            1                  0               3   \n",
       "4                           1            0                  1               2   \n",
       "\n",
       "               census_msa  employment_industry  employment_occupation  \n",
       "respondent_id                                                          \n",
       "0                       0                    0                      0  \n",
       "1                       1                    1                      1  \n",
       "2                       1                    2                      2  \n",
       "3                       2                    0                      0  \n",
       "4                       1                    3                      3  "
      ]
     },
     "execution_count": 2,
     "metadata": {},
     "output_type": "execute_result"
    }
   ],
   "source": [
    "X.head()"
   ]
  },
  {
   "cell_type": "markdown",
   "id": "93f7e924",
   "metadata": {},
   "source": [
    "### create hold out set \n",
    "- without stratify "
   ]
  },
  {
   "cell_type": "code",
   "execution_count": 24,
   "id": "f77b1820",
   "metadata": {},
   "outputs": [],
   "source": [
    "from sklearn.model_selection import train_test_split\n",
    "X_train, X_test, y_train, y_test =  train_test_split(X, y, test_size = 0.5,stratify = None)"
   ]
  },
  {
   "cell_type": "markdown",
   "id": "3d31952e",
   "metadata": {},
   "source": [
    "# Bayesian Target Encoding\n",
    "- expresses the population mean to some degree in the target encoding - controlled by parameter \"m\""
   ]
  },
  {
   "cell_type": "code",
   "execution_count": 5,
   "id": "80528caa",
   "metadata": {},
   "outputs": [],
   "source": [
    "def bayesian_target_encode(X_train, y_train, X_test, cols = [], m = 0):\n",
    "    dataset = pd.concat([X_train,y_train],axis=1)                                        # merge X and y - used for aggregation processes\n",
    "    target_name = dataset.columns[-1]                                                    # we need target name\n",
    "    population_mean = y_train.mean()                                                     # population mean of target \n",
    "    for col in cols:\n",
    "        agg = dataset.groupby(col)[target_name].agg(['count', 'mean'])\n",
    "        counts, means = agg['count'],agg['mean']\n",
    "        encodings = (counts * means + m * population_mean) / (counts + m)                # compute encodings for the particular feature\n",
    "        X_train[col],X_test[col] = X_train[col].map(encodings),X_test[col].map(encodings)   # map to train and test\n",
    "    return X_train,X_test"
   ]
  },
  {
   "cell_type": "code",
   "execution_count": 36,
   "id": "7267d4b2",
   "metadata": {},
   "outputs": [
    {
     "data": {
      "application/javascript": [
       "\n",
       "        if (window._pyforest_update_imports_cell) { window._pyforest_update_imports_cell('import pandas as pd'); }\n",
       "    "
      ],
      "text/plain": [
       "<IPython.core.display.Javascript object>"
      ]
     },
     "metadata": {},
     "output_type": "display_data"
    },
    {
     "name": "stderr",
     "output_type": "stream",
     "text": [
      "<ipython-input-5-51b1ba003cae>:9: SettingWithCopyWarning: \n",
      "A value is trying to be set on a copy of a slice from a DataFrame.\n",
      "Try using .loc[row_indexer,col_indexer] = value instead\n",
      "\n",
      "See the caveats in the documentation: https://pandas.pydata.org/pandas-docs/stable/user_guide/indexing.html#returning-a-view-versus-a-copy\n",
      "  X_train[col],X_test[col] = X_train[col].map(encodings),X_test[col].map(encodings)   # map to train and test\n"
     ]
    }
   ],
   "source": [
    "encoded_X_train, encoded_X_test = bayesian_target_encode(X_train, y_train, X_test, cols = X_train.columns, m = 300)"
   ]
  },
  {
   "cell_type": "code",
   "execution_count": 37,
   "id": "516fc17b",
   "metadata": {},
   "outputs": [
    {
     "data": {
      "text/html": [
       "<div>\n",
       "<style scoped>\n",
       "    .dataframe tbody tr th:only-of-type {\n",
       "        vertical-align: middle;\n",
       "    }\n",
       "\n",
       "    .dataframe tbody tr th {\n",
       "        vertical-align: top;\n",
       "    }\n",
       "\n",
       "    .dataframe thead th {\n",
       "        text-align: right;\n",
       "    }\n",
       "</style>\n",
       "<table border=\"1\" class=\"dataframe\">\n",
       "  <thead>\n",
       "    <tr style=\"text-align: right;\">\n",
       "      <th></th>\n",
       "      <th>age_group</th>\n",
       "      <th>education</th>\n",
       "      <th>race</th>\n",
       "      <th>sex</th>\n",
       "      <th>income_poverty</th>\n",
       "      <th>marital_status</th>\n",
       "      <th>rent_or_own</th>\n",
       "      <th>employment_status</th>\n",
       "      <th>hhs_geo_region</th>\n",
       "      <th>census_msa</th>\n",
       "      <th>employment_industry</th>\n",
       "      <th>employment_occupation</th>\n",
       "    </tr>\n",
       "    <tr>\n",
       "      <th>respondent_id</th>\n",
       "      <th></th>\n",
       "      <th></th>\n",
       "      <th></th>\n",
       "      <th></th>\n",
       "      <th></th>\n",
       "      <th></th>\n",
       "      <th></th>\n",
       "      <th></th>\n",
       "      <th></th>\n",
       "      <th></th>\n",
       "      <th></th>\n",
       "      <th></th>\n",
       "    </tr>\n",
       "  </thead>\n",
       "  <tbody>\n",
       "    <tr>\n",
       "      <th>20065</th>\n",
       "      <td>0.196906</td>\n",
       "      <td>0.236833</td>\n",
       "      <td>0.218457</td>\n",
       "      <td>0.218050</td>\n",
       "      <td>0.198408</td>\n",
       "      <td>0.228771</td>\n",
       "      <td>0.219017</td>\n",
       "      <td>0.213202</td>\n",
       "      <td>0.225525</td>\n",
       "      <td>0.217297</td>\n",
       "      <td>0.205893</td>\n",
       "      <td>0.207027</td>\n",
       "    </tr>\n",
       "    <tr>\n",
       "      <th>10984</th>\n",
       "      <td>0.222235</td>\n",
       "      <td>0.236833</td>\n",
       "      <td>0.218457</td>\n",
       "      <td>0.203294</td>\n",
       "      <td>0.253302</td>\n",
       "      <td>0.228771</td>\n",
       "      <td>0.219017</td>\n",
       "      <td>0.216447</td>\n",
       "      <td>0.173946</td>\n",
       "      <td>0.217297</td>\n",
       "      <td>0.205893</td>\n",
       "      <td>0.207027</td>\n",
       "    </tr>\n",
       "    <tr>\n",
       "      <th>26159</th>\n",
       "      <td>0.196906</td>\n",
       "      <td>0.236833</td>\n",
       "      <td>0.218457</td>\n",
       "      <td>0.203294</td>\n",
       "      <td>0.253302</td>\n",
       "      <td>0.191110</td>\n",
       "      <td>0.219017</td>\n",
       "      <td>0.213202</td>\n",
       "      <td>0.201909</td>\n",
       "      <td>0.208377</td>\n",
       "      <td>0.227584</td>\n",
       "      <td>0.206350</td>\n",
       "    </tr>\n",
       "    <tr>\n",
       "      <th>23929</th>\n",
       "      <td>0.197471</td>\n",
       "      <td>0.209314</td>\n",
       "      <td>0.202486</td>\n",
       "      <td>0.203294</td>\n",
       "      <td>0.253302</td>\n",
       "      <td>0.228771</td>\n",
       "      <td>0.219017</td>\n",
       "      <td>0.213202</td>\n",
       "      <td>0.189488</td>\n",
       "      <td>0.207860</td>\n",
       "      <td>0.172687</td>\n",
       "      <td>0.201001</td>\n",
       "    </tr>\n",
       "    <tr>\n",
       "      <th>24104</th>\n",
       "      <td>0.197514</td>\n",
       "      <td>0.185108</td>\n",
       "      <td>0.218457</td>\n",
       "      <td>0.203294</td>\n",
       "      <td>0.198408</td>\n",
       "      <td>0.228771</td>\n",
       "      <td>0.219017</td>\n",
       "      <td>0.216447</td>\n",
       "      <td>0.189488</td>\n",
       "      <td>0.217297</td>\n",
       "      <td>0.205893</td>\n",
       "      <td>0.207027</td>\n",
       "    </tr>\n",
       "  </tbody>\n",
       "</table>\n",
       "</div>"
      ],
      "text/plain": [
       "               age_group  education      race       sex  income_poverty  \\\n",
       "respondent_id                                                             \n",
       "20065           0.196906   0.236833  0.218457  0.218050        0.198408   \n",
       "10984           0.222235   0.236833  0.218457  0.203294        0.253302   \n",
       "26159           0.196906   0.236833  0.218457  0.203294        0.253302   \n",
       "23929           0.197471   0.209314  0.202486  0.203294        0.253302   \n",
       "24104           0.197514   0.185108  0.218457  0.203294        0.198408   \n",
       "\n",
       "               marital_status  rent_or_own  employment_status  hhs_geo_region  \\\n",
       "respondent_id                                                                   \n",
       "20065                0.228771     0.219017           0.213202        0.225525   \n",
       "10984                0.228771     0.219017           0.216447        0.173946   \n",
       "26159                0.191110     0.219017           0.213202        0.201909   \n",
       "23929                0.228771     0.219017           0.213202        0.189488   \n",
       "24104                0.228771     0.219017           0.216447        0.189488   \n",
       "\n",
       "               census_msa  employment_industry  employment_occupation  \n",
       "respondent_id                                                          \n",
       "20065            0.217297             0.205893               0.207027  \n",
       "10984            0.217297             0.205893               0.207027  \n",
       "26159            0.208377             0.227584               0.206350  \n",
       "23929            0.207860             0.172687               0.201001  \n",
       "24104            0.217297             0.205893               0.207027  "
      ]
     },
     "execution_count": 37,
     "metadata": {},
     "output_type": "execute_result"
    }
   ],
   "source": [
    "encoded_X_train.head()"
   ]
  },
  {
   "cell_type": "markdown",
   "id": "a8824165",
   "metadata": {},
   "source": [
    "### evaluate on label encoding - benchmark"
   ]
  },
  {
   "cell_type": "code",
   "execution_count": 40,
   "id": "47b76a7f",
   "metadata": {},
   "outputs": [],
   "source": [
    "from sklearn.experimental import enable_hist_gradient_boosting  \n",
    "from sklearn.ensemble import HistGradientBoostingClassifier,GradientBoostingClassifier, AdaBoostClassifier\n",
    "param = {\"n_estimators\":100, \n",
    "         \"random_state\":0}\n",
    "ensemble_models = {\n",
    "    'HistGradientBoostingClassifier': HistGradientBoostingClassifier(),\n",
    "    'AdaBoostClassifier': AdaBoostClassifier(),\n",
    "    'GradientBoostingClassifier': GradientBoostingClassifier()}\n",
    "ensemble_models  = {k:(v.set_params(**param) if k!=\"HistGradientBoostingClassifier\" else v) for k,v in ensemble_models.items() }"
   ]
  },
  {
   "cell_type": "code",
   "execution_count": 50,
   "id": "d5c9c9e9",
   "metadata": {},
   "outputs": [],
   "source": [
    "from collections import defaultdict\n",
    "score_board = defaultdict(list)"
   ]
  },
  {
   "cell_type": "code",
   "execution_count": 51,
   "id": "08f782ed",
   "metadata": {},
   "outputs": [],
   "source": [
    "from sklearn.model_selection import cross_val_score\n",
    "from sklearn.metrics import roc_auc_score\n",
    "for model_name, model in ensemble_models.items():\n",
    "#     score = cross_val_score(model,X_train,y_train,scoring = \"roc_auc\",cv=3).mean()\n",
    "#     score_board[model_name].append(score)\n",
    "    model.fit(X_train,y_train)\n",
    "    y_pred = model.predict_proba(X_test)[:,1]\n",
    "    score_board[model_name].append(roc_auc_score(y_test,y_pred))"
   ]
  },
  {
   "cell_type": "code",
   "execution_count": 52,
   "id": "a92d0aef",
   "metadata": {},
   "outputs": [
    {
     "data": {
      "application/javascript": [
       "\n",
       "        if (window._pyforest_update_imports_cell) { window._pyforest_update_imports_cell('import pandas as pd'); }\n",
       "    "
      ],
      "text/plain": [
       "<IPython.core.display.Javascript object>"
      ]
     },
     "metadata": {},
     "output_type": "display_data"
    },
    {
     "data": {
      "text/html": [
       "<div>\n",
       "<style scoped>\n",
       "    .dataframe tbody tr th:only-of-type {\n",
       "        vertical-align: middle;\n",
       "    }\n",
       "\n",
       "    .dataframe tbody tr th {\n",
       "        vertical-align: top;\n",
       "    }\n",
       "\n",
       "    .dataframe thead th {\n",
       "        text-align: right;\n",
       "    }\n",
       "</style>\n",
       "<table border=\"1\" class=\"dataframe\">\n",
       "  <thead>\n",
       "    <tr style=\"text-align: right;\">\n",
       "      <th></th>\n",
       "      <th>HistGradientBoostingClassifier</th>\n",
       "      <th>AdaBoostClassifier</th>\n",
       "      <th>GradientBoostingClassifier</th>\n",
       "    </tr>\n",
       "  </thead>\n",
       "  <tbody>\n",
       "    <tr>\n",
       "      <th>label encode</th>\n",
       "      <td>0.62534</td>\n",
       "      <td>0.627034</td>\n",
       "      <td>0.630071</td>\n",
       "    </tr>\n",
       "  </tbody>\n",
       "</table>\n",
       "</div>"
      ],
      "text/plain": [
       "              HistGradientBoostingClassifier  AdaBoostClassifier  \\\n",
       "label encode                         0.62534            0.627034   \n",
       "\n",
       "              GradientBoostingClassifier  \n",
       "label encode                    0.630071  "
      ]
     },
     "execution_count": 52,
     "metadata": {},
     "output_type": "execute_result"
    }
   ],
   "source": [
    "index = [\"label encode\"]\n",
    "pd.DataFrame(score_board,index = index)"
   ]
  },
  {
   "cell_type": "markdown",
   "id": "d5a45a60",
   "metadata": {},
   "source": [
    "### evaluate bayesian target encoding over varied m"
   ]
  },
  {
   "cell_type": "code",
   "execution_count": 53,
   "id": "b25a89d6",
   "metadata": {
    "scrolled": true
   },
   "outputs": [
    {
     "data": {
      "application/javascript": [
       "\n",
       "        if (window._pyforest_update_imports_cell) { window._pyforest_update_imports_cell('import pandas as pd'); }\n",
       "    "
      ],
      "text/plain": [
       "<IPython.core.display.Javascript object>"
      ]
     },
     "metadata": {},
     "output_type": "display_data"
    },
    {
     "name": "stderr",
     "output_type": "stream",
     "text": [
      "<ipython-input-5-51b1ba003cae>:9: SettingWithCopyWarning: \n",
      "A value is trying to be set on a copy of a slice from a DataFrame.\n",
      "Try using .loc[row_indexer,col_indexer] = value instead\n",
      "\n",
      "See the caveats in the documentation: https://pandas.pydata.org/pandas-docs/stable/user_guide/indexing.html#returning-a-view-versus-a-copy\n",
      "  X_train[col],X_test[col] = X_train[col].map(encodings),X_test[col].map(encodings)   # map to train and test\n"
     ]
    },
    {
     "data": {
      "application/javascript": [
       "\n",
       "        if (window._pyforest_update_imports_cell) { window._pyforest_update_imports_cell('import pandas as pd'); }\n",
       "    "
      ],
      "text/plain": [
       "<IPython.core.display.Javascript object>"
      ]
     },
     "metadata": {},
     "output_type": "display_data"
    },
    {
     "name": "stderr",
     "output_type": "stream",
     "text": [
      "<ipython-input-5-51b1ba003cae>:9: SettingWithCopyWarning: \n",
      "A value is trying to be set on a copy of a slice from a DataFrame.\n",
      "Try using .loc[row_indexer,col_indexer] = value instead\n",
      "\n",
      "See the caveats in the documentation: https://pandas.pydata.org/pandas-docs/stable/user_guide/indexing.html#returning-a-view-versus-a-copy\n",
      "  X_train[col],X_test[col] = X_train[col].map(encodings),X_test[col].map(encodings)   # map to train and test\n"
     ]
    },
    {
     "data": {
      "application/javascript": [
       "\n",
       "        if (window._pyforest_update_imports_cell) { window._pyforest_update_imports_cell('import pandas as pd'); }\n",
       "    "
      ],
      "text/plain": [
       "<IPython.core.display.Javascript object>"
      ]
     },
     "metadata": {},
     "output_type": "display_data"
    },
    {
     "name": "stderr",
     "output_type": "stream",
     "text": [
      "<ipython-input-5-51b1ba003cae>:9: SettingWithCopyWarning: \n",
      "A value is trying to be set on a copy of a slice from a DataFrame.\n",
      "Try using .loc[row_indexer,col_indexer] = value instead\n",
      "\n",
      "See the caveats in the documentation: https://pandas.pydata.org/pandas-docs/stable/user_guide/indexing.html#returning-a-view-versus-a-copy\n",
      "  X_train[col],X_test[col] = X_train[col].map(encodings),X_test[col].map(encodings)   # map to train and test\n"
     ]
    },
    {
     "data": {
      "application/javascript": [
       "\n",
       "        if (window._pyforest_update_imports_cell) { window._pyforest_update_imports_cell('import pandas as pd'); }\n",
       "    "
      ],
      "text/plain": [
       "<IPython.core.display.Javascript object>"
      ]
     },
     "metadata": {},
     "output_type": "display_data"
    },
    {
     "name": "stderr",
     "output_type": "stream",
     "text": [
      "<ipython-input-5-51b1ba003cae>:9: SettingWithCopyWarning: \n",
      "A value is trying to be set on a copy of a slice from a DataFrame.\n",
      "Try using .loc[row_indexer,col_indexer] = value instead\n",
      "\n",
      "See the caveats in the documentation: https://pandas.pydata.org/pandas-docs/stable/user_guide/indexing.html#returning-a-view-versus-a-copy\n",
      "  X_train[col],X_test[col] = X_train[col].map(encodings),X_test[col].map(encodings)   # map to train and test\n"
     ]
    },
    {
     "data": {
      "application/javascript": [
       "\n",
       "        if (window._pyforest_update_imports_cell) { window._pyforest_update_imports_cell('import pandas as pd'); }\n",
       "    "
      ],
      "text/plain": [
       "<IPython.core.display.Javascript object>"
      ]
     },
     "metadata": {},
     "output_type": "display_data"
    },
    {
     "name": "stderr",
     "output_type": "stream",
     "text": [
      "<ipython-input-5-51b1ba003cae>:9: SettingWithCopyWarning: \n",
      "A value is trying to be set on a copy of a slice from a DataFrame.\n",
      "Try using .loc[row_indexer,col_indexer] = value instead\n",
      "\n",
      "See the caveats in the documentation: https://pandas.pydata.org/pandas-docs/stable/user_guide/indexing.html#returning-a-view-versus-a-copy\n",
      "  X_train[col],X_test[col] = X_train[col].map(encodings),X_test[col].map(encodings)   # map to train and test\n"
     ]
    },
    {
     "data": {
      "application/javascript": [
       "\n",
       "        if (window._pyforest_update_imports_cell) { window._pyforest_update_imports_cell('import pandas as pd'); }\n",
       "    "
      ],
      "text/plain": [
       "<IPython.core.display.Javascript object>"
      ]
     },
     "metadata": {},
     "output_type": "display_data"
    },
    {
     "name": "stderr",
     "output_type": "stream",
     "text": [
      "<ipython-input-5-51b1ba003cae>:9: SettingWithCopyWarning: \n",
      "A value is trying to be set on a copy of a slice from a DataFrame.\n",
      "Try using .loc[row_indexer,col_indexer] = value instead\n",
      "\n",
      "See the caveats in the documentation: https://pandas.pydata.org/pandas-docs/stable/user_guide/indexing.html#returning-a-view-versus-a-copy\n",
      "  X_train[col],X_test[col] = X_train[col].map(encodings),X_test[col].map(encodings)   # map to train and test\n"
     ]
    },
    {
     "data": {
      "application/javascript": [
       "\n",
       "        if (window._pyforest_update_imports_cell) { window._pyforest_update_imports_cell('import pandas as pd'); }\n",
       "    "
      ],
      "text/plain": [
       "<IPython.core.display.Javascript object>"
      ]
     },
     "metadata": {},
     "output_type": "display_data"
    },
    {
     "name": "stderr",
     "output_type": "stream",
     "text": [
      "<ipython-input-5-51b1ba003cae>:9: SettingWithCopyWarning: \n",
      "A value is trying to be set on a copy of a slice from a DataFrame.\n",
      "Try using .loc[row_indexer,col_indexer] = value instead\n",
      "\n",
      "See the caveats in the documentation: https://pandas.pydata.org/pandas-docs/stable/user_guide/indexing.html#returning-a-view-versus-a-copy\n",
      "  X_train[col],X_test[col] = X_train[col].map(encodings),X_test[col].map(encodings)   # map to train and test\n"
     ]
    },
    {
     "data": {
      "application/javascript": [
       "\n",
       "        if (window._pyforest_update_imports_cell) { window._pyforest_update_imports_cell('import pandas as pd'); }\n",
       "    "
      ],
      "text/plain": [
       "<IPython.core.display.Javascript object>"
      ]
     },
     "metadata": {},
     "output_type": "display_data"
    },
    {
     "name": "stderr",
     "output_type": "stream",
     "text": [
      "<ipython-input-5-51b1ba003cae>:9: SettingWithCopyWarning: \n",
      "A value is trying to be set on a copy of a slice from a DataFrame.\n",
      "Try using .loc[row_indexer,col_indexer] = value instead\n",
      "\n",
      "See the caveats in the documentation: https://pandas.pydata.org/pandas-docs/stable/user_guide/indexing.html#returning-a-view-versus-a-copy\n",
      "  X_train[col],X_test[col] = X_train[col].map(encodings),X_test[col].map(encodings)   # map to train and test\n"
     ]
    },
    {
     "data": {
      "application/javascript": [
       "\n",
       "        if (window._pyforest_update_imports_cell) { window._pyforest_update_imports_cell('import pandas as pd'); }\n",
       "    "
      ],
      "text/plain": [
       "<IPython.core.display.Javascript object>"
      ]
     },
     "metadata": {},
     "output_type": "display_data"
    },
    {
     "name": "stderr",
     "output_type": "stream",
     "text": [
      "<ipython-input-5-51b1ba003cae>:9: SettingWithCopyWarning: \n",
      "A value is trying to be set on a copy of a slice from a DataFrame.\n",
      "Try using .loc[row_indexer,col_indexer] = value instead\n",
      "\n",
      "See the caveats in the documentation: https://pandas.pydata.org/pandas-docs/stable/user_guide/indexing.html#returning-a-view-versus-a-copy\n",
      "  X_train[col],X_test[col] = X_train[col].map(encodings),X_test[col].map(encodings)   # map to train and test\n"
     ]
    },
    {
     "data": {
      "application/javascript": [
       "\n",
       "        if (window._pyforest_update_imports_cell) { window._pyforest_update_imports_cell('import pandas as pd'); }\n",
       "    "
      ],
      "text/plain": [
       "<IPython.core.display.Javascript object>"
      ]
     },
     "metadata": {},
     "output_type": "display_data"
    },
    {
     "name": "stderr",
     "output_type": "stream",
     "text": [
      "<ipython-input-5-51b1ba003cae>:9: SettingWithCopyWarning: \n",
      "A value is trying to be set on a copy of a slice from a DataFrame.\n",
      "Try using .loc[row_indexer,col_indexer] = value instead\n",
      "\n",
      "See the caveats in the documentation: https://pandas.pydata.org/pandas-docs/stable/user_guide/indexing.html#returning-a-view-versus-a-copy\n",
      "  X_train[col],X_test[col] = X_train[col].map(encodings),X_test[col].map(encodings)   # map to train and test\n"
     ]
    }
   ],
   "source": [
    "from sklearn.model_selection import cross_val_score\n",
    "from sklearn.metrics import roc_auc_score\n",
    "for m in [0,50,100,200,300,400,500,1000,2000,3000]:\n",
    "    encoded_X_train, encoded_X_test = bayesian_target_encode(X_train, y_train, X_test, cols = X_train.columns, m = m)\n",
    "    index.append(m)\n",
    "    for model_name, model in ensemble_models.items():\n",
    "#         score = cross_val_score(model,encoded_X_train,y_train,scoring = \"roc_auc\",cv=3).mean()\n",
    "#         score_board[model_name].append(score)\n",
    "        model.fit(encoded_X_train,y_train)\n",
    "        y_pred = model.predict_proba(encoded_X_test)[:,1]\n",
    "        score_board[model_name].append(roc_auc_score(y_test,y_pred))"
   ]
  },
  {
   "cell_type": "code",
   "execution_count": 54,
   "id": "abbdf2c8",
   "metadata": {},
   "outputs": [
    {
     "data": {
      "text/plain": [
       "defaultdict(list,\n",
       "            {'HistGradientBoostingClassifier': [0.6253399910376456,\n",
       "              0.6252975083671117,\n",
       "              0.6213335020816175,\n",
       "              0.6244090198724195,\n",
       "              0.6273418802197507,\n",
       "              0.6237631795416042,\n",
       "              0.6253890326710978,\n",
       "              0.6233694577139812,\n",
       "              0.6252965379083125,\n",
       "              0.6229270790900161,\n",
       "              0.622854545660806],\n",
       "             'AdaBoostClassifier': [0.6270344790291048,\n",
       "              0.6251736410138375,\n",
       "              0.6257657882017843,\n",
       "              0.6260166852654537,\n",
       "              0.6265098791199867,\n",
       "              0.6270344790291048,\n",
       "              0.6265372527509412,\n",
       "              0.6268072578137243,\n",
       "              0.627361791357181,\n",
       "              0.626605971273148,\n",
       "              0.6263623861145684],\n",
       "             'GradientBoostingClassifier': [0.6300705928462529,\n",
       "              0.6271229748323557,\n",
       "              0.629086564355992,\n",
       "              0.6300138712026491,\n",
       "              0.6280069958701624,\n",
       "              0.6300705928462529,\n",
       "              0.6292646435456308,\n",
       "              0.6303985744562595,\n",
       "              0.6292640077277969,\n",
       "              0.6292026847709213,\n",
       "              0.6289142409909548]})"
      ]
     },
     "execution_count": 54,
     "metadata": {},
     "output_type": "execute_result"
    }
   ],
   "source": [
    "score_board"
   ]
  },
  {
   "cell_type": "markdown",
   "id": "02b53d45",
   "metadata": {},
   "source": [
    "### evaluate TargetEncoder "
   ]
  },
  {
   "cell_type": "code",
   "execution_count": 33,
   "id": "f7855be8",
   "metadata": {},
   "outputs": [
    {
     "name": "stderr",
     "output_type": "stream",
     "text": [
      "C:\\Users\\tanch\\anaconda3\\lib\\site-packages\\category_encoders\\utils.py:21: FutureWarning: is_categorical is deprecated and will be removed in a future version.  Use is_categorical_dtype instead\n",
      "  elif pd.api.types.is_categorical(cols):\n"
     ]
    }
   ],
   "source": [
    "from category_encoders.target_encoder import TargetEncoder\n",
    "en = TargetEncoder(cols = cat_features, \n",
    "                   smoothing = 0)    # this smoothing might be a different form of smoothing\n",
    "en.fit(X_train,y_train)\n",
    "encoded_X_train = en.transform(X_train)\n",
    "encoded_X_test = en.transform(X_test)"
   ]
  },
  {
   "cell_type": "code",
   "execution_count": 55,
   "id": "82ea9b27",
   "metadata": {
    "scrolled": true
   },
   "outputs": [
    {
     "name": "stderr",
     "output_type": "stream",
     "text": [
      "C:\\Users\\tanch\\anaconda3\\lib\\site-packages\\category_encoders\\utils.py:21: FutureWarning: is_categorical is deprecated and will be removed in a future version.  Use is_categorical_dtype instead\n",
      "  elif pd.api.types.is_categorical(cols):\n",
      "C:\\Users\\tanch\\anaconda3\\lib\\site-packages\\category_encoders\\utils.py:21: FutureWarning: is_categorical is deprecated and will be removed in a future version.  Use is_categorical_dtype instead\n",
      "  elif pd.api.types.is_categorical(cols):\n",
      "C:\\Users\\tanch\\anaconda3\\lib\\site-packages\\category_encoders\\utils.py:21: FutureWarning: is_categorical is deprecated and will be removed in a future version.  Use is_categorical_dtype instead\n",
      "  elif pd.api.types.is_categorical(cols):\n",
      "C:\\Users\\tanch\\anaconda3\\lib\\site-packages\\category_encoders\\utils.py:21: FutureWarning: is_categorical is deprecated and will be removed in a future version.  Use is_categorical_dtype instead\n",
      "  elif pd.api.types.is_categorical(cols):\n",
      "C:\\Users\\tanch\\anaconda3\\lib\\site-packages\\category_encoders\\utils.py:21: FutureWarning: is_categorical is deprecated and will be removed in a future version.  Use is_categorical_dtype instead\n",
      "  elif pd.api.types.is_categorical(cols):\n",
      "C:\\Users\\tanch\\anaconda3\\lib\\site-packages\\category_encoders\\utils.py:21: FutureWarning: is_categorical is deprecated and will be removed in a future version.  Use is_categorical_dtype instead\n",
      "  elif pd.api.types.is_categorical(cols):\n",
      "C:\\Users\\tanch\\anaconda3\\lib\\site-packages\\category_encoders\\utils.py:21: FutureWarning: is_categorical is deprecated and will be removed in a future version.  Use is_categorical_dtype instead\n",
      "  elif pd.api.types.is_categorical(cols):\n",
      "C:\\Users\\tanch\\anaconda3\\lib\\site-packages\\category_encoders\\utils.py:21: FutureWarning: is_categorical is deprecated and will be removed in a future version.  Use is_categorical_dtype instead\n",
      "  elif pd.api.types.is_categorical(cols):\n",
      "C:\\Users\\tanch\\anaconda3\\lib\\site-packages\\category_encoders\\utils.py:21: FutureWarning: is_categorical is deprecated and will be removed in a future version.  Use is_categorical_dtype instead\n",
      "  elif pd.api.types.is_categorical(cols):\n",
      "C:\\Users\\tanch\\anaconda3\\lib\\site-packages\\category_encoders\\utils.py:21: FutureWarning: is_categorical is deprecated and will be removed in a future version.  Use is_categorical_dtype instead\n",
      "  elif pd.api.types.is_categorical(cols):\n"
     ]
    }
   ],
   "source": [
    "from sklearn.model_selection import cross_val_score\n",
    "from sklearn.metrics import roc_auc_score\n",
    "for smoothing in [0,1,2,3,10,20,30,100,200,300]:\n",
    "    en = TargetEncoder(cols = cat_features, \n",
    "                   smoothing = smoothing)    # this smoothing might be a different form of smoothing\n",
    "    en.fit(X_train,y_train)\n",
    "    encoded_X_train = en.transform(X_train)\n",
    "    encoded_X_test = en.transform(X_test)\n",
    "    index.append(smoothing)\n",
    "    for model_name, model in ensemble_models.items():\n",
    "    #     score = cross_val_score(model,encoded_X_train,y_train,scoring = \"roc_auc\",cv=3).mean()\n",
    "    #     score_board[model_name].append(score)\n",
    "        model.fit(encoded_X_train,y_train)\n",
    "        y_pred = model.predict_proba(encoded_X_test)[:,1]\n",
    "        score_board[model_name].append(roc_auc_score(y_test,y_pred))"
   ]
  },
  {
   "cell_type": "markdown",
   "id": "20fc1a26",
   "metadata": {},
   "source": [
    "# Results\n",
    "- we see that **target encoding does not yield much gains at all, compared to label encoding**"
   ]
  },
  {
   "cell_type": "code",
   "execution_count": 65,
   "id": "86caabfd",
   "metadata": {},
   "outputs": [
    {
     "data": {
      "application/javascript": [
       "\n",
       "        if (window._pyforest_update_imports_cell) { window._pyforest_update_imports_cell('import seaborn as sns\\nimport pandas as pd'); }\n",
       "    "
      ],
      "text/plain": [
       "<IPython.core.display.Javascript object>"
      ]
     },
     "metadata": {},
     "output_type": "display_data"
    },
    {
     "data": {
      "application/javascript": [
       "\n",
       "        if (window._pyforest_update_imports_cell) { window._pyforest_update_imports_cell('import seaborn as sns\\nimport pandas as pd'); }\n",
       "    "
      ],
      "text/plain": [
       "<IPython.core.display.Javascript object>"
      ]
     },
     "metadata": {},
     "output_type": "display_data"
    },
    {
     "data": {
      "text/plain": [
       "[Text(0.5, 0, 'regularization m')]"
      ]
     },
     "execution_count": 65,
     "metadata": {},
     "output_type": "execute_result"
    },
    {
     "data": {
      "image/png": "[encoded data removed]",
      "text/plain": [
       "<Figure size 432x288 with 1 Axes>"
      ]
     },
     "metadata": {
      "needs_background": "light"
     },
     "output_type": "display_data"
    }
   ],
   "source": [
    "temp_df = pd.melt(score_df.iloc[1:11],id_vars = \"index\",value_vars = [\"HistGradientBoostingClassifier\",\"AdaBoostClassifier\",\"GradientBoostingClassifier\"])\n",
    "sns.lineplot(data = temp_df, x = \"index\",y = \"value\", hue = \"variable\").set(xlabel = \"regularization m\")"
   ]
  },
  {
   "cell_type": "code",
   "execution_count": 64,
   "id": "6b2786f6",
   "metadata": {},
   "outputs": [
    {
     "data": {
      "application/javascript": [
       "\n",
       "        if (window._pyforest_update_imports_cell) { window._pyforest_update_imports_cell('import seaborn as sns\\nimport pandas as pd'); }\n",
       "    "
      ],
      "text/plain": [
       "<IPython.core.display.Javascript object>"
      ]
     },
     "metadata": {},
     "output_type": "display_data"
    },
    {
     "data": {
      "application/javascript": [
       "\n",
       "        if (window._pyforest_update_imports_cell) { window._pyforest_update_imports_cell('import seaborn as sns\\nimport pandas as pd'); }\n",
       "    "
      ],
      "text/plain": [
       "<IPython.core.display.Javascript object>"
      ]
     },
     "metadata": {},
     "output_type": "display_data"
    },
    {
     "data": {
      "text/plain": [
       "[Text(0.5, 0, 'smoothing')]"
      ]
     },
     "execution_count": 64,
     "metadata": {},
     "output_type": "execute_result"
    },
    {
     "data": {
      "image/png": "[encoded data removed]",
      "text/plain": [
       "<Figure size 432x288 with 1 Axes>"
      ]
     },
     "metadata": {
      "needs_background": "light"
     },
     "output_type": "display_data"
    }
   ],
   "source": [
    "temp_df = pd.melt(score_df.iloc[11:],id_vars = \"index\",value_vars = [\"HistGradientBoostingClassifier\",\"AdaBoostClassifier\",\"GradientBoostingClassifier\"])\n",
    "sns.lineplot(data = temp_df, x = \"index\",y = \"value\", hue = \"variable\").set(xlabel = \"smoothing\")"
   ]
  },
  {
   "cell_type": "code",
   "execution_count": 58,
   "id": "9abfb06d",
   "metadata": {},
   "outputs": [
    {
     "data": {
      "application/javascript": [
       "\n",
       "        if (window._pyforest_update_imports_cell) { window._pyforest_update_imports_cell('import pandas as pd'); }\n",
       "    "
      ],
      "text/plain": [
       "<IPython.core.display.Javascript object>"
      ]
     },
     "metadata": {},
     "output_type": "display_data"
    },
    {
     "data": {
      "text/html": [
       "<div>\n",
       "<style scoped>\n",
       "    .dataframe tbody tr th:only-of-type {\n",
       "        vertical-align: middle;\n",
       "    }\n",
       "\n",
       "    .dataframe tbody tr th {\n",
       "        vertical-align: top;\n",
       "    }\n",
       "\n",
       "    .dataframe thead th {\n",
       "        text-align: right;\n",
       "    }\n",
       "</style>\n",
       "<table border=\"1\" class=\"dataframe\">\n",
       "  <thead>\n",
       "    <tr style=\"text-align: right;\">\n",
       "      <th></th>\n",
       "      <th>index</th>\n",
       "      <th>HistGradientBoostingClassifier</th>\n",
       "      <th>AdaBoostClassifier</th>\n",
       "      <th>GradientBoostingClassifier</th>\n",
       "    </tr>\n",
       "  </thead>\n",
       "  <tbody>\n",
       "    <tr>\n",
       "      <th>0</th>\n",
       "      <td>label encode</td>\n",
       "      <td>0.625340</td>\n",
       "      <td>0.627034</td>\n",
       "      <td>0.630071</td>\n",
       "    </tr>\n",
       "    <tr>\n",
       "      <th>1</th>\n",
       "      <td>0</td>\n",
       "      <td>0.625298</td>\n",
       "      <td>0.625174</td>\n",
       "      <td>0.627123</td>\n",
       "    </tr>\n",
       "    <tr>\n",
       "      <th>2</th>\n",
       "      <td>50</td>\n",
       "      <td>0.621334</td>\n",
       "      <td>0.625766</td>\n",
       "      <td>0.629087</td>\n",
       "    </tr>\n",
       "    <tr>\n",
       "      <th>3</th>\n",
       "      <td>100</td>\n",
       "      <td>0.624409</td>\n",
       "      <td>0.626017</td>\n",
       "      <td>0.630014</td>\n",
       "    </tr>\n",
       "    <tr>\n",
       "      <th>4</th>\n",
       "      <td>200</td>\n",
       "      <td>0.627342</td>\n",
       "      <td>0.626510</td>\n",
       "      <td>0.628007</td>\n",
       "    </tr>\n",
       "    <tr>\n",
       "      <th>5</th>\n",
       "      <td>300</td>\n",
       "      <td>0.623763</td>\n",
       "      <td>0.627034</td>\n",
       "      <td>0.630071</td>\n",
       "    </tr>\n",
       "    <tr>\n",
       "      <th>6</th>\n",
       "      <td>400</td>\n",
       "      <td>0.625389</td>\n",
       "      <td>0.626537</td>\n",
       "      <td>0.629265</td>\n",
       "    </tr>\n",
       "    <tr>\n",
       "      <th>7</th>\n",
       "      <td>500</td>\n",
       "      <td>0.623369</td>\n",
       "      <td>0.626807</td>\n",
       "      <td>0.630399</td>\n",
       "    </tr>\n",
       "    <tr>\n",
       "      <th>8</th>\n",
       "      <td>1000</td>\n",
       "      <td>0.625297</td>\n",
       "      <td>0.627362</td>\n",
       "      <td>0.629264</td>\n",
       "    </tr>\n",
       "    <tr>\n",
       "      <th>9</th>\n",
       "      <td>2000</td>\n",
       "      <td>0.622927</td>\n",
       "      <td>0.626606</td>\n",
       "      <td>0.629203</td>\n",
       "    </tr>\n",
       "    <tr>\n",
       "      <th>10</th>\n",
       "      <td>3000</td>\n",
       "      <td>0.622855</td>\n",
       "      <td>0.626362</td>\n",
       "      <td>0.628914</td>\n",
       "    </tr>\n",
       "    <tr>\n",
       "      <th>11</th>\n",
       "      <td>0</td>\n",
       "      <td>0.625733</td>\n",
       "      <td>0.625174</td>\n",
       "      <td>0.627123</td>\n",
       "    </tr>\n",
       "    <tr>\n",
       "      <th>12</th>\n",
       "      <td>1</td>\n",
       "      <td>0.626502</td>\n",
       "      <td>0.625174</td>\n",
       "      <td>0.627123</td>\n",
       "    </tr>\n",
       "    <tr>\n",
       "      <th>13</th>\n",
       "      <td>2</td>\n",
       "      <td>0.622358</td>\n",
       "      <td>0.625174</td>\n",
       "      <td>0.627123</td>\n",
       "    </tr>\n",
       "    <tr>\n",
       "      <th>14</th>\n",
       "      <td>3</td>\n",
       "      <td>0.619181</td>\n",
       "      <td>0.625174</td>\n",
       "      <td>0.627123</td>\n",
       "    </tr>\n",
       "    <tr>\n",
       "      <th>15</th>\n",
       "      <td>10</td>\n",
       "      <td>0.627785</td>\n",
       "      <td>0.625174</td>\n",
       "      <td>0.627123</td>\n",
       "    </tr>\n",
       "    <tr>\n",
       "      <th>16</th>\n",
       "      <td>20</td>\n",
       "      <td>0.626167</td>\n",
       "      <td>0.625174</td>\n",
       "      <td>0.627123</td>\n",
       "    </tr>\n",
       "    <tr>\n",
       "      <th>17</th>\n",
       "      <td>30</td>\n",
       "      <td>0.622992</td>\n",
       "      <td>0.625174</td>\n",
       "      <td>0.628178</td>\n",
       "    </tr>\n",
       "    <tr>\n",
       "      <th>18</th>\n",
       "      <td>100</td>\n",
       "      <td>0.623685</td>\n",
       "      <td>0.625296</td>\n",
       "      <td>0.628098</td>\n",
       "    </tr>\n",
       "    <tr>\n",
       "      <th>19</th>\n",
       "      <td>200</td>\n",
       "      <td>0.623790</td>\n",
       "      <td>0.625880</td>\n",
       "      <td>0.628770</td>\n",
       "    </tr>\n",
       "    <tr>\n",
       "      <th>20</th>\n",
       "      <td>300</td>\n",
       "      <td>0.624745</td>\n",
       "      <td>0.625337</td>\n",
       "      <td>0.629297</td>\n",
       "    </tr>\n",
       "  </tbody>\n",
       "</table>\n",
       "</div>"
      ],
      "text/plain": [
       "           index  HistGradientBoostingClassifier  AdaBoostClassifier  \\\n",
       "0   label encode                        0.625340            0.627034   \n",
       "1              0                        0.625298            0.625174   \n",
       "2             50                        0.621334            0.625766   \n",
       "3            100                        0.624409            0.626017   \n",
       "4            200                        0.627342            0.626510   \n",
       "5            300                        0.623763            0.627034   \n",
       "6            400                        0.625389            0.626537   \n",
       "7            500                        0.623369            0.626807   \n",
       "8           1000                        0.625297            0.627362   \n",
       "9           2000                        0.622927            0.626606   \n",
       "10          3000                        0.622855            0.626362   \n",
       "11             0                        0.625733            0.625174   \n",
       "12             1                        0.626502            0.625174   \n",
       "13             2                        0.622358            0.625174   \n",
       "14             3                        0.619181            0.625174   \n",
       "15            10                        0.627785            0.625174   \n",
       "16            20                        0.626167            0.625174   \n",
       "17            30                        0.622992            0.625174   \n",
       "18           100                        0.623685            0.625296   \n",
       "19           200                        0.623790            0.625880   \n",
       "20           300                        0.624745            0.625337   \n",
       "\n",
       "    GradientBoostingClassifier  \n",
       "0                     0.630071  \n",
       "1                     0.627123  \n",
       "2                     0.629087  \n",
       "3                     0.630014  \n",
       "4                     0.628007  \n",
       "5                     0.630071  \n",
       "6                     0.629265  \n",
       "7                     0.630399  \n",
       "8                     0.629264  \n",
       "9                     0.629203  \n",
       "10                    0.628914  \n",
       "11                    0.627123  \n",
       "12                    0.627123  \n",
       "13                    0.627123  \n",
       "14                    0.627123  \n",
       "15                    0.627123  \n",
       "16                    0.627123  \n",
       "17                    0.628178  \n",
       "18                    0.628098  \n",
       "19                    0.628770  \n",
       "20                    0.629297  "
      ]
     },
     "execution_count": 58,
     "metadata": {},
     "output_type": "execute_result"
    }
   ],
   "source": [
    "score_df = pd.DataFrame(score_board,index = index).reset_index()\n",
    "score_df"
   ]
  },
  {
   "cell_type": "code",
   "execution_count": null,
   "id": "4d0bc61d",
   "metadata": {},
   "outputs": [],
   "source": []
  },
  {
   "cell_type": "code",
   "execution_count": null,
   "id": "5b4c2b76",
   "metadata": {},
   "outputs": [],
   "source": []
  },
  {
   "cell_type": "code",
   "execution_count": null,
   "id": "ca59fe6b",
   "metadata": {},
   "outputs": [],
   "source": []
  },
  {
   "cell_type": "code",
   "execution_count": null,
   "id": "5dc4a8ec",
   "metadata": {},
   "outputs": [],
   "source": []
  },
  {
   "cell_type": "code",
   "execution_count": null,
   "id": "b8c83949",
   "metadata": {},
   "outputs": [],
   "source": []
  },
  {
   "cell_type": "code",
   "execution_count": null,
   "id": "fe2ece1b",
   "metadata": {},
   "outputs": [],
   "source": []
  },
  {
   "cell_type": "code",
   "execution_count": null,
   "id": "3610159a",
   "metadata": {},
   "outputs": [],
   "source": []
  },
  {
   "cell_type": "markdown",
   "id": "6b10274a",
   "metadata": {},
   "source": [
    "### Original function \n",
    "- I adapted the following function \n",
    "    - to work on multiple columns \n",
    "    - and test set (shown in previous cells)"
   ]
  },
  {
   "cell_type": "code",
   "execution_count": 4,
   "id": "2da48153",
   "metadata": {},
   "outputs": [],
   "source": [
    "def calc_smooth_mean(df, by, on, m):\n",
    "    # Compute the global mean\n",
    "    mean = df[on].mean()\n",
    "    # Compute the number of values and the mean of each group\n",
    "    agg = df.groupby(by)[on].agg(['count', 'mean'])    \n",
    "    counts = agg['count']\n",
    "    means = agg['mean']\n",
    "    # Compute the \"smoothed\" means\n",
    "    smooth = (counts * means + m * mean) / (counts + m)\n",
    "    # Replace each value by the according smoothed mean\n",
    "    return df[by].map(smooth)"
   ]
  }
 ],
 "metadata": {
  "kernelspec": {
   "display_name": "Python 3",
   "language": "python",
   "name": "python3"
  },
  "language_info": {
   "codemirror_mode": {
    "name": "ipython",
    "version": 3
   },
   "file_extension": ".py",
   "mimetype": "text/x-python",
   "name": "python",
   "nbconvert_exporter": "python",
   "pygments_lexer": "ipython3",
   "version": "3.8.3"
  }
 },
 "nbformat": 4,
 "nbformat_minor": 5
}
