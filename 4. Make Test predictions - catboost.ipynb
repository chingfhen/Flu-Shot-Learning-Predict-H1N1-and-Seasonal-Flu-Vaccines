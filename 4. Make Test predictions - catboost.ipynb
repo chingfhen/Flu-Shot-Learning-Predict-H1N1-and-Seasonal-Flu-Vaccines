{
 "cells": [
  {
   "cell_type": "markdown",
   "id": "85403a59",
   "metadata": {},
   "source": [
    "# ABOUT:\n",
    "- this notebook:\n",
    "    - predicts test set using catboost with cat_features specified vs not specified\n",
    "- insights:\n",
    "    - **specifying cat_features led to very merginal gains**"
   ]
  },
  {
   "cell_type": "markdown",
   "id": "a8bf3bde",
   "metadata": {},
   "source": [
    "### import data"
   ]
  },
  {
   "cell_type": "code",
   "execution_count": 1,
   "id": "83b65727",
   "metadata": {},
   "outputs": [],
   "source": [
    "import pandas as pd\n",
    "test = pd.read_csv(r\"C:\\Users\\tanch\\Documents\\Coding Competitions\\DataDriven\\Flu Shot Learning\\local\\data\\cleaned_test_set.csv\",index_col = \"respondent_id\") "
   ]
  },
  {
   "cell_type": "markdown",
   "id": "0dd8ecdf",
   "metadata": {},
   "source": [
    "## catboost "
   ]
  },
  {
   "cell_type": "code",
   "execution_count": 2,
   "id": "5cd4399a",
   "metadata": {},
   "outputs": [],
   "source": [
    "from catboost import CatBoostClassifier, Pool, cv\n",
    "model = CatBoostClassifier()\n",
    "model.load_model(r\"C:\\Users\\tanch\\Documents\\Coding Competitions\\DataDriven\\Flu Shot Learning\\local\\model\\h1n1_vaccine catboost\")\n",
    "h1n1_vaccine_proba = model.predict_proba(test)[:,1]"
   ]
  },
  {
   "cell_type": "code",
   "execution_count": 3,
   "id": "f2f02935",
   "metadata": {},
   "outputs": [],
   "source": [
    "output = pd.DataFrame({\"respondent_id\":test.index, \"h1n1_vaccine\": h1n1_vaccine_proba})"
   ]
  },
  {
   "cell_type": "code",
   "execution_count": 4,
   "id": "2088bbea",
   "metadata": {},
   "outputs": [],
   "source": [
    "from catboost import CatBoostClassifier, Pool, cv\n",
    "model = CatBoostClassifier()\n",
    "model.load_model(r\"C:\\Users\\tanch\\Documents\\Coding Competitions\\DataDriven\\Flu Shot Learning\\local\\model\\seasonal_vaccine catboost\")\n",
    "seasonal_vaccine_proba = model.predict_proba(test)[:,1]"
   ]
  },
  {
   "cell_type": "code",
   "execution_count": 5,
   "id": "3b204097",
   "metadata": {},
   "outputs": [],
   "source": [
    "output['seasonal_vaccine'] = seasonal_vaccine_proba"
   ]
  },
  {
   "cell_type": "code",
   "execution_count": 7,
   "id": "511cdcd0",
   "metadata": {
    "scrolled": true
   },
   "outputs": [
    {
     "data": {
      "text/html": [
       "<div>\n",
       "<style scoped>\n",
       "    .dataframe tbody tr th:only-of-type {\n",
       "        vertical-align: middle;\n",
       "    }\n",
       "\n",
       "    .dataframe tbody tr th {\n",
       "        vertical-align: top;\n",
       "    }\n",
       "\n",
       "    .dataframe thead th {\n",
       "        text-align: right;\n",
       "    }\n",
       "</style>\n",
       "<table border=\"1\" class=\"dataframe\">\n",
       "  <thead>\n",
       "    <tr style=\"text-align: right;\">\n",
       "      <th></th>\n",
       "      <th>h1n1_vaccine</th>\n",
       "      <th>seasonal_vaccine</th>\n",
       "    </tr>\n",
       "    <tr>\n",
       "      <th>respondent_id</th>\n",
       "      <th></th>\n",
       "      <th></th>\n",
       "    </tr>\n",
       "  </thead>\n",
       "  <tbody>\n",
       "    <tr>\n",
       "      <th>26707</th>\n",
       "      <td>0.332694</td>\n",
       "      <td>0.223199</td>\n",
       "    </tr>\n",
       "    <tr>\n",
       "      <th>26708</th>\n",
       "      <td>0.076316</td>\n",
       "      <td>0.032152</td>\n",
       "    </tr>\n",
       "    <tr>\n",
       "      <th>26709</th>\n",
       "      <td>0.499893</td>\n",
       "      <td>0.710269</td>\n",
       "    </tr>\n",
       "    <tr>\n",
       "      <th>26710</th>\n",
       "      <td>0.844111</td>\n",
       "      <td>0.890980</td>\n",
       "    </tr>\n",
       "    <tr>\n",
       "      <th>26711</th>\n",
       "      <td>0.718226</td>\n",
       "      <td>0.516010</td>\n",
       "    </tr>\n",
       "  </tbody>\n",
       "</table>\n",
       "</div>"
      ],
      "text/plain": [
       "               h1n1_vaccine  seasonal_vaccine\n",
       "respondent_id                                \n",
       "26707              0.332694          0.223199\n",
       "26708              0.076316          0.032152\n",
       "26709              0.499893          0.710269\n",
       "26710              0.844111          0.890980\n",
       "26711              0.718226          0.516010"
      ]
     },
     "execution_count": 7,
     "metadata": {},
     "output_type": "execute_result"
    }
   ],
   "source": [
    "output.set_index(\"respondent_id\").head()"
   ]
  },
  {
   "cell_type": "code",
   "execution_count": 8,
   "id": "9dd352f8",
   "metadata": {},
   "outputs": [],
   "source": [
    "output.set_index(\"respondent_id\").to_csv(r\"C:\\Users\\tanch\\Documents\\Coding Competitions\\DataDriven\\Flu Shot Learning\\local\\predictions\\catboost 0.csv\")"
   ]
  },
  {
   "cell_type": "code",
   "execution_count": 9,
   "id": "fd8be4ab",
   "metadata": {},
   "outputs": [],
   "source": [
    "from catboost import CatBoostClassifier, Pool, cv\n",
    "model = CatBoostClassifier()\n",
    "model.load_model(r\"C:\\Users\\tanch\\Documents\\Coding Competitions\\DataDriven\\Flu Shot Learning\\local\\model\\h1n1_vaccine catboost plus\")\n",
    "h1n1_vaccine_proba = model.predict_proba(test)[:,1]"
   ]
  },
  {
   "cell_type": "code",
   "execution_count": 10,
   "id": "b97f36f1",
   "metadata": {},
   "outputs": [],
   "source": [
    "output = pd.DataFrame({\"respondent_id\":test.index, \"h1n1_vaccine\": h1n1_vaccine_proba})"
   ]
  },
  {
   "cell_type": "code",
   "execution_count": 11,
   "id": "445b6624",
   "metadata": {},
   "outputs": [],
   "source": [
    "from catboost import CatBoostClassifier, Pool, cv\n",
    "model = CatBoostClassifier()\n",
    "model.load_model(r\"C:\\Users\\tanch\\Documents\\Coding Competitions\\DataDriven\\Flu Shot Learning\\local\\model\\seasonal_vaccine catboost plus\")\n",
    "seasonal_vaccine_proba = model.predict_proba(test)[:,1]"
   ]
  },
  {
   "cell_type": "code",
   "execution_count": 12,
   "id": "a475c732",
   "metadata": {},
   "outputs": [],
   "source": [
    "output['seasonal_vaccine'] = seasonal_vaccine_proba"
   ]
  },
  {
   "cell_type": "code",
   "execution_count": 13,
   "id": "49dbc1fd",
   "metadata": {
    "scrolled": true
   },
   "outputs": [
    {
     "data": {
      "text/html": [
       "<div>\n",
       "<style scoped>\n",
       "    .dataframe tbody tr th:only-of-type {\n",
       "        vertical-align: middle;\n",
       "    }\n",
       "\n",
       "    .dataframe tbody tr th {\n",
       "        vertical-align: top;\n",
       "    }\n",
       "\n",
       "    .dataframe thead th {\n",
       "        text-align: right;\n",
       "    }\n",
       "</style>\n",
       "<table border=\"1\" class=\"dataframe\">\n",
       "  <thead>\n",
       "    <tr style=\"text-align: right;\">\n",
       "      <th></th>\n",
       "      <th>h1n1_vaccine</th>\n",
       "      <th>seasonal_vaccine</th>\n",
       "    </tr>\n",
       "    <tr>\n",
       "      <th>respondent_id</th>\n",
       "      <th></th>\n",
       "      <th></th>\n",
       "    </tr>\n",
       "  </thead>\n",
       "  <tbody>\n",
       "    <tr>\n",
       "      <th>26707</th>\n",
       "      <td>0.335107</td>\n",
       "      <td>0.228235</td>\n",
       "    </tr>\n",
       "    <tr>\n",
       "      <th>26708</th>\n",
       "      <td>0.078121</td>\n",
       "      <td>0.031843</td>\n",
       "    </tr>\n",
       "    <tr>\n",
       "      <th>26709</th>\n",
       "      <td>0.502569</td>\n",
       "      <td>0.711429</td>\n",
       "    </tr>\n",
       "    <tr>\n",
       "      <th>26710</th>\n",
       "      <td>0.844899</td>\n",
       "      <td>0.890112</td>\n",
       "    </tr>\n",
       "    <tr>\n",
       "      <th>26711</th>\n",
       "      <td>0.720316</td>\n",
       "      <td>0.516989</td>\n",
       "    </tr>\n",
       "  </tbody>\n",
       "</table>\n",
       "</div>"
      ],
      "text/plain": [
       "               h1n1_vaccine  seasonal_vaccine\n",
       "respondent_id                                \n",
       "26707              0.335107          0.228235\n",
       "26708              0.078121          0.031843\n",
       "26709              0.502569          0.711429\n",
       "26710              0.844899          0.890112\n",
       "26711              0.720316          0.516989"
      ]
     },
     "execution_count": 13,
     "metadata": {},
     "output_type": "execute_result"
    }
   ],
   "source": [
    "output.set_index(\"respondent_id\").head()"
   ]
  },
  {
   "cell_type": "code",
   "execution_count": 14,
   "id": "850a5a56",
   "metadata": {},
   "outputs": [],
   "source": [
    "output.set_index(\"respondent_id\").to_csv(r\"C:\\Users\\tanch\\Documents\\Coding Competitions\\DataDriven\\Flu Shot Learning\\local\\predictions\\catboost plus.csv\")"
   ]
  },
  {
   "cell_type": "code",
   "execution_count": 8,
   "id": "c4b27410",
   "metadata": {},
   "outputs": [
    {
     "data": {
      "image/png": "[encoded data removed]",
      "text/plain": [
       "<IPython.core.display.Image object>"
      ]
     },
     "execution_count": 8,
     "metadata": {},
     "output_type": "execute_result"
    }
   ],
   "source": [
    "from IPython.display import Image\n",
    "Image(r\"C:\\Users\\tanch\\Documents\\Coding Competitions\\DataDriven\\Flu Shot Learning\\local\\RAM\\catboost vs catboost plus.PNG\")"
   ]
  },
  {
   "cell_type": "markdown",
   "id": "906a34ee",
   "metadata": {},
   "source": [
    "## Catboost with cat_features "
   ]
  },
  {
   "cell_type": "code",
   "execution_count": 2,
   "id": "04ad1d46",
   "metadata": {},
   "outputs": [],
   "source": [
    "from catboost import CatBoostClassifier, Pool, cv\n",
    "model = CatBoostClassifier()\n",
    "model.load_model(r\"C:\\Users\\tanch\\Documents\\Coding Competitions\\DataDriven\\Flu Shot Learning\\local\\model\\h1n1_vaccine catboost with cat_features\")\n",
    "h1n1_vaccine_proba = model.predict_proba(test)[:,1]"
   ]
  },
  {
   "cell_type": "code",
   "execution_count": 3,
   "id": "0fa76b7d",
   "metadata": {},
   "outputs": [],
   "source": [
    "output = pd.DataFrame({\"respondent_id\":test.index, \"h1n1_vaccine\": h1n1_vaccine_proba})"
   ]
  },
  {
   "cell_type": "code",
   "execution_count": 4,
   "id": "c206b074",
   "metadata": {},
   "outputs": [],
   "source": [
    "from catboost import CatBoostClassifier, Pool, cv\n",
    "model = CatBoostClassifier()\n",
    "model.load_model(r\"C:\\Users\\tanch\\Documents\\Coding Competitions\\DataDriven\\Flu Shot Learning\\local\\model\\seasonal_vaccine catboost with cat_features\")\n",
    "seasonal_vaccine_proba = model.predict_proba(test)[:,1]"
   ]
  },
  {
   "cell_type": "code",
   "execution_count": 5,
   "id": "c51a3fef",
   "metadata": {},
   "outputs": [],
   "source": [
    "output['seasonal_vaccine'] = seasonal_vaccine_proba"
   ]
  },
  {
   "cell_type": "code",
   "execution_count": 6,
   "id": "c2949c74",
   "metadata": {
    "scrolled": true
   },
   "outputs": [
    {
     "data": {
      "text/html": [
       "<div>\n",
       "<style scoped>\n",
       "    .dataframe tbody tr th:only-of-type {\n",
       "        vertical-align: middle;\n",
       "    }\n",
       "\n",
       "    .dataframe tbody tr th {\n",
       "        vertical-align: top;\n",
       "    }\n",
       "\n",
       "    .dataframe thead th {\n",
       "        text-align: right;\n",
       "    }\n",
       "</style>\n",
       "<table border=\"1\" class=\"dataframe\">\n",
       "  <thead>\n",
       "    <tr style=\"text-align: right;\">\n",
       "      <th></th>\n",
       "      <th>h1n1_vaccine</th>\n",
       "      <th>seasonal_vaccine</th>\n",
       "    </tr>\n",
       "    <tr>\n",
       "      <th>respondent_id</th>\n",
       "      <th></th>\n",
       "      <th></th>\n",
       "    </tr>\n",
       "  </thead>\n",
       "  <tbody>\n",
       "    <tr>\n",
       "      <th>26707</th>\n",
       "      <td>0.309779</td>\n",
       "      <td>0.206740</td>\n",
       "    </tr>\n",
       "    <tr>\n",
       "      <th>26708</th>\n",
       "      <td>0.070478</td>\n",
       "      <td>0.024039</td>\n",
       "    </tr>\n",
       "    <tr>\n",
       "      <th>26709</th>\n",
       "      <td>0.459742</td>\n",
       "      <td>0.703832</td>\n",
       "    </tr>\n",
       "    <tr>\n",
       "      <th>26710</th>\n",
       "      <td>0.832633</td>\n",
       "      <td>0.897614</td>\n",
       "    </tr>\n",
       "    <tr>\n",
       "      <th>26711</th>\n",
       "      <td>0.705581</td>\n",
       "      <td>0.528996</td>\n",
       "    </tr>\n",
       "  </tbody>\n",
       "</table>\n",
       "</div>"
      ],
      "text/plain": [
       "               h1n1_vaccine  seasonal_vaccine\n",
       "respondent_id                                \n",
       "26707              0.309779          0.206740\n",
       "26708              0.070478          0.024039\n",
       "26709              0.459742          0.703832\n",
       "26710              0.832633          0.897614\n",
       "26711              0.705581          0.528996"
      ]
     },
     "execution_count": 6,
     "metadata": {},
     "output_type": "execute_result"
    }
   ],
   "source": [
    "output.set_index(\"respondent_id\").head()"
   ]
  },
  {
   "cell_type": "code",
   "execution_count": 7,
   "id": "de4e9205",
   "metadata": {},
   "outputs": [],
   "source": [
    "output.set_index(\"respondent_id\").to_csv(r\"C:\\Users\\tanch\\Documents\\Coding Competitions\\DataDriven\\Flu Shot Learning\\local\\predictions\\catboost with cat_features.csv\")"
   ]
  },
  {
   "cell_type": "markdown",
   "id": "509d80b7",
   "metadata": {},
   "source": [
    "## Specifying cat_features for catboost does improve performance marginally"
   ]
  },
  {
   "cell_type": "code",
   "execution_count": 9,
   "id": "ef7e2b2a",
   "metadata": {},
   "outputs": [
    {
     "data": {
      "image/png": "[encoded data removed]",
      "text/plain": [
       "<IPython.core.display.Image object>"
      ]
     },
     "execution_count": 9,
     "metadata": {},
     "output_type": "execute_result"
    }
   ],
   "source": [
    "Image(r\"C:\\Users\\tanch\\Documents\\Coding Competitions\\DataDriven\\Flu Shot Learning\\local\\RAM\\catboost_cat_features.PNG\")"
   ]
  },
  {
   "cell_type": "code",
   "execution_count": null,
   "id": "5716ab4b",
   "metadata": {},
   "outputs": [],
   "source": []
  }
 ],
 "metadata": {
  "kernelspec": {
   "display_name": "Python 3",
   "language": "python",
   "name": "python3"
  },
  "language_info": {
   "codemirror_mode": {
    "name": "ipython",
    "version": 3
   },
   "file_extension": ".py",
   "mimetype": "text/x-python",
   "name": "python",
   "nbconvert_exporter": "python",
   "pygments_lexer": "ipython3",
   "version": "3.8.3"
  }
 },
 "nbformat": 4,
 "nbformat_minor": 5
}
