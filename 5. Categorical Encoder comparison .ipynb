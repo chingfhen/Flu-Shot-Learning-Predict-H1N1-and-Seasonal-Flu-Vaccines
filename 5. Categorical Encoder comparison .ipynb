{
 "cells": [
  {
   "cell_type": "markdown",
   "id": "c804efdc",
   "metadata": {},
   "source": [
    "# ABOUT:\n",
    "- this notebook, \n",
    "    - compared different categorical encoding techniques\n",
    "- insights:\n",
    "    - in experiments here, best performing encoder was **WOEEncoder**, followed by TargetEncoder, SimilarityEncoder, OneHotEncoder  \n",
    "    - however, upon evaluating WOEEncoder on test set, performance was extremely poor. **WOEEncoder led to severe overfitting**.\n",
    "- more study needs to be done in future to figure out how to avoid overfitting when using Encoders"
   ]
  },
  {
   "cell_type": "markdown",
   "id": "8ffabe18",
   "metadata": {},
   "source": [
    "### Import data"
   ]
  },
  {
   "cell_type": "code",
   "execution_count": 3,
   "id": "a3e13a8e",
   "metadata": {},
   "outputs": [],
   "source": [
    "import pandas as pd\n",
    "train_features = pd.read_csv(r\"C:\\Users\\tanch\\Documents\\Coding Competitions\\DataDriven\\Flu Shot Learning\\local\\data\\training_set_features.csv\")\n",
    "train_labels = pd.read_csv(r\"C:\\Users\\tanch\\Documents\\Coding Competitions\\DataDriven\\Flu Shot Learning\\local\\data\\training_set_labels.csv\")\n",
    "cat_features = ['race',\"hhs_geo_region\",'employment_industry', 'employment_occupation',\"age_group\",\"education\",\"employment_status\",\"census_msa\" ]"
   ]
  },
  {
   "cell_type": "code",
   "execution_count": 6,
   "id": "f851c4cc",
   "metadata": {},
   "outputs": [
    {
     "data": {
      "text/html": [
       "<div>\n",
       "<style scoped>\n",
       "    .dataframe tbody tr th:only-of-type {\n",
       "        vertical-align: middle;\n",
       "    }\n",
       "\n",
       "    .dataframe tbody tr th {\n",
       "        vertical-align: top;\n",
       "    }\n",
       "\n",
       "    .dataframe thead th {\n",
       "        text-align: right;\n",
       "    }\n",
       "</style>\n",
       "<table border=\"1\" class=\"dataframe\">\n",
       "  <thead>\n",
       "    <tr style=\"text-align: right;\">\n",
       "      <th></th>\n",
       "      <th>race</th>\n",
       "      <th>hhs_geo_region</th>\n",
       "      <th>employment_industry</th>\n",
       "      <th>employment_occupation</th>\n",
       "      <th>age_group</th>\n",
       "      <th>education</th>\n",
       "      <th>employment_status</th>\n",
       "      <th>census_msa</th>\n",
       "    </tr>\n",
       "  </thead>\n",
       "  <tbody>\n",
       "    <tr>\n",
       "      <th>0</th>\n",
       "      <td>White</td>\n",
       "      <td>oxchjgsf</td>\n",
       "      <td>NaN</td>\n",
       "      <td>NaN</td>\n",
       "      <td>55 - 64 Years</td>\n",
       "      <td>&lt; 12 Years</td>\n",
       "      <td>Not in Labor Force</td>\n",
       "      <td>Non-MSA</td>\n",
       "    </tr>\n",
       "    <tr>\n",
       "      <th>1</th>\n",
       "      <td>White</td>\n",
       "      <td>bhuqouqj</td>\n",
       "      <td>pxcmvdjn</td>\n",
       "      <td>xgwztkwe</td>\n",
       "      <td>35 - 44 Years</td>\n",
       "      <td>12 Years</td>\n",
       "      <td>Employed</td>\n",
       "      <td>MSA, Not Principle  City</td>\n",
       "    </tr>\n",
       "    <tr>\n",
       "      <th>2</th>\n",
       "      <td>White</td>\n",
       "      <td>qufhixun</td>\n",
       "      <td>rucpziij</td>\n",
       "      <td>xtkaffoo</td>\n",
       "      <td>18 - 34 Years</td>\n",
       "      <td>College Graduate</td>\n",
       "      <td>Employed</td>\n",
       "      <td>MSA, Not Principle  City</td>\n",
       "    </tr>\n",
       "    <tr>\n",
       "      <th>3</th>\n",
       "      <td>White</td>\n",
       "      <td>lrircsnp</td>\n",
       "      <td>NaN</td>\n",
       "      <td>NaN</td>\n",
       "      <td>65+ Years</td>\n",
       "      <td>12 Years</td>\n",
       "      <td>Not in Labor Force</td>\n",
       "      <td>MSA, Principle City</td>\n",
       "    </tr>\n",
       "    <tr>\n",
       "      <th>4</th>\n",
       "      <td>White</td>\n",
       "      <td>qufhixun</td>\n",
       "      <td>wxleyezf</td>\n",
       "      <td>emcorrxb</td>\n",
       "      <td>45 - 54 Years</td>\n",
       "      <td>Some College</td>\n",
       "      <td>Employed</td>\n",
       "      <td>MSA, Not Principle  City</td>\n",
       "    </tr>\n",
       "    <tr>\n",
       "      <th>...</th>\n",
       "      <td>...</td>\n",
       "      <td>...</td>\n",
       "      <td>...</td>\n",
       "      <td>...</td>\n",
       "      <td>...</td>\n",
       "      <td>...</td>\n",
       "      <td>...</td>\n",
       "      <td>...</td>\n",
       "    </tr>\n",
       "    <tr>\n",
       "      <th>26702</th>\n",
       "      <td>White</td>\n",
       "      <td>qufhixun</td>\n",
       "      <td>NaN</td>\n",
       "      <td>NaN</td>\n",
       "      <td>65+ Years</td>\n",
       "      <td>Some College</td>\n",
       "      <td>Not in Labor Force</td>\n",
       "      <td>Non-MSA</td>\n",
       "    </tr>\n",
       "    <tr>\n",
       "      <th>26703</th>\n",
       "      <td>White</td>\n",
       "      <td>lzgpxyit</td>\n",
       "      <td>fcxhlnwr</td>\n",
       "      <td>cmhcxjea</td>\n",
       "      <td>18 - 34 Years</td>\n",
       "      <td>College Graduate</td>\n",
       "      <td>Employed</td>\n",
       "      <td>MSA, Principle City</td>\n",
       "    </tr>\n",
       "    <tr>\n",
       "      <th>26704</th>\n",
       "      <td>White</td>\n",
       "      <td>lzgpxyit</td>\n",
       "      <td>NaN</td>\n",
       "      <td>NaN</td>\n",
       "      <td>55 - 64 Years</td>\n",
       "      <td>Some College</td>\n",
       "      <td>NaN</td>\n",
       "      <td>MSA, Not Principle  City</td>\n",
       "    </tr>\n",
       "    <tr>\n",
       "      <th>26705</th>\n",
       "      <td>Hispanic</td>\n",
       "      <td>lrircsnp</td>\n",
       "      <td>fcxhlnwr</td>\n",
       "      <td>haliazsg</td>\n",
       "      <td>18 - 34 Years</td>\n",
       "      <td>Some College</td>\n",
       "      <td>Employed</td>\n",
       "      <td>Non-MSA</td>\n",
       "    </tr>\n",
       "    <tr>\n",
       "      <th>26706</th>\n",
       "      <td>White</td>\n",
       "      <td>mlyzmhmf</td>\n",
       "      <td>NaN</td>\n",
       "      <td>NaN</td>\n",
       "      <td>65+ Years</td>\n",
       "      <td>Some College</td>\n",
       "      <td>Not in Labor Force</td>\n",
       "      <td>MSA, Principle City</td>\n",
       "    </tr>\n",
       "  </tbody>\n",
       "</table>\n",
       "<p>26707 rows × 8 columns</p>\n",
       "</div>"
      ],
      "text/plain": [
       "           race hhs_geo_region employment_industry employment_occupation  \\\n",
       "0         White       oxchjgsf                 NaN                   NaN   \n",
       "1         White       bhuqouqj            pxcmvdjn              xgwztkwe   \n",
       "2         White       qufhixun            rucpziij              xtkaffoo   \n",
       "3         White       lrircsnp                 NaN                   NaN   \n",
       "4         White       qufhixun            wxleyezf              emcorrxb   \n",
       "...         ...            ...                 ...                   ...   \n",
       "26702     White       qufhixun                 NaN                   NaN   \n",
       "26703     White       lzgpxyit            fcxhlnwr              cmhcxjea   \n",
       "26704     White       lzgpxyit                 NaN                   NaN   \n",
       "26705  Hispanic       lrircsnp            fcxhlnwr              haliazsg   \n",
       "26706     White       mlyzmhmf                 NaN                   NaN   \n",
       "\n",
       "           age_group         education   employment_status  \\\n",
       "0      55 - 64 Years        < 12 Years  Not in Labor Force   \n",
       "1      35 - 44 Years          12 Years            Employed   \n",
       "2      18 - 34 Years  College Graduate            Employed   \n",
       "3          65+ Years          12 Years  Not in Labor Force   \n",
       "4      45 - 54 Years      Some College            Employed   \n",
       "...              ...               ...                 ...   \n",
       "26702      65+ Years      Some College  Not in Labor Force   \n",
       "26703  18 - 34 Years  College Graduate            Employed   \n",
       "26704  55 - 64 Years      Some College                 NaN   \n",
       "26705  18 - 34 Years      Some College            Employed   \n",
       "26706      65+ Years      Some College  Not in Labor Force   \n",
       "\n",
       "                     census_msa  \n",
       "0                       Non-MSA  \n",
       "1      MSA, Not Principle  City  \n",
       "2      MSA, Not Principle  City  \n",
       "3           MSA, Principle City  \n",
       "4      MSA, Not Principle  City  \n",
       "...                         ...  \n",
       "26702                   Non-MSA  \n",
       "26703       MSA, Principle City  \n",
       "26704  MSA, Not Principle  City  \n",
       "26705                   Non-MSA  \n",
       "26706       MSA, Principle City  \n",
       "\n",
       "[26707 rows x 8 columns]"
      ]
     },
     "execution_count": 6,
     "metadata": {},
     "output_type": "execute_result"
    }
   ],
   "source": [
    "X = train_features[cat_features]\n",
    "y = train_labels['h1n1_vaccine']\n",
    "X"
   ]
  },
  {
   "cell_type": "markdown",
   "id": "5f16abfc",
   "metadata": {},
   "source": [
    "## Implement categorical encoding - xgboost "
   ]
  },
  {
   "cell_type": "code",
   "execution_count": 7,
   "id": "222c68da",
   "metadata": {},
   "outputs": [],
   "source": [
    "from dirty_cat import SimilarityEncoder, TargetEncoder\n",
    "from sklearn.preprocessing import OneHotEncoder\n",
    "from category_encoders.ordinal import OrdinalEncoder\n",
    "from category_encoders.cat_boost import CatBoostEncoder\n",
    "from category_encoders.woe import WOEEncoder\n",
    "from category_encoders.hashing import HashingEncoder\n",
    "from category_encoders.count import CountEncoder\n",
    "import xgboost as xgb"
   ]
  },
  {
   "cell_type": "code",
   "execution_count": 8,
   "id": "3191ea04",
   "metadata": {},
   "outputs": [],
   "source": [
    "encoders_dict = {\n",
    "    'OneHotEncoder': OneHotEncoder(sparse=False),\n",
    "    'SimilarityEncoder': SimilarityEncoder(similarity='ngram'),\n",
    "    'TargetEncoder': TargetEncoder(),\n",
    "    'WOEEncoder': WOEEncoder(),\n",
    "    \"OrdinalEncoder\":OrdinalEncoder(),\n",
    "    \"CatBoostEncoder\" :CatBoostEncoder(),\n",
    "    \"CountEncoder\": CountEncoder(),\n",
    "    \"HashingEncoder\":HashingEncoder()\n",
    "}"
   ]
  },
  {
   "cell_type": "code",
   "execution_count": 260,
   "id": "271b79a2",
   "metadata": {},
   "outputs": [],
   "source": [
    "params = {\n",
    "    \"learning_rate\" :0.1,\n",
    "    #\"n_estimators\":1000,\n",
    "    \"max_depth\":5,\n",
    "    \"min_child_weight\":1,\n",
    "    \"gamma\":0,\n",
    "    \"subsample\":0.8,\n",
    "    \"colsample_bytree\":0.8,\n",
    "    \"objective\": 'binary:logistic',\n",
    "    \"nthread\":-1,\n",
    "    \"scale_pos_weight\":1,\n",
    "    \"seed\":0\n",
    "}"
   ]
  },
  {
   "cell_type": "code",
   "execution_count": 261,
   "id": "bdeaa7f8",
   "metadata": {},
   "outputs": [
    {
     "name": "stderr",
     "output_type": "stream",
     "text": [
      "C:\\Users\\tanch\\anaconda3\\lib\\site-packages\\category_encoders\\utils.py:21: FutureWarning: is_categorical is deprecated and will be removed in a future version.  Use is_categorical_dtype instead\n",
      "  elif pd.api.types.is_categorical(cols):\n"
     ]
    }
   ],
   "source": [
    "encoders_performance = {}\n",
    "for encoder_name, encoder in encoders_dict.items():\n",
    "    encoded_features = encoder.fit_transform(train_features[cat_features],y)\n",
    "    model = xgb.XGBClassifier()\n",
    "    model.set_params(**params)\n",
    "    xgtrain = xgb.DMatrix(data = encoded_features, label=y) \n",
    "    cvresult = xgb.cv(params = params, \n",
    "                      dtrain  = xgtrain, \n",
    "                      num_boost_round=300, \n",
    "                      nfold=5,\n",
    "                      metrics='auc', \n",
    "                      stratified = True,\n",
    "                      early_stopping_rounds=50,\n",
    "                      seed = 0)\n",
    "    encoders_performance[encoder_name] = cvresult[\"test-auc-mean\"].max()"
   ]
  },
  {
   "cell_type": "markdown",
   "id": "f797b647",
   "metadata": {},
   "source": [
    "## Results \n",
    "- **best performing encoder on xgboost was WOEEncoder**, followed by TargetEncoder, SimilarityEncoder, OneHotEncoder  "
   ]
  },
  {
   "cell_type": "code",
   "execution_count": 274,
   "id": "c0cb562b",
   "metadata": {},
   "outputs": [
    {
     "data": {
      "text/plain": [
       "<AxesSubplot:ylabel='test-auc-mean'>"
      ]
     },
     "execution_count": 274,
     "metadata": {},
     "output_type": "execute_result"
    },
    {
     "data": {
      "image/png": "[encoded data removed]",
      "text/plain": [
       "<Figure size 432x288 with 1 Axes>"
      ]
     },
     "metadata": {
      "needs_background": "light"
     },
     "output_type": "display_data"
    }
   ],
   "source": [
    "pd.Series(encoders_performance).sort_values(ascending=False).plot(kind='bar', ylabel=\"test-auc-mean\",colormap = \"Dark2\",ylim = (0.55,0.65))"
   ]
  },
  {
   "cell_type": "code",
   "execution_count": 275,
   "id": "41d070a1",
   "metadata": {},
   "outputs": [
    {
     "data": {
      "text/plain": [
       "WOEEncoder           0.633329\n",
       "TargetEncoder        0.632311\n",
       "SimilarityEncoder    0.631853\n",
       "OneHotEncoder        0.631731\n",
       "CountEncoder         0.629809\n",
       "CatBoostEncoder      0.626914\n",
       "OrdinalEncoder       0.626758\n",
       "HashingEncoder       0.568023\n",
       "dtype: float64"
      ]
     },
     "execution_count": 275,
     "metadata": {},
     "output_type": "execute_result"
    }
   ],
   "source": [
    "pd.Series(encoders_performance).sort_values(ascending=False)"
   ]
  },
  {
   "cell_type": "markdown",
   "id": "3acfb834",
   "metadata": {},
   "source": [
    "## Implement categorical encoding - catboost"
   ]
  },
  {
   "cell_type": "code",
   "execution_count": 18,
   "id": "8b48fdbd",
   "metadata": {},
   "outputs": [],
   "source": [
    "params = {\n",
    "    \"learning_rate\" : 0.01,\n",
    "    \"iterations\" :  3000,\n",
    "    'depth': 4, \n",
    "    'rsm': 0.2680717988907101, \n",
    "    'l2_leaf_reg': 5.087316180296697, \n",
    "    'auto_class_weights': 'Balanced',\n",
    "    \"loss_function\" : \"Logloss\",\n",
    "    \"verbose\":False,\n",
    "    \"task_type\" : \"CPU\",\n",
    "    \"eval_metric\":\"AUC\"\n",
    "}\n",
    "nfolds  = 3"
   ]
  },
  {
   "cell_type": "code",
   "execution_count": 40,
   "id": "26b6c9d2",
   "metadata": {},
   "outputs": [],
   "source": [
    "from catboost import CatBoostClassifier, Pool, cv\n",
    "def catboost_cv(X, y, params, nfolds=5, cat_features = [],early_stopping_rounds = 50,plot=False):\n",
    "                \n",
    "    cv_dataset = Pool(data=X,                                       # cv requires a Pool dataset\n",
    "                      label=y,\n",
    "                      cat_features = cat_features)\n",
    "    scores = cv(cv_dataset,                                          # perform cv\n",
    "                params,\n",
    "                fold_count=nfolds, \n",
    "                plot=plot,\n",
    "                verbose=False,\n",
    "                early_stopping_rounds = early_stopping_rounds,\n",
    "                seed = 0)                                       # return best iteration\n",
    "    \n",
    "    return scores[\"test-AUC-mean\"].max()"
   ]
  },
  {
   "cell_type": "code",
   "execution_count": 36,
   "id": "47372e8b",
   "metadata": {},
   "outputs": [],
   "source": [
    "encoders_performance= {}"
   ]
  },
  {
   "cell_type": "code",
   "execution_count": 37,
   "id": "36c8eb61",
   "metadata": {},
   "outputs": [
    {
     "name": "stdout",
     "output_type": "stream",
     "text": [
      "Stopped by overfitting detector  (50 iterations wait)\n",
      "Stopped by overfitting detector  (50 iterations wait)\n",
      "Stopped by overfitting detector  (50 iterations wait)\n"
     ]
    },
    {
     "name": "stderr",
     "output_type": "stream",
     "text": [
      "C:\\Users\\tanch\\anaconda3\\lib\\site-packages\\category_encoders\\utils.py:21: FutureWarning: is_categorical is deprecated and will be removed in a future version.  Use is_categorical_dtype instead\n",
      "  elif pd.api.types.is_categorical(cols):\n"
     ]
    },
    {
     "name": "stdout",
     "output_type": "stream",
     "text": [
      "Stopped by overfitting detector  (50 iterations wait)\n",
      "Stopped by overfitting detector  (50 iterations wait)\n",
      "Stopped by overfitting detector  (50 iterations wait)\n",
      "Stopped by overfitting detector  (50 iterations wait)\n",
      "Stopped by overfitting detector  (50 iterations wait)\n"
     ]
    }
   ],
   "source": [
    "for encoder_name, encoder in encoders_dict.items():\n",
    "    encoded_X = encoder.fit_transform(X,y)\n",
    "    encoders_performance[f\"catboost_{encoder_name}\"] = catboost_cv(encoded_X,y,params)"
   ]
  },
  {
   "cell_type": "markdown",
   "id": "595feb2f",
   "metadata": {},
   "source": [
    "## Results \n",
    "- **best performing encoder on catboost was also WOEEncoder**, followed by TargetEncoder, SimilarityEncoder, OneHotEncoder  "
   ]
  },
  {
   "cell_type": "code",
   "execution_count": 54,
   "id": "a2fbbfec",
   "metadata": {},
   "outputs": [
    {
     "data": {
      "text/plain": [
       "<AxesSubplot:ylabel='test-auc-mean'>"
      ]
     },
     "execution_count": 54,
     "metadata": {},
     "output_type": "execute_result"
    },
    {
     "data": {
      "image/png": "[encoded data removed]",
      "text/plain": [
       "<Figure size 432x288 with 1 Axes>"
      ]
     },
     "metadata": {
      "needs_background": "light"
     },
     "output_type": "display_data"
    }
   ],
   "source": [
    "pd.Series(encoders_performance).sort_values(ascending=False).plot(kind='bar', ylabel=\"test-auc-mean\",colormap = \"Dark2\",ylim = (0.55,0.65))"
   ]
  },
  {
   "cell_type": "code",
   "execution_count": 58,
   "id": "7043af46",
   "metadata": {},
   "outputs": [
    {
     "data": {
      "text/plain": [
       "catboost_WOEEncoder           0.636045\n",
       "catboost_OneHotEncoder        0.632235\n",
       "catboost_TargetEncoder        0.632014\n",
       "catboost_SimilarityEncoder    0.631801\n",
       "catboost_CountEncoder         0.630939\n",
       "catboost_OrdinalEncoder       0.629454\n",
       "catboost_CatBoostEncoder      0.621920\n",
       "catboost_HashingEncoder       0.564964\n",
       "dtype: float64"
      ]
     },
     "execution_count": 58,
     "metadata": {},
     "output_type": "execute_result"
    }
   ],
   "source": [
    "pd.Series(encoders_performance).sort_values(ascending=False)"
   ]
  },
  {
   "cell_type": "markdown",
   "id": "762f2223",
   "metadata": {},
   "source": [
    "## What about specifying cat_features for catboost?\n",
    "- specifying cat_features for catboost has **significantly longer runtime** as there performs feature engineering internally\n",
    "- the performance was good at 0.633, but **still behind WOEEncoder, 0.636**"
   ]
  },
  {
   "cell_type": "code",
   "execution_count": 56,
   "id": "9fdcb0c6",
   "metadata": {},
   "outputs": [
    {
     "name": "stdout",
     "output_type": "stream",
     "text": [
      "Stopped by overfitting detector  (50 iterations wait)\n"
     ]
    },
    {
     "data": {
      "text/plain": [
       "0.6330133246846695"
      ]
     },
     "execution_count": 56,
     "metadata": {},
     "output_type": "execute_result"
    }
   ],
   "source": [
    "encoded_X = OrdinalEncoder().fit_transform(X,y)\n",
    "catboost_cv(encoded_X,y,params,cat_features=cat_features)"
   ]
  },
  {
   "cell_type": "markdown",
   "id": "9ef95ce3",
   "metadata": {},
   "source": [
    "## Diving deeper into WOEEncoder\n",
    "- **\"randomized\"=False (default) works slightly better**\n",
    "- **\"regularization\"=1 is (default) seem to work best**"
   ]
  },
  {
   "cell_type": "code",
   "execution_count": 66,
   "id": "43f7e8a1",
   "metadata": {},
   "outputs": [],
   "source": [
    "encoders_performance= {}"
   ]
  },
  {
   "cell_type": "code",
   "execution_count": 67,
   "id": "e49c5620",
   "metadata": {},
   "outputs": [
    {
     "name": "stderr",
     "output_type": "stream",
     "text": [
      "C:\\Users\\tanch\\anaconda3\\lib\\site-packages\\category_encoders\\utils.py:21: FutureWarning: is_categorical is deprecated and will be removed in a future version.  Use is_categorical_dtype instead\n",
      "  elif pd.api.types.is_categorical(cols):\n"
     ]
    },
    {
     "name": "stdout",
     "output_type": "stream",
     "text": [
      "Stopped by overfitting detector  (50 iterations wait)\n"
     ]
    },
    {
     "name": "stderr",
     "output_type": "stream",
     "text": [
      "C:\\Users\\tanch\\anaconda3\\lib\\site-packages\\category_encoders\\utils.py:21: FutureWarning: is_categorical is deprecated and will be removed in a future version.  Use is_categorical_dtype instead\n",
      "  elif pd.api.types.is_categorical(cols):\n"
     ]
    },
    {
     "name": "stdout",
     "output_type": "stream",
     "text": [
      "Stopped by overfitting detector  (50 iterations wait)\n"
     ]
    }
   ],
   "source": [
    "WOEEncoder_settings = [{\"randomized\":False},\n",
    "                       {\"randomized\":True}]\n",
    "for setting in WOEEncoder_settings:\n",
    "    encoder = WOEEncoder(**setting)\n",
    "    encoded_X = encoder.fit_transform(X,y)\n",
    "    encoders_performance[f\"{setting}\"] = catboost_cv(encoded_X,y,params)"
   ]
  },
  {
   "cell_type": "code",
   "execution_count": 70,
   "id": "89ed828c",
   "metadata": {},
   "outputs": [
    {
     "data": {
      "text/plain": [
       "{\"{'randomized': False}\": 0.6360450040935605,\n",
       " \"{'randomized': True}\": 0.6340910655341943}"
      ]
     },
     "execution_count": 70,
     "metadata": {},
     "output_type": "execute_result"
    }
   ],
   "source": [
    "encoders_performance"
   ]
  },
  {
   "cell_type": "code",
   "execution_count": 83,
   "id": "89ae1121",
   "metadata": {},
   "outputs": [],
   "source": [
    "encoders_performance= {}"
   ]
  },
  {
   "cell_type": "code",
   "execution_count": 89,
   "id": "ed32c002",
   "metadata": {
    "scrolled": true
   },
   "outputs": [
    {
     "name": "stderr",
     "output_type": "stream",
     "text": [
      "C:\\Users\\tanch\\anaconda3\\lib\\site-packages\\category_encoders\\utils.py:21: FutureWarning: is_categorical is deprecated and will be removed in a future version.  Use is_categorical_dtype instead\n",
      "  elif pd.api.types.is_categorical(cols):\n"
     ]
    },
    {
     "name": "stdout",
     "output_type": "stream",
     "text": [
      "Stopped by overfitting detector  (50 iterations wait)\n"
     ]
    },
    {
     "name": "stderr",
     "output_type": "stream",
     "text": [
      "C:\\Users\\tanch\\anaconda3\\lib\\site-packages\\category_encoders\\utils.py:21: FutureWarning: is_categorical is deprecated and will be removed in a future version.  Use is_categorical_dtype instead\n",
      "  elif pd.api.types.is_categorical(cols):\n"
     ]
    },
    {
     "name": "stdout",
     "output_type": "stream",
     "text": [
      "Stopped by overfitting detector  (50 iterations wait)\n"
     ]
    },
    {
     "name": "stderr",
     "output_type": "stream",
     "text": [
      "C:\\Users\\tanch\\anaconda3\\lib\\site-packages\\category_encoders\\utils.py:21: FutureWarning: is_categorical is deprecated and will be removed in a future version.  Use is_categorical_dtype instead\n",
      "  elif pd.api.types.is_categorical(cols):\n"
     ]
    },
    {
     "name": "stdout",
     "output_type": "stream",
     "text": [
      "Stopped by overfitting detector  (50 iterations wait)\n"
     ]
    },
    {
     "name": "stderr",
     "output_type": "stream",
     "text": [
      "C:\\Users\\tanch\\anaconda3\\lib\\site-packages\\category_encoders\\utils.py:21: FutureWarning: is_categorical is deprecated and will be removed in a future version.  Use is_categorical_dtype instead\n",
      "  elif pd.api.types.is_categorical(cols):\n"
     ]
    },
    {
     "name": "stdout",
     "output_type": "stream",
     "text": [
      "Stopped by overfitting detector  (50 iterations wait)\n"
     ]
    },
    {
     "name": "stderr",
     "output_type": "stream",
     "text": [
      "C:\\Users\\tanch\\anaconda3\\lib\\site-packages\\category_encoders\\utils.py:21: FutureWarning: is_categorical is deprecated and will be removed in a future version.  Use is_categorical_dtype instead\n",
      "  elif pd.api.types.is_categorical(cols):\n"
     ]
    },
    {
     "name": "stdout",
     "output_type": "stream",
     "text": [
      "Stopped by overfitting detector  (50 iterations wait)\n"
     ]
    },
    {
     "name": "stderr",
     "output_type": "stream",
     "text": [
      "C:\\Users\\tanch\\anaconda3\\lib\\site-packages\\category_encoders\\utils.py:21: FutureWarning: is_categorical is deprecated and will be removed in a future version.  Use is_categorical_dtype instead\n",
      "  elif pd.api.types.is_categorical(cols):\n"
     ]
    },
    {
     "name": "stdout",
     "output_type": "stream",
     "text": [
      "Stopped by overfitting detector  (50 iterations wait)\n"
     ]
    },
    {
     "name": "stderr",
     "output_type": "stream",
     "text": [
      "C:\\Users\\tanch\\anaconda3\\lib\\site-packages\\category_encoders\\utils.py:21: FutureWarning: is_categorical is deprecated and will be removed in a future version.  Use is_categorical_dtype instead\n",
      "  elif pd.api.types.is_categorical(cols):\n"
     ]
    },
    {
     "name": "stdout",
     "output_type": "stream",
     "text": [
      "Stopped by overfitting detector  (50 iterations wait)\n"
     ]
    }
   ],
   "source": [
    "for regularization in [0,0.25,0.5,0.75,1,1.25,1.5]:\n",
    "    encoder = WOEEncoder(regularization=regularization)\n",
    "    encoded_X = encoder.fit_transform(X,y)\n",
    "    encoders_performance[regularization] = catboost_cv(encoded_X,y,params,nfolds = 5)"
   ]
  },
  {
   "cell_type": "code",
   "execution_count": 90,
   "id": "7314177f",
   "metadata": {},
   "outputs": [
    {
     "data": {
      "text/plain": [
       "<AxesSubplot:>"
      ]
     },
     "execution_count": 90,
     "metadata": {},
     "output_type": "execute_result"
    },
    {
     "data": {
      "image/png": "[encoded data removed]",
      "text/plain": [
       "<Figure size 432x288 with 1 Axes>"
      ]
     },
     "metadata": {
      "needs_background": "light"
     },
     "output_type": "display_data"
    }
   ],
   "source": [
    "import seaborn as sns\n",
    "sns.lineplot(x = encoders_performance.keys(),y = encoders_performance.values())"
   ]
  },
  {
   "cell_type": "code",
   "execution_count": 91,
   "id": "22e2667c",
   "metadata": {},
   "outputs": [
    {
     "data": {
      "text/plain": [
       "{0: 0.6358331433980254,\n",
       " 0.25: 0.6355203424028294,\n",
       " 0.5: 0.6356498337836936,\n",
       " 0.75: 0.6320712287974227,\n",
       " 1: 0.6360450040935605,\n",
       " 1.25: 0.6359262832770431,\n",
       " 1.5: 0.6356368636688959}"
      ]
     },
     "execution_count": 91,
     "metadata": {},
     "output_type": "execute_result"
    }
   ],
   "source": [
    "encoders_performance"
   ]
  },
  {
   "cell_type": "code",
   "execution_count": null,
   "id": "0ceeb9be",
   "metadata": {},
   "outputs": [],
   "source": []
  },
  {
   "cell_type": "code",
   "execution_count": null,
   "id": "317fcea4",
   "metadata": {},
   "outputs": [],
   "source": []
  },
  {
   "cell_type": "code",
   "execution_count": null,
   "id": "b0c01d6b",
   "metadata": {},
   "outputs": [],
   "source": []
  },
  {
   "cell_type": "code",
   "execution_count": null,
   "id": "f779ca06",
   "metadata": {},
   "outputs": [],
   "source": []
  },
  {
   "cell_type": "code",
   "execution_count": 257,
   "id": "cf3af867",
   "metadata": {},
   "outputs": [],
   "source": [
    "def xgboost_cv_plot(X,y,params,nfold = 5, iterations= 1000, early_stopping_rounds = 50, plot = True):\n",
    "    # cross validation\n",
    "    model = xgb.XGBClassifier()\n",
    "    model.set_params(**params)\n",
    "    xgtrain = xgb.DMatrix(data = X, label=y) \n",
    "    cvresult = xgb.cv(params = params, \n",
    "                      dtrain  = xgtrain, \n",
    "                      num_boost_round=iterations, \n",
    "                      nfold=nfold,\n",
    "                      metrics='auc', \n",
    "                      stratified = True,\n",
    "                      early_stopping_rounds=early_stopping_rounds,\n",
    "                      seed = 0)\n",
    "    # print best iteration\n",
    "    test_metric = \"test-auc-mean\"\n",
    "    print(f\"Best Iteration: {cvresult.shape[0]}\")\n",
    "    for k,v in cvresult.iloc[cvresult[test_metric].idxmax()].items():\n",
    "        print(f\"{k}:{v}\")\n",
    "    if plot:\n",
    "        # plot cv results\n",
    "        cvresult['iteration'] = cvresult.index\n",
    "        metric_to_plot = [\"train-auc-mean\",\"test-auc-mean\"]                 \n",
    "        cvresult = pd.melt(cvresult,id_vars = [\"iteration\"], value_vars = metric_to_plot)\n",
    "        sns.lineplot(data = cvresult, x = \"iteration\", hue = \"variable\", y = \"value\", palette = \"Dark2\")\n"
   ]
  },
  {
   "cell_type": "code",
   "execution_count": 151,
   "id": "d6afd553",
   "metadata": {},
   "outputs": [],
   "source": [
    "# show_feature_importance\n",
    "def show_feature_importances(model, feature_names):\n",
    "    feat_imp = pd.Series(index = feature_names, data = model.feature_importances_).sort_values(ascending=False)\n",
    "    feat_imp.plot(kind='bar', title='Feature Importances',colormap = \"Dark2\")"
   ]
  },
  {
   "cell_type": "code",
   "execution_count": null,
   "id": "a8851969",
   "metadata": {},
   "outputs": [],
   "source": []
  },
  {
   "cell_type": "code",
   "execution_count": null,
   "id": "c7e1ef11",
   "metadata": {},
   "outputs": [],
   "source": []
  },
  {
   "cell_type": "code",
   "execution_count": null,
   "id": "d1687373",
   "metadata": {},
   "outputs": [],
   "source": []
  },
  {
   "cell_type": "code",
   "execution_count": null,
   "id": "95f5ce71",
   "metadata": {},
   "outputs": [],
   "source": []
  },
  {
   "cell_type": "code",
   "execution_count": null,
   "id": "eeb63da1",
   "metadata": {},
   "outputs": [],
   "source": []
  },
  {
   "cell_type": "code",
   "execution_count": null,
   "id": "bfab5b03",
   "metadata": {},
   "outputs": [],
   "source": []
  },
  {
   "cell_type": "code",
   "execution_count": null,
   "id": "730f1ddb",
   "metadata": {},
   "outputs": [],
   "source": []
  },
  {
   "cell_type": "code",
   "execution_count": null,
   "id": "6b5a7415",
   "metadata": {},
   "outputs": [],
   "source": []
  }
 ],
 "metadata": {
  "kernelspec": {
   "display_name": "Python 3",
   "language": "python",
   "name": "python3"
  },
  "language_info": {
   "codemirror_mode": {
    "name": "ipython",
    "version": 3
   },
   "file_extension": ".py",
   "mimetype": "text/x-python",
   "name": "python",
   "nbconvert_exporter": "python",
   "pygments_lexer": "ipython3",
   "version": "3.8.3"
  }
 },
 "nbformat": 4,
 "nbformat_minor": 5
}
