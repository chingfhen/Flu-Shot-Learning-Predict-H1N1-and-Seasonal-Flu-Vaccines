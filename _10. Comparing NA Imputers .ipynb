{
 "cells": [
  {
   "cell_type": "markdown",
   "id": "b8d8c7f1",
   "metadata": {},
   "source": [
    "# ABOUT:\n",
    "- in all previous notebooks, we had been using simple imputation fo missing values i.e :\n",
    "    - for numerical columns we imputed the median \n",
    "    - and categorical columns we imputed the mode or a new class\n",
    "- simple imputation may not be the best strategy, thus in this notebook, i:\n",
    "    - **compare the performances imputation techniques** namely:\n",
    "        1. Simple imputation \n",
    "            - imputing via mean, median, mode (or new category)\n",
    "        2. IterativeImputer \n",
    "            - imputing missing values by modeling each feature with missing values as a function of other features\n",
    "        3. KNNImputer\n",
    "            - missing values are imputed using the mean value from n_neighbors nearest neighbors found in the training set.\n",
    "        4. MissForest\n",
    "            - imputer that uses random forest to predict missing values\n",
    "            \n",
    "- insights:\n",
    "    - **manual simple imputing consistently outperformed all other imputers**\n",
    "    - **the only promising imputer was IterativeImputer** which occasionally better performance than manual imputation\n",
    "    - future studies can investigate IterativeImputer further "
   ]
  },
  {
   "cell_type": "markdown",
   "id": "00180291",
   "metadata": {},
   "source": [
    "### import data"
   ]
  },
  {
   "cell_type": "code",
   "execution_count": 4,
   "id": "be94e33b",
   "metadata": {},
   "outputs": [
    {
     "data": {
      "application/javascript": [
       "\n",
       "        if (window._pyforest_update_imports_cell) { window._pyforest_update_imports_cell('import pandas as pd'); }\n",
       "    "
      ],
      "text/plain": [
       "<IPython.core.display.Javascript object>"
      ]
     },
     "metadata": {},
     "output_type": "display_data"
    },
    {
     "data": {
      "application/javascript": [
       "\n",
       "        if (window._pyforest_update_imports_cell) { window._pyforest_update_imports_cell('import pandas as pd'); }\n",
       "    "
      ],
      "text/plain": [
       "<IPython.core.display.Javascript object>"
      ]
     },
     "metadata": {},
     "output_type": "display_data"
    }
   ],
   "source": [
    "train_features = pd.read_csv(r\"C:\\Users\\tanch\\Documents\\Coding Competitions\\DataDriven\\Flu Shot Learning\\local\\data\\training_set_features.csv\",index_col = \"respondent_id\")\n",
    "train_labels = pd.read_csv(r\"C:\\Users\\tanch\\Documents\\Coding Competitions\\DataDriven\\Flu Shot Learning\\local\\data\\training_set_labels.csv\",index_col = \"respondent_id\")"
   ]
  },
  {
   "cell_type": "code",
   "execution_count": 5,
   "id": "31184e76",
   "metadata": {},
   "outputs": [],
   "source": [
    "# we encode categories with Ordinal encoder\n",
    "from category_encoders.ordinal import OrdinalEncoder\n",
    "en = OrdinalEncoder(handle_missing = \"return_nan\")\n",
    "X = en.fit_transform(train_features)\n",
    "y = train_labels.h1n1_vaccine"
   ]
  },
  {
   "cell_type": "code",
   "execution_count": 6,
   "id": "f2a113ac",
   "metadata": {},
   "outputs": [
    {
     "data": {
      "text/html": [
       "<div>\n",
       "<style scoped>\n",
       "    .dataframe tbody tr th:only-of-type {\n",
       "        vertical-align: middle;\n",
       "    }\n",
       "\n",
       "    .dataframe tbody tr th {\n",
       "        vertical-align: top;\n",
       "    }\n",
       "\n",
       "    .dataframe thead th {\n",
       "        text-align: right;\n",
       "    }\n",
       "</style>\n",
       "<table border=\"1\" class=\"dataframe\">\n",
       "  <thead>\n",
       "    <tr style=\"text-align: right;\">\n",
       "      <th></th>\n",
       "      <th>h1n1_concern</th>\n",
       "      <th>h1n1_knowledge</th>\n",
       "      <th>behavioral_antiviral_meds</th>\n",
       "      <th>behavioral_avoidance</th>\n",
       "      <th>behavioral_face_mask</th>\n",
       "      <th>behavioral_wash_hands</th>\n",
       "      <th>behavioral_large_gatherings</th>\n",
       "      <th>behavioral_outside_home</th>\n",
       "      <th>behavioral_touch_face</th>\n",
       "      <th>doctor_recc_h1n1</th>\n",
       "      <th>...</th>\n",
       "      <th>income_poverty</th>\n",
       "      <th>marital_status</th>\n",
       "      <th>rent_or_own</th>\n",
       "      <th>employment_status</th>\n",
       "      <th>hhs_geo_region</th>\n",
       "      <th>census_msa</th>\n",
       "      <th>household_adults</th>\n",
       "      <th>household_children</th>\n",
       "      <th>employment_industry</th>\n",
       "      <th>employment_occupation</th>\n",
       "    </tr>\n",
       "    <tr>\n",
       "      <th>respondent_id</th>\n",
       "      <th></th>\n",
       "      <th></th>\n",
       "      <th></th>\n",
       "      <th></th>\n",
       "      <th></th>\n",
       "      <th></th>\n",
       "      <th></th>\n",
       "      <th></th>\n",
       "      <th></th>\n",
       "      <th></th>\n",
       "      <th></th>\n",
       "      <th></th>\n",
       "      <th></th>\n",
       "      <th></th>\n",
       "      <th></th>\n",
       "      <th></th>\n",
       "      <th></th>\n",
       "      <th></th>\n",
       "      <th></th>\n",
       "      <th></th>\n",
       "      <th></th>\n",
       "    </tr>\n",
       "  </thead>\n",
       "  <tbody>\n",
       "    <tr>\n",
       "      <th>0</th>\n",
       "      <td>1.0</td>\n",
       "      <td>0.0</td>\n",
       "      <td>0.0</td>\n",
       "      <td>0.0</td>\n",
       "      <td>0.0</td>\n",
       "      <td>0.0</td>\n",
       "      <td>0.0</td>\n",
       "      <td>1.0</td>\n",
       "      <td>1.0</td>\n",
       "      <td>0.0</td>\n",
       "      <td>...</td>\n",
       "      <td>Below Poverty</td>\n",
       "      <td>Not Married</td>\n",
       "      <td>Own</td>\n",
       "      <td>Not in Labor Force</td>\n",
       "      <td>oxchjgsf</td>\n",
       "      <td>Non-MSA</td>\n",
       "      <td>0.0</td>\n",
       "      <td>0.0</td>\n",
       "      <td>NaN</td>\n",
       "      <td>NaN</td>\n",
       "    </tr>\n",
       "    <tr>\n",
       "      <th>1</th>\n",
       "      <td>3.0</td>\n",
       "      <td>2.0</td>\n",
       "      <td>0.0</td>\n",
       "      <td>1.0</td>\n",
       "      <td>0.0</td>\n",
       "      <td>1.0</td>\n",
       "      <td>0.0</td>\n",
       "      <td>1.0</td>\n",
       "      <td>1.0</td>\n",
       "      <td>0.0</td>\n",
       "      <td>...</td>\n",
       "      <td>Below Poverty</td>\n",
       "      <td>Not Married</td>\n",
       "      <td>Rent</td>\n",
       "      <td>Employed</td>\n",
       "      <td>bhuqouqj</td>\n",
       "      <td>MSA, Not Principle  City</td>\n",
       "      <td>0.0</td>\n",
       "      <td>0.0</td>\n",
       "      <td>pxcmvdjn</td>\n",
       "      <td>xgwztkwe</td>\n",
       "    </tr>\n",
       "    <tr>\n",
       "      <th>2</th>\n",
       "      <td>1.0</td>\n",
       "      <td>1.0</td>\n",
       "      <td>0.0</td>\n",
       "      <td>1.0</td>\n",
       "      <td>0.0</td>\n",
       "      <td>0.0</td>\n",
       "      <td>0.0</td>\n",
       "      <td>0.0</td>\n",
       "      <td>0.0</td>\n",
       "      <td>NaN</td>\n",
       "      <td>...</td>\n",
       "      <td>&lt;= $75,000, Above Poverty</td>\n",
       "      <td>Not Married</td>\n",
       "      <td>Own</td>\n",
       "      <td>Employed</td>\n",
       "      <td>qufhixun</td>\n",
       "      <td>MSA, Not Principle  City</td>\n",
       "      <td>2.0</td>\n",
       "      <td>0.0</td>\n",
       "      <td>rucpziij</td>\n",
       "      <td>xtkaffoo</td>\n",
       "    </tr>\n",
       "    <tr>\n",
       "      <th>3</th>\n",
       "      <td>1.0</td>\n",
       "      <td>1.0</td>\n",
       "      <td>0.0</td>\n",
       "      <td>1.0</td>\n",
       "      <td>0.0</td>\n",
       "      <td>1.0</td>\n",
       "      <td>1.0</td>\n",
       "      <td>0.0</td>\n",
       "      <td>0.0</td>\n",
       "      <td>0.0</td>\n",
       "      <td>...</td>\n",
       "      <td>Below Poverty</td>\n",
       "      <td>Not Married</td>\n",
       "      <td>Rent</td>\n",
       "      <td>Not in Labor Force</td>\n",
       "      <td>lrircsnp</td>\n",
       "      <td>MSA, Principle City</td>\n",
       "      <td>0.0</td>\n",
       "      <td>0.0</td>\n",
       "      <td>NaN</td>\n",
       "      <td>NaN</td>\n",
       "    </tr>\n",
       "    <tr>\n",
       "      <th>4</th>\n",
       "      <td>2.0</td>\n",
       "      <td>1.0</td>\n",
       "      <td>0.0</td>\n",
       "      <td>1.0</td>\n",
       "      <td>0.0</td>\n",
       "      <td>1.0</td>\n",
       "      <td>1.0</td>\n",
       "      <td>0.0</td>\n",
       "      <td>1.0</td>\n",
       "      <td>0.0</td>\n",
       "      <td>...</td>\n",
       "      <td>&lt;= $75,000, Above Poverty</td>\n",
       "      <td>Married</td>\n",
       "      <td>Own</td>\n",
       "      <td>Employed</td>\n",
       "      <td>qufhixun</td>\n",
       "      <td>MSA, Not Principle  City</td>\n",
       "      <td>1.0</td>\n",
       "      <td>0.0</td>\n",
       "      <td>wxleyezf</td>\n",
       "      <td>emcorrxb</td>\n",
       "    </tr>\n",
       "  </tbody>\n",
       "</table>\n",
       "<p>5 rows × 35 columns</p>\n",
       "</div>"
      ],
      "text/plain": [
       "               h1n1_concern  h1n1_knowledge  behavioral_antiviral_meds  \\\n",
       "respondent_id                                                            \n",
       "0                       1.0             0.0                        0.0   \n",
       "1                       3.0             2.0                        0.0   \n",
       "2                       1.0             1.0                        0.0   \n",
       "3                       1.0             1.0                        0.0   \n",
       "4                       2.0             1.0                        0.0   \n",
       "\n",
       "               behavioral_avoidance  behavioral_face_mask  \\\n",
       "respondent_id                                               \n",
       "0                               0.0                   0.0   \n",
       "1                               1.0                   0.0   \n",
       "2                               1.0                   0.0   \n",
       "3                               1.0                   0.0   \n",
       "4                               1.0                   0.0   \n",
       "\n",
       "               behavioral_wash_hands  behavioral_large_gatherings  \\\n",
       "respondent_id                                                       \n",
       "0                                0.0                          0.0   \n",
       "1                                1.0                          0.0   \n",
       "2                                0.0                          0.0   \n",
       "3                                1.0                          1.0   \n",
       "4                                1.0                          1.0   \n",
       "\n",
       "               behavioral_outside_home  behavioral_touch_face  \\\n",
       "respondent_id                                                   \n",
       "0                                  1.0                    1.0   \n",
       "1                                  1.0                    1.0   \n",
       "2                                  0.0                    0.0   \n",
       "3                                  0.0                    0.0   \n",
       "4                                  0.0                    1.0   \n",
       "\n",
       "               doctor_recc_h1n1  ...             income_poverty  \\\n",
       "respondent_id                    ...                              \n",
       "0                           0.0  ...              Below Poverty   \n",
       "1                           0.0  ...              Below Poverty   \n",
       "2                           NaN  ...  <= $75,000, Above Poverty   \n",
       "3                           0.0  ...              Below Poverty   \n",
       "4                           0.0  ...  <= $75,000, Above Poverty   \n",
       "\n",
       "               marital_status  rent_or_own   employment_status  \\\n",
       "respondent_id                                                    \n",
       "0                 Not Married          Own  Not in Labor Force   \n",
       "1                 Not Married         Rent            Employed   \n",
       "2                 Not Married          Own            Employed   \n",
       "3                 Not Married         Rent  Not in Labor Force   \n",
       "4                     Married          Own            Employed   \n",
       "\n",
       "               hhs_geo_region                census_msa  household_adults  \\\n",
       "respondent_id                                                               \n",
       "0                    oxchjgsf                   Non-MSA               0.0   \n",
       "1                    bhuqouqj  MSA, Not Principle  City               0.0   \n",
       "2                    qufhixun  MSA, Not Principle  City               2.0   \n",
       "3                    lrircsnp       MSA, Principle City               0.0   \n",
       "4                    qufhixun  MSA, Not Principle  City               1.0   \n",
       "\n",
       "               household_children  employment_industry  employment_occupation  \n",
       "respondent_id                                                                  \n",
       "0                             0.0                  NaN                    NaN  \n",
       "1                             0.0             pxcmvdjn               xgwztkwe  \n",
       "2                             0.0             rucpziij               xtkaffoo  \n",
       "3                             0.0                  NaN                    NaN  \n",
       "4                             0.0             wxleyezf               emcorrxb  \n",
       "\n",
       "[5 rows x 35 columns]"
      ]
     },
     "execution_count": 6,
     "metadata": {},
     "output_type": "execute_result"
    }
   ],
   "source": [
    "train_features.head()"
   ]
  },
  {
   "cell_type": "markdown",
   "id": "0d6ce4c8",
   "metadata": {},
   "source": [
    "### simple imputed data\n",
    "- previously we imputed NAs in this dataset with median or mode, or a new class manually\n"
   ]
  },
  {
   "cell_type": "code",
   "execution_count": 7,
   "id": "b724fa8c",
   "metadata": {},
   "outputs": [
    {
     "data": {
      "application/javascript": [
       "\n",
       "        if (window._pyforest_update_imports_cell) { window._pyforest_update_imports_cell('import pandas as pd'); }\n",
       "    "
      ],
      "text/plain": [
       "<IPython.core.display.Javascript object>"
      ]
     },
     "metadata": {},
     "output_type": "display_data"
    }
   ],
   "source": [
    "simple_imputed_data = pd.read_csv(r\"C:\\Users\\tanch\\Documents\\Coding Competitions\\DataDriven\\Flu Shot Learning\\local\\data\\cleaned_train_set.csv\",index_col = \"respondent_id\")\n",
    "simpleImputed_X = simple_imputed_data[[col for col in simple_imputed_data.columns if col not in ['h1n1_vaccine', 'seasonal_vaccine']]]"
   ]
  },
  {
   "cell_type": "markdown",
   "id": "4096bec5",
   "metadata": {},
   "source": [
    "# IterativeImputer"
   ]
  },
  {
   "cell_type": "code",
   "execution_count": 8,
   "id": "418c2305",
   "metadata": {},
   "outputs": [],
   "source": [
    "from sklearn.impute import KNNImputer,IterativeImputer\n",
    "imputer = IterativeImputer(random_state=0)\n",
    "IterativeImputed_X = imputer.fit_transform(X)"
   ]
  },
  {
   "cell_type": "code",
   "execution_count": 9,
   "id": "53521e7a",
   "metadata": {},
   "outputs": [
    {
     "data": {
      "application/javascript": [
       "\n",
       "        if (window._pyforest_update_imports_cell) { window._pyforest_update_imports_cell('import pandas as pd'); }\n",
       "    "
      ],
      "text/plain": [
       "<IPython.core.display.Javascript object>"
      ]
     },
     "metadata": {},
     "output_type": "display_data"
    },
    {
     "data": {
      "text/html": [
       "<div>\n",
       "<style scoped>\n",
       "    .dataframe tbody tr th:only-of-type {\n",
       "        vertical-align: middle;\n",
       "    }\n",
       "\n",
       "    .dataframe tbody tr th {\n",
       "        vertical-align: top;\n",
       "    }\n",
       "\n",
       "    .dataframe thead th {\n",
       "        text-align: right;\n",
       "    }\n",
       "</style>\n",
       "<table border=\"1\" class=\"dataframe\">\n",
       "  <thead>\n",
       "    <tr style=\"text-align: right;\">\n",
       "      <th></th>\n",
       "      <th>0</th>\n",
       "      <th>1</th>\n",
       "      <th>2</th>\n",
       "      <th>3</th>\n",
       "      <th>4</th>\n",
       "      <th>5</th>\n",
       "      <th>6</th>\n",
       "      <th>7</th>\n",
       "      <th>8</th>\n",
       "      <th>9</th>\n",
       "      <th>...</th>\n",
       "      <th>25</th>\n",
       "      <th>26</th>\n",
       "      <th>27</th>\n",
       "      <th>28</th>\n",
       "      <th>29</th>\n",
       "      <th>30</th>\n",
       "      <th>31</th>\n",
       "      <th>32</th>\n",
       "      <th>33</th>\n",
       "      <th>34</th>\n",
       "    </tr>\n",
       "  </thead>\n",
       "  <tbody>\n",
       "    <tr>\n",
       "      <th>0</th>\n",
       "      <td>1.0</td>\n",
       "      <td>0.0</td>\n",
       "      <td>0.0</td>\n",
       "      <td>0.0</td>\n",
       "      <td>0.0</td>\n",
       "      <td>0.0</td>\n",
       "      <td>0.0</td>\n",
       "      <td>1.0</td>\n",
       "      <td>1.0</td>\n",
       "      <td>0.0</td>\n",
       "      <td>...</td>\n",
       "      <td>1.0</td>\n",
       "      <td>1.0</td>\n",
       "      <td>1.0</td>\n",
       "      <td>1.0</td>\n",
       "      <td>1.0</td>\n",
       "      <td>1.0</td>\n",
       "      <td>0.0</td>\n",
       "      <td>0.0</td>\n",
       "      <td>9.32398</td>\n",
       "      <td>10.119864</td>\n",
       "    </tr>\n",
       "    <tr>\n",
       "      <th>1</th>\n",
       "      <td>3.0</td>\n",
       "      <td>2.0</td>\n",
       "      <td>0.0</td>\n",
       "      <td>1.0</td>\n",
       "      <td>0.0</td>\n",
       "      <td>1.0</td>\n",
       "      <td>0.0</td>\n",
       "      <td>1.0</td>\n",
       "      <td>1.0</td>\n",
       "      <td>0.0</td>\n",
       "      <td>...</td>\n",
       "      <td>1.0</td>\n",
       "      <td>1.0</td>\n",
       "      <td>2.0</td>\n",
       "      <td>2.0</td>\n",
       "      <td>2.0</td>\n",
       "      <td>2.0</td>\n",
       "      <td>0.0</td>\n",
       "      <td>0.0</td>\n",
       "      <td>2.00000</td>\n",
       "      <td>2.000000</td>\n",
       "    </tr>\n",
       "  </tbody>\n",
       "</table>\n",
       "<p>2 rows × 35 columns</p>\n",
       "</div>"
      ],
      "text/plain": [
       "    0    1    2    3    4    5    6    7    8    9   ...   25   26   27   28  \\\n",
       "0  1.0  0.0  0.0  0.0  0.0  0.0  0.0  1.0  1.0  0.0  ...  1.0  1.0  1.0  1.0   \n",
       "1  3.0  2.0  0.0  1.0  0.0  1.0  0.0  1.0  1.0  0.0  ...  1.0  1.0  2.0  2.0   \n",
       "\n",
       "    29   30   31   32       33         34  \n",
       "0  1.0  1.0  0.0  0.0  9.32398  10.119864  \n",
       "1  2.0  2.0  0.0  0.0  2.00000   2.000000  \n",
       "\n",
       "[2 rows x 35 columns]"
      ]
     },
     "execution_count": 9,
     "metadata": {},
     "output_type": "execute_result"
    }
   ],
   "source": [
    "pd.DataFrame(IterativeImputed_X).head(2)"
   ]
  },
  {
   "cell_type": "markdown",
   "id": "07601de0",
   "metadata": {},
   "source": [
    "# KNNImputer"
   ]
  },
  {
   "cell_type": "code",
   "execution_count": 10,
   "id": "2bbdb571",
   "metadata": {},
   "outputs": [],
   "source": [
    "from sklearn.impute import KNNImputer\n",
    "imputer = KNNImputer(n_neighbors=2)\n",
    "KNNImputed_X = imputer.fit_transform(X)"
   ]
  },
  {
   "cell_type": "code",
   "execution_count": 11,
   "id": "56823ec1",
   "metadata": {
    "scrolled": false
   },
   "outputs": [
    {
     "data": {
      "application/javascript": [
       "\n",
       "        if (window._pyforest_update_imports_cell) { window._pyforest_update_imports_cell('import pandas as pd'); }\n",
       "    "
      ],
      "text/plain": [
       "<IPython.core.display.Javascript object>"
      ]
     },
     "metadata": {},
     "output_type": "display_data"
    },
    {
     "data": {
      "text/html": [
       "<div>\n",
       "<style scoped>\n",
       "    .dataframe tbody tr th:only-of-type {\n",
       "        vertical-align: middle;\n",
       "    }\n",
       "\n",
       "    .dataframe tbody tr th {\n",
       "        vertical-align: top;\n",
       "    }\n",
       "\n",
       "    .dataframe thead th {\n",
       "        text-align: right;\n",
       "    }\n",
       "</style>\n",
       "<table border=\"1\" class=\"dataframe\">\n",
       "  <thead>\n",
       "    <tr style=\"text-align: right;\">\n",
       "      <th></th>\n",
       "      <th>0</th>\n",
       "      <th>1</th>\n",
       "      <th>2</th>\n",
       "      <th>3</th>\n",
       "      <th>4</th>\n",
       "      <th>5</th>\n",
       "      <th>6</th>\n",
       "      <th>7</th>\n",
       "      <th>8</th>\n",
       "      <th>9</th>\n",
       "      <th>...</th>\n",
       "      <th>25</th>\n",
       "      <th>26</th>\n",
       "      <th>27</th>\n",
       "      <th>28</th>\n",
       "      <th>29</th>\n",
       "      <th>30</th>\n",
       "      <th>31</th>\n",
       "      <th>32</th>\n",
       "      <th>33</th>\n",
       "      <th>34</th>\n",
       "    </tr>\n",
       "  </thead>\n",
       "  <tbody>\n",
       "    <tr>\n",
       "      <th>0</th>\n",
       "      <td>1.0</td>\n",
       "      <td>0.0</td>\n",
       "      <td>0.0</td>\n",
       "      <td>0.0</td>\n",
       "      <td>0.0</td>\n",
       "      <td>0.0</td>\n",
       "      <td>0.0</td>\n",
       "      <td>1.0</td>\n",
       "      <td>1.0</td>\n",
       "      <td>0.0</td>\n",
       "      <td>...</td>\n",
       "      <td>1.0</td>\n",
       "      <td>1.0</td>\n",
       "      <td>1.0</td>\n",
       "      <td>1.0</td>\n",
       "      <td>1.0</td>\n",
       "      <td>1.0</td>\n",
       "      <td>0.0</td>\n",
       "      <td>0.0</td>\n",
       "      <td>9.5</td>\n",
       "      <td>9.0</td>\n",
       "    </tr>\n",
       "    <tr>\n",
       "      <th>1</th>\n",
       "      <td>3.0</td>\n",
       "      <td>2.0</td>\n",
       "      <td>0.0</td>\n",
       "      <td>1.0</td>\n",
       "      <td>0.0</td>\n",
       "      <td>1.0</td>\n",
       "      <td>0.0</td>\n",
       "      <td>1.0</td>\n",
       "      <td>1.0</td>\n",
       "      <td>0.0</td>\n",
       "      <td>...</td>\n",
       "      <td>1.0</td>\n",
       "      <td>1.0</td>\n",
       "      <td>2.0</td>\n",
       "      <td>2.0</td>\n",
       "      <td>2.0</td>\n",
       "      <td>2.0</td>\n",
       "      <td>0.0</td>\n",
       "      <td>0.0</td>\n",
       "      <td>2.0</td>\n",
       "      <td>2.0</td>\n",
       "    </tr>\n",
       "  </tbody>\n",
       "</table>\n",
       "<p>2 rows × 35 columns</p>\n",
       "</div>"
      ],
      "text/plain": [
       "    0    1    2    3    4    5    6    7    8    9   ...   25   26   27   28  \\\n",
       "0  1.0  0.0  0.0  0.0  0.0  0.0  0.0  1.0  1.0  0.0  ...  1.0  1.0  1.0  1.0   \n",
       "1  3.0  2.0  0.0  1.0  0.0  1.0  0.0  1.0  1.0  0.0  ...  1.0  1.0  2.0  2.0   \n",
       "\n",
       "    29   30   31   32   33   34  \n",
       "0  1.0  1.0  0.0  0.0  9.5  9.0  \n",
       "1  2.0  2.0  0.0  0.0  2.0  2.0  \n",
       "\n",
       "[2 rows x 35 columns]"
      ]
     },
     "execution_count": 11,
     "metadata": {},
     "output_type": "execute_result"
    }
   ],
   "source": [
    "pd.DataFrame(KNNImputed_X).head(2)"
   ]
  },
  {
   "cell_type": "markdown",
   "id": "09870892",
   "metadata": {},
   "source": [
    "# MissForest"
   ]
  },
  {
   "cell_type": "code",
   "execution_count": 14,
   "id": "7831e263",
   "metadata": {
    "scrolled": true
   },
   "outputs": [
    {
     "data": {
      "application/javascript": [
       "\n",
       "        if (window._pyforest_update_imports_cell) { window._pyforest_update_imports_cell('import sys\\nimport pandas as pd'); }\n",
       "    "
      ],
      "text/plain": [
       "<IPython.core.display.Javascript object>"
      ]
     },
     "metadata": {},
     "output_type": "display_data"
    },
    {
     "name": "stdout",
     "output_type": "stream",
     "text": [
      "Iteration: 0\n",
      "Iteration: 1\n",
      "Iteration: 2\n"
     ]
    }
   ],
   "source": [
    "import sklearn.neighbors._base                                       # this 2 lines avoids some naming issue\n",
    "sys.modules['sklearn.neighbors.base'] = sklearn.neighbors._base\n",
    "from missingpy import MissForest\n",
    "imputer = MissForest(n_jobs = -1)\n",
    "missforest_X = imputer.fit_transform(X)"
   ]
  },
  {
   "cell_type": "code",
   "execution_count": 15,
   "id": "b314ef85",
   "metadata": {
    "scrolled": false
   },
   "outputs": [
    {
     "data": {
      "application/javascript": [
       "\n",
       "        if (window._pyforest_update_imports_cell) { window._pyforest_update_imports_cell('import sys\\nimport pandas as pd'); }\n",
       "    "
      ],
      "text/plain": [
       "<IPython.core.display.Javascript object>"
      ]
     },
     "metadata": {},
     "output_type": "display_data"
    },
    {
     "data": {
      "text/html": [
       "<div>\n",
       "<style scoped>\n",
       "    .dataframe tbody tr th:only-of-type {\n",
       "        vertical-align: middle;\n",
       "    }\n",
       "\n",
       "    .dataframe tbody tr th {\n",
       "        vertical-align: top;\n",
       "    }\n",
       "\n",
       "    .dataframe thead th {\n",
       "        text-align: right;\n",
       "    }\n",
       "</style>\n",
       "<table border=\"1\" class=\"dataframe\">\n",
       "  <thead>\n",
       "    <tr style=\"text-align: right;\">\n",
       "      <th></th>\n",
       "      <th>0</th>\n",
       "      <th>1</th>\n",
       "      <th>2</th>\n",
       "      <th>3</th>\n",
       "      <th>4</th>\n",
       "      <th>5</th>\n",
       "      <th>6</th>\n",
       "      <th>7</th>\n",
       "      <th>8</th>\n",
       "      <th>9</th>\n",
       "      <th>...</th>\n",
       "      <th>25</th>\n",
       "      <th>26</th>\n",
       "      <th>27</th>\n",
       "      <th>28</th>\n",
       "      <th>29</th>\n",
       "      <th>30</th>\n",
       "      <th>31</th>\n",
       "      <th>32</th>\n",
       "      <th>33</th>\n",
       "      <th>34</th>\n",
       "    </tr>\n",
       "  </thead>\n",
       "  <tbody>\n",
       "    <tr>\n",
       "      <th>0</th>\n",
       "      <td>1.0</td>\n",
       "      <td>0.0</td>\n",
       "      <td>0.0</td>\n",
       "      <td>0.0</td>\n",
       "      <td>0.0</td>\n",
       "      <td>0.0</td>\n",
       "      <td>0.0</td>\n",
       "      <td>1.0</td>\n",
       "      <td>1.0</td>\n",
       "      <td>0.0</td>\n",
       "      <td>...</td>\n",
       "      <td>1.0</td>\n",
       "      <td>1.0</td>\n",
       "      <td>1.0</td>\n",
       "      <td>1.0</td>\n",
       "      <td>1.0</td>\n",
       "      <td>1.0</td>\n",
       "      <td>0.0</td>\n",
       "      <td>0.0</td>\n",
       "      <td>11.39</td>\n",
       "      <td>10.79</td>\n",
       "    </tr>\n",
       "    <tr>\n",
       "      <th>1</th>\n",
       "      <td>3.0</td>\n",
       "      <td>2.0</td>\n",
       "      <td>0.0</td>\n",
       "      <td>1.0</td>\n",
       "      <td>0.0</td>\n",
       "      <td>1.0</td>\n",
       "      <td>0.0</td>\n",
       "      <td>1.0</td>\n",
       "      <td>1.0</td>\n",
       "      <td>0.0</td>\n",
       "      <td>...</td>\n",
       "      <td>1.0</td>\n",
       "      <td>1.0</td>\n",
       "      <td>2.0</td>\n",
       "      <td>2.0</td>\n",
       "      <td>2.0</td>\n",
       "      <td>2.0</td>\n",
       "      <td>0.0</td>\n",
       "      <td>0.0</td>\n",
       "      <td>2.00</td>\n",
       "      <td>2.00</td>\n",
       "    </tr>\n",
       "  </tbody>\n",
       "</table>\n",
       "<p>2 rows × 35 columns</p>\n",
       "</div>"
      ],
      "text/plain": [
       "    0    1    2    3    4    5    6    7    8    9   ...   25   26   27   28  \\\n",
       "0  1.0  0.0  0.0  0.0  0.0  0.0  0.0  1.0  1.0  0.0  ...  1.0  1.0  1.0  1.0   \n",
       "1  3.0  2.0  0.0  1.0  0.0  1.0  0.0  1.0  1.0  0.0  ...  1.0  1.0  2.0  2.0   \n",
       "\n",
       "    29   30   31   32     33     34  \n",
       "0  1.0  1.0  0.0  0.0  11.39  10.79  \n",
       "1  2.0  2.0  0.0  0.0   2.00   2.00  \n",
       "\n",
       "[2 rows x 35 columns]"
      ]
     },
     "execution_count": 15,
     "metadata": {},
     "output_type": "execute_result"
    }
   ],
   "source": [
    "pd.DataFrame(missforest_X).head(2)"
   ]
  },
  {
   "cell_type": "markdown",
   "id": "75802dcd",
   "metadata": {},
   "source": [
    "# Imputer Comparison Experiment\n",
    "- we train mutiple ensemble models on each of the imputed datasets. then, calculate the auc score by cross validation"
   ]
  },
  {
   "cell_type": "code",
   "execution_count": 16,
   "id": "a7f4c0e3",
   "metadata": {},
   "outputs": [],
   "source": [
    "from sklearn.experimental import enable_hist_gradient_boosting  \n",
    "from sklearn.ensemble import HistGradientBoostingClassifier,GradientBoostingClassifier, AdaBoostClassifier, BaggingClassifier, ExtraTreesClassifier,RandomForestClassifier\n",
    "param = {\"n_estimators\":100, \n",
    "         \"random_state\":0}\n",
    "ensemble_models = {\n",
    "    'HistGradientBoostingClassifier': HistGradientBoostingClassifier(),\n",
    "    'AdaBoostClassifier': AdaBoostClassifier(),\n",
    "    'GradientBoostingClassifier': GradientBoostingClassifier(),\n",
    "    'BaggingClassifier': BaggingClassifier(),\n",
    "    'ExtraTreesClassifier': ExtraTreesClassifier(),\n",
    "    'RandomForestClassifier': RandomForestClassifier()}\n",
    "ensemble_models  = {k:(v.set_params(**param) if k!=\"HistGradientBoostingClassifier\" else v) for k,v in ensemble_models.items() }"
   ]
  },
  {
   "cell_type": "code",
   "execution_count": 17,
   "id": "946ed17d",
   "metadata": {},
   "outputs": [],
   "source": [
    "from collections import defaultdict\n",
    "score_board = defaultdict(list)"
   ]
  },
  {
   "cell_type": "code",
   "execution_count": 18,
   "id": "6c704c65",
   "metadata": {},
   "outputs": [],
   "source": [
    "from sklearn.model_selection import cross_val_score\n",
    "for df_name, temp_X in zip([\"SimpleImputer\",\"KNNImputer\",\"IterativeImputer\",\"MissForest\"],[simpleImputed_X,KNNImputed_X,IterativeImputed_X,missforest_X]):\n",
    "    for model_name, model in ensemble_models.items():\n",
    "        score = cross_val_score(model,temp_X,y,scoring = \"roc_auc\",cv=3).mean()\n",
    "        score_board[df_name].append(score)"
   ]
  },
  {
   "cell_type": "code",
   "execution_count": 19,
   "id": "70c4922b",
   "metadata": {},
   "outputs": [
    {
     "data": {
      "application/javascript": [
       "\n",
       "        if (window._pyforest_update_imports_cell) { window._pyforest_update_imports_cell('import sys\\nimport pandas as pd'); }\n",
       "    "
      ],
      "text/plain": [
       "<IPython.core.display.Javascript object>"
      ]
     },
     "metadata": {},
     "output_type": "display_data"
    },
    {
     "data": {
      "application/javascript": [
       "\n",
       "        if (window._pyforest_update_imports_cell) { window._pyforest_update_imports_cell('import sys\\nimport pandas as pd'); }\n",
       "    "
      ],
      "text/plain": [
       "<IPython.core.display.Javascript object>"
      ]
     },
     "metadata": {},
     "output_type": "display_data"
    }
   ],
   "source": [
    "score_board.update({\"model\":ensemble_models.keys()})\n",
    "score_board_df = pd.DataFrame(score_board)\n",
    "score_board_df  = pd.melt(score_board_df, id_vars = \"model\",value_vars = [\"SimpleImputer\",\"KNNImputer\",\"IterativeImputer\",\"MissForest\"])"
   ]
  },
  {
   "cell_type": "markdown",
   "id": "73bc6bad",
   "metadata": {},
   "source": [
    "## Results\n",
    "- **Only IterativeImputer yield equal performance compared to simple imputation** (manual imputation by intuition)\n",
    "- **other imputers worsened the performances** \n",
    "- Hypothesis:\n",
    "    - there were some columns in the dataset which had a very large proportion of NAs\n",
    "    - Imputers may have had trouble imputing those columns "
   ]
  },
  {
   "cell_type": "code",
   "execution_count": 32,
   "id": "f600843f",
   "metadata": {},
   "outputs": [
    {
     "data": {
      "application/javascript": [
       "\n",
       "        if (window._pyforest_update_imports_cell) { window._pyforest_update_imports_cell('import sys\\nimport pandas as pd\\nimport matplotlib.pyplot as plt'); }\n",
       "    "
      ],
      "text/plain": [
       "<IPython.core.display.Javascript object>"
      ]
     },
     "metadata": {},
     "output_type": "display_data"
    },
    {
     "data": {
      "text/plain": [
       "(array([0, 1, 2, 3, 4, 5]),\n",
       " [Text(0, 0, 'HistGradientBoostingClassifier'),\n",
       "  Text(1, 0, 'AdaBoostClassifier'),\n",
       "  Text(2, 0, 'GradientBoostingClassifier'),\n",
       "  Text(3, 0, 'BaggingClassifier'),\n",
       "  Text(4, 0, 'ExtraTreesClassifier'),\n",
       "  Text(5, 0, 'RandomForestClassifier')])"
      ]
     },
     "execution_count": 32,
     "metadata": {},
     "output_type": "execute_result"
    },
    {
     "data": {
      "image/png": "[encoded data removed]",
      "text/plain": [
       "<Figure size 432x288 with 1 Axes>"
      ]
     },
     "metadata": {
      "needs_background": "light"
     },
     "output_type": "display_data"
    }
   ],
   "source": [
    "import seaborn as sb\n",
    "sb.barplot(data  = score_board_df, x = \"model\",y =\"value\" ,hue = \"variable\",palette = \"Dark2\").set(ylim = (0.82,0.87))\n",
    "plt.xticks(rotation=300)"
   ]
  },
  {
   "cell_type": "code",
   "execution_count": 35,
   "id": "4bdf8a86",
   "metadata": {},
   "outputs": [
    {
     "name": "stderr",
     "output_type": "stream",
     "text": [
      "<ipython-input-35-a0aeca47eb07>:1: UserWarning: Boolean Series key will be reindexed to match DataFrame index.\n",
      "  score_board_df.sort_values(\"model\")[score_board_df.variable.isin([\"SimpleImputer\",\"IterativeImputer\"])]\n"
     ]
    },
    {
     "data": {
      "text/html": [
       "<div>\n",
       "<style scoped>\n",
       "    .dataframe tbody tr th:only-of-type {\n",
       "        vertical-align: middle;\n",
       "    }\n",
       "\n",
       "    .dataframe tbody tr th {\n",
       "        vertical-align: top;\n",
       "    }\n",
       "\n",
       "    .dataframe thead th {\n",
       "        text-align: right;\n",
       "    }\n",
       "</style>\n",
       "<table border=\"1\" class=\"dataframe\">\n",
       "  <thead>\n",
       "    <tr style=\"text-align: right;\">\n",
       "      <th></th>\n",
       "      <th>model</th>\n",
       "      <th>variable</th>\n",
       "      <th>value</th>\n",
       "    </tr>\n",
       "  </thead>\n",
       "  <tbody>\n",
       "    <tr>\n",
       "      <th>1</th>\n",
       "      <td>AdaBoostClassifier</td>\n",
       "      <td>SimpleImputer</td>\n",
       "      <td>0.861177</td>\n",
       "    </tr>\n",
       "    <tr>\n",
       "      <th>13</th>\n",
       "      <td>AdaBoostClassifier</td>\n",
       "      <td>IterativeImputer</td>\n",
       "      <td>0.861635</td>\n",
       "    </tr>\n",
       "    <tr>\n",
       "      <th>15</th>\n",
       "      <td>BaggingClassifier</td>\n",
       "      <td>IterativeImputer</td>\n",
       "      <td>0.848604</td>\n",
       "    </tr>\n",
       "    <tr>\n",
       "      <th>3</th>\n",
       "      <td>BaggingClassifier</td>\n",
       "      <td>SimpleImputer</td>\n",
       "      <td>0.847405</td>\n",
       "    </tr>\n",
       "    <tr>\n",
       "      <th>4</th>\n",
       "      <td>ExtraTreesClassifier</td>\n",
       "      <td>SimpleImputer</td>\n",
       "      <td>0.850354</td>\n",
       "    </tr>\n",
       "    <tr>\n",
       "      <th>16</th>\n",
       "      <td>ExtraTreesClassifier</td>\n",
       "      <td>IterativeImputer</td>\n",
       "      <td>0.836189</td>\n",
       "    </tr>\n",
       "    <tr>\n",
       "      <th>14</th>\n",
       "      <td>GradientBoostingClassifier</td>\n",
       "      <td>IterativeImputer</td>\n",
       "      <td>0.865004</td>\n",
       "    </tr>\n",
       "    <tr>\n",
       "      <th>2</th>\n",
       "      <td>GradientBoostingClassifier</td>\n",
       "      <td>SimpleImputer</td>\n",
       "      <td>0.864516</td>\n",
       "    </tr>\n",
       "    <tr>\n",
       "      <th>12</th>\n",
       "      <td>HistGradientBoostingClassifier</td>\n",
       "      <td>IterativeImputer</td>\n",
       "      <td>0.865917</td>\n",
       "    </tr>\n",
       "    <tr>\n",
       "      <th>0</th>\n",
       "      <td>HistGradientBoostingClassifier</td>\n",
       "      <td>SimpleImputer</td>\n",
       "      <td>0.865978</td>\n",
       "    </tr>\n",
       "    <tr>\n",
       "      <th>5</th>\n",
       "      <td>RandomForestClassifier</td>\n",
       "      <td>SimpleImputer</td>\n",
       "      <td>0.856025</td>\n",
       "    </tr>\n",
       "    <tr>\n",
       "      <th>17</th>\n",
       "      <td>RandomForestClassifier</td>\n",
       "      <td>IterativeImputer</td>\n",
       "      <td>0.851365</td>\n",
       "    </tr>\n",
       "  </tbody>\n",
       "</table>\n",
       "</div>"
      ],
      "text/plain": [
       "                             model          variable     value\n",
       "1               AdaBoostClassifier     SimpleImputer  0.861177\n",
       "13              AdaBoostClassifier  IterativeImputer  0.861635\n",
       "15               BaggingClassifier  IterativeImputer  0.848604\n",
       "3                BaggingClassifier     SimpleImputer  0.847405\n",
       "4             ExtraTreesClassifier     SimpleImputer  0.850354\n",
       "16            ExtraTreesClassifier  IterativeImputer  0.836189\n",
       "14      GradientBoostingClassifier  IterativeImputer  0.865004\n",
       "2       GradientBoostingClassifier     SimpleImputer  0.864516\n",
       "12  HistGradientBoostingClassifier  IterativeImputer  0.865917\n",
       "0   HistGradientBoostingClassifier     SimpleImputer  0.865978\n",
       "5           RandomForestClassifier     SimpleImputer  0.856025\n",
       "17          RandomForestClassifier  IterativeImputer  0.851365"
      ]
     },
     "execution_count": 35,
     "metadata": {},
     "output_type": "execute_result"
    }
   ],
   "source": [
    "score_board_df.sort_values(\"model\")[score_board_df.variable.isin([\"SimpleImputer\",\"IterativeImputer\"])]"
   ]
  },
  {
   "cell_type": "markdown",
   "id": "ac5bc9d7",
   "metadata": {},
   "source": [
    "# Imputer Comparison Experiment attempt 2\n",
    "- using KMMImputer or IterativeImputer to impute columns with large proportion of NAs might have caused trouble\n",
    "- thus, we **only use KMMImputer or IterativeImputer for columns with less than 1000 NAs**"
   ]
  },
  {
   "cell_type": "code",
   "execution_count": 37,
   "id": "d9d8a772",
   "metadata": {},
   "outputs": [],
   "source": [
    "# for columns with more than 2000 NAs we resort to simple imputing\n",
    "too_many_NAs = [col for col, na_count in train_features.isna().sum().items() if na_count>2000]\n",
    "train_features[too_many_NAs]  = simpleImputed_X[too_many_NAs]"
   ]
  },
  {
   "cell_type": "code",
   "execution_count": 40,
   "id": "c2fb4963",
   "metadata": {
    "scrolled": true
   },
   "outputs": [
    {
     "name": "stderr",
     "output_type": "stream",
     "text": [
      "C:\\Users\\tanch\\anaconda3\\lib\\site-packages\\category_encoders\\utils.py:21: FutureWarning: is_categorical is deprecated and will be removed in a future version.  Use is_categorical_dtype instead\n",
      "  elif pd.api.types.is_categorical(cols):\n"
     ]
    }
   ],
   "source": [
    "en = OrdinalEncoder(handle_missing = \"return_nan\", cols = train_features.columns)\n",
    "X = en.fit_transform(train_features)"
   ]
  },
  {
   "cell_type": "markdown",
   "id": "a8c7d352",
   "metadata": {},
   "source": [
    "## IterativeImputer"
   ]
  },
  {
   "cell_type": "code",
   "execution_count": 46,
   "id": "2ab81a95",
   "metadata": {},
   "outputs": [],
   "source": [
    "imputer = IterativeImputer(random_state=0)\n",
    "IterativeImputed_X = imputer.fit_transform(X)"
   ]
  },
  {
   "cell_type": "markdown",
   "id": "ef7d1d7b",
   "metadata": {},
   "source": [
    "## KNNImputer"
   ]
  },
  {
   "cell_type": "code",
   "execution_count": 47,
   "id": "274a32c2",
   "metadata": {},
   "outputs": [],
   "source": [
    "imputer = KNNImputer(n_neighbors=5)\n",
    "KNNImputed_X = imputer.fit_transform(X)"
   ]
  },
  {
   "cell_type": "markdown",
   "id": "43b32e0a",
   "metadata": {},
   "source": [
    "## MissForest"
   ]
  },
  {
   "cell_type": "code",
   "execution_count": 48,
   "id": "31af45aa",
   "metadata": {
    "scrolled": true
   },
   "outputs": [
    {
     "name": "stdout",
     "output_type": "stream",
     "text": [
      "Iteration: 0\n",
      "Iteration: 1\n",
      "Iteration: 2\n",
      "Iteration: 3\n",
      "Iteration: 4\n"
     ]
    }
   ],
   "source": [
    "imputer = MissForest(n_jobs = -1)\n",
    "missforest_X = imputer.fit_transform(X)"
   ]
  },
  {
   "cell_type": "markdown",
   "id": "2008fada",
   "metadata": {},
   "source": [
    "## Modelling"
   ]
  },
  {
   "cell_type": "code",
   "execution_count": 49,
   "id": "498b3fb7",
   "metadata": {},
   "outputs": [],
   "source": [
    "from sklearn.experimental import enable_hist_gradient_boosting  \n",
    "from sklearn.ensemble import HistGradientBoostingClassifier,GradientBoostingClassifier, AdaBoostClassifier, BaggingClassifier, ExtraTreesClassifier,RandomForestClassifier\n",
    "param = {\"n_estimators\":100, \n",
    "         \"random_state\":0}\n",
    "ensemble_models = {\n",
    "    'HistGradientBoostingClassifier': HistGradientBoostingClassifier(),\n",
    "    'AdaBoostClassifier': AdaBoostClassifier(),\n",
    "    'GradientBoostingClassifier': GradientBoostingClassifier(),\n",
    "    'BaggingClassifier': BaggingClassifier(),\n",
    "    'ExtraTreesClassifier': ExtraTreesClassifier(),\n",
    "    'RandomForestClassifier': RandomForestClassifier()}\n",
    "ensemble_models  = {k:(v.set_params(**param) if k!=\"HistGradientBoostingClassifier\" else v) for k,v in ensemble_models.items() }"
   ]
  },
  {
   "cell_type": "code",
   "execution_count": 50,
   "id": "ddecb08b",
   "metadata": {},
   "outputs": [],
   "source": [
    "from collections import defaultdict\n",
    "score_board = defaultdict(list)"
   ]
  },
  {
   "cell_type": "code",
   "execution_count": 51,
   "id": "aa47ad85",
   "metadata": {},
   "outputs": [],
   "source": [
    "from sklearn.model_selection import cross_val_score\n",
    "for df_name, temp_X in zip([\"SimpleImputer\",\"KNNImputer\",\"IterativeImputer\",\"MissForest\"],[simpleImputed_X,KNNImputed_X,IterativeImputed_X,missforest_X]):\n",
    "    for model_name, model in ensemble_models.items():\n",
    "        score = cross_val_score(model,temp_X,y,scoring = \"roc_auc\",cv=3).mean()\n",
    "        score_board[df_name].append(score)"
   ]
  },
  {
   "cell_type": "code",
   "execution_count": 52,
   "id": "353e7f17",
   "metadata": {},
   "outputs": [
    {
     "data": {
      "application/javascript": [
       "\n",
       "        if (window._pyforest_update_imports_cell) { window._pyforest_update_imports_cell('import sys\\nimport pandas as pd\\nimport matplotlib.pyplot as plt'); }\n",
       "    "
      ],
      "text/plain": [
       "<IPython.core.display.Javascript object>"
      ]
     },
     "metadata": {},
     "output_type": "display_data"
    },
    {
     "data": {
      "application/javascript": [
       "\n",
       "        if (window._pyforest_update_imports_cell) { window._pyforest_update_imports_cell('import sys\\nimport pandas as pd\\nimport matplotlib.pyplot as plt'); }\n",
       "    "
      ],
      "text/plain": [
       "<IPython.core.display.Javascript object>"
      ]
     },
     "metadata": {},
     "output_type": "display_data"
    }
   ],
   "source": [
    "score_board.update({\"model\":ensemble_models.keys()})\n",
    "score_board_df = pd.DataFrame(score_board)\n",
    "score_board_df  = pd.melt(score_board_df, id_vars = \"model\",value_vars = [\"SimpleImputer\",\"KNNImputer\",\"IterativeImputer\",\"MissForest\"])"
   ]
  },
  {
   "cell_type": "markdown",
   "id": "4fad4e53",
   "metadata": {},
   "source": [
    "## Results\n",
    "- manual simple imputing outperformed all other imputers\n"
   ]
  },
  {
   "cell_type": "code",
   "execution_count": 53,
   "id": "67484123",
   "metadata": {},
   "outputs": [
    {
     "data": {
      "application/javascript": [
       "\n",
       "        if (window._pyforest_update_imports_cell) { window._pyforest_update_imports_cell('import sys\\nimport pandas as pd\\nimport matplotlib.pyplot as plt'); }\n",
       "    "
      ],
      "text/plain": [
       "<IPython.core.display.Javascript object>"
      ]
     },
     "metadata": {},
     "output_type": "display_data"
    },
    {
     "data": {
      "text/plain": [
       "(array([0, 1, 2, 3, 4, 5]),\n",
       " [Text(0, 0, 'HistGradientBoostingClassifier'),\n",
       "  Text(1, 0, 'AdaBoostClassifier'),\n",
       "  Text(2, 0, 'GradientBoostingClassifier'),\n",
       "  Text(3, 0, 'BaggingClassifier'),\n",
       "  Text(4, 0, 'ExtraTreesClassifier'),\n",
       "  Text(5, 0, 'RandomForestClassifier')])"
      ]
     },
     "execution_count": 53,
     "metadata": {},
     "output_type": "execute_result"
    },
    {
     "data": {
      "image/png": "[encoded data removed]",
      "text/plain": [
       "<Figure size 432x288 with 1 Axes>"
      ]
     },
     "metadata": {
      "needs_background": "light"
     },
     "output_type": "display_data"
    }
   ],
   "source": [
    "import seaborn as sb\n",
    "sb.barplot(data  = score_board_df, x = \"model\",y =\"value\" ,hue = \"variable\",palette = \"Dark2\").set(ylim = (0.84,0.87),xticklabels=ensemble_models.keys())\n",
    "plt.xticks(rotation=300)"
   ]
  },
  {
   "cell_type": "code",
   "execution_count": 54,
   "id": "bb95c5a8",
   "metadata": {},
   "outputs": [
    {
     "data": {
      "text/html": [
       "<div>\n",
       "<style scoped>\n",
       "    .dataframe tbody tr th:only-of-type {\n",
       "        vertical-align: middle;\n",
       "    }\n",
       "\n",
       "    .dataframe tbody tr th {\n",
       "        vertical-align: top;\n",
       "    }\n",
       "\n",
       "    .dataframe thead th {\n",
       "        text-align: right;\n",
       "    }\n",
       "</style>\n",
       "<table border=\"1\" class=\"dataframe\">\n",
       "  <thead>\n",
       "    <tr style=\"text-align: right;\">\n",
       "      <th></th>\n",
       "      <th>model</th>\n",
       "      <th>variable</th>\n",
       "      <th>value</th>\n",
       "    </tr>\n",
       "  </thead>\n",
       "  <tbody>\n",
       "    <tr>\n",
       "      <th>19</th>\n",
       "      <td>AdaBoostClassifier</td>\n",
       "      <td>MissForest</td>\n",
       "      <td>0.862112</td>\n",
       "    </tr>\n",
       "    <tr>\n",
       "      <th>1</th>\n",
       "      <td>AdaBoostClassifier</td>\n",
       "      <td>SimpleImputer</td>\n",
       "      <td>0.861177</td>\n",
       "    </tr>\n",
       "    <tr>\n",
       "      <th>13</th>\n",
       "      <td>AdaBoostClassifier</td>\n",
       "      <td>IterativeImputer</td>\n",
       "      <td>0.860950</td>\n",
       "    </tr>\n",
       "    <tr>\n",
       "      <th>7</th>\n",
       "      <td>AdaBoostClassifier</td>\n",
       "      <td>KNNImputer</td>\n",
       "      <td>0.861704</td>\n",
       "    </tr>\n",
       "    <tr>\n",
       "      <th>15</th>\n",
       "      <td>BaggingClassifier</td>\n",
       "      <td>IterativeImputer</td>\n",
       "      <td>0.842937</td>\n",
       "    </tr>\n",
       "    <tr>\n",
       "      <th>9</th>\n",
       "      <td>BaggingClassifier</td>\n",
       "      <td>KNNImputer</td>\n",
       "      <td>0.842415</td>\n",
       "    </tr>\n",
       "    <tr>\n",
       "      <th>3</th>\n",
       "      <td>BaggingClassifier</td>\n",
       "      <td>SimpleImputer</td>\n",
       "      <td>0.847405</td>\n",
       "    </tr>\n",
       "    <tr>\n",
       "      <th>21</th>\n",
       "      <td>BaggingClassifier</td>\n",
       "      <td>MissForest</td>\n",
       "      <td>0.843543</td>\n",
       "    </tr>\n",
       "    <tr>\n",
       "      <th>4</th>\n",
       "      <td>ExtraTreesClassifier</td>\n",
       "      <td>SimpleImputer</td>\n",
       "      <td>0.850354</td>\n",
       "    </tr>\n",
       "    <tr>\n",
       "      <th>10</th>\n",
       "      <td>ExtraTreesClassifier</td>\n",
       "      <td>KNNImputer</td>\n",
       "      <td>0.847311</td>\n",
       "    </tr>\n",
       "    <tr>\n",
       "      <th>22</th>\n",
       "      <td>ExtraTreesClassifier</td>\n",
       "      <td>MissForest</td>\n",
       "      <td>0.846795</td>\n",
       "    </tr>\n",
       "    <tr>\n",
       "      <th>16</th>\n",
       "      <td>ExtraTreesClassifier</td>\n",
       "      <td>IterativeImputer</td>\n",
       "      <td>0.847114</td>\n",
       "    </tr>\n",
       "    <tr>\n",
       "      <th>8</th>\n",
       "      <td>GradientBoostingClassifier</td>\n",
       "      <td>KNNImputer</td>\n",
       "      <td>0.862941</td>\n",
       "    </tr>\n",
       "    <tr>\n",
       "      <th>14</th>\n",
       "      <td>GradientBoostingClassifier</td>\n",
       "      <td>IterativeImputer</td>\n",
       "      <td>0.862990</td>\n",
       "    </tr>\n",
       "    <tr>\n",
       "      <th>2</th>\n",
       "      <td>GradientBoostingClassifier</td>\n",
       "      <td>SimpleImputer</td>\n",
       "      <td>0.864516</td>\n",
       "    </tr>\n",
       "    <tr>\n",
       "      <th>20</th>\n",
       "      <td>GradientBoostingClassifier</td>\n",
       "      <td>MissForest</td>\n",
       "      <td>0.863331</td>\n",
       "    </tr>\n",
       "    <tr>\n",
       "      <th>6</th>\n",
       "      <td>HistGradientBoostingClassifier</td>\n",
       "      <td>KNNImputer</td>\n",
       "      <td>0.863578</td>\n",
       "    </tr>\n",
       "    <tr>\n",
       "      <th>18</th>\n",
       "      <td>HistGradientBoostingClassifier</td>\n",
       "      <td>MissForest</td>\n",
       "      <td>0.864670</td>\n",
       "    </tr>\n",
       "    <tr>\n",
       "      <th>12</th>\n",
       "      <td>HistGradientBoostingClassifier</td>\n",
       "      <td>IterativeImputer</td>\n",
       "      <td>0.863894</td>\n",
       "    </tr>\n",
       "    <tr>\n",
       "      <th>0</th>\n",
       "      <td>HistGradientBoostingClassifier</td>\n",
       "      <td>SimpleImputer</td>\n",
       "      <td>0.865978</td>\n",
       "    </tr>\n",
       "    <tr>\n",
       "      <th>11</th>\n",
       "      <td>RandomForestClassifier</td>\n",
       "      <td>KNNImputer</td>\n",
       "      <td>0.851227</td>\n",
       "    </tr>\n",
       "    <tr>\n",
       "      <th>5</th>\n",
       "      <td>RandomForestClassifier</td>\n",
       "      <td>SimpleImputer</td>\n",
       "      <td>0.856025</td>\n",
       "    </tr>\n",
       "    <tr>\n",
       "      <th>17</th>\n",
       "      <td>RandomForestClassifier</td>\n",
       "      <td>IterativeImputer</td>\n",
       "      <td>0.849845</td>\n",
       "    </tr>\n",
       "    <tr>\n",
       "      <th>23</th>\n",
       "      <td>RandomForestClassifier</td>\n",
       "      <td>MissForest</td>\n",
       "      <td>0.851305</td>\n",
       "    </tr>\n",
       "  </tbody>\n",
       "</table>\n",
       "</div>"
      ],
      "text/plain": [
       "                             model          variable     value\n",
       "19              AdaBoostClassifier        MissForest  0.862112\n",
       "1               AdaBoostClassifier     SimpleImputer  0.861177\n",
       "13              AdaBoostClassifier  IterativeImputer  0.860950\n",
       "7               AdaBoostClassifier        KNNImputer  0.861704\n",
       "15               BaggingClassifier  IterativeImputer  0.842937\n",
       "9                BaggingClassifier        KNNImputer  0.842415\n",
       "3                BaggingClassifier     SimpleImputer  0.847405\n",
       "21               BaggingClassifier        MissForest  0.843543\n",
       "4             ExtraTreesClassifier     SimpleImputer  0.850354\n",
       "10            ExtraTreesClassifier        KNNImputer  0.847311\n",
       "22            ExtraTreesClassifier        MissForest  0.846795\n",
       "16            ExtraTreesClassifier  IterativeImputer  0.847114\n",
       "8       GradientBoostingClassifier        KNNImputer  0.862941\n",
       "14      GradientBoostingClassifier  IterativeImputer  0.862990\n",
       "2       GradientBoostingClassifier     SimpleImputer  0.864516\n",
       "20      GradientBoostingClassifier        MissForest  0.863331\n",
       "6   HistGradientBoostingClassifier        KNNImputer  0.863578\n",
       "18  HistGradientBoostingClassifier        MissForest  0.864670\n",
       "12  HistGradientBoostingClassifier  IterativeImputer  0.863894\n",
       "0   HistGradientBoostingClassifier     SimpleImputer  0.865978\n",
       "11          RandomForestClassifier        KNNImputer  0.851227\n",
       "5           RandomForestClassifier     SimpleImputer  0.856025\n",
       "17          RandomForestClassifier  IterativeImputer  0.849845\n",
       "23          RandomForestClassifier        MissForest  0.851305"
      ]
     },
     "execution_count": 54,
     "metadata": {},
     "output_type": "execute_result"
    }
   ],
   "source": [
    "score_board_df.sort_values([\"model\"])"
   ]
  },
  {
   "cell_type": "code",
   "execution_count": null,
   "id": "fac80168",
   "metadata": {},
   "outputs": [],
   "source": []
  }
 ],
 "metadata": {
  "kernelspec": {
   "display_name": "Python 3",
   "language": "python",
   "name": "python3"
  },
  "language_info": {
   "codemirror_mode": {
    "name": "ipython",
    "version": 3
   },
   "file_extension": ".py",
   "mimetype": "text/x-python",
   "name": "python",
   "nbconvert_exporter": "python",
   "pygments_lexer": "ipython3",
   "version": "3.8.3"
  }
 },
 "nbformat": 4,
 "nbformat_minor": 5
}
