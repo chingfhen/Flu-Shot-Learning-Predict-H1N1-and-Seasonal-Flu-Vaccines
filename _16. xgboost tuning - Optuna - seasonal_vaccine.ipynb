{
 "cells": [
  {
   "cell_type": "markdown",
   "id": "bd9a3774",
   "metadata": {},
   "source": [
    "# About:\n",
    "- this notebooks:\n",
    "    - optimizes parameters with Optuna with a pruner that observes intermediate results and stop unpromising trials.\n",
    "    - Approach:\n",
    "        1. Fix at a high-ish learning rate and at a fixed iteration\n",
    "        2. perform Hyperparameter Search\n",
    "        3. Using the best parameters found, reduce learning rate and find the best iteration using early stopping\n",
    "- insights:\n",
    "    - **the above approach is effective** - gains are usually seen in step 3"
   ]
  },
  {
   "cell_type": "code",
   "execution_count": 1,
   "id": "3c373811",
   "metadata": {},
   "outputs": [],
   "source": [
    "import xgboost as xgb"
   ]
  },
  {
   "cell_type": "code",
   "execution_count": 2,
   "id": "7689971e",
   "metadata": {},
   "outputs": [],
   "source": [
    "import optuna \n",
    "from optuna import Trial, visualization\n",
    "from optuna.samplers import TPESampler"
   ]
  },
  {
   "cell_type": "markdown",
   "id": "6945a0b1",
   "metadata": {},
   "source": [
    "### prepare data\n",
    "- for catboost, we specify nominal features as cat_features as it was found to improve performance\n",
    "- note: catboost expects these cat_features to be a string!"
   ]
  },
  {
   "cell_type": "code",
   "execution_count": 3,
   "id": "fe144d8c",
   "metadata": {},
   "outputs": [
    {
     "data": {
      "application/javascript": [
       "\n",
       "        if (window._pyforest_update_imports_cell) { window._pyforest_update_imports_cell('import pandas as pd'); }\n",
       "    "
      ],
      "text/plain": [
       "<IPython.core.display.Javascript object>"
      ]
     },
     "metadata": {},
     "output_type": "display_data"
    }
   ],
   "source": [
    "label_colnames = ['h1n1_vaccine', 'seasonal_vaccine']\n",
    "X = pd.read_csv(r\"C:\\Users\\tanch\\Documents\\Coding Competitions\\DataDriven\\Flu Shot Learning\\local\\data\\cleaned_train_set.csv\",index_col = \"respondent_id\")\n",
    "y = X[label_colnames[0]]\n",
    "X = X.drop(label_colnames,axis=1)"
   ]
  },
  {
   "cell_type": "code",
   "execution_count": 4,
   "id": "abb2c3f3",
   "metadata": {
    "scrolled": true
   },
   "outputs": [],
   "source": [
    "# boosting libraries have Dataset class that has memory and speed optimizations\n",
    "dtrain = xgb.DMatrix(X, label=y)"
   ]
  },
  {
   "cell_type": "markdown",
   "id": "6a734776",
   "metadata": {},
   "source": [
    "# Objective Function\n",
    "- should take an input Trial instance and return a score"
   ]
  },
  {
   "cell_type": "code",
   "execution_count": 10,
   "id": "d8dc2123",
   "metadata": {},
   "outputs": [],
   "source": [
    "def objective(trial):\n",
    "\n",
    "    # n_estimators and learning rate are closely tight and will be tuned afterwards\n",
    "    param = {\n",
    "        'learning_rate': 0.1,\n",
    "        \"verbosity\": 0 ,\n",
    "        'max_depth':trial.suggest_int('max_depth', 4, 10),\n",
    "        'gamma':trial.suggest_int('gamma', 0, 5),\n",
    "        'min_child_weight':trial.suggest_int('min_child_weight', 0, 20),\n",
    "        'scale_pos_weight':trial.suggest_int('scale_pos_weight', 0, 20),\n",
    "        'subsample':trial.suggest_float('subsample',0.4,1),\n",
    "        'colsample_bytree':trial.suggest_float('colsample_bytree',0.4,1),\n",
    "        \"reg_alpha\": trial.suggest_float(\"reg_alpha\", 1e-8, 10.0, log=True),\n",
    "        \"reg_lambda\": trial.suggest_float(\"reg_lambda\", 1e-8, 10.0, log=True),\n",
    "    }\n",
    "    pruning_callback = optuna.integration.XGBoostPruningCallback(trial, \"test-auc\")\n",
    "\n",
    "    cv_scores = xgb.cv(param, dtrain, 1000, nfold=3, metrics='auc', early_stopping_rounds=20,\n",
    "                       verbose_eval = False,\n",
    "                       callbacks=[pruning_callback])\n",
    "    return cv_scores['test-auc-mean'].max()    "
   ]
  },
  {
   "cell_type": "markdown",
   "id": "cafade4f",
   "metadata": {},
   "source": [
    "# create_study"
   ]
  },
  {
   "cell_type": "code",
   "execution_count": 11,
   "id": "fc43e01b",
   "metadata": {
    "scrolled": true
   },
   "outputs": [
    {
     "name": "stderr",
     "output_type": "stream",
     "text": [
      "\u001b[32m[I 2021-07-29 21:17:58,390]\u001b[0m A new study created in memory with name: no-name-02849f27-1fa9-4bbb-a926-dc3f04ba8835\u001b[0m\n",
      "\u001b[32m[I 2021-07-29 21:18:05,538]\u001b[0m Trial 0 finished with value: 0.8652896666666666 and parameters: {'max_depth': 5, 'gamma': 2, 'min_child_weight': 19, 'scale_pos_weight': 8, 'subsample': 0.4626498014129161, 'colsample_bytree': 0.7892089449724482, 'reg_alpha': 7.473499132895059, 'reg_lambda': 4.211914104441639e-06}. Best is trial 0 with value: 0.8652896666666666.\u001b[0m\n",
      "\u001b[32m[I 2021-07-29 21:18:09,358]\u001b[0m Trial 1 finished with value: 0.8530046666666666 and parameters: {'max_depth': 9, 'gamma': 2, 'min_child_weight': 3, 'scale_pos_weight': 6, 'subsample': 0.4883281885174338, 'colsample_bytree': 0.47547730779043135, 'reg_alpha': 6.177182809314553e-05, 'reg_lambda': 1.5898576878020497e-05}. Best is trial 0 with value: 0.8652896666666666.\u001b[0m\n",
      "\u001b[32m[I 2021-07-29 21:18:12,882]\u001b[0m Trial 2 finished with value: 0.8593543333333334 and parameters: {'max_depth': 6, 'gamma': 3, 'min_child_weight': 8, 'scale_pos_weight': 16, 'subsample': 0.9079070233805092, 'colsample_bytree': 0.8325732500098152, 'reg_alpha': 0.3150161366531598, 'reg_lambda': 3.2274237013487017}. Best is trial 0 with value: 0.8652896666666666.\u001b[0m\n",
      "\u001b[32m[I 2021-07-29 21:18:18,067]\u001b[0m Trial 3 finished with value: 0.859665 and parameters: {'max_depth': 10, 'gamma': 5, 'min_child_weight': 9, 'scale_pos_weight': 10, 'subsample': 0.978401958129854, 'colsample_bytree': 0.5531361870256262, 'reg_alpha': 0.04492791349424941, 'reg_lambda': 0.07237692142775183}. Best is trial 0 with value: 0.8652896666666666.\u001b[0m\n",
      "\u001b[32m[I 2021-07-29 21:18:22,700]\u001b[0m Trial 4 finished with value: 0.8539163333333333 and parameters: {'max_depth': 7, 'gamma': 5, 'min_child_weight': 15, 'scale_pos_weight': 20, 'subsample': 0.6316988409477418, 'colsample_bytree': 0.44207522510136465, 'reg_alpha': 0.17337995882112475, 'reg_lambda': 0.1799853217405703}. Best is trial 0 with value: 0.8652896666666666.\u001b[0m\n",
      "\u001b[32m[I 2021-07-29 21:18:26,976]\u001b[0m Trial 5 pruned. Trial was pruned at iteration 98.\u001b[0m\n",
      "\u001b[32m[I 2021-07-29 21:18:27,767]\u001b[0m Trial 6 pruned. Trial was pruned at iteration 10.\u001b[0m\n",
      "\u001b[32m[I 2021-07-29 21:18:34,146]\u001b[0m Trial 7 pruned. Trial was pruned at iteration 98.\u001b[0m\n",
      "\u001b[32m[I 2021-07-29 21:18:34,839]\u001b[0m Trial 8 pruned. Trial was pruned at iteration 12.\u001b[0m\n",
      "\u001b[32m[I 2021-07-29 21:18:39,588]\u001b[0m Trial 9 pruned. Trial was pruned at iteration 98.\u001b[0m\n",
      "\u001b[32m[I 2021-07-29 21:18:39,969]\u001b[0m Trial 10 pruned. Trial was pruned at iteration 10.\u001b[0m\n",
      "\u001b[32m[I 2021-07-29 21:18:40,969]\u001b[0m Trial 11 pruned. Trial was pruned at iteration 13.\u001b[0m\n",
      "\u001b[32m[I 2021-07-29 21:18:41,509]\u001b[0m Trial 12 pruned. Trial was pruned at iteration 10.\u001b[0m\n",
      "\u001b[32m[I 2021-07-29 21:18:45,165]\u001b[0m Trial 13 finished with value: 0.8619493333333333 and parameters: {'max_depth': 8, 'gamma': 1, 'min_child_weight': 13, 'scale_pos_weight': 4, 'subsample': 0.5669511618855804, 'colsample_bytree': 0.7630656988158858, 'reg_alpha': 0.01910956250251703, 'reg_lambda': 7.605767554305871}. Best is trial 0 with value: 0.8652896666666666.\u001b[0m\n",
      "\u001b[32m[I 2021-07-29 21:18:48,721]\u001b[0m Trial 14 finished with value: 0.8617750000000001 and parameters: {'max_depth': 8, 'gamma': 1, 'min_child_weight': 15, 'scale_pos_weight': 4, 'subsample': 0.5226312389254094, 'colsample_bytree': 0.7635849681220088, 'reg_alpha': 0.007880782423376986, 'reg_lambda': 6.76563072415614}. Best is trial 0 with value: 0.8652896666666666.\u001b[0m\n",
      "\u001b[32m[I 2021-07-29 21:18:52,940]\u001b[0m Trial 15 finished with value: 0.8608933333333333 and parameters: {'max_depth': 8, 'gamma': 1, 'min_child_weight': 17, 'scale_pos_weight': 4, 'subsample': 0.6047304554837132, 'colsample_bytree': 0.9586381638624253, 'reg_alpha': 7.059048620895641e-05, 'reg_lambda': 7.64343888621905e-05}. Best is trial 0 with value: 0.8652896666666666.\u001b[0m\n",
      "\u001b[32m[I 2021-07-29 21:18:53,340]\u001b[0m Trial 16 pruned. Trial was pruned at iteration 10.\u001b[0m\n",
      "\u001b[32m[I 2021-07-29 21:18:58,978]\u001b[0m Trial 17 finished with value: 0.8663683333333333 and parameters: {'max_depth': 6, 'gamma': 1, 'min_child_weight': 18, 'scale_pos_weight': 4, 'subsample': 0.6439846353512728, 'colsample_bytree': 0.8774177233229632, 'reg_alpha': 7.110378342968055, 'reg_lambda': 0.0005005189968821851}. Best is trial 17 with value: 0.8663683333333333.\u001b[0m\n",
      "\u001b[32m[I 2021-07-29 21:18:59,610]\u001b[0m Trial 18 pruned. Trial was pruned at iteration 10.\u001b[0m\n",
      "\u001b[32m[I 2021-07-29 21:19:03,785]\u001b[0m Trial 19 pruned. Trial was pruned at iteration 82.\u001b[0m\n",
      "\u001b[32m[I 2021-07-29 21:19:04,337]\u001b[0m Trial 20 pruned. Trial was pruned at iteration 10.\u001b[0m\n",
      "\u001b[32m[I 2021-07-29 21:19:08,658]\u001b[0m Trial 21 pruned. Trial was pruned at iteration 82.\u001b[0m\n",
      "\u001b[32m[I 2021-07-29 21:19:10,303]\u001b[0m Trial 22 pruned. Trial was pruned at iteration 28.\u001b[0m\n",
      "\u001b[32m[I 2021-07-29 21:19:10,986]\u001b[0m Trial 23 pruned. Trial was pruned at iteration 10.\u001b[0m\n",
      "\u001b[32m[I 2021-07-29 21:19:14,745]\u001b[0m Trial 24 finished with value: 0.863419 and parameters: {'max_depth': 5, 'gamma': 0, 'min_child_weight': 14, 'scale_pos_weight': 8, 'subsample': 0.6674618181336178, 'colsample_bytree': 0.7392639941118248, 'reg_alpha': 0.0003595176289316747, 'reg_lambda': 0.015657102761388656}. Best is trial 17 with value: 0.8663683333333333.\u001b[0m\n",
      "\u001b[32m[I 2021-07-29 21:19:18,571]\u001b[0m Trial 25 pruned. Trial was pruned at iteration 82.\u001b[0m\n",
      "\u001b[32m[I 2021-07-29 21:19:19,164]\u001b[0m Trial 26 pruned. Trial was pruned at iteration 10.\u001b[0m\n",
      "\u001b[32m[I 2021-07-29 21:19:20,583]\u001b[0m Trial 27 pruned. Trial was pruned at iteration 27.\u001b[0m\n",
      "\u001b[32m[I 2021-07-29 21:19:21,113]\u001b[0m Trial 28 pruned. Trial was pruned at iteration 10.\u001b[0m\n",
      "\u001b[32m[I 2021-07-29 21:19:24,955]\u001b[0m Trial 29 pruned. Trial was pruned at iteration 98.\u001b[0m\n",
      "\u001b[32m[I 2021-07-29 21:19:26,433]\u001b[0m Trial 30 pruned. Trial was pruned at iteration 26.\u001b[0m\n",
      "\u001b[32m[I 2021-07-29 21:19:28,092]\u001b[0m Trial 31 pruned. Trial was pruned at iteration 22.\u001b[0m\n",
      "\u001b[32m[I 2021-07-29 21:19:29,138]\u001b[0m Trial 32 pruned. Trial was pruned at iteration 14.\u001b[0m\n",
      "\u001b[32m[I 2021-07-29 21:19:32,568]\u001b[0m Trial 33 finished with value: 0.8631923333333332 and parameters: {'max_depth': 7, 'gamma': 1, 'min_child_weight': 14, 'scale_pos_weight': 3, 'subsample': 0.5985891147341335, 'colsample_bytree': 0.6771212975518216, 'reg_alpha': 4.398948404858485e-05, 'reg_lambda': 0.3509953070445816}. Best is trial 17 with value: 0.8663683333333333.\u001b[0m\n",
      "\u001b[32m[I 2021-07-29 21:19:33,614]\u001b[0m Trial 34 pruned. Trial was pruned at iteration 17.\u001b[0m\n",
      "\u001b[32m[I 2021-07-29 21:19:37,360]\u001b[0m Trial 35 finished with value: 0.8640116666666667 and parameters: {'max_depth': 6, 'gamma': 0, 'min_child_weight': 8, 'scale_pos_weight': 3, 'subsample': 0.6376793239437859, 'colsample_bytree': 0.6226916984185351, 'reg_alpha': 4.414019736384721e-05, 'reg_lambda': 0.016262075902385795}. Best is trial 17 with value: 0.8663683333333333.\u001b[0m\n",
      "\u001b[32m[I 2021-07-29 21:19:37,979]\u001b[0m Trial 36 pruned. Trial was pruned at iteration 10.\u001b[0m\n",
      "\u001b[32m[I 2021-07-29 21:19:38,573]\u001b[0m Trial 37 pruned. Trial was pruned at iteration 10.\u001b[0m\n",
      "\u001b[32m[I 2021-07-29 21:19:39,161]\u001b[0m Trial 38 pruned. Trial was pruned at iteration 10.\u001b[0m\n",
      "\u001b[32m[I 2021-07-29 21:19:39,740]\u001b[0m Trial 39 pruned. Trial was pruned at iteration 10.\u001b[0m\n",
      "\u001b[32m[I 2021-07-29 21:19:40,323]\u001b[0m Trial 40 pruned. Trial was pruned at iteration 10.\u001b[0m\n",
      "\u001b[32m[I 2021-07-29 21:19:43,789]\u001b[0m Trial 41 finished with value: 0.8626023333333334 and parameters: {'max_depth': 7, 'gamma': 1, 'min_child_weight': 8, 'scale_pos_weight': 3, 'subsample': 0.6048157345496286, 'colsample_bytree': 0.7329863743941795, 'reg_alpha': 4.928328102767931e-05, 'reg_lambda': 0.2516688862151728}. Best is trial 17 with value: 0.8663683333333333.\u001b[0m\n",
      "\u001b[32m[I 2021-07-29 21:19:44,395]\u001b[0m Trial 42 pruned. Trial was pruned at iteration 10.\u001b[0m\n",
      "\u001b[32m[I 2021-07-29 21:19:45,181]\u001b[0m Trial 43 pruned. Trial was pruned at iteration 11.\u001b[0m\n",
      "\u001b[32m[I 2021-07-29 21:19:45,795]\u001b[0m Trial 44 pruned. Trial was pruned at iteration 10.\u001b[0m\n",
      "\u001b[32m[I 2021-07-29 21:19:46,372]\u001b[0m Trial 45 pruned. Trial was pruned at iteration 10.\u001b[0m\n",
      "\u001b[32m[I 2021-07-29 21:19:47,023]\u001b[0m Trial 46 pruned. Trial was pruned at iteration 10.\u001b[0m\n",
      "\u001b[32m[I 2021-07-29 21:19:47,359]\u001b[0m Trial 47 pruned. Trial was pruned at iteration 10.\u001b[0m\n",
      "\u001b[32m[I 2021-07-29 21:19:48,128]\u001b[0m Trial 48 pruned. Trial was pruned at iteration 10.\u001b[0m\n"
     ]
    },
    {
     "name": "stderr",
     "output_type": "stream",
     "text": [
      "\u001b[32m[I 2021-07-29 21:19:48,751]\u001b[0m Trial 49 pruned. Trial was pruned at iteration 10.\u001b[0m\n",
      "\u001b[32m[I 2021-07-29 21:19:49,354]\u001b[0m Trial 50 pruned. Trial was pruned at iteration 10.\u001b[0m\n",
      "\u001b[32m[I 2021-07-29 21:19:51,143]\u001b[0m Trial 51 pruned. Trial was pruned at iteration 29.\u001b[0m\n",
      "\u001b[32m[I 2021-07-29 21:19:52,347]\u001b[0m Trial 52 pruned. Trial was pruned at iteration 18.\u001b[0m\n",
      "\u001b[32m[I 2021-07-29 21:19:53,114]\u001b[0m Trial 53 pruned. Trial was pruned at iteration 10.\u001b[0m\n",
      "\u001b[32m[I 2021-07-29 21:19:53,880]\u001b[0m Trial 54 pruned. Trial was pruned at iteration 10.\u001b[0m\n",
      "\u001b[32m[I 2021-07-29 21:19:54,583]\u001b[0m Trial 55 pruned. Trial was pruned at iteration 10.\u001b[0m\n",
      "\u001b[32m[I 2021-07-29 21:19:55,238]\u001b[0m Trial 56 pruned. Trial was pruned at iteration 10.\u001b[0m\n",
      "\u001b[32m[I 2021-07-29 21:19:55,747]\u001b[0m Trial 57 pruned. Trial was pruned at iteration 10.\u001b[0m\n",
      "\u001b[32m[I 2021-07-29 21:19:56,375]\u001b[0m Trial 58 pruned. Trial was pruned at iteration 10.\u001b[0m\n",
      "\u001b[32m[I 2021-07-29 21:19:59,944]\u001b[0m Trial 59 finished with value: 0.8644996666666667 and parameters: {'max_depth': 6, 'gamma': 0, 'min_child_weight': 20, 'scale_pos_weight': 4, 'subsample': 0.9538168559273841, 'colsample_bytree': 0.822313812372711, 'reg_alpha': 3.7268313272857087e-06, 'reg_lambda': 2.0421660569293864e-06}. Best is trial 17 with value: 0.8663683333333333.\u001b[0m\n",
      "\u001b[32m[I 2021-07-29 21:20:00,506]\u001b[0m Trial 60 pruned. Trial was pruned at iteration 10.\u001b[0m\n",
      "\u001b[32m[I 2021-07-29 21:20:04,869]\u001b[0m Trial 61 pruned. Trial was pruned at iteration 91.\u001b[0m\n",
      "\u001b[32m[I 2021-07-29 21:20:06,912]\u001b[0m Trial 62 pruned. Trial was pruned at iteration 33.\u001b[0m\n",
      "\u001b[32m[I 2021-07-29 21:20:07,650]\u001b[0m Trial 63 pruned. Trial was pruned at iteration 11.\u001b[0m\n",
      "\u001b[32m[I 2021-07-29 21:20:08,266]\u001b[0m Trial 64 pruned. Trial was pruned at iteration 10.\u001b[0m\n",
      "\u001b[32m[I 2021-07-29 21:20:08,988]\u001b[0m Trial 65 pruned. Trial was pruned at iteration 10.\u001b[0m\n",
      "\u001b[32m[I 2021-07-29 21:20:13,046]\u001b[0m Trial 66 finished with value: 0.8645226666666667 and parameters: {'max_depth': 6, 'gamma': 1, 'min_child_weight': 15, 'scale_pos_weight': 2, 'subsample': 0.59276692747143, 'colsample_bytree': 0.8446115721652849, 'reg_alpha': 1.0207111502962454e-05, 'reg_lambda': 1.110843985595103e-06}. Best is trial 17 with value: 0.8663683333333333.\u001b[0m\n",
      "\u001b[32m[I 2021-07-29 21:20:13,389]\u001b[0m Trial 67 pruned. Trial was pruned at iteration 10.\u001b[0m\n",
      "\u001b[32m[I 2021-07-29 21:20:14,309]\u001b[0m Trial 68 pruned. Trial was pruned at iteration 15.\u001b[0m\n",
      "\u001b[32m[I 2021-07-29 21:20:14,902]\u001b[0m Trial 69 pruned. Trial was pruned at iteration 10.\u001b[0m\n",
      "\u001b[32m[I 2021-07-29 21:20:15,475]\u001b[0m Trial 70 pruned. Trial was pruned at iteration 10.\u001b[0m\n",
      "\u001b[32m[I 2021-07-29 21:20:16,541]\u001b[0m Trial 71 pruned. Trial was pruned at iteration 18.\u001b[0m\n",
      "\u001b[32m[I 2021-07-29 21:20:18,915]\u001b[0m Trial 72 pruned. Trial was pruned at iteration 37.\u001b[0m\n",
      "\u001b[32m[I 2021-07-29 21:20:19,624]\u001b[0m Trial 73 pruned. Trial was pruned at iteration 10.\u001b[0m\n",
      "\u001b[32m[I 2021-07-29 21:20:24,958]\u001b[0m Trial 74 pruned. Trial was pruned at iteration 98.\u001b[0m\n",
      "\u001b[32m[I 2021-07-29 21:20:25,626]\u001b[0m Trial 75 pruned. Trial was pruned at iteration 11.\u001b[0m\n",
      "\u001b[32m[I 2021-07-29 21:20:26,159]\u001b[0m Trial 76 pruned. Trial was pruned at iteration 10.\u001b[0m\n",
      "\u001b[32m[I 2021-07-29 21:20:26,925]\u001b[0m Trial 77 pruned. Trial was pruned at iteration 10.\u001b[0m\n",
      "\u001b[32m[I 2021-07-29 21:20:27,539]\u001b[0m Trial 78 pruned. Trial was pruned at iteration 10.\u001b[0m\n",
      "\u001b[32m[I 2021-07-29 21:20:28,258]\u001b[0m Trial 79 pruned. Trial was pruned at iteration 10.\u001b[0m\n",
      "\u001b[32m[I 2021-07-29 21:20:28,852]\u001b[0m Trial 80 pruned. Trial was pruned at iteration 10.\u001b[0m\n",
      "\u001b[32m[I 2021-07-29 21:20:29,707]\u001b[0m Trial 81 pruned. Trial was pruned at iteration 10.\u001b[0m\n",
      "\u001b[32m[I 2021-07-29 21:20:30,959]\u001b[0m Trial 82 pruned. Trial was pruned at iteration 16.\u001b[0m\n",
      "\u001b[32m[I 2021-07-29 21:20:32,270]\u001b[0m Trial 83 pruned. Trial was pruned at iteration 19.\u001b[0m\n",
      "\u001b[32m[I 2021-07-29 21:20:33,468]\u001b[0m Trial 84 pruned. Trial was pruned at iteration 17.\u001b[0m\n",
      "\u001b[32m[I 2021-07-29 21:20:34,344]\u001b[0m Trial 85 pruned. Trial was pruned at iteration 10.\u001b[0m\n",
      "\u001b[32m[I 2021-07-29 21:20:35,016]\u001b[0m Trial 86 pruned. Trial was pruned at iteration 10.\u001b[0m\n",
      "\u001b[32m[I 2021-07-29 21:20:35,631]\u001b[0m Trial 87 pruned. Trial was pruned at iteration 10.\u001b[0m\n",
      "\u001b[32m[I 2021-07-29 21:20:41,410]\u001b[0m Trial 88 finished with value: 0.8659193333333333 and parameters: {'max_depth': 6, 'gamma': 1, 'min_child_weight': 18, 'scale_pos_weight': 2, 'subsample': 0.6225220623040222, 'colsample_bytree': 0.7439403480134522, 'reg_alpha': 0.6751600676056891, 'reg_lambda': 8.395449658364516}. Best is trial 17 with value: 0.8663683333333333.\u001b[0m\n",
      "\u001b[32m[I 2021-07-29 21:20:41,744]\u001b[0m Trial 89 pruned. Trial was pruned at iteration 10.\u001b[0m\n",
      "\u001b[32m[I 2021-07-29 21:20:42,399]\u001b[0m Trial 90 pruned. Trial was pruned at iteration 10.\u001b[0m\n",
      "\u001b[32m[I 2021-07-29 21:20:47,128]\u001b[0m Trial 91 pruned. Trial was pruned at iteration 82.\u001b[0m\n",
      "\u001b[32m[I 2021-07-29 21:20:47,760]\u001b[0m Trial 92 pruned. Trial was pruned at iteration 10.\u001b[0m\n",
      "\u001b[32m[I 2021-07-29 21:20:48,321]\u001b[0m Trial 93 pruned. Trial was pruned at iteration 10.\u001b[0m\n",
      "\u001b[32m[I 2021-07-29 21:20:48,999]\u001b[0m Trial 94 pruned. Trial was pruned at iteration 10.\u001b[0m\n",
      "\u001b[32m[I 2021-07-29 21:20:49,823]\u001b[0m Trial 95 pruned. Trial was pruned at iteration 10.\u001b[0m\n",
      "\u001b[32m[I 2021-07-29 21:20:53,339]\u001b[0m Trial 96 pruned. Trial was pruned at iteration 60.\u001b[0m\n",
      "\u001b[32m[I 2021-07-29 21:20:53,926]\u001b[0m Trial 97 pruned. Trial was pruned at iteration 10.\u001b[0m\n",
      "\u001b[32m[I 2021-07-29 21:20:54,575]\u001b[0m Trial 98 pruned. Trial was pruned at iteration 10.\u001b[0m\n",
      "\u001b[32m[I 2021-07-29 21:20:55,341]\u001b[0m Trial 99 pruned. Trial was pruned at iteration 12.\u001b[0m\n",
      "\u001b[32m[I 2021-07-29 21:20:55,881]\u001b[0m Trial 100 pruned. Trial was pruned at iteration 10.\u001b[0m\n",
      "\u001b[32m[I 2021-07-29 21:20:57,369]\u001b[0m Trial 101 pruned. Trial was pruned at iteration 22.\u001b[0m\n",
      "\u001b[32m[I 2021-07-29 21:20:58,477]\u001b[0m Trial 102 pruned. Trial was pruned at iteration 15.\u001b[0m\n",
      "\u001b[32m[I 2021-07-29 21:20:59,272]\u001b[0m Trial 103 pruned. Trial was pruned at iteration 10.\u001b[0m\n",
      "\u001b[32m[I 2021-07-29 21:21:00,171]\u001b[0m Trial 104 pruned. Trial was pruned at iteration 13.\u001b[0m\n",
      "\u001b[32m[I 2021-07-29 21:21:00,801]\u001b[0m Trial 105 pruned. Trial was pruned at iteration 10.\u001b[0m\n",
      "\u001b[32m[I 2021-07-29 21:21:01,462]\u001b[0m Trial 106 pruned. Trial was pruned at iteration 10.\u001b[0m\n",
      "\u001b[32m[I 2021-07-29 21:21:02,064]\u001b[0m Trial 107 pruned. Trial was pruned at iteration 10.\u001b[0m\n",
      "\u001b[32m[I 2021-07-29 21:21:06,134]\u001b[0m Trial 108 pruned. Trial was pruned at iteration 60.\u001b[0m\n",
      "\u001b[32m[I 2021-07-29 21:21:06,925]\u001b[0m Trial 109 pruned. Trial was pruned at iteration 10.\u001b[0m\n",
      "\u001b[32m[I 2021-07-29 21:21:07,671]\u001b[0m Trial 110 pruned. Trial was pruned at iteration 10.\u001b[0m\n",
      "\u001b[32m[I 2021-07-29 21:21:08,495]\u001b[0m Trial 111 pruned. Trial was pruned at iteration 10.\u001b[0m\n",
      "\u001b[32m[I 2021-07-29 21:21:11,019]\u001b[0m Trial 112 pruned. Trial was pruned at iteration 39.\u001b[0m\n",
      "\u001b[32m[I 2021-07-29 21:21:11,993]\u001b[0m Trial 113 pruned. Trial was pruned at iteration 12.\u001b[0m\n",
      "\u001b[32m[I 2021-07-29 21:21:13,653]\u001b[0m Trial 114 pruned. Trial was pruned at iteration 27.\u001b[0m\n",
      "\u001b[32m[I 2021-07-29 21:21:14,378]\u001b[0m Trial 115 pruned. Trial was pruned at iteration 10.\u001b[0m\n",
      "\u001b[32m[I 2021-07-29 21:21:15,307]\u001b[0m Trial 116 pruned. Trial was pruned at iteration 10.\u001b[0m\n",
      "\u001b[32m[I 2021-07-29 21:21:15,916]\u001b[0m Trial 117 pruned. Trial was pruned at iteration 10.\u001b[0m\n",
      "\u001b[32m[I 2021-07-29 21:21:16,747]\u001b[0m Trial 118 pruned. Trial was pruned at iteration 10.\u001b[0m\n",
      "\u001b[32m[I 2021-07-29 21:21:17,484]\u001b[0m Trial 119 pruned. Trial was pruned at iteration 11.\u001b[0m\n",
      "\u001b[32m[I 2021-07-29 21:21:21,124]\u001b[0m Trial 120 pruned. Trial was pruned at iteration 60.\u001b[0m\n",
      "\u001b[32m[I 2021-07-29 21:21:21,989]\u001b[0m Trial 121 pruned. Trial was pruned at iteration 10.\u001b[0m\n",
      "\u001b[32m[I 2021-07-29 21:21:22,752]\u001b[0m Trial 122 pruned. Trial was pruned at iteration 10.\u001b[0m\n",
      "\u001b[32m[I 2021-07-29 21:21:23,414]\u001b[0m Trial 123 pruned. Trial was pruned at iteration 10.\u001b[0m\n",
      "\u001b[32m[I 2021-07-29 21:21:24,392]\u001b[0m Trial 124 pruned. Trial was pruned at iteration 10.\u001b[0m\n",
      "\u001b[32m[I 2021-07-29 21:21:25,055]\u001b[0m Trial 125 pruned. Trial was pruned at iteration 10.\u001b[0m\n",
      "\u001b[32m[I 2021-07-29 21:21:25,647]\u001b[0m Trial 126 pruned. Trial was pruned at iteration 10.\u001b[0m\n",
      "\u001b[32m[I 2021-07-29 21:21:26,252]\u001b[0m Trial 127 pruned. Trial was pruned at iteration 10.\u001b[0m\n",
      "\u001b[32m[I 2021-07-29 21:21:27,023]\u001b[0m Trial 128 pruned. Trial was pruned at iteration 10.\u001b[0m\n"
     ]
    },
    {
     "name": "stderr",
     "output_type": "stream",
     "text": [
      "\u001b[32m[I 2021-07-29 21:21:27,601]\u001b[0m Trial 129 pruned. Trial was pruned at iteration 10.\u001b[0m\n",
      "\u001b[32m[I 2021-07-29 21:21:28,214]\u001b[0m Trial 130 pruned. Trial was pruned at iteration 10.\u001b[0m\n",
      "\u001b[32m[I 2021-07-29 21:21:28,842]\u001b[0m Trial 131 pruned. Trial was pruned at iteration 10.\u001b[0m\n",
      "\u001b[32m[I 2021-07-29 21:21:29,475]\u001b[0m Trial 132 pruned. Trial was pruned at iteration 10.\u001b[0m\n",
      "\u001b[32m[I 2021-07-29 21:21:30,120]\u001b[0m Trial 133 pruned. Trial was pruned at iteration 10.\u001b[0m\n",
      "\u001b[32m[I 2021-07-29 21:21:30,800]\u001b[0m Trial 134 pruned. Trial was pruned at iteration 10.\u001b[0m\n",
      "\u001b[32m[I 2021-07-29 21:21:31,419]\u001b[0m Trial 135 pruned. Trial was pruned at iteration 10.\u001b[0m\n",
      "\u001b[32m[I 2021-07-29 21:21:32,039]\u001b[0m Trial 136 pruned. Trial was pruned at iteration 10.\u001b[0m\n",
      "\u001b[32m[I 2021-07-29 21:21:32,746]\u001b[0m Trial 137 pruned. Trial was pruned at iteration 10.\u001b[0m\n",
      "\u001b[32m[I 2021-07-29 21:21:33,546]\u001b[0m Trial 138 pruned. Trial was pruned at iteration 10.\u001b[0m\n",
      "\u001b[32m[I 2021-07-29 21:21:33,911]\u001b[0m Trial 139 pruned. Trial was pruned at iteration 10.\u001b[0m\n",
      "\u001b[32m[I 2021-07-29 21:21:34,575]\u001b[0m Trial 140 pruned. Trial was pruned at iteration 10.\u001b[0m\n",
      "\u001b[32m[I 2021-07-29 21:21:35,298]\u001b[0m Trial 141 pruned. Trial was pruned at iteration 10.\u001b[0m\n",
      "\u001b[32m[I 2021-07-29 21:21:35,974]\u001b[0m Trial 142 pruned. Trial was pruned at iteration 10.\u001b[0m\n",
      "\u001b[32m[I 2021-07-29 21:21:36,677]\u001b[0m Trial 143 pruned. Trial was pruned at iteration 10.\u001b[0m\n",
      "\u001b[32m[I 2021-07-29 21:21:37,227]\u001b[0m Trial 144 pruned. Trial was pruned at iteration 10.\u001b[0m\n",
      "\u001b[32m[I 2021-07-29 21:21:37,802]\u001b[0m Trial 145 pruned. Trial was pruned at iteration 10.\u001b[0m\n",
      "\u001b[32m[I 2021-07-29 21:21:38,854]\u001b[0m Trial 146 pruned. Trial was pruned at iteration 16.\u001b[0m\n",
      "\u001b[32m[I 2021-07-29 21:21:39,528]\u001b[0m Trial 147 pruned. Trial was pruned at iteration 10.\u001b[0m\n",
      "\u001b[32m[I 2021-07-29 21:21:41,143]\u001b[0m Trial 148 pruned. Trial was pruned at iteration 24.\u001b[0m\n",
      "\u001b[32m[I 2021-07-29 21:21:44,457]\u001b[0m Trial 149 pruned. Trial was pruned at iteration 66.\u001b[0m\n",
      "\u001b[32m[I 2021-07-29 21:21:45,157]\u001b[0m Trial 150 pruned. Trial was pruned at iteration 10.\u001b[0m\n",
      "\u001b[32m[I 2021-07-29 21:21:45,895]\u001b[0m Trial 151 pruned. Trial was pruned at iteration 10.\u001b[0m\n",
      "\u001b[32m[I 2021-07-29 21:21:46,649]\u001b[0m Trial 152 pruned. Trial was pruned at iteration 10.\u001b[0m\n",
      "\u001b[32m[I 2021-07-29 21:21:47,441]\u001b[0m Trial 153 pruned. Trial was pruned at iteration 10.\u001b[0m\n",
      "\u001b[32m[I 2021-07-29 21:21:48,274]\u001b[0m Trial 154 pruned. Trial was pruned at iteration 10.\u001b[0m\n",
      "\u001b[32m[I 2021-07-29 21:21:49,126]\u001b[0m Trial 155 pruned. Trial was pruned at iteration 10.\u001b[0m\n",
      "\u001b[32m[I 2021-07-29 21:21:56,347]\u001b[0m Trial 156 finished with value: 0.865815 and parameters: {'max_depth': 10, 'gamma': 3, 'min_child_weight': 4, 'scale_pos_weight': 7, 'subsample': 0.6307015744264607, 'colsample_bytree': 0.8051405378398289, 'reg_alpha': 9.51640719580738, 'reg_lambda': 0.00027924459601291475}. Best is trial 17 with value: 0.8663683333333333.\u001b[0m\n",
      "\u001b[32m[I 2021-07-29 21:21:58,151]\u001b[0m Trial 157 pruned. Trial was pruned at iteration 22.\u001b[0m\n",
      "\u001b[32m[I 2021-07-29 21:21:58,793]\u001b[0m Trial 158 pruned. Trial was pruned at iteration 10.\u001b[0m\n",
      "\u001b[32m[I 2021-07-29 21:21:59,681]\u001b[0m Trial 159 pruned. Trial was pruned at iteration 10.\u001b[0m\n",
      "\u001b[32m[I 2021-07-29 21:22:00,309]\u001b[0m Trial 160 pruned. Trial was pruned at iteration 10.\u001b[0m\n",
      "\u001b[32m[I 2021-07-29 21:22:01,072]\u001b[0m Trial 161 pruned. Trial was pruned at iteration 10.\u001b[0m\n",
      "\u001b[32m[I 2021-07-29 21:22:02,037]\u001b[0m Trial 162 pruned. Trial was pruned at iteration 10.\u001b[0m\n",
      "\u001b[32m[I 2021-07-29 21:22:02,715]\u001b[0m Trial 163 pruned. Trial was pruned at iteration 10.\u001b[0m\n",
      "\u001b[32m[I 2021-07-29 21:22:03,549]\u001b[0m Trial 164 pruned. Trial was pruned at iteration 10.\u001b[0m\n",
      "\u001b[32m[I 2021-07-29 21:22:04,262]\u001b[0m Trial 165 pruned. Trial was pruned at iteration 10.\u001b[0m\n",
      "\u001b[32m[I 2021-07-29 21:22:05,066]\u001b[0m Trial 166 pruned. Trial was pruned at iteration 10.\u001b[0m\n",
      "\u001b[32m[I 2021-07-29 21:22:06,368]\u001b[0m Trial 167 pruned. Trial was pruned at iteration 16.\u001b[0m\n",
      "\u001b[32m[I 2021-07-29 21:22:07,302]\u001b[0m Trial 168 pruned. Trial was pruned at iteration 10.\u001b[0m\n",
      "\u001b[32m[I 2021-07-29 21:22:07,924]\u001b[0m Trial 169 pruned. Trial was pruned at iteration 10.\u001b[0m\n",
      "\u001b[32m[I 2021-07-29 21:22:11,751]\u001b[0m Trial 170 finished with value: 0.8654400000000001 and parameters: {'max_depth': 6, 'gamma': 1, 'min_child_weight': 5, 'scale_pos_weight': 2, 'subsample': 0.6779452731176561, 'colsample_bytree': 0.8172171495988236, 'reg_alpha': 6.948350250543868e-06, 'reg_lambda': 0.21099875268110171}. Best is trial 17 with value: 0.8663683333333333.\u001b[0m\n",
      "\u001b[32m[I 2021-07-29 21:22:12,397]\u001b[0m Trial 171 pruned. Trial was pruned at iteration 10.\u001b[0m\n",
      "\u001b[32m[I 2021-07-29 21:22:13,052]\u001b[0m Trial 172 pruned. Trial was pruned at iteration 10.\u001b[0m\n",
      "\u001b[32m[I 2021-07-29 21:22:13,710]\u001b[0m Trial 173 pruned. Trial was pruned at iteration 10.\u001b[0m\n",
      "\u001b[32m[I 2021-07-29 21:22:14,426]\u001b[0m Trial 174 pruned. Trial was pruned at iteration 11.\u001b[0m\n",
      "\u001b[32m[I 2021-07-29 21:22:15,101]\u001b[0m Trial 175 pruned. Trial was pruned at iteration 10.\u001b[0m\n",
      "\u001b[32m[I 2021-07-29 21:22:15,844]\u001b[0m Trial 176 pruned. Trial was pruned at iteration 11.\u001b[0m\n",
      "\u001b[32m[I 2021-07-29 21:22:16,534]\u001b[0m Trial 177 pruned. Trial was pruned at iteration 10.\u001b[0m\n",
      "\u001b[32m[I 2021-07-29 21:22:17,298]\u001b[0m Trial 178 pruned. Trial was pruned at iteration 10.\u001b[0m\n",
      "\u001b[32m[I 2021-07-29 21:22:17,933]\u001b[0m Trial 179 pruned. Trial was pruned at iteration 10.\u001b[0m\n",
      "\u001b[32m[I 2021-07-29 21:22:21,826]\u001b[0m Trial 180 finished with value: 0.86584 and parameters: {'max_depth': 6, 'gamma': 1, 'min_child_weight': 19, 'scale_pos_weight': 3, 'subsample': 0.9420676322470062, 'colsample_bytree': 0.7407801517559511, 'reg_alpha': 0.00021698859445774558, 'reg_lambda': 0.04303418532331986}. Best is trial 17 with value: 0.8663683333333333.\u001b[0m\n",
      "\u001b[32m[I 2021-07-29 21:22:25,746]\u001b[0m Trial 181 finished with value: 0.8653486666666667 and parameters: {'max_depth': 6, 'gamma': 1, 'min_child_weight': 19, 'scale_pos_weight': 3, 'subsample': 0.9433092826850248, 'colsample_bytree': 0.7369332095127715, 'reg_alpha': 0.0005324313791030147, 'reg_lambda': 0.0422487091794537}. Best is trial 17 with value: 0.8663683333333333.\u001b[0m\n",
      "\u001b[32m[I 2021-07-29 21:22:29,585]\u001b[0m Trial 182 finished with value: 0.8650596666666667 and parameters: {'max_depth': 6, 'gamma': 1, 'min_child_weight': 19, 'scale_pos_weight': 3, 'subsample': 0.9406410712681049, 'colsample_bytree': 0.7356457033660305, 'reg_alpha': 0.0005601308846153463, 'reg_lambda': 0.03301943536637256}. Best is trial 17 with value: 0.8663683333333333.\u001b[0m\n",
      "\u001b[32m[I 2021-07-29 21:22:33,396]\u001b[0m Trial 183 finished with value: 0.865672 and parameters: {'max_depth': 6, 'gamma': 1, 'min_child_weight': 19, 'scale_pos_weight': 2, 'subsample': 0.9447032635056225, 'colsample_bytree': 0.737855741257664, 'reg_alpha': 0.0005722497493794346, 'reg_lambda': 0.014170332374888727}. Best is trial 17 with value: 0.8663683333333333.\u001b[0m\n",
      "\u001b[32m[I 2021-07-29 21:22:37,258]\u001b[0m Trial 184 finished with value: 0.8654163333333335 and parameters: {'max_depth': 6, 'gamma': 1, 'min_child_weight': 19, 'scale_pos_weight': 2, 'subsample': 0.9400404032484047, 'colsample_bytree': 0.7228650600829706, 'reg_alpha': 0.0006222509877656449, 'reg_lambda': 0.020181753171141317}. Best is trial 17 with value: 0.8663683333333333.\u001b[0m\n",
      "\u001b[32m[I 2021-07-29 21:22:42,432]\u001b[0m Trial 185 finished with value: 0.8658453333333332 and parameters: {'max_depth': 6, 'gamma': 1, 'min_child_weight': 19, 'scale_pos_weight': 2, 'subsample': 0.9457640536673052, 'colsample_bytree': 0.7239821304011277, 'reg_alpha': 0.0005175388784259709, 'reg_lambda': 0.017460045263651268}. Best is trial 17 with value: 0.8663683333333333.\u001b[0m\n",
      "\u001b[32m[I 2021-07-29 21:22:43,099]\u001b[0m Trial 186 pruned. Trial was pruned at iteration 10.\u001b[0m\n",
      "\u001b[32m[I 2021-07-29 21:22:46,924]\u001b[0m Trial 187 pruned. Trial was pruned at iteration 79.\u001b[0m\n",
      "\u001b[32m[I 2021-07-29 21:22:50,765]\u001b[0m Trial 188 pruned. Trial was pruned at iteration 79.\u001b[0m\n",
      "\u001b[32m[I 2021-07-29 21:22:51,388]\u001b[0m Trial 189 pruned. Trial was pruned at iteration 10.\u001b[0m\n",
      "\u001b[32m[I 2021-07-29 21:22:54,961]\u001b[0m Trial 190 pruned. Trial was pruned at iteration 78.\u001b[0m\n",
      "\u001b[32m[I 2021-07-29 21:22:58,681]\u001b[0m Trial 191 finished with value: 0.8657303333333334 and parameters: {'max_depth': 6, 'gamma': 1, 'min_child_weight': 19, 'scale_pos_weight': 2, 'subsample': 0.9188342651100834, 'colsample_bytree': 0.7110210040405786, 'reg_alpha': 0.00026035487145374057, 'reg_lambda': 0.021134801399347435}. Best is trial 17 with value: 0.8663683333333333.\u001b[0m\n"
     ]
    },
    {
     "name": "stderr",
     "output_type": "stream",
     "text": [
      "\u001b[32m[I 2021-07-29 21:22:59,287]\u001b[0m Trial 192 pruned. Trial was pruned at iteration 10.\u001b[0m\n",
      "\u001b[32m[I 2021-07-29 21:23:00,463]\u001b[0m Trial 193 pruned. Trial was pruned at iteration 21.\u001b[0m\n",
      "\u001b[32m[I 2021-07-29 21:23:03,691]\u001b[0m Trial 194 pruned. Trial was pruned at iteration 66.\u001b[0m\n",
      "\u001b[32m[I 2021-07-29 21:23:07,943]\u001b[0m Trial 195 finished with value: 0.8657593333333332 and parameters: {'max_depth': 6, 'gamma': 1, 'min_child_weight': 19, 'scale_pos_weight': 2, 'subsample': 0.9427148882065371, 'colsample_bytree': 0.7586044000397282, 'reg_alpha': 0.000478574061196293, 'reg_lambda': 0.04294159628036904}. Best is trial 17 with value: 0.8663683333333333.\u001b[0m\n",
      "\u001b[32m[I 2021-07-29 21:23:12,563]\u001b[0m Trial 196 pruned. Trial was pruned at iteration 81.\u001b[0m\n",
      "\u001b[32m[I 2021-07-29 21:23:13,260]\u001b[0m Trial 197 pruned. Trial was pruned at iteration 10.\u001b[0m\n",
      "\u001b[32m[I 2021-07-29 21:23:14,065]\u001b[0m Trial 198 pruned. Trial was pruned at iteration 12.\u001b[0m\n",
      "\u001b[32m[I 2021-07-29 21:23:15,274]\u001b[0m Trial 199 pruned. Trial was pruned at iteration 19.\u001b[0m\n",
      "\u001b[32m[I 2021-07-29 21:23:15,992]\u001b[0m Trial 200 pruned. Trial was pruned at iteration 10.\u001b[0m\n",
      "\u001b[32m[I 2021-07-29 21:23:16,968]\u001b[0m Trial 201 pruned. Trial was pruned at iteration 14.\u001b[0m\n",
      "\u001b[32m[I 2021-07-29 21:23:20,912]\u001b[0m Trial 202 finished with value: 0.865528 and parameters: {'max_depth': 6, 'gamma': 1, 'min_child_weight': 19, 'scale_pos_weight': 2, 'subsample': 0.9388712516275146, 'colsample_bytree': 0.7733144327786913, 'reg_alpha': 0.00020983241521822652, 'reg_lambda': 0.03151307707437194}. Best is trial 17 with value: 0.8663683333333333.\u001b[0m\n",
      "\u001b[32m[I 2021-07-29 21:23:21,617]\u001b[0m Trial 203 pruned. Trial was pruned at iteration 12.\u001b[0m\n",
      "\u001b[32m[I 2021-07-29 21:23:22,360]\u001b[0m Trial 204 pruned. Trial was pruned at iteration 13.\u001b[0m\n",
      "\u001b[32m[I 2021-07-29 21:23:26,343]\u001b[0m Trial 205 pruned. Trial was pruned at iteration 82.\u001b[0m\n",
      "\u001b[32m[I 2021-07-29 21:23:27,030]\u001b[0m Trial 206 pruned. Trial was pruned at iteration 10.\u001b[0m\n",
      "\u001b[32m[I 2021-07-29 21:23:27,905]\u001b[0m Trial 207 pruned. Trial was pruned at iteration 12.\u001b[0m\n",
      "\u001b[32m[I 2021-07-29 21:23:28,676]\u001b[0m Trial 208 pruned. Trial was pruned at iteration 10.\u001b[0m\n",
      "\u001b[32m[I 2021-07-29 21:23:29,497]\u001b[0m Trial 209 pruned. Trial was pruned at iteration 12.\u001b[0m\n",
      "\u001b[32m[I 2021-07-29 21:23:30,187]\u001b[0m Trial 210 pruned. Trial was pruned at iteration 10.\u001b[0m\n",
      "\u001b[32m[I 2021-07-29 21:23:35,470]\u001b[0m Trial 211 finished with value: 0.8660416666666667 and parameters: {'max_depth': 6, 'gamma': 1, 'min_child_weight': 19, 'scale_pos_weight': 2, 'subsample': 0.9541520061583187, 'colsample_bytree': 0.7531453104883424, 'reg_alpha': 0.0003480504228685397, 'reg_lambda': 0.025655415005893745}. Best is trial 17 with value: 0.8663683333333333.\u001b[0m\n",
      "\u001b[32m[I 2021-07-29 21:23:38,641]\u001b[0m Trial 212 pruned. Trial was pruned at iteration 57.\u001b[0m\n",
      "\u001b[32m[I 2021-07-29 21:23:39,375]\u001b[0m Trial 213 pruned. Trial was pruned at iteration 10.\u001b[0m\n",
      "\u001b[32m[I 2021-07-29 21:23:40,515]\u001b[0m Trial 214 pruned. Trial was pruned at iteration 16.\u001b[0m\n",
      "\u001b[32m[I 2021-07-29 21:23:41,398]\u001b[0m Trial 215 pruned. Trial was pruned at iteration 13.\u001b[0m\n",
      "\u001b[32m[I 2021-07-29 21:23:42,084]\u001b[0m Trial 216 pruned. Trial was pruned at iteration 10.\u001b[0m\n",
      "\u001b[32m[I 2021-07-29 21:23:45,596]\u001b[0m Trial 217 pruned. Trial was pruned at iteration 60.\u001b[0m\n",
      "\u001b[32m[I 2021-07-29 21:23:48,754]\u001b[0m Trial 218 pruned. Trial was pruned at iteration 56.\u001b[0m\n",
      "\u001b[32m[I 2021-07-29 21:23:49,484]\u001b[0m Trial 219 pruned. Trial was pruned at iteration 10.\u001b[0m\n",
      "\u001b[32m[I 2021-07-29 21:23:50,296]\u001b[0m Trial 220 pruned. Trial was pruned at iteration 12.\u001b[0m\n",
      "\u001b[32m[I 2021-07-29 21:23:51,540]\u001b[0m Trial 221 pruned. Trial was pruned at iteration 21.\u001b[0m\n",
      "\u001b[32m[I 2021-07-29 21:23:52,205]\u001b[0m Trial 222 pruned. Trial was pruned at iteration 10.\u001b[0m\n",
      "\u001b[32m[I 2021-07-29 21:23:52,856]\u001b[0m Trial 223 pruned. Trial was pruned at iteration 10.\u001b[0m\n",
      "\u001b[32m[I 2021-07-29 21:23:53,604]\u001b[0m Trial 224 pruned. Trial was pruned at iteration 12.\u001b[0m\n",
      "\u001b[32m[I 2021-07-29 21:23:55,987]\u001b[0m Trial 225 pruned. Trial was pruned at iteration 48.\u001b[0m\n",
      "\u001b[32m[I 2021-07-29 21:23:56,318]\u001b[0m Trial 226 pruned. Trial was pruned at iteration 10.\u001b[0m\n",
      "\u001b[32m[I 2021-07-29 21:23:59,137]\u001b[0m Trial 227 pruned. Trial was pruned at iteration 57.\u001b[0m\n",
      "\u001b[32m[I 2021-07-29 21:23:59,738]\u001b[0m Trial 228 pruned. Trial was pruned at iteration 10.\u001b[0m\n",
      "\u001b[32m[I 2021-07-29 21:24:00,393]\u001b[0m Trial 229 pruned. Trial was pruned at iteration 10.\u001b[0m\n",
      "\u001b[32m[I 2021-07-29 21:24:01,040]\u001b[0m Trial 230 pruned. Trial was pruned at iteration 10.\u001b[0m\n",
      "\u001b[32m[I 2021-07-29 21:24:02,498]\u001b[0m Trial 231 pruned. Trial was pruned at iteration 26.\u001b[0m\n",
      "\u001b[32m[I 2021-07-29 21:24:03,257]\u001b[0m Trial 232 pruned. Trial was pruned at iteration 12.\u001b[0m\n",
      "\u001b[32m[I 2021-07-29 21:24:03,850]\u001b[0m Trial 233 pruned. Trial was pruned at iteration 10.\u001b[0m\n",
      "\u001b[32m[I 2021-07-29 21:24:04,788]\u001b[0m Trial 234 pruned. Trial was pruned at iteration 15.\u001b[0m\n",
      "\u001b[32m[I 2021-07-29 21:24:06,857]\u001b[0m Trial 235 pruned. Trial was pruned at iteration 38.\u001b[0m\n",
      "\u001b[32m[I 2021-07-29 21:24:07,514]\u001b[0m Trial 236 pruned. Trial was pruned at iteration 10.\u001b[0m\n",
      "\u001b[32m[I 2021-07-29 21:24:08,144]\u001b[0m Trial 237 pruned. Trial was pruned at iteration 10.\u001b[0m\n",
      "\u001b[32m[I 2021-07-29 21:24:09,007]\u001b[0m Trial 238 pruned. Trial was pruned at iteration 14.\u001b[0m\n",
      "\u001b[32m[I 2021-07-29 21:24:09,620]\u001b[0m Trial 239 pruned. Trial was pruned at iteration 10.\u001b[0m\n",
      "\u001b[32m[I 2021-07-29 21:24:10,303]\u001b[0m Trial 240 pruned. Trial was pruned at iteration 10.\u001b[0m\n",
      "\u001b[32m[I 2021-07-29 21:24:10,914]\u001b[0m Trial 241 pruned. Trial was pruned at iteration 10.\u001b[0m\n",
      "\u001b[32m[I 2021-07-29 21:24:11,555]\u001b[0m Trial 242 pruned. Trial was pruned at iteration 10.\u001b[0m\n",
      "\u001b[32m[I 2021-07-29 21:24:12,839]\u001b[0m Trial 243 pruned. Trial was pruned at iteration 18.\u001b[0m\n",
      "\u001b[32m[I 2021-07-29 21:24:13,362]\u001b[0m Trial 244 pruned. Trial was pruned at iteration 10.\u001b[0m\n",
      "\u001b[32m[I 2021-07-29 21:24:14,078]\u001b[0m Trial 245 pruned. Trial was pruned at iteration 10.\u001b[0m\n",
      "\u001b[32m[I 2021-07-29 21:24:14,759]\u001b[0m Trial 246 pruned. Trial was pruned at iteration 10.\u001b[0m\n",
      "\u001b[32m[I 2021-07-29 21:24:16,990]\u001b[0m Trial 247 pruned. Trial was pruned at iteration 42.\u001b[0m\n",
      "\u001b[32m[I 2021-07-29 21:24:17,703]\u001b[0m Trial 248 pruned. Trial was pruned at iteration 10.\u001b[0m\n",
      "\u001b[32m[I 2021-07-29 21:24:18,942]\u001b[0m Trial 249 pruned. Trial was pruned at iteration 21.\u001b[0m\n",
      "\u001b[32m[I 2021-07-29 21:24:19,788]\u001b[0m Trial 250 pruned. Trial was pruned at iteration 10.\u001b[0m\n",
      "\u001b[32m[I 2021-07-29 21:24:20,435]\u001b[0m Trial 251 pruned. Trial was pruned at iteration 10.\u001b[0m\n",
      "\u001b[32m[I 2021-07-29 21:24:21,107]\u001b[0m Trial 252 pruned. Trial was pruned at iteration 10.\u001b[0m\n",
      "\u001b[32m[I 2021-07-29 21:24:21,688]\u001b[0m Trial 253 pruned. Trial was pruned at iteration 10.\u001b[0m\n",
      "\u001b[32m[I 2021-07-29 21:24:22,568]\u001b[0m Trial 254 pruned. Trial was pruned at iteration 10.\u001b[0m\n",
      "\u001b[32m[I 2021-07-29 21:24:23,332]\u001b[0m Trial 255 pruned. Trial was pruned at iteration 13.\u001b[0m\n",
      "\u001b[32m[I 2021-07-29 21:24:23,995]\u001b[0m Trial 256 pruned. Trial was pruned at iteration 10.\u001b[0m\n",
      "\u001b[32m[I 2021-07-29 21:24:24,660]\u001b[0m Trial 257 pruned. Trial was pruned at iteration 11.\u001b[0m\n",
      "\u001b[32m[I 2021-07-29 21:24:25,866]\u001b[0m Trial 258 pruned. Trial was pruned at iteration 19.\u001b[0m\n",
      "\u001b[32m[I 2021-07-29 21:24:28,227]\u001b[0m Trial 259 pruned. Trial was pruned at iteration 44.\u001b[0m\n",
      "\u001b[32m[I 2021-07-29 21:24:29,318]\u001b[0m Trial 260 pruned. Trial was pruned at iteration 15.\u001b[0m\n",
      "\u001b[32m[I 2021-07-29 21:24:29,992]\u001b[0m Trial 261 pruned. Trial was pruned at iteration 10.\u001b[0m\n",
      "\u001b[32m[I 2021-07-29 21:24:30,631]\u001b[0m Trial 262 pruned. Trial was pruned at iteration 10.\u001b[0m\n",
      "\u001b[32m[I 2021-07-29 21:24:32,053]\u001b[0m Trial 263 pruned. Trial was pruned at iteration 17.\u001b[0m\n",
      "\u001b[32m[I 2021-07-29 21:24:32,601]\u001b[0m Trial 264 pruned. Trial was pruned at iteration 10.\u001b[0m\n",
      "\u001b[32m[I 2021-07-29 21:24:33,233]\u001b[0m Trial 265 pruned. Trial was pruned at iteration 10.\u001b[0m\n",
      "\u001b[32m[I 2021-07-29 21:24:37,039]\u001b[0m Trial 266 finished with value: 0.8657653333333334 and parameters: {'max_depth': 6, 'gamma': 1, 'min_child_weight': 11, 'scale_pos_weight': 2, 'subsample': 0.896450884332997, 'colsample_bytree': 0.8110857732916129, 'reg_alpha': 0.0001078682879363728, 'reg_lambda': 0.008169326764065971}. Best is trial 17 with value: 0.8663683333333333.\u001b[0m\n",
      "\u001b[32m[I 2021-07-29 21:24:37,707]\u001b[0m Trial 267 pruned. Trial was pruned at iteration 10.\u001b[0m\n"
     ]
    },
    {
     "name": "stderr",
     "output_type": "stream",
     "text": [
      "\u001b[32m[I 2021-07-29 21:24:41,881]\u001b[0m Trial 268 finished with value: 0.8657846666666668 and parameters: {'max_depth': 6, 'gamma': 1, 'min_child_weight': 13, 'scale_pos_weight': 2, 'subsample': 0.8712487711970953, 'colsample_bytree': 0.8298759313297249, 'reg_alpha': 0.00011514955249022182, 'reg_lambda': 0.007556071524598899}. Best is trial 17 with value: 0.8663683333333333.\u001b[0m\n",
      "\u001b[32m[I 2021-07-29 21:24:42,495]\u001b[0m Trial 269 pruned. Trial was pruned at iteration 10.\u001b[0m\n",
      "\u001b[32m[I 2021-07-29 21:24:43,156]\u001b[0m Trial 270 pruned. Trial was pruned at iteration 10.\u001b[0m\n",
      "\u001b[32m[I 2021-07-29 21:24:43,909]\u001b[0m Trial 271 pruned. Trial was pruned at iteration 12.\u001b[0m\n",
      "\u001b[32m[I 2021-07-29 21:24:44,548]\u001b[0m Trial 272 pruned. Trial was pruned at iteration 10.\u001b[0m\n",
      "\u001b[32m[I 2021-07-29 21:24:45,204]\u001b[0m Trial 273 pruned. Trial was pruned at iteration 10.\u001b[0m\n",
      "\u001b[32m[I 2021-07-29 21:24:47,326]\u001b[0m Trial 274 pruned. Trial was pruned at iteration 41.\u001b[0m\n",
      "\u001b[32m[I 2021-07-29 21:24:47,997]\u001b[0m Trial 275 pruned. Trial was pruned at iteration 10.\u001b[0m\n",
      "\u001b[32m[I 2021-07-29 21:24:48,637]\u001b[0m Trial 276 pruned. Trial was pruned at iteration 10.\u001b[0m\n",
      "\u001b[32m[I 2021-07-29 21:24:50,974]\u001b[0m Trial 277 pruned. Trial was pruned at iteration 46.\u001b[0m\n",
      "\u001b[32m[I 2021-07-29 21:24:51,588]\u001b[0m Trial 278 pruned. Trial was pruned at iteration 10.\u001b[0m\n",
      "\u001b[32m[I 2021-07-29 21:24:52,233]\u001b[0m Trial 279 pruned. Trial was pruned at iteration 10.\u001b[0m\n",
      "\u001b[32m[I 2021-07-29 21:24:52,876]\u001b[0m Trial 280 pruned. Trial was pruned at iteration 10.\u001b[0m\n",
      "\u001b[32m[I 2021-07-29 21:24:53,655]\u001b[0m Trial 281 pruned. Trial was pruned at iteration 13.\u001b[0m\n",
      "\u001b[32m[I 2021-07-29 21:24:54,331]\u001b[0m Trial 282 pruned. Trial was pruned at iteration 10.\u001b[0m\n",
      "\u001b[32m[I 2021-07-29 21:24:54,965]\u001b[0m Trial 283 pruned. Trial was pruned at iteration 10.\u001b[0m\n",
      "\u001b[32m[I 2021-07-29 21:24:55,671]\u001b[0m Trial 284 pruned. Trial was pruned at iteration 10.\u001b[0m\n",
      "\u001b[32m[I 2021-07-29 21:24:56,356]\u001b[0m Trial 285 pruned. Trial was pruned at iteration 10.\u001b[0m\n",
      "\u001b[32m[I 2021-07-29 21:24:56,982]\u001b[0m Trial 286 pruned. Trial was pruned at iteration 10.\u001b[0m\n",
      "\u001b[32m[I 2021-07-29 21:25:00,921]\u001b[0m Trial 287 finished with value: 0.8660390000000001 and parameters: {'max_depth': 6, 'gamma': 1, 'min_child_weight': 20, 'scale_pos_weight': 2, 'subsample': 0.9454649513766705, 'colsample_bytree': 0.7365810559106121, 'reg_alpha': 0.0003263584963827907, 'reg_lambda': 0.004945428544360068}. Best is trial 17 with value: 0.8663683333333333.\u001b[0m\n",
      "\u001b[32m[I 2021-07-29 21:25:04,295]\u001b[0m Trial 288 finished with value: 0.8656290000000001 and parameters: {'max_depth': 6, 'gamma': 1, 'min_child_weight': 20, 'scale_pos_weight': 2, 'subsample': 0.9452232953990244, 'colsample_bytree': 0.7174402346428318, 'reg_alpha': 0.0003214323719020297, 'reg_lambda': 0.0045294111610710355}. Best is trial 17 with value: 0.8663683333333333.\u001b[0m\n",
      "\u001b[32m[I 2021-07-29 21:25:06,240]\u001b[0m Trial 289 pruned. Trial was pruned at iteration 41.\u001b[0m\n",
      "\u001b[32m[I 2021-07-29 21:25:06,846]\u001b[0m Trial 290 pruned. Trial was pruned at iteration 10.\u001b[0m\n",
      "\u001b[32m[I 2021-07-29 21:25:08,342]\u001b[0m Trial 291 pruned. Trial was pruned at iteration 27.\u001b[0m\n",
      "\u001b[32m[I 2021-07-29 21:25:10,514]\u001b[0m Trial 292 pruned. Trial was pruned at iteration 43.\u001b[0m\n",
      "\u001b[32m[I 2021-07-29 21:25:11,136]\u001b[0m Trial 293 pruned. Trial was pruned at iteration 10.\u001b[0m\n",
      "\u001b[32m[I 2021-07-29 21:25:11,924]\u001b[0m Trial 294 pruned. Trial was pruned at iteration 13.\u001b[0m\n",
      "\u001b[32m[I 2021-07-29 21:25:12,823]\u001b[0m Trial 295 pruned. Trial was pruned at iteration 15.\u001b[0m\n",
      "\u001b[32m[I 2021-07-29 21:25:13,473]\u001b[0m Trial 296 pruned. Trial was pruned at iteration 10.\u001b[0m\n",
      "\u001b[32m[I 2021-07-29 21:25:14,283]\u001b[0m Trial 297 pruned. Trial was pruned at iteration 13.\u001b[0m\n",
      "\u001b[32m[I 2021-07-29 21:25:14,823]\u001b[0m Trial 298 pruned. Trial was pruned at iteration 10.\u001b[0m\n",
      "\u001b[32m[I 2021-07-29 21:25:15,384]\u001b[0m Trial 299 pruned. Trial was pruned at iteration 10.\u001b[0m\n"
     ]
    }
   ],
   "source": [
    "study = optuna.create_study(\n",
    "    direction='maximize',                     \n",
    "    sampler=TPESampler(),\n",
    "    pruner=optuna.pruners.MedianPruner(n_warmup_steps=10)\n",
    ")\n",
    "study.optimize(objective, n_trials=300)"
   ]
  },
  {
   "cell_type": "code",
   "execution_count": 12,
   "id": "5bbf09d6",
   "metadata": {},
   "outputs": [
    {
     "name": "stdout",
     "output_type": "stream",
     "text": [
      "Number of finished trials: 300\n",
      "Best trial:\n",
      "  Value: 0.8663683333333333\n",
      "  Params: \n",
      "    max_depth: 6\n",
      "    gamma: 1\n",
      "    min_child_weight: 18\n",
      "    scale_pos_weight: 4\n",
      "    subsample: 0.6439846353512728\n",
      "    colsample_bytree: 0.8774177233229632\n",
      "    reg_alpha: 7.110378342968055\n",
      "    reg_lambda: 0.0005005189968821851\n"
     ]
    }
   ],
   "source": [
    "print(\"Number of finished trials: {}\".format(len(study.trials)))\n",
    "print(\"Best trial:\")\n",
    "trial = study.best_trial\n",
    "print(\"  Value: {}\".format(trial.value))\n",
    "print(\"  Params: \")\n",
    "for key, value in trial.params.items():\n",
    "    print(\"    {}: {}\".format(key, value))"
   ]
  },
  {
   "cell_type": "markdown",
   "id": "72ef32ac",
   "metadata": {},
   "source": [
    "## Optimize n_estimators and learning rate\n",
    "- set to high iterations and low learning rate"
   ]
  },
  {
   "cell_type": "code",
   "execution_count": 13,
   "id": "7bac3094",
   "metadata": {},
   "outputs": [
    {
     "data": {
      "text/plain": [
       "{'max_depth': 6,\n",
       " 'gamma': 1,\n",
       " 'min_child_weight': 18,\n",
       " 'scale_pos_weight': 4,\n",
       " 'subsample': 0.6439846353512728,\n",
       " 'colsample_bytree': 0.8774177233229632,\n",
       " 'reg_alpha': 7.110378342968055,\n",
       " 'reg_lambda': 0.0005005189968821851,\n",
       " 'learning_rate': 0.01,\n",
       " 'eval_metric': 'auc'}"
      ]
     },
     "execution_count": 13,
     "metadata": {},
     "output_type": "execute_result"
    }
   ],
   "source": [
    "param = trial.params\n",
    "param.update({\"learning_rate\":0.01,\n",
    "              \"eval_metric\" : \"auc\"})\n",
    "param"
   ]
  },
  {
   "cell_type": "code",
   "execution_count": 14,
   "id": "6192d89e",
   "metadata": {
    "scrolled": true
   },
   "outputs": [],
   "source": [
    "cv_scores = xgb.cv(param, dtrain, 10000, nfold  = 5, early_stopping_rounds = 50,verbose_eval=False)['test-auc-mean']"
   ]
  },
  {
   "cell_type": "code",
   "execution_count": 15,
   "id": "2119ca96",
   "metadata": {
    "scrolled": true
   },
   "outputs": [
    {
     "name": "stdout",
     "output_type": "stream",
     "text": [
      "Best Iteration 1073 at 0.8692816000000001\n"
     ]
    }
   ],
   "source": [
    "print(f\"Best Iteration {len(cv_scores)} at {cv_scores.max()}\")"
   ]
  },
  {
   "cell_type": "markdown",
   "id": "98d83564",
   "metadata": {},
   "source": [
    "# Train with best param and export"
   ]
  },
  {
   "cell_type": "code",
   "execution_count": 18,
   "id": "9e557c66",
   "metadata": {},
   "outputs": [],
   "source": [
    "best_param = {\n",
    "    'max_depth': 6,\n",
    "    'gamma': 1,\n",
    "    'min_child_weight': 18,\n",
    "    'scale_pos_weight': 4,\n",
    "    'subsample': 0.6439846353512728,\n",
    "    'colsample_bytree': 0.8774177233229632,\n",
    "    'reg_alpha': 7.110378342968055,\n",
    "    'reg_lambda': 0.0005005189968821851,\n",
    "    'learning_rate': 0.01,\n",
    "    'eval_metric': 'auc',\n",
    "    \"use_label_encoder\":False,\n",
    "    \"n_estimators\": 1073 \n",
    "}"
   ]
  },
  {
   "cell_type": "code",
   "execution_count": 19,
   "id": "bcc06f02",
   "metadata": {},
   "outputs": [
    {
     "data": {
      "text/plain": [
       "XGBClassifier(base_score=0.5, booster='gbtree', colsample_bylevel=1,\n",
       "              colsample_bynode=1, colsample_bytree=0.8774177233229632,\n",
       "              eval_metric='auc', gamma=1, gpu_id=-1, importance_type='gain',\n",
       "              interaction_constraints='', learning_rate=0.01, max_delta_step=0,\n",
       "              max_depth=6, min_child_weight=18, missing=nan,\n",
       "              monotone_constraints='()', n_estimators=1073, n_jobs=8,\n",
       "              num_parallel_tree=1, objective='binary:logistic', random_state=0,\n",
       "              reg_alpha=7.110378342968055, reg_lambda=0.0005005189968821851,\n",
       "              scale_pos_weight=4, subsample=0.6439846353512728,\n",
       "              tree_method='exact', use_label_encoder=False,\n",
       "              validate_parameters=1, verbosity=None)"
      ]
     },
     "execution_count": 19,
     "metadata": {},
     "output_type": "execute_result"
    }
   ],
   "source": [
    "model = xgb.XGBClassifier()\n",
    "model.set_params(**best_param)\n",
    "model.fit(X,y)"
   ]
  },
  {
   "cell_type": "code",
   "execution_count": 20,
   "id": "73bbb591",
   "metadata": {},
   "outputs": [
    {
     "data": {
      "text/plain": [
       "['C:\\\\Users\\\\tanch\\\\Documents\\\\Coding Competitions\\\\DataDriven\\\\Flu Shot Learning\\\\local\\\\model\\\\xgbboost seasonal_vaccine 0.pkl']"
      ]
     },
     "execution_count": 20,
     "metadata": {},
     "output_type": "execute_result"
    }
   ],
   "source": [
    "import joblib\n",
    "joblib.dump(model, r\"C:\\Users\\tanch\\Documents\\Coding Competitions\\DataDriven\\Flu Shot Learning\\local\\model\\xgbboost seasonal_vaccine 0.pkl\")\n",
    "# gbm_pickle = joblib.load(r\"C:\\Users\\tanch\\Documents\\Coding Competitions\\DataDriven\\Flu Shot Learning\\local\\model\\lightgbm 0.pkl\")"
   ]
  },
  {
   "cell_type": "code",
   "execution_count": null,
   "id": "a176e6f9",
   "metadata": {},
   "outputs": [],
   "source": []
  }
 ],
 "metadata": {
  "kernelspec": {
   "display_name": "Python 3",
   "language": "python",
   "name": "python3"
  },
  "language_info": {
   "codemirror_mode": {
    "name": "ipython",
    "version": 3
   },
   "file_extension": ".py",
   "mimetype": "text/x-python",
   "name": "python",
   "nbconvert_exporter": "python",
   "pygments_lexer": "ipython3",
   "version": "3.8.3"
  }
 },
 "nbformat": 4,
 "nbformat_minor": 5
}
