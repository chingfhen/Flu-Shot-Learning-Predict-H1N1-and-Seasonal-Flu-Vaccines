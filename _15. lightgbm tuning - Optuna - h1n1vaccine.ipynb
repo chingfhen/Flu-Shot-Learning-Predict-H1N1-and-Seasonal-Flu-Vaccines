{
 "cells": [
  {
   "cell_type": "markdown",
   "id": "bd9a3774",
   "metadata": {},
   "source": [
    "# About:\n",
    "- this notebooks:\n",
    "    - optimizes parameters with Optuna with a pruner that observes intermediate results and stop unpromising trials.\n",
    "    - Approach:\n",
    "        1. Fix at a high-ish learning rate and at a fixed iteration\n",
    "        2. perform Hyperparameter Search\n",
    "        3. Using the best parameters found, reduce learning rate and find the best iteration using early stopping\n",
    "- insights:\n",
    "    - **the above approach is effective** - gains are usually seen in step 3"
   ]
  },
  {
   "cell_type": "code",
   "execution_count": 21,
   "id": "7689971e",
   "metadata": {},
   "outputs": [],
   "source": [
    "import lightgbm as lgb\n",
    "import optuna \n",
    "from lightgbm import Dataset\n",
    "from optuna import Trial, visualization\n",
    "from optuna.samplers import TPESampler"
   ]
  },
  {
   "cell_type": "markdown",
   "id": "6945a0b1",
   "metadata": {},
   "source": [
    "### prepare data"
   ]
  },
  {
   "cell_type": "code",
   "execution_count": 3,
   "id": "fe144d8c",
   "metadata": {},
   "outputs": [
    {
     "data": {
      "application/javascript": [
       "\n",
       "        if (window._pyforest_update_imports_cell) { window._pyforest_update_imports_cell('import pandas as pd\\nimport lightgbm as lgb'); }\n",
       "    "
      ],
      "text/plain": [
       "<IPython.core.display.Javascript object>"
      ]
     },
     "metadata": {},
     "output_type": "display_data"
    }
   ],
   "source": [
    "label_colnames = ['h1n1_vaccine', 'seasonal_vaccine']\n",
    "X = pd.read_csv(r\"C:\\Users\\tanch\\Documents\\Coding Competitions\\DataDriven\\Flu Shot Learning\\local\\data\\cleaned_train_set.csv\",index_col = \"respondent_id\")\n",
    "y = X[label_colnames[0]]\n",
    "X = X.drop(label_colnames,axis=1)"
   ]
  },
  {
   "cell_type": "code",
   "execution_count": 4,
   "id": "7e8e3526",
   "metadata": {},
   "outputs": [],
   "source": [
    "# boosting libraries have Dataset class that has memory and speed optimizations\n",
    "dtrain = Dataset(X, label=y)"
   ]
  },
  {
   "cell_type": "markdown",
   "id": "6a734776",
   "metadata": {},
   "source": [
    "# Objective Function\n",
    "- should take an input Trial instance and return a score"
   ]
  },
  {
   "cell_type": "code",
   "execution_count": 1,
   "id": "d8dc2123",
   "metadata": {},
   "outputs": [],
   "source": [
    "def objective(trial):\n",
    "\n",
    "    # n_estimators and learning rate are closely tight and will be tuned afterwards\n",
    "    param = {\n",
    "        \"objective\": \"binary\",\n",
    "        \"learning_rate\":0.1,\n",
    "        \"metric\": \"auc\",\n",
    "        \"verbosity\": -1,\n",
    "        \"boosting_type\": \"gbdt\",\n",
    "        \"max_depth\" : trial.suggest_int(\"max_depth\", 4, 10),\n",
    "        \"colsample_bytree\": trial.suggest_float(\"colsample_bytree\", 0.4, 1.0),\n",
    "        \"subsample\": trial.suggest_float(\"subsample\", 0.4, 1.0),\n",
    "        \"min_child_samples\": trial.suggest_int(\"min_child_samples\", 5, 100),\n",
    "        \"lambda_l1\": trial.suggest_float(\"lambda_l1\", 1e-8, 10.0, log=True),\n",
    "        \"lambda_l2\": trial.suggest_float(\"lambda_l2\", 1e-8, 10.0, log=True),\n",
    "    }\n",
    "\n",
    "    # Add a callback for pruning.\n",
    "    pruning_callback = optuna.integration.LightGBMPruningCallback(trial, \"auc\")\n",
    "    \n",
    "    cv_scores = lgb.cv(param, dtrain, 1000, nfold  = 3, early_stopping_rounds = 20,verbose_eval=False, \n",
    "                       callbacks=[pruning_callback])\n",
    "    \n",
    "    return cv_scores['auc-mean'][-1]      # last recorded cv score is the best score from early stopping\n"
   ]
  },
  {
   "cell_type": "markdown",
   "id": "cafade4f",
   "metadata": {},
   "source": [
    "# create_study"
   ]
  },
  {
   "cell_type": "code",
   "execution_count": null,
   "id": "f95608ce",
   "metadata": {},
   "outputs": [],
   "source": [
    "study = optuna.create_study(\n",
    "    pruner=optuna.pruners.MedianPruner(n_warmup_steps=10), direction=\"maximize\"\n",
    ")\n",
    "study.optimize(objective, n_trials=300)"
   ]
  },
  {
   "cell_type": "code",
   "execution_count": 16,
   "id": "5bbf09d6",
   "metadata": {},
   "outputs": [
    {
     "name": "stdout",
     "output_type": "stream",
     "text": [
      "Number of finished trials: 300\n",
      "Best trial:\n",
      "  Value: 0.8687676567096521\n",
      "  Params: \n",
      "    max_depth: 4\n",
      "    colsample_bytree: 0.42754023012515663\n",
      "    subsample: 0.5520857036662926\n",
      "    min_child_samples: 10\n",
      "    lambda_l1: 1.1370937261781668\n",
      "    lambda_l2: 0.07055165843421532\n"
     ]
    }
   ],
   "source": [
    "print(\"Number of finished trials: {}\".format(len(study.trials)))\n",
    "print(\"Best trial:\")\n",
    "trial = study.best_trial\n",
    "print(\"  Value: {}\".format(trial.value))\n",
    "print(\"  Params: \")\n",
    "for key, value in trial.params.items():\n",
    "    print(\"    {}: {}\".format(key, value))"
   ]
  },
  {
   "cell_type": "markdown",
   "id": "72ef32ac",
   "metadata": {},
   "source": [
    "## Optimize n_estimators and learning rate\n",
    "- set to high iterations and low learning rate"
   ]
  },
  {
   "cell_type": "code",
   "execution_count": 33,
   "id": "7bac3094",
   "metadata": {},
   "outputs": [
    {
     "data": {
      "text/plain": [
       "{'max_depth': 4,\n",
       " 'colsample_bytree': 0.42754023012515663,\n",
       " 'subsample': 0.5520857036662926,\n",
       " 'min_child_samples': 10,\n",
       " 'lambda_l1': 1.1370937261781668,\n",
       " 'lambda_l2': 0.07055165843421532,\n",
       " 'learning_rate': 0.01,\n",
       " 'objective': 'binary',\n",
       " 'metric': 'auc'}"
      ]
     },
     "execution_count": 33,
     "metadata": {},
     "output_type": "execute_result"
    }
   ],
   "source": [
    "param = trial.params\n",
    "param.update({\"learning_rate\":0.01,\n",
    "              \"objective\": \"binary\",\n",
    "              \"metric\": \"auc\"})\n",
    "param"
   ]
  },
  {
   "cell_type": "code",
   "execution_count": 34,
   "id": "6192d89e",
   "metadata": {
    "scrolled": true
   },
   "outputs": [],
   "source": [
    "cv_scores = lgb.cv(param, dtrain, 10000, nfold  = 5, early_stopping_rounds = 50,verbose_eval=False)['auc-mean']"
   ]
  },
  {
   "cell_type": "code",
   "execution_count": 35,
   "id": "2119ca96",
   "metadata": {
    "scrolled": true
   },
   "outputs": [
    {
     "name": "stdout",
     "output_type": "stream",
     "text": [
      "Best Iteration 1681 at 0.8694553001772934\n"
     ]
    }
   ],
   "source": [
    "print(f\"Best Iteration {len(cv_scores)} at {cv_scores[-1]}\")"
   ]
  },
  {
   "cell_type": "markdown",
   "id": "98d83564",
   "metadata": {},
   "source": [
    "# Train with best param and export"
   ]
  },
  {
   "cell_type": "code",
   "execution_count": 5,
   "id": "9e557c66",
   "metadata": {},
   "outputs": [],
   "source": [
    "best_param = {\n",
    "    'max_depth': 4,\n",
    "    'colsample_bytree': 0.42754023012515663,\n",
    "    'subsample': 0.5520857036662926,\n",
    "    'min_child_samples': 10,\n",
    "    'lambda_l1': 1.1370937261781668,\n",
    "    'lambda_l2': 0.07055165843421532,\n",
    "    'learning_rate': 0.01,\n",
    "    'objective': 'binary',\n",
    "    'metric': 'auc',\n",
    "    \"num_iterations\":1681 \n",
    "}"
   ]
  },
  {
   "cell_type": "code",
   "execution_count": 6,
   "id": "bcc06f02",
   "metadata": {},
   "outputs": [
    {
     "data": {
      "application/javascript": [
       "\n",
       "        if (window._pyforest_update_imports_cell) { window._pyforest_update_imports_cell('import pandas as pd\\nimport lightgbm as lgb'); }\n",
       "    "
      ],
      "text/plain": [
       "<IPython.core.display.Javascript object>"
      ]
     },
     "metadata": {},
     "output_type": "display_data"
    },
    {
     "data": {
      "text/plain": [
       "LGBMClassifier(boosting_type='gbdt', class_weight=None,\n",
       "               colsample_bytree=0.42754023012515663, importance_type='split',\n",
       "               lambda_l1=1.1370937261781668, lambda_l2=0.07055165843421532,\n",
       "               learning_rate=0.01, max_depth=4, metric='auc',\n",
       "               min_child_samples=10, min_child_weight=0.001, min_split_gain=0.0,\n",
       "               n_estimators=100, n_jobs=-1, num_iterations=1681, num_leaves=31,\n",
       "               objective='binary', random_state=None, reg_alpha=0.0,\n",
       "               reg_lambda=0.0, silent=True, subsample=0.5520857036662926,\n",
       "               subsample_for_bin=200000, subsample_freq=0)"
      ]
     },
     "execution_count": 6,
     "metadata": {},
     "output_type": "execute_result"
    }
   ],
   "source": [
    "model = lgb.LGBMClassifier()\n",
    "model.set_params(**best_param)\n",
    "model.fit(X,y)"
   ]
  },
  {
   "cell_type": "code",
   "execution_count": 8,
   "id": "73bbb591",
   "metadata": {},
   "outputs": [
    {
     "data": {
      "text/plain": [
       "['C:\\\\Users\\\\tanch\\\\Documents\\\\Coding Competitions\\\\DataDriven\\\\Flu Shot Learning\\\\local\\\\model\\\\lightgbm h1n1_vaccine 0.pkl']"
      ]
     },
     "execution_count": 8,
     "metadata": {},
     "output_type": "execute_result"
    }
   ],
   "source": [
    "import joblib\n",
    "joblib.dump(model, r\"C:\\Users\\tanch\\Documents\\Coding Competitions\\DataDriven\\Flu Shot Learning\\local\\model\\lightgbm h1n1_vaccine 0.pkl\")\n",
    "# gbm_pickle = joblib.load(r\"C:\\Users\\tanch\\Documents\\Coding Competitions\\DataDriven\\Flu Shot Learning\\local\\model\\lightgbm 0.pkl\")"
   ]
  },
  {
   "cell_type": "code",
   "execution_count": null,
   "id": "a176e6f9",
   "metadata": {},
   "outputs": [],
   "source": []
  }
 ],
 "metadata": {
  "kernelspec": {
   "display_name": "Python 3",
   "language": "python",
   "name": "python3"
  },
  "language_info": {
   "codemirror_mode": {
    "name": "ipython",
    "version": 3
   },
   "file_extension": ".py",
   "mimetype": "text/x-python",
   "name": "python",
   "nbconvert_exporter": "python",
   "pygments_lexer": "ipython3",
   "version": "3.8.3"
  }
 },
 "nbformat": 4,
 "nbformat_minor": 5
}
