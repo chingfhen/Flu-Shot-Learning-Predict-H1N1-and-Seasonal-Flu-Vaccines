{
 "cells": [
  {
   "cell_type": "markdown",
   "id": "bd9a3774",
   "metadata": {},
   "source": [
    "# About:\n",
    "- this notebooks:\n",
    "    - optimizes parameters with Optuna with a pruner that observes intermediate results and stop unpromising trials.\n",
    "    - Approach:\n",
    "        1. Fix at a high-ish learning rate and at a fixed iteration\n",
    "        2. perform Hyperparameter Search\n",
    "        3. Using the best parameters found, reduce learning rate and find the best iteration using early stopping\n",
    "- insights:\n",
    "    - **the above approach is effective** - gains are usually seen in step 3"
   ]
  },
  {
   "cell_type": "code",
   "execution_count": 1,
   "id": "3c373811",
   "metadata": {},
   "outputs": [],
   "source": [
    "import xgboost as xgb"
   ]
  },
  {
   "cell_type": "code",
   "execution_count": 2,
   "id": "7689971e",
   "metadata": {},
   "outputs": [],
   "source": [
    "import optuna \n",
    "from optuna import Trial, visualization\n",
    "from optuna.samplers import TPESampler"
   ]
  },
  {
   "cell_type": "markdown",
   "id": "6945a0b1",
   "metadata": {},
   "source": [
    "### prepare data\n",
    "- for catboost, we specify nominal features as cat_features as it was found to improve performance\n",
    "- note: catboost expects these cat_features to be a string!"
   ]
  },
  {
   "cell_type": "code",
   "execution_count": 2,
   "id": "fe144d8c",
   "metadata": {},
   "outputs": [
    {
     "data": {
      "application/javascript": [
       "\n",
       "        if (window._pyforest_update_imports_cell) { window._pyforest_update_imports_cell('import pandas as pd'); }\n",
       "    "
      ],
      "text/plain": [
       "<IPython.core.display.Javascript object>"
      ]
     },
     "metadata": {},
     "output_type": "display_data"
    }
   ],
   "source": [
    "label_colnames = ['h1n1_vaccine', 'seasonal_vaccine']\n",
    "X = pd.read_csv(r\"C:\\Users\\tanch\\Documents\\Coding Competitions\\DataDriven\\Flu Shot Learning\\local\\data\\cleaned_train_set.csv\",index_col = \"respondent_id\")\n",
    "y = X[label_colnames[0]]\n",
    "X = X.drop(label_colnames,axis=1)"
   ]
  },
  {
   "cell_type": "code",
   "execution_count": 3,
   "id": "abb2c3f3",
   "metadata": {
    "scrolled": true
   },
   "outputs": [],
   "source": [
    "# boosting libraries have Dataset class that has memory and speed optimizations\n",
    "dtrain = xgb.DMatrix(X, label=y)"
   ]
  },
  {
   "cell_type": "markdown",
   "id": "6a734776",
   "metadata": {},
   "source": [
    "# Objective Function\n",
    "- should take an input Trial instance and return a score"
   ]
  },
  {
   "cell_type": "code",
   "execution_count": 7,
   "id": "d8dc2123",
   "metadata": {},
   "outputs": [],
   "source": [
    "def objective(trial):\n",
    "\n",
    "    # n_estimators and learning rate are closely tight and will be tuned afterwards\n",
    "    param = {\n",
    "        'learning_rate': 0.1,\n",
    "        \"verbosity\": 0 ,\n",
    "        'max_depth':trial.suggest_int('max_depth', 4, 10),\n",
    "        'gamma':trial.suggest_int('gamma', 0, 5),\n",
    "        'min_child_weight':trial.suggest_int('min_child_weight', 0, 20),\n",
    "        'scale_pos_weight':trial.suggest_int('scale_pos_weight', 0, 20),\n",
    "        'subsample':trial.suggest_float('subsample',0.4,1),\n",
    "        'colsample_bytree':trial.suggest_float('colsample_bytree',0.4,1),\n",
    "        \"reg_alpha\": trial.suggest_float(\"reg_alpha\", 1e-8, 10.0, log=True),\n",
    "        \"reg_lambda\": trial.suggest_float(\"reg_lambda\", 1e-8, 10.0, log=True),\n",
    "    }\n",
    "    pruning_callback = optuna.integration.XGBoostPruningCallback(trial, \"test-auc\")\n",
    "\n",
    "    cv_scores = xgb.cv(param, dtrain, 1000, nfold=3, metrics='auc', early_stopping_rounds=20,\n",
    "                       verbose_eval = False,\n",
    "                       callbacks=[pruning_callback])\n",
    "    return cv_scores['test-auc-mean'].max()    "
   ]
  },
  {
   "cell_type": "markdown",
   "id": "cafade4f",
   "metadata": {},
   "source": [
    "# create_study"
   ]
  },
  {
   "cell_type": "code",
   "execution_count": 8,
   "id": "fc43e01b",
   "metadata": {
    "scrolled": true
   },
   "outputs": [
    {
     "name": "stderr",
     "output_type": "stream",
     "text": [
      "\u001b[32m[I 2021-07-29 21:29:43,058]\u001b[0m A new study created in memory with name: no-name-f7606bf2-216d-4980-af43-8a0445c1c8c0\u001b[0m\n",
      "\u001b[32m[I 2021-07-29 21:29:49,315]\u001b[0m Trial 0 finished with value: 0.8605349999999999 and parameters: {'max_depth': 8, 'gamma': 5, 'min_child_weight': 5, 'scale_pos_weight': 11, 'subsample': 0.8017705808006281, 'colsample_bytree': 0.48834021416929474, 'reg_alpha': 0.01980933036171584, 'reg_lambda': 0.03484180859432258}. Best is trial 0 with value: 0.8605349999999999.\u001b[0m\n",
      "\u001b[32m[I 2021-07-29 21:29:52,555]\u001b[0m Trial 1 finished with value: 0.8583776666666667 and parameters: {'max_depth': 8, 'gamma': 1, 'min_child_weight': 11, 'scale_pos_weight': 5, 'subsample': 0.6355431286866906, 'colsample_bytree': 0.5678040885414659, 'reg_alpha': 0.05101788417864492, 'reg_lambda': 0.1472851049923175}. Best is trial 0 with value: 0.8605349999999999.\u001b[0m\n",
      "\u001b[32m[I 2021-07-29 21:30:06,416]\u001b[0m Trial 2 finished with value: 0.8651923333333333 and parameters: {'max_depth': 7, 'gamma': 5, 'min_child_weight': 8, 'scale_pos_weight': 4, 'subsample': 0.9832297211550591, 'colsample_bytree': 0.6535026218868442, 'reg_alpha': 2.8308745680494864e-05, 'reg_lambda': 3.8593255529292727}. Best is trial 2 with value: 0.8651923333333333.\u001b[0m\n",
      "\u001b[32m[I 2021-07-29 21:30:09,552]\u001b[0m Trial 3 finished with value: 0.8616480000000001 and parameters: {'max_depth': 6, 'gamma': 0, 'min_child_weight': 0, 'scale_pos_weight': 1, 'subsample': 0.8921677408293311, 'colsample_bytree': 0.9354734927606084, 'reg_alpha': 8.282313695903605e-05, 'reg_lambda': 0.00011823505340172375}. Best is trial 2 with value: 0.8651923333333333.\u001b[0m\n",
      "\u001b[32m[I 2021-07-29 21:30:15,052]\u001b[0m Trial 4 finished with value: 0.8597133333333334 and parameters: {'max_depth': 8, 'gamma': 3, 'min_child_weight': 3, 'scale_pos_weight': 6, 'subsample': 0.43388384820696546, 'colsample_bytree': 0.7176097200931192, 'reg_alpha': 0.00011628340299861038, 'reg_lambda': 0.21534070632844302}. Best is trial 2 with value: 0.8651923333333333.\u001b[0m\n",
      "\u001b[32m[I 2021-07-29 21:30:22,838]\u001b[0m Trial 5 pruned. Trial was pruned at iteration 115.\u001b[0m\n",
      "\u001b[32m[I 2021-07-29 21:30:23,340]\u001b[0m Trial 6 pruned. Trial was pruned at iteration 10.\u001b[0m\n",
      "\u001b[32m[I 2021-07-29 21:30:23,880]\u001b[0m Trial 7 pruned. Trial was pruned at iteration 10.\u001b[0m\n",
      "\u001b[32m[I 2021-07-29 21:30:24,383]\u001b[0m Trial 8 pruned. Trial was pruned at iteration 10.\u001b[0m\n",
      "\u001b[32m[I 2021-07-29 21:30:24,892]\u001b[0m Trial 9 pruned. Trial was pruned at iteration 10.\u001b[0m\n",
      "\u001b[32m[I 2021-07-29 21:30:25,219]\u001b[0m Trial 10 pruned. Trial was pruned at iteration 10.\u001b[0m\n",
      "\u001b[32m[I 2021-07-29 21:30:25,552]\u001b[0m Trial 11 pruned. Trial was pruned at iteration 10.\u001b[0m\n",
      "\u001b[32m[I 2021-07-29 21:30:30,430]\u001b[0m Trial 12 finished with value: 0.8641263333333334 and parameters: {'max_depth': 6, 'gamma': 0, 'min_child_weight': 9, 'scale_pos_weight': 2, 'subsample': 0.8969721338945954, 'colsample_bytree': 0.990290076749405, 'reg_alpha': 4.31661659722292e-06, 'reg_lambda': 8.62685700563637}. Best is trial 2 with value: 0.8651923333333333.\u001b[0m\n",
      "\u001b[32m[I 2021-07-29 21:30:34,583]\u001b[0m Trial 13 finished with value: 0.8663923333333333 and parameters: {'max_depth': 6, 'gamma': 1, 'min_child_weight': 8, 'scale_pos_weight': 3, 'subsample': 0.9088672060748207, 'colsample_bytree': 0.6178229417754112, 'reg_alpha': 1.2670310662845518e-06, 'reg_lambda': 9.270841894492238}. Best is trial 13 with value: 0.8663923333333333.\u001b[0m\n",
      "\u001b[32m[I 2021-07-29 21:30:38,190]\u001b[0m Trial 14 pruned. Trial was pruned at iteration 71.\u001b[0m\n",
      "\u001b[32m[I 2021-07-29 21:30:38,831]\u001b[0m Trial 15 pruned. Trial was pruned at iteration 10.\u001b[0m\n",
      "\u001b[32m[I 2021-07-29 21:30:39,382]\u001b[0m Trial 16 pruned. Trial was pruned at iteration 10.\u001b[0m\n",
      "\u001b[32m[I 2021-07-29 21:30:39,958]\u001b[0m Trial 17 pruned. Trial was pruned at iteration 10.\u001b[0m\n",
      "\u001b[32m[I 2021-07-29 21:30:43,185]\u001b[0m Trial 18 pruned. Trial was pruned at iteration 64.\u001b[0m\n",
      "\u001b[32m[I 2021-07-29 21:30:43,871]\u001b[0m Trial 19 pruned. Trial was pruned at iteration 10.\u001b[0m\n",
      "\u001b[32m[I 2021-07-29 21:30:46,804]\u001b[0m Trial 20 pruned. Trial was pruned at iteration 57.\u001b[0m\n",
      "\u001b[32m[I 2021-07-29 21:30:50,697]\u001b[0m Trial 21 finished with value: 0.8646756666666667 and parameters: {'max_depth': 6, 'gamma': 0, 'min_child_weight': 8, 'scale_pos_weight': 2, 'subsample': 0.9372239364269374, 'colsample_bytree': 0.6924066450218354, 'reg_alpha': 5.771089603459117e-06, 'reg_lambda': 4.689664817771563}. Best is trial 13 with value: 0.8663923333333333.\u001b[0m\n",
      "\u001b[32m[I 2021-07-29 21:30:51,017]\u001b[0m Trial 22 pruned. Trial was pruned at iteration 10.\u001b[0m\n",
      "\u001b[32m[I 2021-07-29 21:30:51,546]\u001b[0m Trial 23 pruned. Trial was pruned at iteration 10.\u001b[0m\n",
      "\u001b[32m[I 2021-07-29 21:30:59,073]\u001b[0m Trial 24 finished with value: 0.86679 and parameters: {'max_depth': 7, 'gamma': 3, 'min_child_weight': 11, 'scale_pos_weight': 4, 'subsample': 0.8745272766472215, 'colsample_bytree': 0.5690340803784543, 'reg_alpha': 0.00017870391502720188, 'reg_lambda': 1.020579241670791}. Best is trial 24 with value: 0.86679.\u001b[0m\n",
      "\u001b[32m[I 2021-07-29 21:31:04,831]\u001b[0m Trial 25 pruned. Trial was pruned at iteration 115.\u001b[0m\n",
      "\u001b[32m[I 2021-07-29 21:31:05,489]\u001b[0m Trial 26 pruned. Trial was pruned at iteration 10.\u001b[0m\n",
      "\u001b[32m[I 2021-07-29 21:31:10,688]\u001b[0m Trial 27 finished with value: 0.8650403333333333 and parameters: {'max_depth': 7, 'gamma': 2, 'min_child_weight': 17, 'scale_pos_weight': 4, 'subsample': 0.7336260645064062, 'colsample_bytree': 0.6085777823558862, 'reg_alpha': 3.0415116299411558e-05, 'reg_lambda': 0.05840796813311228}. Best is trial 24 with value: 0.86679.\u001b[0m\n",
      "\u001b[32m[I 2021-07-29 21:31:11,413]\u001b[0m Trial 28 pruned. Trial was pruned at iteration 10.\u001b[0m\n",
      "\u001b[32m[I 2021-07-29 21:31:12,094]\u001b[0m Trial 29 pruned. Trial was pruned at iteration 10.\u001b[0m\n",
      "\u001b[32m[I 2021-07-29 21:31:12,795]\u001b[0m Trial 30 pruned. Trial was pruned at iteration 10.\u001b[0m\n",
      "\u001b[32m[I 2021-07-29 21:31:15,858]\u001b[0m Trial 31 pruned. Trial was pruned at iteration 57.\u001b[0m\n",
      "\u001b[32m[I 2021-07-29 21:31:17,485]\u001b[0m Trial 32 pruned. Trial was pruned at iteration 29.\u001b[0m\n",
      "\u001b[32m[I 2021-07-29 21:31:18,163]\u001b[0m Trial 33 pruned. Trial was pruned at iteration 10.\u001b[0m\n",
      "\u001b[32m[I 2021-07-29 21:31:18,821]\u001b[0m Trial 34 pruned. Trial was pruned at iteration 10.\u001b[0m\n",
      "\u001b[32m[I 2021-07-29 21:31:19,496]\u001b[0m Trial 35 pruned. Trial was pruned at iteration 10.\u001b[0m\n",
      "\u001b[32m[I 2021-07-29 21:31:20,221]\u001b[0m Trial 36 pruned. Trial was pruned at iteration 10.\u001b[0m\n",
      "\u001b[32m[I 2021-07-29 21:31:20,823]\u001b[0m Trial 37 pruned. Trial was pruned at iteration 10.\u001b[0m\n",
      "\u001b[32m[I 2021-07-29 21:31:21,511]\u001b[0m Trial 38 pruned. Trial was pruned at iteration 10.\u001b[0m\n",
      "\u001b[32m[I 2021-07-29 21:31:22,100]\u001b[0m Trial 39 pruned. Trial was pruned at iteration 10.\u001b[0m\n",
      "\u001b[32m[I 2021-07-29 21:31:22,794]\u001b[0m Trial 40 pruned. Trial was pruned at iteration 10.\u001b[0m\n",
      "\u001b[32m[I 2021-07-29 21:31:27,359]\u001b[0m Trial 41 finished with value: 0.8651923333333333 and parameters: {'max_depth': 6, 'gamma': 0, 'min_child_weight': 8, 'scale_pos_weight': 2, 'subsample': 0.9469588986711782, 'colsample_bytree': 0.6951793348281949, 'reg_alpha': 5.522722700925989e-06, 'reg_lambda': 3.6997307300325892}. Best is trial 24 with value: 0.86679.\u001b[0m\n",
      "\u001b[32m[I 2021-07-29 21:31:27,969]\u001b[0m Trial 42 pruned. Trial was pruned at iteration 10.\u001b[0m\n",
      "\u001b[32m[I 2021-07-29 21:31:29,486]\u001b[0m Trial 43 pruned. Trial was pruned at iteration 28.\u001b[0m\n",
      "\u001b[32m[I 2021-07-29 21:31:30,108]\u001b[0m Trial 44 pruned. Trial was pruned at iteration 10.\u001b[0m\n",
      "\u001b[32m[I 2021-07-29 21:31:30,662]\u001b[0m Trial 45 pruned. Trial was pruned at iteration 10.\u001b[0m\n",
      "\u001b[32m[I 2021-07-29 21:31:31,254]\u001b[0m Trial 46 pruned. Trial was pruned at iteration 10.\u001b[0m\n",
      "\u001b[32m[I 2021-07-29 21:31:31,582]\u001b[0m Trial 47 pruned. Trial was pruned at iteration 10.\u001b[0m\n",
      "\u001b[32m[I 2021-07-29 21:31:33,511]\u001b[0m Trial 48 pruned. Trial was pruned at iteration 29.\u001b[0m\n",
      "\u001b[32m[I 2021-07-29 21:31:34,077]\u001b[0m Trial 49 pruned. Trial was pruned at iteration 10.\u001b[0m\n",
      "\u001b[32m[I 2021-07-29 21:31:35,208]\u001b[0m Trial 50 pruned. Trial was pruned at iteration 18.\u001b[0m\n",
      "\u001b[32m[I 2021-07-29 21:31:35,782]\u001b[0m Trial 51 pruned. Trial was pruned at iteration 10.\u001b[0m\n",
      "\u001b[32m[I 2021-07-29 21:31:36,329]\u001b[0m Trial 52 pruned. Trial was pruned at iteration 10.\u001b[0m\n",
      "\u001b[32m[I 2021-07-29 21:31:36,906]\u001b[0m Trial 53 pruned. Trial was pruned at iteration 10.\u001b[0m\n",
      "\u001b[32m[I 2021-07-29 21:31:38,099]\u001b[0m Trial 54 pruned. Trial was pruned at iteration 21.\u001b[0m\n"
     ]
    },
    {
     "name": "stderr",
     "output_type": "stream",
     "text": [
      "\u001b[32m[I 2021-07-29 21:31:38,710]\u001b[0m Trial 55 pruned. Trial was pruned at iteration 10.\u001b[0m\n",
      "\u001b[32m[I 2021-07-29 21:31:41,901]\u001b[0m Trial 56 pruned. Trial was pruned at iteration 64.\u001b[0m\n",
      "\u001b[32m[I 2021-07-29 21:31:42,230]\u001b[0m Trial 57 pruned. Trial was pruned at iteration 10.\u001b[0m\n",
      "\u001b[32m[I 2021-07-29 21:31:42,736]\u001b[0m Trial 58 pruned. Trial was pruned at iteration 10.\u001b[0m\n",
      "\u001b[32m[I 2021-07-29 21:31:43,332]\u001b[0m Trial 59 pruned. Trial was pruned at iteration 10.\u001b[0m\n",
      "\u001b[32m[I 2021-07-29 21:31:48,213]\u001b[0m Trial 60 finished with value: 0.8655076666666668 and parameters: {'max_depth': 7, 'gamma': 2, 'min_child_weight': 11, 'scale_pos_weight': 3, 'subsample': 0.8920453341042848, 'colsample_bytree': 0.7566292668734416, 'reg_alpha': 4.971163084932676e-07, 'reg_lambda': 2.368713842364587}. Best is trial 24 with value: 0.86679.\u001b[0m\n",
      "\u001b[32m[I 2021-07-29 21:31:54,299]\u001b[0m Trial 61 pruned. Trial was pruned at iteration 115.\u001b[0m\n",
      "\u001b[32m[I 2021-07-29 21:31:55,021]\u001b[0m Trial 62 pruned. Trial was pruned at iteration 10.\u001b[0m\n",
      "\u001b[32m[I 2021-07-29 21:31:55,677]\u001b[0m Trial 63 pruned. Trial was pruned at iteration 10.\u001b[0m\n",
      "\u001b[32m[I 2021-07-29 21:31:56,374]\u001b[0m Trial 64 pruned. Trial was pruned at iteration 10.\u001b[0m\n",
      "\u001b[32m[I 2021-07-29 21:31:56,985]\u001b[0m Trial 65 pruned. Trial was pruned at iteration 10.\u001b[0m\n",
      "\u001b[32m[I 2021-07-29 21:31:58,687]\u001b[0m Trial 66 pruned. Trial was pruned at iteration 32.\u001b[0m\n",
      "\u001b[32m[I 2021-07-29 21:31:59,026]\u001b[0m Trial 67 pruned. Trial was pruned at iteration 10.\u001b[0m\n",
      "\u001b[32m[I 2021-07-29 21:31:59,921]\u001b[0m Trial 68 pruned. Trial was pruned at iteration 10.\u001b[0m\n",
      "\u001b[32m[I 2021-07-29 21:32:00,620]\u001b[0m Trial 69 pruned. Trial was pruned at iteration 10.\u001b[0m\n",
      "\u001b[32m[I 2021-07-29 21:32:01,159]\u001b[0m Trial 70 pruned. Trial was pruned at iteration 10.\u001b[0m\n",
      "\u001b[32m[I 2021-07-29 21:32:01,825]\u001b[0m Trial 71 pruned. Trial was pruned at iteration 10.\u001b[0m\n",
      "\u001b[32m[I 2021-07-29 21:32:02,480]\u001b[0m Trial 72 pruned. Trial was pruned at iteration 10.\u001b[0m\n",
      "\u001b[32m[I 2021-07-29 21:32:03,197]\u001b[0m Trial 73 pruned. Trial was pruned at iteration 10.\u001b[0m\n",
      "\u001b[32m[I 2021-07-29 21:32:03,797]\u001b[0m Trial 74 pruned. Trial was pruned at iteration 10.\u001b[0m\n",
      "\u001b[32m[I 2021-07-29 21:32:04,469]\u001b[0m Trial 75 pruned. Trial was pruned at iteration 10.\u001b[0m\n",
      "\u001b[32m[I 2021-07-29 21:32:05,113]\u001b[0m Trial 76 pruned. Trial was pruned at iteration 10.\u001b[0m\n",
      "\u001b[32m[I 2021-07-29 21:32:06,905]\u001b[0m Trial 77 pruned. Trial was pruned at iteration 32.\u001b[0m\n",
      "\u001b[32m[I 2021-07-29 21:32:07,703]\u001b[0m Trial 78 pruned. Trial was pruned at iteration 10.\u001b[0m\n",
      "\u001b[32m[I 2021-07-29 21:32:11,740]\u001b[0m Trial 79 finished with value: 0.8648933333333333 and parameters: {'max_depth': 6, 'gamma': 1, 'min_child_weight': 9, 'scale_pos_weight': 4, 'subsample': 0.9586780335299927, 'colsample_bytree': 0.6557205410894218, 'reg_alpha': 9.245808067421606e-06, 'reg_lambda': 3.1227251591048226}. Best is trial 24 with value: 0.86679.\u001b[0m\n",
      "\u001b[32m[I 2021-07-29 21:32:12,277]\u001b[0m Trial 80 pruned. Trial was pruned at iteration 10.\u001b[0m\n",
      "\u001b[32m[I 2021-07-29 21:32:13,179]\u001b[0m Trial 81 pruned. Trial was pruned at iteration 16.\u001b[0m\n",
      "\u001b[32m[I 2021-07-29 21:32:17,658]\u001b[0m Trial 82 finished with value: 0.8656133333333332 and parameters: {'max_depth': 6, 'gamma': 1, 'min_child_weight': 7, 'scale_pos_weight': 4, 'subsample': 0.9601965783441663, 'colsample_bytree': 0.6512497237717554, 'reg_alpha': 1.4855456057249882e-06, 'reg_lambda': 9.86460233066487}. Best is trial 24 with value: 0.86679.\u001b[0m\n",
      "\u001b[32m[I 2021-07-29 21:32:18,231]\u001b[0m Trial 83 pruned. Trial was pruned at iteration 10.\u001b[0m\n",
      "\u001b[32m[I 2021-07-29 21:32:19,593]\u001b[0m Trial 84 pruned. Trial was pruned at iteration 24.\u001b[0m\n",
      "\u001b[32m[I 2021-07-29 21:32:20,253]\u001b[0m Trial 85 pruned. Trial was pruned at iteration 11.\u001b[0m\n",
      "\u001b[32m[I 2021-07-29 21:32:20,924]\u001b[0m Trial 86 pruned. Trial was pruned at iteration 10.\u001b[0m\n",
      "\u001b[32m[I 2021-07-29 21:32:21,506]\u001b[0m Trial 87 pruned. Trial was pruned at iteration 10.\u001b[0m\n",
      "\u001b[32m[I 2021-07-29 21:32:22,048]\u001b[0m Trial 88 pruned. Trial was pruned at iteration 10.\u001b[0m\n",
      "\u001b[32m[I 2021-07-29 21:32:25,391]\u001b[0m Trial 89 finished with value: 0.8656579999999999 and parameters: {'max_depth': 6, 'gamma': 1, 'min_child_weight': 15, 'scale_pos_weight': 4, 'subsample': 0.9754734405968053, 'colsample_bytree': 0.5436635831041596, 'reg_alpha': 1.3275633764038956e-05, 'reg_lambda': 2.408252563894051}. Best is trial 24 with value: 0.86679.\u001b[0m\n",
      "\u001b[32m[I 2021-07-29 21:32:26,309]\u001b[0m Trial 90 pruned. Trial was pruned at iteration 18.\u001b[0m\n",
      "\u001b[32m[I 2021-07-29 21:32:30,789]\u001b[0m Trial 91 finished with value: 0.8655733333333334 and parameters: {'max_depth': 6, 'gamma': 1, 'min_child_weight': 15, 'scale_pos_weight': 3, 'subsample': 0.9609787620615087, 'colsample_bytree': 0.5855488361024269, 'reg_alpha': 4.167237704869419e-05, 'reg_lambda': 2.1405502713364477}. Best is trial 24 with value: 0.86679.\u001b[0m\n",
      "\u001b[32m[I 2021-07-29 21:32:34,909]\u001b[0m Trial 92 finished with value: 0.8649713333333334 and parameters: {'max_depth': 7, 'gamma': 1, 'min_child_weight': 17, 'scale_pos_weight': 3, 'subsample': 0.962229692797146, 'colsample_bytree': 0.528020814507306, 'reg_alpha': 6.667927470568321e-05, 'reg_lambda': 2.4626119299681792}. Best is trial 24 with value: 0.86679.\u001b[0m\n",
      "\u001b[32m[I 2021-07-29 21:32:37,521]\u001b[0m Trial 93 pruned. Trial was pruned at iteration 51.\u001b[0m\n",
      "\u001b[32m[I 2021-07-29 21:32:38,115]\u001b[0m Trial 94 pruned. Trial was pruned at iteration 10.\u001b[0m\n",
      "\u001b[32m[I 2021-07-29 21:32:39,906]\u001b[0m Trial 95 pruned. Trial was pruned at iteration 34.\u001b[0m\n",
      "\u001b[32m[I 2021-07-29 21:32:40,573]\u001b[0m Trial 96 pruned. Trial was pruned at iteration 10.\u001b[0m\n",
      "\u001b[32m[I 2021-07-29 21:32:41,280]\u001b[0m Trial 97 pruned. Trial was pruned at iteration 10.\u001b[0m\n",
      "\u001b[32m[I 2021-07-29 21:32:42,779]\u001b[0m Trial 98 pruned. Trial was pruned at iteration 26.\u001b[0m\n",
      "\u001b[32m[I 2021-07-29 21:32:43,413]\u001b[0m Trial 99 pruned. Trial was pruned at iteration 10.\u001b[0m\n",
      "\u001b[32m[I 2021-07-29 21:32:44,056]\u001b[0m Trial 100 pruned. Trial was pruned at iteration 10.\u001b[0m\n",
      "\u001b[32m[I 2021-07-29 21:32:45,082]\u001b[0m Trial 101 pruned. Trial was pruned at iteration 17.\u001b[0m\n",
      "\u001b[32m[I 2021-07-29 21:32:46,231]\u001b[0m Trial 102 pruned. Trial was pruned at iteration 22.\u001b[0m\n",
      "\u001b[32m[I 2021-07-29 21:32:50,549]\u001b[0m Trial 103 finished with value: 0.8652736666666666 and parameters: {'max_depth': 6, 'gamma': 1, 'min_child_weight': 13, 'scale_pos_weight': 4, 'subsample': 0.9559620677176297, 'colsample_bytree': 0.5906299907516271, 'reg_alpha': 2.8109851601180868e-06, 'reg_lambda': 0.5836014721710057}. Best is trial 24 with value: 0.86679.\u001b[0m\n",
      "\u001b[32m[I 2021-07-29 21:32:52,320]\u001b[0m Trial 104 pruned. Trial was pruned at iteration 35.\u001b[0m\n",
      "\u001b[32m[I 2021-07-29 21:32:53,764]\u001b[0m Trial 105 pruned. Trial was pruned at iteration 26.\u001b[0m\n",
      "\u001b[32m[I 2021-07-29 21:32:54,364]\u001b[0m Trial 106 pruned. Trial was pruned at iteration 10.\u001b[0m\n",
      "\u001b[32m[I 2021-07-29 21:32:54,936]\u001b[0m Trial 107 pruned. Trial was pruned at iteration 10.\u001b[0m\n",
      "\u001b[32m[I 2021-07-29 21:32:58,841]\u001b[0m Trial 108 finished with value: 0.8655816666666668 and parameters: {'max_depth': 7, 'gamma': 1, 'min_child_weight': 13, 'scale_pos_weight': 3, 'subsample': 0.8730193180736804, 'colsample_bytree': 0.5395472818478688, 'reg_alpha': 1.8343564053384102e-05, 'reg_lambda': 7.239815648929797}. Best is trial 24 with value: 0.86679.\u001b[0m\n",
      "\u001b[32m[I 2021-07-29 21:33:02,829]\u001b[0m Trial 109 finished with value: 0.866393 and parameters: {'max_depth': 7, 'gamma': 1, 'min_child_weight': 13, 'scale_pos_weight': 2, 'subsample': 0.8726883226049242, 'colsample_bytree': 0.5682664592832738, 'reg_alpha': 1.3426795937546766e-06, 'reg_lambda': 7.189893253242898}. Best is trial 24 with value: 0.86679.\u001b[0m\n",
      "\u001b[32m[I 2021-07-29 21:33:03,410]\u001b[0m Trial 110 pruned. Trial was pruned at iteration 10.\u001b[0m\n",
      "\u001b[32m[I 2021-07-29 21:33:07,614]\u001b[0m Trial 111 finished with value: 0.8660653333333334 and parameters: {'max_depth': 7, 'gamma': 1, 'min_child_weight': 13, 'scale_pos_weight': 2, 'subsample': 0.8645613076521717, 'colsample_bytree': 0.5701103132310781, 'reg_alpha': 1.6257637059879044e-06, 'reg_lambda': 7.5392287950499455}. Best is trial 24 with value: 0.86679.\u001b[0m\n",
      "\u001b[32m[I 2021-07-29 21:33:08,268]\u001b[0m Trial 112 pruned. Trial was pruned at iteration 10.\u001b[0m\n",
      "\u001b[32m[I 2021-07-29 21:33:12,678]\u001b[0m Trial 113 finished with value: 0.8660043333333333 and parameters: {'max_depth': 7, 'gamma': 1, 'min_child_weight': 12, 'scale_pos_weight': 2, 'subsample': 0.8541923828967315, 'colsample_bytree': 0.5915923253186957, 'reg_alpha': 2.000263793080431e-06, 'reg_lambda': 5.518706566763055}. Best is trial 24 with value: 0.86679.\u001b[0m\n"
     ]
    },
    {
     "name": "stderr",
     "output_type": "stream",
     "text": [
      "\u001b[32m[I 2021-07-29 21:33:17,243]\u001b[0m Trial 114 finished with value: 0.8661533333333332 and parameters: {'max_depth': 7, 'gamma': 1, 'min_child_weight': 12, 'scale_pos_weight': 2, 'subsample': 0.8681427553499368, 'colsample_bytree': 0.5923471907660818, 'reg_alpha': 1.678413658597575e-06, 'reg_lambda': 6.44333640622851}. Best is trial 24 with value: 0.86679.\u001b[0m\n",
      "\u001b[32m[I 2021-07-29 21:33:17,878]\u001b[0m Trial 115 pruned. Trial was pruned at iteration 10.\u001b[0m\n",
      "\u001b[32m[I 2021-07-29 21:33:21,796]\u001b[0m Trial 116 finished with value: 0.865476 and parameters: {'max_depth': 7, 'gamma': 1, 'min_child_weight': 12, 'scale_pos_weight': 2, 'subsample': 0.8168999654009725, 'colsample_bytree': 0.5791406516774498, 'reg_alpha': 4.304446321535472e-07, 'reg_lambda': 5.758675145185064}. Best is trial 24 with value: 0.86679.\u001b[0m\n",
      "\u001b[32m[I 2021-07-29 21:33:22,113]\u001b[0m Trial 117 pruned. Trial was pruned at iteration 10.\u001b[0m\n",
      "\u001b[32m[I 2021-07-29 21:33:26,426]\u001b[0m Trial 118 finished with value: 0.8657863333333333 and parameters: {'max_depth': 7, 'gamma': 1, 'min_child_weight': 12, 'scale_pos_weight': 2, 'subsample': 0.8455298835601139, 'colsample_bytree': 0.5715692006869797, 'reg_alpha': 2.0296476454257189e-07, 'reg_lambda': 4.662888783802164}. Best is trial 24 with value: 0.86679.\u001b[0m\n",
      "\u001b[32m[I 2021-07-29 21:33:32,003]\u001b[0m Trial 119 finished with value: 0.8660126666666667 and parameters: {'max_depth': 7, 'gamma': 1, 'min_child_weight': 14, 'scale_pos_weight': 2, 'subsample': 0.8460661072900972, 'colsample_bytree': 0.5611742339046805, 'reg_alpha': 1.5093187750748242e-07, 'reg_lambda': 4.556146419243477}. Best is trial 24 with value: 0.86679.\u001b[0m\n",
      "\u001b[32m[I 2021-07-29 21:33:36,280]\u001b[0m Trial 120 finished with value: 0.8660083333333333 and parameters: {'max_depth': 7, 'gamma': 1, 'min_child_weight': 14, 'scale_pos_weight': 2, 'subsample': 0.848630497796836, 'colsample_bytree': 0.5636354540205, 'reg_alpha': 4.5344748782806276e-08, 'reg_lambda': 4.4957941361583575}. Best is trial 24 with value: 0.86679.\u001b[0m\n",
      "\u001b[32m[I 2021-07-29 21:33:38,051]\u001b[0m Trial 121 pruned. Trial was pruned at iteration 33.\u001b[0m\n",
      "\u001b[32m[I 2021-07-29 21:33:38,716]\u001b[0m Trial 122 pruned. Trial was pruned at iteration 10.\u001b[0m\n",
      "\u001b[32m[I 2021-07-29 21:33:39,076]\u001b[0m Trial 123 pruned. Trial was pruned at iteration 10.\u001b[0m\n",
      "\u001b[32m[I 2021-07-29 21:33:40,253]\u001b[0m Trial 124 pruned. Trial was pruned at iteration 20.\u001b[0m\n",
      "\u001b[32m[I 2021-07-29 21:33:41,386]\u001b[0m Trial 125 pruned. Trial was pruned at iteration 18.\u001b[0m\n",
      "\u001b[32m[I 2021-07-29 21:33:42,093]\u001b[0m Trial 126 pruned. Trial was pruned at iteration 10.\u001b[0m\n",
      "\u001b[32m[I 2021-07-29 21:33:42,775]\u001b[0m Trial 127 pruned. Trial was pruned at iteration 10.\u001b[0m\n",
      "\u001b[32m[I 2021-07-29 21:33:47,365]\u001b[0m Trial 128 finished with value: 0.8662489999999999 and parameters: {'max_depth': 7, 'gamma': 1, 'min_child_weight': 11, 'scale_pos_weight': 2, 'subsample': 0.8594168202452394, 'colsample_bytree': 0.6189334850016002, 'reg_alpha': 5.868478213061857e-08, 'reg_lambda': 7.456120473744808}. Best is trial 24 with value: 0.86679.\u001b[0m\n",
      "\u001b[32m[I 2021-07-29 21:33:48,008]\u001b[0m Trial 129 pruned. Trial was pruned at iteration 10.\u001b[0m\n",
      "\u001b[32m[I 2021-07-29 21:33:49,493]\u001b[0m Trial 130 pruned. Trial was pruned at iteration 27.\u001b[0m\n",
      "\u001b[32m[I 2021-07-29 21:33:51,166]\u001b[0m Trial 131 pruned. Trial was pruned at iteration 30.\u001b[0m\n",
      "\u001b[32m[I 2021-07-29 21:33:53,210]\u001b[0m Trial 132 pruned. Trial was pruned at iteration 36.\u001b[0m\n",
      "\u001b[32m[I 2021-07-29 21:33:58,466]\u001b[0m Trial 133 finished with value: 0.8661173333333334 and parameters: {'max_depth': 7, 'gamma': 1, 'min_child_weight': 15, 'scale_pos_weight': 3, 'subsample': 0.8536063436159538, 'colsample_bytree': 0.5553189838811894, 'reg_alpha': 4.0215530813801797e-08, 'reg_lambda': 9.893929496160807}. Best is trial 24 with value: 0.86679.\u001b[0m\n",
      "\u001b[32m[I 2021-07-29 21:34:03,844]\u001b[0m Trial 134 finished with value: 0.8661253333333333 and parameters: {'max_depth': 7, 'gamma': 1, 'min_child_weight': 12, 'scale_pos_weight': 2, 'subsample': 0.8543715804762442, 'colsample_bytree': 0.5549916968785423, 'reg_alpha': 1.0411508699209617e-08, 'reg_lambda': 6.9873703059260714}. Best is trial 24 with value: 0.86679.\u001b[0m\n",
      "\u001b[32m[I 2021-07-29 21:34:04,657]\u001b[0m Trial 135 pruned. Trial was pruned at iteration 10.\u001b[0m\n",
      "\u001b[32m[I 2021-07-29 21:34:05,408]\u001b[0m Trial 136 pruned. Trial was pruned at iteration 10.\u001b[0m\n",
      "\u001b[32m[I 2021-07-29 21:34:07,385]\u001b[0m Trial 137 pruned. Trial was pruned at iteration 30.\u001b[0m\n",
      "\u001b[32m[I 2021-07-29 21:34:08,373]\u001b[0m Trial 138 pruned. Trial was pruned at iteration 15.\u001b[0m\n",
      "\u001b[32m[I 2021-07-29 21:34:08,727]\u001b[0m Trial 139 pruned. Trial was pruned at iteration 10.\u001b[0m\n",
      "\u001b[32m[I 2021-07-29 21:34:09,702]\u001b[0m Trial 140 pruned. Trial was pruned at iteration 15.\u001b[0m\n",
      "\u001b[32m[I 2021-07-29 21:34:14,580]\u001b[0m Trial 141 finished with value: 0.8660923333333335 and parameters: {'max_depth': 7, 'gamma': 1, 'min_child_weight': 13, 'scale_pos_weight': 3, 'subsample': 0.8788554585015059, 'colsample_bytree': 0.5326056073444564, 'reg_alpha': 1.6435181590615948e-07, 'reg_lambda': 9.583696066574637}. Best is trial 24 with value: 0.86679.\u001b[0m\n",
      "\u001b[32m[I 2021-07-29 21:34:15,359]\u001b[0m Trial 142 pruned. Trial was pruned at iteration 10.\u001b[0m\n",
      "\u001b[32m[I 2021-07-29 21:34:19,870]\u001b[0m Trial 143 finished with value: 0.8664540000000001 and parameters: {'max_depth': 7, 'gamma': 1, 'min_child_weight': 14, 'scale_pos_weight': 2, 'subsample': 0.8815137664013002, 'colsample_bytree': 0.5495910517042394, 'reg_alpha': 7.923741253941112e-07, 'reg_lambda': 9.705175797981692}. Best is trial 24 with value: 0.86679.\u001b[0m\n",
      "\u001b[32m[I 2021-07-29 21:34:20,689]\u001b[0m Trial 144 pruned. Trial was pruned at iteration 10.\u001b[0m\n",
      "\u001b[32m[I 2021-07-29 21:34:21,429]\u001b[0m Trial 145 pruned. Trial was pruned at iteration 10.\u001b[0m\n",
      "\u001b[32m[I 2021-07-29 21:34:22,340]\u001b[0m Trial 146 pruned. Trial was pruned at iteration 15.\u001b[0m\n",
      "\u001b[32m[I 2021-07-29 21:34:23,205]\u001b[0m Trial 147 pruned. Trial was pruned at iteration 10.\u001b[0m\n",
      "\u001b[32m[I 2021-07-29 21:34:24,107]\u001b[0m Trial 148 pruned. Trial was pruned at iteration 15.\u001b[0m\n",
      "\u001b[32m[I 2021-07-29 21:34:24,808]\u001b[0m Trial 149 pruned. Trial was pruned at iteration 10.\u001b[0m\n",
      "\u001b[32m[I 2021-07-29 21:34:25,574]\u001b[0m Trial 150 pruned. Trial was pruned at iteration 10.\u001b[0m\n",
      "\u001b[32m[I 2021-07-29 21:34:30,398]\u001b[0m Trial 151 finished with value: 0.8662376666666667 and parameters: {'max_depth': 7, 'gamma': 1, 'min_child_weight': 13, 'scale_pos_weight': 4, 'subsample': 0.8786777348739642, 'colsample_bytree': 0.5961211565374315, 'reg_alpha': 8.559470213066916e-07, 'reg_lambda': 9.158686699619556}. Best is trial 24 with value: 0.86679.\u001b[0m\n",
      "\u001b[32m[I 2021-07-29 21:34:35,029]\u001b[0m Trial 152 finished with value: 0.8664166666666667 and parameters: {'max_depth': 7, 'gamma': 1, 'min_child_weight': 12, 'scale_pos_weight': 3, 'subsample': 0.8623729565003783, 'colsample_bytree': 0.5974140706476102, 'reg_alpha': 7.66429735612608e-07, 'reg_lambda': 9.408889584795816}. Best is trial 24 with value: 0.86679.\u001b[0m\n",
      "\u001b[32m[I 2021-07-29 21:34:37,679]\u001b[0m Trial 153 pruned. Trial was pruned at iteration 52.\u001b[0m\n",
      "\u001b[32m[I 2021-07-29 21:34:39,384]\u001b[0m Trial 154 pruned. Trial was pruned at iteration 32.\u001b[0m\n",
      "\u001b[32m[I 2021-07-29 21:34:41,333]\u001b[0m Trial 155 pruned. Trial was pruned at iteration 37.\u001b[0m\n",
      "\u001b[32m[I 2021-07-29 21:34:41,986]\u001b[0m Trial 156 pruned. Trial was pruned at iteration 10.\u001b[0m\n",
      "\u001b[32m[I 2021-07-29 21:34:43,747]\u001b[0m Trial 157 pruned. Trial was pruned at iteration 32.\u001b[0m\n",
      "\u001b[32m[I 2021-07-29 21:34:45,401]\u001b[0m Trial 158 pruned. Trial was pruned at iteration 29.\u001b[0m\n",
      "\u001b[32m[I 2021-07-29 21:34:46,023]\u001b[0m Trial 159 pruned. Trial was pruned at iteration 10.\u001b[0m\n",
      "\u001b[32m[I 2021-07-29 21:34:46,652]\u001b[0m Trial 160 pruned. Trial was pruned at iteration 10.\u001b[0m\n",
      "\u001b[32m[I 2021-07-29 21:34:47,728]\u001b[0m Trial 161 pruned. Trial was pruned at iteration 18.\u001b[0m\n",
      "\u001b[32m[I 2021-07-29 21:34:49,618]\u001b[0m Trial 162 pruned. Trial was pruned at iteration 35.\u001b[0m\n",
      "\u001b[32m[I 2021-07-29 21:34:50,278]\u001b[0m Trial 163 pruned. Trial was pruned at iteration 10.\u001b[0m\n",
      "\u001b[32m[I 2021-07-29 21:34:50,931]\u001b[0m Trial 164 pruned. Trial was pruned at iteration 10.\u001b[0m\n",
      "\u001b[32m[I 2021-07-29 21:34:54,924]\u001b[0m Trial 165 finished with value: 0.865762 and parameters: {'max_depth': 7, 'gamma': 1, 'min_child_weight': 11, 'scale_pos_weight': 2, 'subsample': 0.834155197534552, 'colsample_bytree': 0.5819637630348852, 'reg_alpha': 1.0944960206128946e-06, 'reg_lambda': 5.922559586353767}. Best is trial 24 with value: 0.86679.\u001b[0m\n"
     ]
    },
    {
     "name": "stderr",
     "output_type": "stream",
     "text": [
      "\u001b[32m[I 2021-07-29 21:35:00,343]\u001b[0m Trial 166 finished with value: 0.8660896666666668 and parameters: {'max_depth': 7, 'gamma': 1, 'min_child_weight': 10, 'scale_pos_weight': 2, 'subsample': 0.8325148295111899, 'colsample_bytree': 0.5880521169345708, 'reg_alpha': 0.005346150770493082, 'reg_lambda': 6.9889658096644105}. Best is trial 24 with value: 0.86679.\u001b[0m\n",
      "\u001b[32m[I 2021-07-29 21:35:01,028]\u001b[0m Trial 167 pruned. Trial was pruned at iteration 10.\u001b[0m\n",
      "\u001b[32m[I 2021-07-29 21:35:02,687]\u001b[0m Trial 168 pruned. Trial was pruned at iteration 29.\u001b[0m\n",
      "\u001b[32m[I 2021-07-29 21:35:07,065]\u001b[0m Trial 169 finished with value: 0.8665453333333334 and parameters: {'max_depth': 7, 'gamma': 1, 'min_child_weight': 10, 'scale_pos_weight': 3, 'subsample': 0.8414944133586016, 'colsample_bytree': 0.5704911936062269, 'reg_alpha': 0.00666972737299255, 'reg_lambda': 9.94179371913655}. Best is trial 24 with value: 0.86679.\u001b[0m\n",
      "\u001b[32m[I 2021-07-29 21:35:08,901]\u001b[0m Trial 170 pruned. Trial was pruned at iteration 33.\u001b[0m\n",
      "\u001b[32m[I 2021-07-29 21:35:12,845]\u001b[0m Trial 171 finished with value: 0.8660063333333333 and parameters: {'max_depth': 7, 'gamma': 1, 'min_child_weight': 11, 'scale_pos_weight': 3, 'subsample': 0.8450103918084181, 'colsample_bytree': 0.5643437471135172, 'reg_alpha': 0.01985711317981192, 'reg_lambda': 6.87256434799839}. Best is trial 24 with value: 0.86679.\u001b[0m\n",
      "\u001b[32m[I 2021-07-29 21:35:14,427]\u001b[0m Trial 172 pruned. Trial was pruned at iteration 28.\u001b[0m\n",
      "\u001b[32m[I 2021-07-29 21:35:18,587]\u001b[0m Trial 173 finished with value: 0.8661406666666666 and parameters: {'max_depth': 7, 'gamma': 1, 'min_child_weight': 11, 'scale_pos_weight': 3, 'subsample': 0.8794411278000529, 'colsample_bytree': 0.5651917398356547, 'reg_alpha': 0.021551032441029988, 'reg_lambda': 6.811532329232004}. Best is trial 24 with value: 0.86679.\u001b[0m\n",
      "\u001b[32m[I 2021-07-29 21:35:22,704]\u001b[0m Trial 174 finished with value: 0.8664160000000001 and parameters: {'max_depth': 7, 'gamma': 1, 'min_child_weight': 10, 'scale_pos_weight': 3, 'subsample': 0.8829305716170152, 'colsample_bytree': 0.5610329164944979, 'reg_alpha': 0.009681700076926229, 'reg_lambda': 9.27996312545335}. Best is trial 24 with value: 0.86679.\u001b[0m\n",
      "\u001b[32m[I 2021-07-29 21:35:27,460]\u001b[0m Trial 175 finished with value: 0.8663063333333333 and parameters: {'max_depth': 7, 'gamma': 1, 'min_child_weight': 10, 'scale_pos_weight': 3, 'subsample': 0.8831303126038503, 'colsample_bytree': 0.5520712432657474, 'reg_alpha': 0.010602283641391484, 'reg_lambda': 8.6125161219263}. Best is trial 24 with value: 0.86679.\u001b[0m\n",
      "\u001b[32m[I 2021-07-29 21:35:28,098]\u001b[0m Trial 176 pruned. Trial was pruned at iteration 10.\u001b[0m\n",
      "\u001b[32m[I 2021-07-29 21:35:32,214]\u001b[0m Trial 177 finished with value: 0.8666596666666667 and parameters: {'max_depth': 7, 'gamma': 1, 'min_child_weight': 10, 'scale_pos_weight': 3, 'subsample': 0.8851108458574097, 'colsample_bytree': 0.5530354207936589, 'reg_alpha': 0.007150392079357389, 'reg_lambda': 9.19127082043097}. Best is trial 24 with value: 0.86679.\u001b[0m\n",
      "\u001b[32m[I 2021-07-29 21:35:34,066]\u001b[0m Trial 178 pruned. Trial was pruned at iteration 35.\u001b[0m\n",
      "\u001b[32m[I 2021-07-29 21:35:34,734]\u001b[0m Trial 179 pruned. Trial was pruned at iteration 10.\u001b[0m\n",
      "\u001b[32m[I 2021-07-29 21:35:38,824]\u001b[0m Trial 180 finished with value: 0.8662776666666666 and parameters: {'max_depth': 7, 'gamma': 1, 'min_child_weight': 9, 'scale_pos_weight': 3, 'subsample': 0.8786165236884365, 'colsample_bytree': 0.543670033001057, 'reg_alpha': 0.07256310244325738, 'reg_lambda': 9.770770942700743}. Best is trial 24 with value: 0.86679.\u001b[0m\n",
      "\u001b[32m[I 2021-07-29 21:35:43,028]\u001b[0m Trial 181 finished with value: 0.8666146666666666 and parameters: {'max_depth': 7, 'gamma': 1, 'min_child_weight': 9, 'scale_pos_weight': 3, 'subsample': 0.8776325258867909, 'colsample_bytree': 0.5444122776947624, 'reg_alpha': 0.057661155133402135, 'reg_lambda': 9.601699755209054}. Best is trial 24 with value: 0.86679.\u001b[0m\n",
      "\u001b[32m[I 2021-07-29 21:35:47,269]\u001b[0m Trial 182 finished with value: 0.8663483333333333 and parameters: {'max_depth': 7, 'gamma': 1, 'min_child_weight': 9, 'scale_pos_weight': 3, 'subsample': 0.879482004034623, 'colsample_bytree': 0.5442989281402052, 'reg_alpha': 0.15025605176986628, 'reg_lambda': 8.726122030933801}. Best is trial 24 with value: 0.86679.\u001b[0m\n",
      "\u001b[32m[I 2021-07-29 21:35:47,902]\u001b[0m Trial 183 pruned. Trial was pruned at iteration 10.\u001b[0m\n",
      "\u001b[32m[I 2021-07-29 21:35:48,544]\u001b[0m Trial 184 pruned. Trial was pruned at iteration 10.\u001b[0m\n",
      "\u001b[32m[I 2021-07-29 21:35:49,976]\u001b[0m Trial 185 pruned. Trial was pruned at iteration 26.\u001b[0m\n",
      "\u001b[32m[I 2021-07-29 21:35:50,647]\u001b[0m Trial 186 pruned. Trial was pruned at iteration 10.\u001b[0m\n",
      "\u001b[32m[I 2021-07-29 21:35:51,284]\u001b[0m Trial 187 pruned. Trial was pruned at iteration 10.\u001b[0m\n",
      "\u001b[32m[I 2021-07-29 21:35:51,922]\u001b[0m Trial 188 pruned. Trial was pruned at iteration 10.\u001b[0m\n",
      "\u001b[32m[I 2021-07-29 21:35:52,585]\u001b[0m Trial 189 pruned. Trial was pruned at iteration 10.\u001b[0m\n",
      "\u001b[32m[I 2021-07-29 21:35:53,245]\u001b[0m Trial 190 pruned. Trial was pruned at iteration 10.\u001b[0m\n",
      "\u001b[32m[I 2021-07-29 21:35:56,838]\u001b[0m Trial 191 finished with value: 0.8660873333333333 and parameters: {'max_depth': 7, 'gamma': 1, 'min_child_weight': 10, 'scale_pos_weight': 3, 'subsample': 0.8656083510361812, 'colsample_bytree': 0.5748513032430659, 'reg_alpha': 0.005524008212165775, 'reg_lambda': 6.4101912245331185}. Best is trial 24 with value: 0.86679.\u001b[0m\n",
      "\u001b[32m[I 2021-07-29 21:36:01,855]\u001b[0m Trial 192 finished with value: 0.8671760000000001 and parameters: {'max_depth': 7, 'gamma': 1, 'min_child_weight': 9, 'scale_pos_weight': 3, 'subsample': 0.8738492762052684, 'colsample_bytree': 0.5555672546387187, 'reg_alpha': 1.6530812668946973, 'reg_lambda': 9.599740027835166}. Best is trial 192 with value: 0.8671760000000001.\u001b[0m\n",
      "\u001b[32m[I 2021-07-29 21:36:06,223]\u001b[0m Trial 193 finished with value: 0.8661789999999999 and parameters: {'max_depth': 7, 'gamma': 1, 'min_child_weight': 11, 'scale_pos_weight': 4, 'subsample': 0.8818095654320032, 'colsample_bytree': 0.5498831402610583, 'reg_alpha': 0.7725818820880236, 'reg_lambda': 4.862112379172699}. Best is trial 192 with value: 0.8671760000000001.\u001b[0m\n",
      "\u001b[32m[I 2021-07-29 21:36:07,048]\u001b[0m Trial 194 pruned. Trial was pruned at iteration 13.\u001b[0m\n",
      "\u001b[32m[I 2021-07-29 21:36:07,742]\u001b[0m Trial 195 pruned. Trial was pruned at iteration 10.\u001b[0m\n",
      "\u001b[32m[I 2021-07-29 21:36:08,417]\u001b[0m Trial 196 pruned. Trial was pruned at iteration 10.\u001b[0m\n",
      "\u001b[32m[I 2021-07-29 21:36:10,567]\u001b[0m Trial 197 pruned. Trial was pruned at iteration 40.\u001b[0m\n",
      "\u001b[32m[I 2021-07-29 21:36:11,634]\u001b[0m Trial 198 pruned. Trial was pruned at iteration 18.\u001b[0m\n",
      "\u001b[32m[I 2021-07-29 21:36:12,296]\u001b[0m Trial 199 pruned. Trial was pruned at iteration 10.\u001b[0m\n",
      "\u001b[32m[I 2021-07-29 21:36:12,987]\u001b[0m Trial 200 pruned. Trial was pruned at iteration 10.\u001b[0m\n",
      "\u001b[32m[I 2021-07-29 21:36:13,685]\u001b[0m Trial 201 pruned. Trial was pruned at iteration 10.\u001b[0m\n",
      "\u001b[32m[I 2021-07-29 21:36:16,107]\u001b[0m Trial 202 pruned. Trial was pruned at iteration 44.\u001b[0m\n",
      "\u001b[32m[I 2021-07-29 21:36:16,782]\u001b[0m Trial 203 pruned. Trial was pruned at iteration 10.\u001b[0m\n",
      "\u001b[32m[I 2021-07-29 21:36:18,914]\u001b[0m Trial 204 pruned. Trial was pruned at iteration 38.\u001b[0m\n",
      "\u001b[32m[I 2021-07-29 21:36:23,355]\u001b[0m Trial 205 finished with value: 0.8664066666666667 and parameters: {'max_depth': 7, 'gamma': 1, 'min_child_weight': 10, 'scale_pos_weight': 3, 'subsample': 0.8753088305984993, 'colsample_bytree': 0.5531309996264203, 'reg_alpha': 0.17138961652593887, 'reg_lambda': 9.892685851979804}. Best is trial 192 with value: 0.8671760000000001.\u001b[0m\n",
      "\u001b[32m[I 2021-07-29 21:36:24,432]\u001b[0m Trial 206 pruned. Trial was pruned at iteration 19.\u001b[0m\n",
      "\u001b[32m[I 2021-07-29 21:36:25,086]\u001b[0m Trial 207 pruned. Trial was pruned at iteration 10.\u001b[0m\n",
      "\u001b[32m[I 2021-07-29 21:36:25,791]\u001b[0m Trial 208 pruned. Trial was pruned at iteration 10.\u001b[0m\n",
      "\u001b[32m[I 2021-07-29 21:36:26,947]\u001b[0m Trial 209 pruned. Trial was pruned at iteration 18.\u001b[0m\n",
      "\u001b[32m[I 2021-07-29 21:36:27,662]\u001b[0m Trial 210 pruned. Trial was pruned at iteration 10.\u001b[0m\n",
      "\u001b[32m[I 2021-07-29 21:36:29,036]\u001b[0m Trial 211 pruned. Trial was pruned at iteration 22.\u001b[0m\n",
      "\u001b[32m[I 2021-07-29 21:36:29,692]\u001b[0m Trial 212 pruned. Trial was pruned at iteration 10.\u001b[0m\n",
      "\u001b[32m[I 2021-07-29 21:36:30,371]\u001b[0m Trial 213 pruned. Trial was pruned at iteration 10.\u001b[0m\n"
     ]
    },
    {
     "name": "stderr",
     "output_type": "stream",
     "text": [
      "\u001b[32m[I 2021-07-29 21:36:31,019]\u001b[0m Trial 214 pruned. Trial was pruned at iteration 10.\u001b[0m\n",
      "\u001b[32m[I 2021-07-29 21:36:32,404]\u001b[0m Trial 215 pruned. Trial was pruned at iteration 24.\u001b[0m\n",
      "\u001b[32m[I 2021-07-29 21:36:33,078]\u001b[0m Trial 216 pruned. Trial was pruned at iteration 10.\u001b[0m\n",
      "\u001b[32m[I 2021-07-29 21:36:35,348]\u001b[0m Trial 217 pruned. Trial was pruned at iteration 44.\u001b[0m\n",
      "\u001b[32m[I 2021-07-29 21:36:36,079]\u001b[0m Trial 218 pruned. Trial was pruned at iteration 10.\u001b[0m\n",
      "\u001b[32m[I 2021-07-29 21:36:36,840]\u001b[0m Trial 219 pruned. Trial was pruned at iteration 10.\u001b[0m\n",
      "\u001b[32m[I 2021-07-29 21:36:38,133]\u001b[0m Trial 220 pruned. Trial was pruned at iteration 21.\u001b[0m\n",
      "\u001b[32m[I 2021-07-29 21:36:41,007]\u001b[0m Trial 221 pruned. Trial was pruned at iteration 54.\u001b[0m\n",
      "\u001b[32m[I 2021-07-29 21:36:41,893]\u001b[0m Trial 222 pruned. Trial was pruned at iteration 15.\u001b[0m\n",
      "\u001b[32m[I 2021-07-29 21:36:46,660]\u001b[0m Trial 223 finished with value: 0.8663963333333333 and parameters: {'max_depth': 7, 'gamma': 1, 'min_child_weight': 9, 'scale_pos_weight': 3, 'subsample': 0.8609196696051425, 'colsample_bytree': 0.5739866632627444, 'reg_alpha': 0.09755175168077236, 'reg_lambda': 6.560788731090055}. Best is trial 192 with value: 0.8671760000000001.\u001b[0m\n",
      "\u001b[32m[I 2021-07-29 21:36:47,621]\u001b[0m Trial 224 pruned. Trial was pruned at iteration 16.\u001b[0m\n",
      "\u001b[32m[I 2021-07-29 21:36:48,271]\u001b[0m Trial 225 pruned. Trial was pruned at iteration 10.\u001b[0m\n",
      "\u001b[32m[I 2021-07-29 21:36:50,274]\u001b[0m Trial 226 pruned. Trial was pruned at iteration 37.\u001b[0m\n",
      "\u001b[32m[I 2021-07-29 21:36:50,999]\u001b[0m Trial 227 pruned. Trial was pruned at iteration 10.\u001b[0m\n",
      "\u001b[32m[I 2021-07-29 21:36:53,681]\u001b[0m Trial 228 pruned. Trial was pruned at iteration 49.\u001b[0m\n",
      "\u001b[32m[I 2021-07-29 21:36:54,409]\u001b[0m Trial 229 pruned. Trial was pruned at iteration 10.\u001b[0m\n",
      "\u001b[32m[I 2021-07-29 21:36:55,158]\u001b[0m Trial 230 pruned. Trial was pruned at iteration 10.\u001b[0m\n",
      "\u001b[32m[I 2021-07-29 21:36:55,860]\u001b[0m Trial 231 pruned. Trial was pruned at iteration 11.\u001b[0m\n",
      "\u001b[32m[I 2021-07-29 21:36:58,281]\u001b[0m Trial 232 pruned. Trial was pruned at iteration 46.\u001b[0m\n",
      "\u001b[32m[I 2021-07-29 21:37:02,239]\u001b[0m Trial 233 finished with value: 0.8662733333333333 and parameters: {'max_depth': 7, 'gamma': 1, 'min_child_weight': 10, 'scale_pos_weight': 3, 'subsample': 0.8829673083275775, 'colsample_bytree': 0.5725417757967862, 'reg_alpha': 0.007464459503208357, 'reg_lambda': 7.410242313145815}. Best is trial 192 with value: 0.8671760000000001.\u001b[0m\n",
      "\u001b[32m[I 2021-07-29 21:37:06,461]\u001b[0m Trial 234 finished with value: 0.866107 and parameters: {'max_depth': 7, 'gamma': 1, 'min_child_weight': 10, 'scale_pos_weight': 3, 'subsample': 0.8828294114353153, 'colsample_bytree': 0.5517368909739587, 'reg_alpha': 0.007232803140627438, 'reg_lambda': 9.748681335695201}. Best is trial 192 with value: 0.8671760000000001.\u001b[0m\n",
      "\u001b[32m[I 2021-07-29 21:37:07,710]\u001b[0m Trial 235 pruned. Trial was pruned at iteration 22.\u001b[0m\n",
      "\u001b[32m[I 2021-07-29 21:37:08,806]\u001b[0m Trial 236 pruned. Trial was pruned at iteration 19.\u001b[0m\n",
      "\u001b[32m[I 2021-07-29 21:37:11,201]\u001b[0m Trial 237 pruned. Trial was pruned at iteration 43.\u001b[0m\n",
      "\u001b[32m[I 2021-07-29 21:37:11,865]\u001b[0m Trial 238 pruned. Trial was pruned at iteration 10.\u001b[0m\n",
      "\u001b[32m[I 2021-07-29 21:37:12,567]\u001b[0m Trial 239 pruned. Trial was pruned at iteration 10.\u001b[0m\n",
      "\u001b[32m[I 2021-07-29 21:37:13,474]\u001b[0m Trial 240 pruned. Trial was pruned at iteration 13.\u001b[0m\n",
      "\u001b[32m[I 2021-07-29 21:37:14,196]\u001b[0m Trial 241 pruned. Trial was pruned at iteration 10.\u001b[0m\n",
      "\u001b[32m[I 2021-07-29 21:37:14,853]\u001b[0m Trial 242 pruned. Trial was pruned at iteration 10.\u001b[0m\n",
      "\u001b[32m[I 2021-07-29 21:37:18,904]\u001b[0m Trial 243 finished with value: 0.8663813333333333 and parameters: {'max_depth': 7, 'gamma': 1, 'min_child_weight': 12, 'scale_pos_weight': 3, 'subsample': 0.8737939336244694, 'colsample_bytree': 0.5475020173990262, 'reg_alpha': 6.407644201404872e-07, 'reg_lambda': 7.3020588071172465}. Best is trial 192 with value: 0.8671760000000001.\u001b[0m\n",
      "\u001b[32m[I 2021-07-29 21:37:19,661]\u001b[0m Trial 244 pruned. Trial was pruned at iteration 12.\u001b[0m\n",
      "\u001b[32m[I 2021-07-29 21:37:24,027]\u001b[0m Trial 245 finished with value: 0.866797 and parameters: {'max_depth': 7, 'gamma': 1, 'min_child_weight': 11, 'scale_pos_weight': 2, 'subsample': 0.8535177618118861, 'colsample_bytree': 0.5761924239210321, 'reg_alpha': 9.7401172815322e-07, 'reg_lambda': 9.99595404719359}. Best is trial 192 with value: 0.8671760000000001.\u001b[0m\n",
      "\u001b[32m[I 2021-07-29 21:37:25,180]\u001b[0m Trial 246 pruned. Trial was pruned at iteration 20.\u001b[0m\n",
      "\u001b[32m[I 2021-07-29 21:37:30,464]\u001b[0m Trial 247 finished with value: 0.866602 and parameters: {'max_depth': 7, 'gamma': 1, 'min_child_weight': 11, 'scale_pos_weight': 2, 'subsample': 0.8569252912999574, 'colsample_bytree': 0.5920980024433934, 'reg_alpha': 5.03579772246758e-07, 'reg_lambda': 9.902430019435052}. Best is trial 192 with value: 0.8671760000000001.\u001b[0m\n",
      "\u001b[32m[I 2021-07-29 21:37:31,205]\u001b[0m Trial 248 pruned. Trial was pruned at iteration 10.\u001b[0m\n",
      "\u001b[32m[I 2021-07-29 21:37:32,635]\u001b[0m Trial 249 pruned. Trial was pruned at iteration 25.\u001b[0m\n",
      "\u001b[32m[I 2021-07-29 21:37:33,342]\u001b[0m Trial 250 pruned. Trial was pruned at iteration 10.\u001b[0m\n",
      "\u001b[32m[I 2021-07-29 21:37:34,006]\u001b[0m Trial 251 pruned. Trial was pruned at iteration 10.\u001b[0m\n",
      "\u001b[32m[I 2021-07-29 21:37:34,699]\u001b[0m Trial 252 pruned. Trial was pruned at iteration 10.\u001b[0m\n",
      "\u001b[32m[I 2021-07-29 21:37:35,391]\u001b[0m Trial 253 pruned. Trial was pruned at iteration 10.\u001b[0m\n",
      "\u001b[32m[I 2021-07-29 21:37:36,855]\u001b[0m Trial 254 pruned. Trial was pruned at iteration 25.\u001b[0m\n",
      "\u001b[32m[I 2021-07-29 21:37:37,548]\u001b[0m Trial 255 pruned. Trial was pruned at iteration 10.\u001b[0m\n",
      "\u001b[32m[I 2021-07-29 21:37:38,383]\u001b[0m Trial 256 pruned. Trial was pruned at iteration 13.\u001b[0m\n",
      "\u001b[32m[I 2021-07-29 21:37:39,076]\u001b[0m Trial 257 pruned. Trial was pruned at iteration 10.\u001b[0m\n",
      "\u001b[32m[I 2021-07-29 21:37:39,732]\u001b[0m Trial 258 pruned. Trial was pruned at iteration 10.\u001b[0m\n",
      "\u001b[32m[I 2021-07-29 21:37:40,411]\u001b[0m Trial 259 pruned. Trial was pruned at iteration 10.\u001b[0m\n",
      "\u001b[32m[I 2021-07-29 21:37:42,554]\u001b[0m Trial 260 pruned. Trial was pruned at iteration 39.\u001b[0m\n",
      "\u001b[32m[I 2021-07-29 21:37:43,241]\u001b[0m Trial 261 pruned. Trial was pruned at iteration 10.\u001b[0m\n",
      "\u001b[32m[I 2021-07-29 21:37:43,935]\u001b[0m Trial 262 pruned. Trial was pruned at iteration 10.\u001b[0m\n",
      "\u001b[32m[I 2021-07-29 21:37:44,627]\u001b[0m Trial 263 pruned. Trial was pruned at iteration 10.\u001b[0m\n",
      "\u001b[32m[I 2021-07-29 21:37:45,308]\u001b[0m Trial 264 pruned. Trial was pruned at iteration 10.\u001b[0m\n",
      "\u001b[32m[I 2021-07-29 21:37:46,159]\u001b[0m Trial 265 pruned. Trial was pruned at iteration 13.\u001b[0m\n",
      "\u001b[32m[I 2021-07-29 21:37:46,670]\u001b[0m Trial 266 pruned. Trial was pruned at iteration 10.\u001b[0m\n",
      "\u001b[32m[I 2021-07-29 21:37:47,387]\u001b[0m Trial 267 pruned. Trial was pruned at iteration 10.\u001b[0m\n",
      "\u001b[32m[I 2021-07-29 21:37:48,075]\u001b[0m Trial 268 pruned. Trial was pruned at iteration 10.\u001b[0m\n",
      "\u001b[32m[I 2021-07-29 21:37:48,752]\u001b[0m Trial 269 pruned. Trial was pruned at iteration 10.\u001b[0m\n",
      "\u001b[32m[I 2021-07-29 21:37:49,417]\u001b[0m Trial 270 pruned. Trial was pruned at iteration 10.\u001b[0m\n",
      "\u001b[32m[I 2021-07-29 21:37:51,746]\u001b[0m Trial 271 pruned. Trial was pruned at iteration 42.\u001b[0m\n",
      "\u001b[32m[I 2021-07-29 21:37:52,405]\u001b[0m Trial 272 pruned. Trial was pruned at iteration 10.\u001b[0m\n",
      "\u001b[32m[I 2021-07-29 21:37:53,080]\u001b[0m Trial 273 pruned. Trial was pruned at iteration 10.\u001b[0m\n",
      "\u001b[32m[I 2021-07-29 21:37:58,578]\u001b[0m Trial 274 finished with value: 0.866914 and parameters: {'max_depth': 7, 'gamma': 1, 'min_child_weight': 12, 'scale_pos_weight': 2, 'subsample': 0.8394925957351415, 'colsample_bytree': 0.5485541783043629, 'reg_alpha': 0.10476960938449505, 'reg_lambda': 9.86868876222827}. Best is trial 192 with value: 0.8671760000000001.\u001b[0m\n",
      "\u001b[32m[I 2021-07-29 21:37:59,980]\u001b[0m Trial 275 pruned. Trial was pruned at iteration 24.\u001b[0m\n",
      "\u001b[32m[I 2021-07-29 21:38:00,711]\u001b[0m Trial 276 pruned. Trial was pruned at iteration 10.\u001b[0m\n",
      "\u001b[32m[I 2021-07-29 21:38:01,376]\u001b[0m Trial 277 pruned. Trial was pruned at iteration 10.\u001b[0m\n",
      "\u001b[32m[I 2021-07-29 21:38:02,036]\u001b[0m Trial 278 pruned. Trial was pruned at iteration 10.\u001b[0m\n",
      "\u001b[32m[I 2021-07-29 21:38:02,691]\u001b[0m Trial 279 pruned. Trial was pruned at iteration 10.\u001b[0m\n",
      "\u001b[32m[I 2021-07-29 21:38:03,376]\u001b[0m Trial 280 pruned. Trial was pruned at iteration 10.\u001b[0m\n",
      "\u001b[32m[I 2021-07-29 21:38:04,073]\u001b[0m Trial 281 pruned. Trial was pruned at iteration 10.\u001b[0m\n"
     ]
    },
    {
     "name": "stderr",
     "output_type": "stream",
     "text": [
      "\u001b[32m[I 2021-07-29 21:38:04,811]\u001b[0m Trial 282 pruned. Trial was pruned at iteration 10.\u001b[0m\n",
      "\u001b[32m[I 2021-07-29 21:38:05,531]\u001b[0m Trial 283 pruned. Trial was pruned at iteration 10.\u001b[0m\n",
      "\u001b[32m[I 2021-07-29 21:38:10,427]\u001b[0m Trial 284 finished with value: 0.8665913333333334 and parameters: {'max_depth': 7, 'gamma': 1, 'min_child_weight': 10, 'scale_pos_weight': 2, 'subsample': 0.8231814669924657, 'colsample_bytree': 0.589112310701525, 'reg_alpha': 0.4169196643164091, 'reg_lambda': 9.71719876809718}. Best is trial 192 with value: 0.8671760000000001.\u001b[0m\n",
      "\u001b[32m[I 2021-07-29 21:38:11,074]\u001b[0m Trial 285 pruned. Trial was pruned at iteration 10.\u001b[0m\n",
      "\u001b[32m[I 2021-07-29 21:38:11,887]\u001b[0m Trial 286 pruned. Trial was pruned at iteration 13.\u001b[0m\n",
      "\u001b[32m[I 2021-07-29 21:38:12,549]\u001b[0m Trial 287 pruned. Trial was pruned at iteration 10.\u001b[0m\n",
      "\u001b[32m[I 2021-07-29 21:38:13,849]\u001b[0m Trial 288 pruned. Trial was pruned at iteration 23.\u001b[0m\n",
      "\u001b[32m[I 2021-07-29 21:38:18,306]\u001b[0m Trial 289 finished with value: 0.8665919999999999 and parameters: {'max_depth': 7, 'gamma': 1, 'min_child_weight': 13, 'scale_pos_weight': 2, 'subsample': 0.8543061765683122, 'colsample_bytree': 0.5942128574396564, 'reg_alpha': 0.513483003656155, 'reg_lambda': 6.502342056234518}. Best is trial 192 with value: 0.8671760000000001.\u001b[0m\n",
      "\u001b[32m[I 2021-07-29 21:38:19,146]\u001b[0m Trial 290 pruned. Trial was pruned at iteration 12.\u001b[0m\n",
      "\u001b[32m[I 2021-07-29 21:38:20,033]\u001b[0m Trial 291 pruned. Trial was pruned at iteration 13.\u001b[0m\n",
      "\u001b[32m[I 2021-07-29 21:38:20,678]\u001b[0m Trial 292 pruned. Trial was pruned at iteration 10.\u001b[0m\n",
      "\u001b[32m[I 2021-07-29 21:38:21,332]\u001b[0m Trial 293 pruned. Trial was pruned at iteration 10.\u001b[0m\n",
      "\u001b[32m[I 2021-07-29 21:38:22,135]\u001b[0m Trial 294 pruned. Trial was pruned at iteration 13.\u001b[0m\n",
      "\u001b[32m[I 2021-07-29 21:38:22,788]\u001b[0m Trial 295 pruned. Trial was pruned at iteration 10.\u001b[0m\n",
      "\u001b[32m[I 2021-07-29 21:38:23,625]\u001b[0m Trial 296 pruned. Trial was pruned at iteration 13.\u001b[0m\n",
      "\u001b[32m[I 2021-07-29 21:38:28,808]\u001b[0m Trial 297 finished with value: 0.8667946666666667 and parameters: {'max_depth': 7, 'gamma': 1, 'min_child_weight': 11, 'scale_pos_weight': 4, 'subsample': 0.8852230008130993, 'colsample_bytree': 0.5577489973719127, 'reg_alpha': 1.8966820785388323, 'reg_lambda': 9.977582994851117}. Best is trial 192 with value: 0.8671760000000001.\u001b[0m\n",
      "\u001b[32m[I 2021-07-29 21:38:33,669]\u001b[0m Trial 298 finished with value: 0.866291 and parameters: {'max_depth': 7, 'gamma': 1, 'min_child_weight': 8, 'scale_pos_weight': 3, 'subsample': 0.8597639191270126, 'colsample_bytree': 0.5616064617839331, 'reg_alpha': 0.0939853132036906, 'reg_lambda': 9.721673894022805}. Best is trial 192 with value: 0.8671760000000001.\u001b[0m\n",
      "\u001b[32m[I 2021-07-29 21:38:34,680]\u001b[0m Trial 299 pruned. Trial was pruned at iteration 16.\u001b[0m\n"
     ]
    }
   ],
   "source": [
    "study = optuna.create_study(\n",
    "    direction='maximize',                     \n",
    "    sampler=TPESampler(),\n",
    "    pruner=optuna.pruners.MedianPruner(n_warmup_steps=10)\n",
    ")\n",
    "study.optimize(objective, n_trials=300)"
   ]
  },
  {
   "cell_type": "code",
   "execution_count": 15,
   "id": "5bbf09d6",
   "metadata": {},
   "outputs": [
    {
     "name": "stdout",
     "output_type": "stream",
     "text": [
      "Number of finished trials: 300\n",
      "Best trial:\n",
      "  Value: 0.8671760000000001\n",
      "  Params: \n",
      "    max_depth: 7\n",
      "    gamma: 1\n",
      "    min_child_weight: 9\n",
      "    scale_pos_weight: 3\n",
      "    subsample: 0.8738492762052684\n",
      "    colsample_bytree: 0.5555672546387187\n",
      "    reg_alpha: 1.6530812668946973\n",
      "    reg_lambda: 9.599740027835166\n"
     ]
    }
   ],
   "source": [
    "print(\"Number of finished trials: {}\".format(len(study.trials)))\n",
    "print(\"Best trial:\")\n",
    "trial = study.best_trial\n",
    "print(\"  Value: {}\".format(trial.value))\n",
    "print(\"  Params: \")\n",
    "for key, value in trial.params.items():\n",
    "    print(\"    {}: {}\".format(key, value))"
   ]
  },
  {
   "cell_type": "markdown",
   "id": "72ef32ac",
   "metadata": {},
   "source": [
    "## Optimize n_estimators and learning rate\n",
    "- set to high iterations and low learning rate"
   ]
  },
  {
   "cell_type": "code",
   "execution_count": 16,
   "id": "7bac3094",
   "metadata": {},
   "outputs": [
    {
     "data": {
      "text/plain": [
       "{'max_depth': 7,\n",
       " 'gamma': 1,\n",
       " 'min_child_weight': 9,\n",
       " 'scale_pos_weight': 3,\n",
       " 'subsample': 0.8738492762052684,\n",
       " 'colsample_bytree': 0.5555672546387187,\n",
       " 'reg_alpha': 1.6530812668946973,\n",
       " 'reg_lambda': 9.599740027835166,\n",
       " 'learning_rate': 0.01,\n",
       " 'eval_metric': 'auc',\n",
       " 'use_label_encoder': False}"
      ]
     },
     "execution_count": 16,
     "metadata": {},
     "output_type": "execute_result"
    }
   ],
   "source": [
    "param = trial.params\n",
    "param.update({\"learning_rate\":0.01,\n",
    "              \"eval_metric\" : \"auc\",\n",
    "              \"use_label_encoder\":False})\n",
    "param"
   ]
  },
  {
   "cell_type": "code",
   "execution_count": 11,
   "id": "6192d89e",
   "metadata": {
    "scrolled": true
   },
   "outputs": [],
   "source": [
    "cv_scores = xgb.cv(param, dtrain, 10000, nfold  = 5, early_stopping_rounds = 50,verbose_eval=False)['test-auc-mean']"
   ]
  },
  {
   "cell_type": "code",
   "execution_count": 12,
   "id": "2119ca96",
   "metadata": {
    "scrolled": true
   },
   "outputs": [
    {
     "name": "stdout",
     "output_type": "stream",
     "text": [
      "Best Iteration 808 at 0.8692228\n"
     ]
    }
   ],
   "source": [
    "print(f\"Best Iteration {len(cv_scores)} at {cv_scores.max()}\")"
   ]
  },
  {
   "cell_type": "markdown",
   "id": "98d83564",
   "metadata": {},
   "source": [
    "# Train with best param and export"
   ]
  },
  {
   "cell_type": "code",
   "execution_count": 13,
   "id": "9e557c66",
   "metadata": {},
   "outputs": [
    {
     "data": {
      "text/plain": [
       "{'max_depth': 7,\n",
       " 'gamma': 1,\n",
       " 'min_child_weight': 9,\n",
       " 'scale_pos_weight': 3,\n",
       " 'subsample': 0.8738492762052684,\n",
       " 'colsample_bytree': 0.5555672546387187,\n",
       " 'reg_alpha': 1.6530812668946973,\n",
       " 'reg_lambda': 9.599740027835166,\n",
       " 'learning_rate': 0.01,\n",
       " 'eval_metric': 'auc',\n",
       " 'n_estimators': 808}"
      ]
     },
     "execution_count": 13,
     "metadata": {},
     "output_type": "execute_result"
    }
   ],
   "source": [
    "best_param = param\n",
    "best_param.update({\"n_estimators\":len(cv_scores)})\n",
    "best_param"
   ]
  },
  {
   "cell_type": "code",
   "execution_count": 14,
   "id": "bcc06f02",
   "metadata": {},
   "outputs": [
    {
     "name": "stderr",
     "output_type": "stream",
     "text": [
      "C:\\Users\\tanch\\anaconda3\\lib\\site-packages\\xgboost\\sklearn.py:1146: UserWarning: The use of label encoder in XGBClassifier is deprecated and will be removed in a future release. To remove this warning, do the following: 1) Pass option use_label_encoder=False when constructing XGBClassifier object; and 2) Encode your labels (y) as integers starting with 0, i.e. 0, 1, 2, ..., [num_class - 1].\n",
      "  warnings.warn(label_encoder_deprecation_msg, UserWarning)\n"
     ]
    },
    {
     "data": {
      "text/plain": [
       "XGBClassifier(base_score=0.5, booster='gbtree', colsample_bylevel=1,\n",
       "              colsample_bynode=1, colsample_bytree=0.5555672546387187,\n",
       "              eval_metric='auc', gamma=1, gpu_id=-1, importance_type='gain',\n",
       "              interaction_constraints='', learning_rate=0.01, max_delta_step=0,\n",
       "              max_depth=7, min_child_weight=9, missing=nan,\n",
       "              monotone_constraints='()', n_estimators=808, n_jobs=8,\n",
       "              num_parallel_tree=1, objective='binary:logistic', random_state=0,\n",
       "              reg_alpha=1.6530812668946973, reg_lambda=9.599740027835166,\n",
       "              scale_pos_weight=3, subsample=0.8738492762052684,\n",
       "              tree_method='exact', use_label_encoder=True,\n",
       "              validate_parameters=1, verbosity=None)"
      ]
     },
     "execution_count": 14,
     "metadata": {},
     "output_type": "execute_result"
    }
   ],
   "source": [
    "model = xgb.XGBClassifier()\n",
    "model.set_params(**best_param)\n",
    "model.fit(X,y)"
   ]
  },
  {
   "cell_type": "code",
   "execution_count": 17,
   "id": "73bbb591",
   "metadata": {},
   "outputs": [
    {
     "data": {
      "text/plain": [
       "['C:\\\\Users\\\\tanch\\\\Documents\\\\Coding Competitions\\\\DataDriven\\\\Flu Shot Learning\\\\local\\\\model\\\\xgbboost h1n1_vaccine 0.pkl']"
      ]
     },
     "execution_count": 17,
     "metadata": {},
     "output_type": "execute_result"
    }
   ],
   "source": [
    "import joblib\n",
    "joblib.dump(model, r\"C:\\Users\\tanch\\Documents\\Coding Competitions\\DataDriven\\Flu Shot Learning\\local\\model\\xgbboost h1n1_vaccine 0.pkl\")\n",
    "# gbm_pickle = joblib.load(r\"C:\\Users\\tanch\\Documents\\Coding Competitions\\DataDriven\\Flu Shot Learning\\local\\model\\lightgbm 0.pkl\")"
   ]
  },
  {
   "cell_type": "code",
   "execution_count": null,
   "id": "a176e6f9",
   "metadata": {},
   "outputs": [],
   "source": []
  }
 ],
 "metadata": {
  "kernelspec": {
   "display_name": "Python 3",
   "language": "python",
   "name": "python3"
  },
  "language_info": {
   "codemirror_mode": {
    "name": "ipython",
    "version": 3
   },
   "file_extension": ".py",
   "mimetype": "text/x-python",
   "name": "python",
   "nbconvert_exporter": "python",
   "pygments_lexer": "ipython3",
   "version": "3.8.3"
  }
 },
 "nbformat": 4,
 "nbformat_minor": 5
}
