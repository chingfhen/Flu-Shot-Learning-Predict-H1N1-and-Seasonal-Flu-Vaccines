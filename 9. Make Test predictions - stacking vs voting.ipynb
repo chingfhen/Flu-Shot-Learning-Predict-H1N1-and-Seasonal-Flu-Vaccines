{
 "cells": [
  {
   "cell_type": "markdown",
   "id": "85403a59",
   "metadata": {},
   "source": [
    "# ABOUT:\n",
    "- this notebook:\n",
    "    - made test set predictions using stacking and model models\n",
    "- insights:\n",
    "    - **both stacking and voting led to considerable gains**"
   ]
  },
  {
   "cell_type": "markdown",
   "id": "a8bf3bde",
   "metadata": {},
   "source": [
    "### read_csv"
   ]
  },
  {
   "cell_type": "code",
   "execution_count": 2,
   "id": "83b65727",
   "metadata": {},
   "outputs": [],
   "source": [
    "import pandas as pd\n",
    "test = pd.read_csv(r\"C:\\Users\\tanch\\Documents\\Coding Competitions\\DataDriven\\Flu Shot Learning\\local\\data\\cleaned_test_set.csv\",index_col = \"respondent_id\") "
   ]
  },
  {
   "cell_type": "markdown",
   "id": "0bb91d65",
   "metadata": {},
   "source": [
    "### load stacking and voting classifiers"
   ]
  },
  {
   "cell_type": "code",
   "execution_count": 1,
   "id": "404fc0cc",
   "metadata": {},
   "outputs": [
    {
     "data": {
      "application/javascript": [
       "\n",
       "        if (window._pyforest_update_imports_cell) { window._pyforest_update_imports_cell('import pickle'); }\n",
       "    "
      ],
      "text/plain": [
       "<IPython.core.display.Javascript object>"
      ]
     },
     "metadata": {},
     "output_type": "display_data"
    },
    {
     "data": {
      "application/javascript": [
       "\n",
       "        if (window._pyforest_update_imports_cell) { window._pyforest_update_imports_cell('import pickle'); }\n",
       "    "
      ],
      "text/plain": [
       "<IPython.core.display.Javascript object>"
      ]
     },
     "metadata": {},
     "output_type": "display_data"
    },
    {
     "data": {
      "application/javascript": [
       "\n",
       "        if (window._pyforest_update_imports_cell) { window._pyforest_update_imports_cell('import pickle'); }\n",
       "    "
      ],
      "text/plain": [
       "<IPython.core.display.Javascript object>"
      ]
     },
     "metadata": {},
     "output_type": "display_data"
    },
    {
     "data": {
      "application/javascript": [
       "\n",
       "        if (window._pyforest_update_imports_cell) { window._pyforest_update_imports_cell('import pickle'); }\n",
       "    "
      ],
      "text/plain": [
       "<IPython.core.display.Javascript object>"
      ]
     },
     "metadata": {},
     "output_type": "display_data"
    }
   ],
   "source": [
    "seasonal_vaccine_stacking = pickle.load(open(r\"C:\\Users\\tanch\\Documents\\Coding Competitions\\DataDriven\\Flu Shot Learning\\local\\model\\seasonal_vaccine_stacking.pkl\", 'rb'))\n",
    "seasonal_vaccine_voting = pickle.load(open(r\"C:\\Users\\tanch\\Documents\\Coding Competitions\\DataDriven\\Flu Shot Learning\\local\\model\\seasonal_vaccine_voting.pkl\", 'rb'))\n",
    "h1n1_vaccine_stacking = pickle.load(open(r\"C:\\Users\\tanch\\Documents\\Coding Competitions\\DataDriven\\Flu Shot Learning\\local\\model\\h1n1_vaccine_stacking.pkl\", 'rb'))\n",
    "h1n1_vaccine_voting = pickle.load(open(r\"C:\\Users\\tanch\\Documents\\Coding Competitions\\DataDriven\\Flu Shot Learning\\local\\model\\h1n1_vaccine_voting.pkl\", 'rb'))"
   ]
  },
  {
   "cell_type": "markdown",
   "id": "56efb93a",
   "metadata": {},
   "source": [
    "### make predictions and save"
   ]
  },
  {
   "cell_type": "code",
   "execution_count": 7,
   "id": "7a16761a",
   "metadata": {},
   "outputs": [],
   "source": [
    "h1n1_vaccine_proba = h1n1_vaccine_stacking.predict_proba(test)[:,1]\n",
    "seasonal_vaccine_proba = seasonal_vaccine_stacking.predict_proba(test)[:,1]\n",
    "output = pd.DataFrame({\"respondent_id\":test.index, \n",
    "                       \"h1n1_vaccine\": h1n1_vaccine_proba,\n",
    "                       \"seasonal_vaccine\":seasonal_vaccine_proba\n",
    "                      })\n",
    "output.set_index(\"respondent_id\").to_csv(r\"C:\\Users\\tanch\\Documents\\Coding Competitions\\DataDriven\\Flu Shot Learning\\local\\predictions\\stacking 0.csv\")"
   ]
  },
  {
   "cell_type": "code",
   "execution_count": 8,
   "id": "8ca52937",
   "metadata": {},
   "outputs": [],
   "source": [
    "h1n1_vaccine_proba = h1n1_vaccine_voting.predict_proba(test)[:,1]\n",
    "seasonal_vaccine_proba = seasonal_vaccine_voting.predict_proba(test)[:,1]\n",
    "output = pd.DataFrame({\"respondent_id\":test.index, \n",
    "                       \"h1n1_vaccine\": h1n1_vaccine_proba,\n",
    "                       \"seasonal_vaccine\":seasonal_vaccine_proba\n",
    "                      })\n",
    "output.set_index(\"respondent_id\").to_csv(r\"C:\\Users\\tanch\\Documents\\Coding Competitions\\DataDriven\\Flu Shot Learning\\local\\predictions\\voting 0.csv\")"
   ]
  },
  {
   "cell_type": "markdown",
   "id": "3f11694d",
   "metadata": {},
   "source": [
    "# Results \n",
    "- **both stacking and voting yield great gains!**\n",
    "- voting classifier was just marginally better"
   ]
  },
  {
   "cell_type": "code",
   "execution_count": 13,
   "id": "c4b27410",
   "metadata": {},
   "outputs": [
    {
     "data": {
      "image/png": "[encoded data removed]",
      "text/plain": [
       "<IPython.core.display.Image object>"
      ]
     },
     "execution_count": 13,
     "metadata": {},
     "output_type": "execute_result"
    }
   ],
   "source": [
    "from IPython.display import Image     # stacking\n",
    "Image(r\"C:\\Users\\tanch\\Documents\\Coding Competitions\\DataDriven\\Flu Shot Learning\\local\\RAM\\stacking 0.PNG\")"
   ]
  },
  {
   "cell_type": "code",
   "execution_count": 12,
   "id": "5716ab4b",
   "metadata": {},
   "outputs": [
    {
     "data": {
      "image/png": "[encoded data removed]",
      "text/plain": [
       "<IPython.core.display.Image object>"
      ]
     },
     "execution_count": 12,
     "metadata": {},
     "output_type": "execute_result"
    }
   ],
   "source": [
    "# voting\n",
    "Image(r\"C:\\Users\\tanch\\Documents\\Coding Competitions\\DataDriven\\Flu Shot Learning\\local\\RAM\\voting 0.PNG\")"
   ]
  }
 ],
 "metadata": {
  "kernelspec": {
   "display_name": "Python 3",
   "language": "python",
   "name": "python3"
  },
  "language_info": {
   "codemirror_mode": {
    "name": "ipython",
    "version": 3
   },
   "file_extension": ".py",
   "mimetype": "text/x-python",
   "name": "python",
   "nbconvert_exporter": "python",
   "pygments_lexer": "ipython3",
   "version": "3.8.3"
  }
 },
 "nbformat": 4,
 "nbformat_minor": 5
}
