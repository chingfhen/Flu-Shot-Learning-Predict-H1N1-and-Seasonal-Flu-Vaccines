{
 "cells": [
  {
   "cell_type": "markdown",
   "id": "744c4750",
   "metadata": {},
   "source": [
    "# About:\n",
    "- this notebook:\n",
    "    - trains StackedClassifier"
   ]
  },
  {
   "cell_type": "markdown",
   "id": "00d9fe76",
   "metadata": {},
   "source": [
    "### import data"
   ]
  },
  {
   "cell_type": "code",
   "execution_count": 13,
   "id": "c9cbdccc",
   "metadata": {},
   "outputs": [
    {
     "data": {
      "application/javascript": [
       "\n",
       "        if (window._pyforest_update_imports_cell) { window._pyforest_update_imports_cell('import pandas as pd'); }\n",
       "    "
      ],
      "text/plain": [
       "<IPython.core.display.Javascript object>"
      ]
     },
     "metadata": {},
     "output_type": "display_data"
    }
   ],
   "source": [
    "label_colnames = ['h1n1_vaccine', 'seasonal_vaccine']\n",
    "X = pd.read_csv(r\"C:\\Users\\tanch\\Documents\\Coding Competitions\\DataDriven\\Flu Shot Learning\\local\\data\\cleaned_train_set.csv\",index_col = \"respondent_id\")\n",
    "y = X[label_colnames[0]]\n",
    "X = X.drop(label_colnames,axis=1)"
   ]
  },
  {
   "cell_type": "markdown",
   "id": "a73c0248",
   "metadata": {},
   "source": [
    "## Train StackedClassifier to predict h1n1 vaccine"
   ]
  },
  {
   "cell_type": "code",
   "execution_count": 9,
   "id": "8c426061",
   "metadata": {},
   "outputs": [],
   "source": [
    "best_params = {\n",
    "    \"lgb\":{'max_depth': 4,\n",
    "        'colsample_bytree': 0.42754023012515663,\n",
    "        'subsample': 0.5520857036662926,\n",
    "        'min_child_samples': 10,\n",
    "        'lambda_l1': 1.1370937261781668,\n",
    "        'lambda_l2': 0.07055165843421532,\n",
    "        'learning_rate': 0.01,\n",
    "        'objective': 'binary',\n",
    "        'metric': 'auc',\n",
    "        \"num_iterations\":1681 },\n",
    "    \"xgb\":{'max_depth': 7,\n",
    "         'gamma': 1,\n",
    "         'min_child_weight': 9,\n",
    "         'scale_pos_weight': 3,\n",
    "         'subsample': 0.8738492762052684,\n",
    "         'colsample_bytree': 0.5555672546387187,\n",
    "         'reg_alpha': 1.6530812668946973,\n",
    "         'reg_lambda': 9.599740027835166,\n",
    "         'learning_rate': 0.01,\n",
    "         'eval_metric': 'auc',\n",
    "         'n_estimators': 808},\n",
    "    \"cb\":{\"learning_rate\" : 0.01,\n",
    "        \"iterations\" :  3000,\n",
    "        'depth': 4, \n",
    "        'rsm': 0.2680717988907101, \n",
    "        'l2_leaf_reg': 5.087316180296697, \n",
    "        'auto_class_weights': 'Balanced',\n",
    "        \"loss_function\" : \"Logloss\",\n",
    "        \"verbose\":False,\n",
    "        \"task_type\" : \"CPU\",\n",
    "        \"eval_metric\":\"AUC\"\n",
    " }}"
   ]
  },
  {
   "cell_type": "code",
   "execution_count": 10,
   "id": "f2be584f",
   "metadata": {},
   "outputs": [
    {
     "data": {
      "text/plain": [
       "<catboost.core.CatBoostClassifier at 0x19c980ac460>"
      ]
     },
     "execution_count": 10,
     "metadata": {},
     "output_type": "execute_result"
    }
   ],
   "source": [
    "from catboost import CatBoostClassifier\n",
    "cb = CatBoostClassifier()\n",
    "cb.set_params(**best_params['cb'])"
   ]
  },
  {
   "cell_type": "code",
   "execution_count": 11,
   "id": "0a321031",
   "metadata": {},
   "outputs": [
    {
     "data": {
      "text/plain": [
       "XGBClassifier(base_score=None, booster=None, colsample_bylevel=None,\n",
       "              colsample_bynode=None, colsample_bytree=0.5555672546387187,\n",
       "              eval_metric='auc', gamma=1, gpu_id=None, importance_type='gain',\n",
       "              interaction_constraints=None, learning_rate=0.01,\n",
       "              max_delta_step=None, max_depth=7, min_child_weight=9, missing=nan,\n",
       "              monotone_constraints=None, n_estimators=808, n_jobs=None,\n",
       "              num_parallel_tree=None, objective='binary:logistic',\n",
       "              random_state=None, reg_alpha=1.6530812668946973,\n",
       "              reg_lambda=9.599740027835166, scale_pos_weight=3,\n",
       "              subsample=0.8738492762052684, tree_method=None,\n",
       "              use_label_encoder=True, validate_parameters=None, verbosity=None)"
      ]
     },
     "execution_count": 11,
     "metadata": {},
     "output_type": "execute_result"
    }
   ],
   "source": [
    "from xgboost import XGBClassifier\n",
    "xgb = XGBClassifier()\n",
    "xgb.set_params(**best_params['xgb'])"
   ]
  },
  {
   "cell_type": "code",
   "execution_count": 12,
   "id": "8dcda281",
   "metadata": {},
   "outputs": [
    {
     "data": {
      "text/plain": [
       "LGBMClassifier(boosting_type='gbdt', class_weight=None,\n",
       "               colsample_bytree=0.42754023012515663, importance_type='split',\n",
       "               lambda_l1=1.1370937261781668, lambda_l2=0.07055165843421532,\n",
       "               learning_rate=0.01, max_depth=4, metric='auc',\n",
       "               min_child_samples=10, min_child_weight=0.001, min_split_gain=0.0,\n",
       "               n_estimators=100, n_jobs=-1, num_iterations=1681, num_leaves=31,\n",
       "               objective='binary', random_state=None, reg_alpha=0.0,\n",
       "               reg_lambda=0.0, silent=True, subsample=0.5520857036662926,\n",
       "               subsample_for_bin=200000, subsample_freq=0)"
      ]
     },
     "execution_count": 12,
     "metadata": {},
     "output_type": "execute_result"
    }
   ],
   "source": [
    "from lightgbm import LGBMClassifier\n",
    "lgb = LGBMClassifier()\n",
    "lgb.set_params(**best_params['lgb'])"
   ]
  },
  {
   "cell_type": "code",
   "execution_count": 14,
   "id": "8cbbbec2",
   "metadata": {},
   "outputs": [],
   "source": [
    "from sklearn.linear_model import LogisticRegression\n",
    "from sklearn.ensemble import StackingClassifier\n",
    "final_estimator = LogisticRegression()\n",
    "sc = StackingClassifier(estimators = [(\"cb\",cb),(\"xgb\",xgb),('lgb',lgb)],\n",
    "                         final_estimator = final_estimator,\n",
    "                         stack_method = \"predict_proba\" ,          # predict_proba is called on the base estimators as input for final estimator\n",
    "                         n_jobs = -1)"
   ]
  },
  {
   "cell_type": "code",
   "execution_count": 15,
   "id": "0c209481",
   "metadata": {},
   "outputs": [
    {
     "data": {
      "text/plain": [
       "StackingClassifier(cv=None,\n",
       "                   estimators=[('cb',\n",
       "                                <catboost.core.CatBoostClassifier object at 0x0000019C980AC460>),\n",
       "                               ('xgb',\n",
       "                                XGBClassifier(base_score=None, booster=None,\n",
       "                                              colsample_bylevel=None,\n",
       "                                              colsample_bynode=None,\n",
       "                                              colsample_bytree=0.5555672546387187,\n",
       "                                              eval_metric='auc', gamma=1,\n",
       "                                              gpu_id=None,\n",
       "                                              importance_type='gain',\n",
       "                                              interaction_constraints=None,\n",
       "                                              learning_rate=0.01,\n",
       "                                              max...\n",
       "                                               subsample_for_bin=200000,\n",
       "                                               subsample_freq=0))],\n",
       "                   final_estimator=LogisticRegression(C=1.0, class_weight=None,\n",
       "                                                      dual=False,\n",
       "                                                      fit_intercept=True,\n",
       "                                                      intercept_scaling=1,\n",
       "                                                      l1_ratio=None,\n",
       "                                                      max_iter=100,\n",
       "                                                      multi_class='auto',\n",
       "                                                      n_jobs=None, penalty='l2',\n",
       "                                                      random_state=None,\n",
       "                                                      solver='lbfgs',\n",
       "                                                      tol=0.0001, verbose=0,\n",
       "                                                      warm_start=False),\n",
       "                   n_jobs=-1, passthrough=False, stack_method='predict_proba',\n",
       "                   verbose=0)"
      ]
     },
     "execution_count": 15,
     "metadata": {},
     "output_type": "execute_result"
    }
   ],
   "source": [
    "sc.fit(X, y)"
   ]
  },
  {
   "cell_type": "markdown",
   "id": "08560386",
   "metadata": {},
   "source": [
    "### export"
   ]
  },
  {
   "cell_type": "code",
   "execution_count": 17,
   "id": "ed8d5dbf",
   "metadata": {},
   "outputs": [
    {
     "data": {
      "text/plain": [
       "['C:\\\\Users\\\\tanch\\\\Documents\\\\Coding Competitions\\\\DataDriven\\\\Flu Shot Learning\\\\local\\\\model\\\\stacked h1n1_vaccine 0.pkl']"
      ]
     },
     "execution_count": 17,
     "metadata": {},
     "output_type": "execute_result"
    }
   ],
   "source": [
    "import joblib\n",
    "joblib.dump(sc, r\"C:\\Users\\tanch\\Documents\\Coding Competitions\\DataDriven\\Flu Shot Learning\\local\\model\\stacked h1n1_vaccine 0.pkl\")\n",
    "# gbm_pickle = joblib.load(r\"C:\\Users\\tanch\\Documents\\Coding Competitions\\DataDriven\\Flu Shot Learning\\local\\model\\lightgbm 0.pkl\")"
   ]
  },
  {
   "cell_type": "markdown",
   "id": "814d8d6b",
   "metadata": {},
   "source": [
    "## Train StackedClassifier to predict h1n1 vaccine"
   ]
  },
  {
   "cell_type": "code",
   "execution_count": 18,
   "id": "19ac9c17",
   "metadata": {},
   "outputs": [
    {
     "data": {
      "application/javascript": [
       "\n",
       "        if (window._pyforest_update_imports_cell) { window._pyforest_update_imports_cell('import pandas as pd'); }\n",
       "    "
      ],
      "text/plain": [
       "<IPython.core.display.Javascript object>"
      ]
     },
     "metadata": {},
     "output_type": "display_data"
    }
   ],
   "source": [
    "label_colnames = ['h1n1_vaccine', 'seasonal_vaccine']\n",
    "X = pd.read_csv(r\"C:\\Users\\tanch\\Documents\\Coding Competitions\\DataDriven\\Flu Shot Learning\\local\\data\\cleaned_train_set.csv\",index_col = \"respondent_id\")\n",
    "y = X[label_colnames[1]]\n",
    "X = X.drop(label_colnames,axis=1)"
   ]
  },
  {
   "cell_type": "code",
   "execution_count": 19,
   "id": "2162b6de",
   "metadata": {},
   "outputs": [],
   "source": [
    "best_params = {\n",
    "    \"lgb\":{'max_depth': 8,\n",
    "            'colsample_bytree': 0.5408815427763269,\n",
    "            'subsample': 0.8466638436024809,\n",
    "            'min_child_samples': 37,\n",
    "            'lambda_l1': 0.0001634213220638466,\n",
    "            'lambda_l2': 0.0019856133446647076,\n",
    "            'learning_rate': 0.01,\n",
    "            'objective': 'binary',\n",
    "            'metric': 'auc',\n",
    "            \"num_iterations\":896},\n",
    "    \"xgb\":{'max_depth': 6,\n",
    "            'gamma': 1,\n",
    "            'min_child_weight': 18,\n",
    "            'scale_pos_weight': 4,\n",
    "            'subsample': 0.6439846353512728,\n",
    "            'colsample_bytree': 0.8774177233229632,\n",
    "            'reg_alpha': 7.110378342968055,\n",
    "            'reg_lambda': 0.0005005189968821851,\n",
    "            'learning_rate': 0.01,\n",
    "            'eval_metric': 'auc',\n",
    "            \"use_label_encoder\":False,\n",
    "            \"n_estimators\": 1073 },\n",
    "    \"cb\":{\"learning_rate\" : 0.01,\n",
    "            \"iterations\" :  3000,\n",
    "            'depth': 4, \n",
    "            'rsm': 0.93789016484649, \n",
    "            'l2_leaf_reg': 7.847914167208884, \n",
    "            'auto_class_weights': 'SqrtBalanced',\n",
    "            \"loss_function\" : \"Logloss\",\n",
    "            \"verbose\":False,\n",
    "            \"task_type\" : \"CPU\",\n",
    "            \"eval_metric\":\"AUC\"\n",
    " }}"
   ]
  },
  {
   "cell_type": "code",
   "execution_count": 20,
   "id": "ed01b61e",
   "metadata": {},
   "outputs": [
    {
     "data": {
      "text/plain": [
       "<catboost.core.CatBoostClassifier at 0x19c99d749a0>"
      ]
     },
     "execution_count": 20,
     "metadata": {},
     "output_type": "execute_result"
    }
   ],
   "source": [
    "from catboost import CatBoostClassifier\n",
    "cb = CatBoostClassifier()\n",
    "cb.set_params(**best_params['cb'])"
   ]
  },
  {
   "cell_type": "code",
   "execution_count": 21,
   "id": "394ce7c5",
   "metadata": {},
   "outputs": [
    {
     "data": {
      "text/plain": [
       "XGBClassifier(base_score=None, booster=None, colsample_bylevel=None,\n",
       "              colsample_bynode=None, colsample_bytree=0.8774177233229632,\n",
       "              eval_metric='auc', gamma=1, gpu_id=None, importance_type='gain',\n",
       "              interaction_constraints=None, learning_rate=0.01,\n",
       "              max_delta_step=None, max_depth=6, min_child_weight=18,\n",
       "              missing=nan, monotone_constraints=None, n_estimators=1073,\n",
       "              n_jobs=None, num_parallel_tree=None, objective='binary:logistic',\n",
       "              random_state=None, reg_alpha=7.110378342968055,\n",
       "              reg_lambda=0.0005005189968821851, scale_pos_weight=4,\n",
       "              subsample=0.6439846353512728, tree_method=None,\n",
       "              use_label_encoder=False, validate_parameters=None,\n",
       "              verbosity=None)"
      ]
     },
     "execution_count": 21,
     "metadata": {},
     "output_type": "execute_result"
    }
   ],
   "source": [
    "from xgboost import XGBClassifier\n",
    "xgb = XGBClassifier()\n",
    "xgb.set_params(**best_params['xgb'])"
   ]
  },
  {
   "cell_type": "code",
   "execution_count": 22,
   "id": "a8eeda0f",
   "metadata": {},
   "outputs": [
    {
     "data": {
      "text/plain": [
       "LGBMClassifier(boosting_type='gbdt', class_weight=None,\n",
       "               colsample_bytree=0.5408815427763269, importance_type='split',\n",
       "               lambda_l1=0.0001634213220638466, lambda_l2=0.0019856133446647076,\n",
       "               learning_rate=0.01, max_depth=8, metric='auc',\n",
       "               min_child_samples=37, min_child_weight=0.001, min_split_gain=0.0,\n",
       "               n_estimators=100, n_jobs=-1, num_iterations=896, num_leaves=31,\n",
       "               objective='binary', random_state=None, reg_alpha=0.0,\n",
       "               reg_lambda=0.0, silent=True, subsample=0.8466638436024809,\n",
       "               subsample_for_bin=200000, subsample_freq=0)"
      ]
     },
     "execution_count": 22,
     "metadata": {},
     "output_type": "execute_result"
    }
   ],
   "source": [
    "from lightgbm import LGBMClassifier\n",
    "lgb = LGBMClassifier()\n",
    "lgb.set_params(**best_params['lgb'])"
   ]
  },
  {
   "cell_type": "code",
   "execution_count": 23,
   "id": "f01bf551",
   "metadata": {},
   "outputs": [],
   "source": [
    "from sklearn.linear_model import LogisticRegression\n",
    "from sklearn.ensemble import StackingClassifier\n",
    "final_estimator = LogisticRegression()\n",
    "sc = StackingClassifier(estimators = [(\"cb\",cb),(\"xgb\",xgb),('lgb',lgb)],\n",
    "                         final_estimator = final_estimator,\n",
    "                         stack_method = \"predict_proba\" ,          # predict_proba is called on the base estimators as input for final estimator\n",
    "                         n_jobs = -1)"
   ]
  },
  {
   "cell_type": "code",
   "execution_count": 24,
   "id": "10f0d049",
   "metadata": {},
   "outputs": [
    {
     "data": {
      "text/plain": [
       "StackingClassifier(cv=None,\n",
       "                   estimators=[('cb',\n",
       "                                <catboost.core.CatBoostClassifier object at 0x0000019C99D749A0>),\n",
       "                               ('xgb',\n",
       "                                XGBClassifier(base_score=None, booster=None,\n",
       "                                              colsample_bylevel=None,\n",
       "                                              colsample_bynode=None,\n",
       "                                              colsample_bytree=0.8774177233229632,\n",
       "                                              eval_metric='auc', gamma=1,\n",
       "                                              gpu_id=None,\n",
       "                                              importance_type='gain',\n",
       "                                              interaction_constraints=None,\n",
       "                                              learning_rate=0.01,\n",
       "                                              max...\n",
       "                                               subsample_for_bin=200000,\n",
       "                                               subsample_freq=0))],\n",
       "                   final_estimator=LogisticRegression(C=1.0, class_weight=None,\n",
       "                                                      dual=False,\n",
       "                                                      fit_intercept=True,\n",
       "                                                      intercept_scaling=1,\n",
       "                                                      l1_ratio=None,\n",
       "                                                      max_iter=100,\n",
       "                                                      multi_class='auto',\n",
       "                                                      n_jobs=None, penalty='l2',\n",
       "                                                      random_state=None,\n",
       "                                                      solver='lbfgs',\n",
       "                                                      tol=0.0001, verbose=0,\n",
       "                                                      warm_start=False),\n",
       "                   n_jobs=-1, passthrough=False, stack_method='predict_proba',\n",
       "                   verbose=0)"
      ]
     },
     "execution_count": 24,
     "metadata": {},
     "output_type": "execute_result"
    }
   ],
   "source": [
    "sc.fit(X, y)"
   ]
  },
  {
   "cell_type": "markdown",
   "id": "22d49741",
   "metadata": {},
   "source": [
    "### export"
   ]
  },
  {
   "cell_type": "code",
   "execution_count": 26,
   "id": "81f22f4e",
   "metadata": {},
   "outputs": [
    {
     "data": {
      "text/plain": [
       "['C:\\\\Users\\\\tanch\\\\Documents\\\\Coding Competitions\\\\DataDriven\\\\Flu Shot Learning\\\\local\\\\model\\\\stacked seasonal_vaccine 0.pkl']"
      ]
     },
     "execution_count": 26,
     "metadata": {},
     "output_type": "execute_result"
    }
   ],
   "source": [
    "import joblib\n",
    "joblib.dump(sc, r\"C:\\Users\\tanch\\Documents\\Coding Competitions\\DataDriven\\Flu Shot Learning\\local\\model\\stacked seasonal_vaccine 0.pkl\")\n",
    "# gbm_pickle = joblib.load(r\"C:\\Users\\tanch\\Documents\\Coding Competitions\\DataDriven\\Flu Shot Learning\\local\\model\\lightgbm 0.pkl\")"
   ]
  }
 ],
 "metadata": {
  "kernelspec": {
   "display_name": "Python 3",
   "language": "python",
   "name": "python3"
  },
  "language_info": {
   "codemirror_mode": {
    "name": "ipython",
    "version": 3
   },
   "file_extension": ".py",
   "mimetype": "text/x-python",
   "name": "python",
   "nbconvert_exporter": "python",
   "pygments_lexer": "ipython3",
   "version": "3.8.3"
  }
 },
 "nbformat": 4,
 "nbformat_minor": 5
}
